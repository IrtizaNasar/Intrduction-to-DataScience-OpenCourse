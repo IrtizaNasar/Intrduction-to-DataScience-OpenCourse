{
 "cells": [
  {
   "cell_type": "markdown",
   "id": "5dbdb0df",
   "metadata": {},
   "source": [
    "# Week 2"
   ]
  },
  {
   "cell_type": "markdown",
   "id": "8f38d68e",
   "metadata": {},
   "source": [
    "## Installing and importing a python package/library "
   ]
  },
  {
   "cell_type": "markdown",
   "id": "3b2e842d",
   "metadata": {},
   "source": [
    "- Installing Pandas Library for Data Processing \n",
    "- What is Pandas? \n",
    "    - Pandas is a fast, powerful, flexible and easy to use open source data analysis and manipulation tool, built on top of the Python programming language.\n",
    "    - Its main data format is the DataFrame, which is like a 2D array, but with column names and indexes for the rows.\n",
    "\n",
    "\n"
   ]
  },
  {
   "cell_type": "markdown",
   "id": "724d48a2",
   "metadata": {},
   "source": [
    "### Using pip to install Pandas "
   ]
  },
  {
   "cell_type": "code",
   "execution_count": null,
   "id": "f14040e0",
   "metadata": {},
   "outputs": [],
   "source": [
    "# Need to only be run once per environment. No need to run it again in every project.\n",
    "\n",
    "import sys\n",
    "!{sys.executable} -m pip install pandas"
   ]
  },
  {
   "cell_type": "markdown",
   "id": "28d5fb75",
   "metadata": {},
   "source": [
    "### Importing pandas package library "
   ]
  },
  {
   "cell_type": "code",
   "execution_count": 127,
   "id": "b035f6ca",
   "metadata": {},
   "outputs": [],
   "source": [
    "# Imprting pandas library as pd so instead of wrting pandas everywhere we can call pd which is shorter\n",
    "import pandas as pd"
   ]
  },
  {
   "cell_type": "markdown",
   "id": "1fc5a137",
   "metadata": {},
   "source": [
    "## Loading and exploring data with Pandas"
   ]
  },
  {
   "cell_type": "markdown",
   "id": "8c535f0a",
   "metadata": {},
   "source": [
    "\n",
    "\n",
    "First we load in the data. This particular dataset is from [NYC granted film permits](https://data.cityofnewyork.us/City-Government/Film-Permits/tg4x-b46p) and is in the **comma-separated variable (.csv)** format.\n",
    "\n",
    "``\n",
    "df = pd.read_csv(\"data/Film_Permits.csv\")\n",
    "``\n",
    "\n",
    "Pandas shows us the **head** (first rows) and the **tail** (last rows), as well as the **shape**. So we know there are 14 columns (separate pieces of info about each permit), and 67359 permits granted.\n",
    "\n",
    "We can see its a mix of categorical data (EventType, Borough etc...), unique IDs, and dates. The categories are mainly **nominal**, in that they have no instrinsic order. Even the ones which are numbers (like CommunityBoard(s) and PolicePrecinct(s)) are **nominal**, in that the numbers don't represent a ranking (one isn't best), and we would never want to do any maths with them \n",
    "\n",
    "The dates however, are **continuous**, in that they are numbers that could take any value, and that we could do arithmetic (e.g. subtract one from the other to find a time)."
   ]
  },
  {
   "cell_type": "code",
   "execution_count": 128,
   "id": "9bf25561",
   "metadata": {},
   "outputs": [],
   "source": [
    "#load\n",
    "#pd.options.display.max_rows = 100\n",
    "df = pd.read_csv(\"data/Film_Permits.csv\")"
   ]
  },
  {
   "cell_type": "code",
   "execution_count": 129,
   "id": "b62846cd",
   "metadata": {},
   "outputs": [
    {
     "data": {
      "text/plain": [
       "(67359, 14)"
      ]
     },
     "execution_count": 129,
     "metadata": {},
     "output_type": "execute_result"
    }
   ],
   "source": [
    "# Standard format is rows x colums\n",
    "# Hence our dataset has 67359 rows and 14 colums\n",
    "df.shape"
   ]
  },
  {
   "cell_type": "code",
   "execution_count": 130,
   "id": "b7f3b3ab",
   "metadata": {},
   "outputs": [
    {
     "data": {
      "text/html": [
       "<div>\n",
       "<style scoped>\n",
       "    .dataframe tbody tr th:only-of-type {\n",
       "        vertical-align: middle;\n",
       "    }\n",
       "\n",
       "    .dataframe tbody tr th {\n",
       "        vertical-align: top;\n",
       "    }\n",
       "\n",
       "    .dataframe thead th {\n",
       "        text-align: right;\n",
       "    }\n",
       "</style>\n",
       "<table border=\"1\" class=\"dataframe\">\n",
       "  <thead>\n",
       "    <tr style=\"text-align: right;\">\n",
       "      <th></th>\n",
       "      <th>EventID</th>\n",
       "      <th>EventType</th>\n",
       "      <th>StartDateTime</th>\n",
       "      <th>EndDateTime</th>\n",
       "      <th>EnteredOn</th>\n",
       "      <th>EventAgency</th>\n",
       "      <th>ParkingHeld</th>\n",
       "      <th>Borough</th>\n",
       "      <th>CommunityBoard(s)</th>\n",
       "      <th>PolicePrecinct(s)</th>\n",
       "      <th>Category</th>\n",
       "      <th>SubCategoryName</th>\n",
       "      <th>Country</th>\n",
       "      <th>ZipCode(s)</th>\n",
       "    </tr>\n",
       "  </thead>\n",
       "  <tbody>\n",
       "    <tr>\n",
       "      <th>0</th>\n",
       "      <td>446040</td>\n",
       "      <td>Shooting Permit</td>\n",
       "      <td>10/19/2018 02:00:00 PM</td>\n",
       "      <td>10/20/2018 04:00:00 AM</td>\n",
       "      <td>10/16/2018 11:57:27 AM</td>\n",
       "      <td>Mayor's Office of Film, Theatre &amp; Broadcasting</td>\n",
       "      <td>THOMPSON STREET between PRINCE STREET and SPRI...</td>\n",
       "      <td>Manhattan</td>\n",
       "      <td>2</td>\n",
       "      <td>1</td>\n",
       "      <td>Television</td>\n",
       "      <td>Cable-episodic</td>\n",
       "      <td>United States of America</td>\n",
       "      <td>10012</td>\n",
       "    </tr>\n",
       "    <tr>\n",
       "      <th>1</th>\n",
       "      <td>446168</td>\n",
       "      <td>Shooting Permit</td>\n",
       "      <td>10/19/2018 02:00:00 PM</td>\n",
       "      <td>10/20/2018 02:00:00 AM</td>\n",
       "      <td>10/16/2018 07:03:56 PM</td>\n",
       "      <td>Mayor's Office of Film, Theatre &amp; Broadcasting</td>\n",
       "      <td>MARBLE HILL AVENUE between WEST  227 STREET an...</td>\n",
       "      <td>Manhattan</td>\n",
       "      <td>12, 8</td>\n",
       "      <td>34, 50</td>\n",
       "      <td>Film</td>\n",
       "      <td>Feature</td>\n",
       "      <td>United States of America</td>\n",
       "      <td>10034, 10463</td>\n",
       "    </tr>\n",
       "    <tr>\n",
       "      <th>2</th>\n",
       "      <td>186438</td>\n",
       "      <td>Shooting Permit</td>\n",
       "      <td>10/30/2014 07:00:00 AM</td>\n",
       "      <td>10/31/2014 02:00:00 AM</td>\n",
       "      <td>10/27/2014 12:14:15 PM</td>\n",
       "      <td>Mayor's Office of Film, Theatre &amp; Broadcasting</td>\n",
       "      <td>LAUREL HILL BLVD between REVIEW AVENUE and RUS...</td>\n",
       "      <td>Queens</td>\n",
       "      <td>2, 5</td>\n",
       "      <td>104, 108</td>\n",
       "      <td>Television</td>\n",
       "      <td>Episodic series</td>\n",
       "      <td>United States of America</td>\n",
       "      <td>11378</td>\n",
       "    </tr>\n",
       "    <tr>\n",
       "      <th>3</th>\n",
       "      <td>445255</td>\n",
       "      <td>Shooting Permit</td>\n",
       "      <td>10/20/2018 07:00:00 AM</td>\n",
       "      <td>10/20/2018 06:00:00 PM</td>\n",
       "      <td>10/09/2018 09:34:58 PM</td>\n",
       "      <td>Mayor's Office of Film, Theatre &amp; Broadcasting</td>\n",
       "      <td>JORALEMON STREET between BOERUM PLACE and COUR...</td>\n",
       "      <td>Brooklyn</td>\n",
       "      <td>2</td>\n",
       "      <td>84</td>\n",
       "      <td>Still Photography</td>\n",
       "      <td>Not Applicable</td>\n",
       "      <td>United States of America</td>\n",
       "      <td>11201</td>\n",
       "    </tr>\n",
       "    <tr>\n",
       "      <th>4</th>\n",
       "      <td>128794</td>\n",
       "      <td>Theater Load in and Load Outs</td>\n",
       "      <td>11/16/2013 12:01:00 AM</td>\n",
       "      <td>11/17/2013 06:00:00 AM</td>\n",
       "      <td>11/07/2013 03:48:28 PM</td>\n",
       "      <td>Mayor's Office of Film, Theatre &amp; Broadcasting</td>\n",
       "      <td>WEST   31 STREET between 7 AVENUE and 8 AVENUE...</td>\n",
       "      <td>Manhattan</td>\n",
       "      <td>4, 5</td>\n",
       "      <td>14</td>\n",
       "      <td>Theater</td>\n",
       "      <td>Theater</td>\n",
       "      <td>United States of America</td>\n",
       "      <td>10001, 10121</td>\n",
       "    </tr>\n",
       "    <tr>\n",
       "      <th>...</th>\n",
       "      <td>...</td>\n",
       "      <td>...</td>\n",
       "      <td>...</td>\n",
       "      <td>...</td>\n",
       "      <td>...</td>\n",
       "      <td>...</td>\n",
       "      <td>...</td>\n",
       "      <td>...</td>\n",
       "      <td>...</td>\n",
       "      <td>...</td>\n",
       "      <td>...</td>\n",
       "      <td>...</td>\n",
       "      <td>...</td>\n",
       "      <td>...</td>\n",
       "    </tr>\n",
       "    <tr>\n",
       "      <th>67354</th>\n",
       "      <td>511630</td>\n",
       "      <td>Shooting Permit</td>\n",
       "      <td>10/11/2019 10:00:00 AM</td>\n",
       "      <td>10/11/2019 11:00:00 PM</td>\n",
       "      <td>10/08/2019 02:05:06 PM</td>\n",
       "      <td>Mayor's Office of Film, Theatre &amp; Broadcasting</td>\n",
       "      <td>44 ROAD between 24 STREET and HUNTER STREET,  ...</td>\n",
       "      <td>Queens</td>\n",
       "      <td>2</td>\n",
       "      <td>108</td>\n",
       "      <td>Television</td>\n",
       "      <td>Episodic series</td>\n",
       "      <td>United States of America</td>\n",
       "      <td>11101</td>\n",
       "    </tr>\n",
       "    <tr>\n",
       "      <th>67355</th>\n",
       "      <td>548906</td>\n",
       "      <td>Shooting Permit</td>\n",
       "      <td>10/18/2020 06:00:00 AM</td>\n",
       "      <td>10/19/2020 06:00:00 PM</td>\n",
       "      <td>10/14/2020 03:50:06 PM</td>\n",
       "      <td>Mayor's Office of Film, Theatre &amp; Broadcasting</td>\n",
       "      <td>MADISON AVENUE between EAST   45 STREET and EA...</td>\n",
       "      <td>Manhattan</td>\n",
       "      <td>5</td>\n",
       "      <td>14, 18</td>\n",
       "      <td>Commercial</td>\n",
       "      <td>Commercial</td>\n",
       "      <td>United States of America</td>\n",
       "      <td>10017</td>\n",
       "    </tr>\n",
       "    <tr>\n",
       "      <th>67356</th>\n",
       "      <td>491040</td>\n",
       "      <td>Shooting Permit</td>\n",
       "      <td>06/12/2019 07:00:00 AM</td>\n",
       "      <td>06/12/2019 08:00:00 PM</td>\n",
       "      <td>06/10/2019 12:38:04 PM</td>\n",
       "      <td>Mayor's Office of Film, Theatre &amp; Broadcasting</td>\n",
       "      <td>SPOFFORD AVENUE between COSTER STREET and FAIL...</td>\n",
       "      <td>Bronx</td>\n",
       "      <td>1, 2, 7</td>\n",
       "      <td>40, 41, 72</td>\n",
       "      <td>Television</td>\n",
       "      <td>Episodic series</td>\n",
       "      <td>United States of America</td>\n",
       "      <td>10454, 10474, 11220</td>\n",
       "    </tr>\n",
       "    <tr>\n",
       "      <th>67357</th>\n",
       "      <td>548583</td>\n",
       "      <td>Shooting Permit</td>\n",
       "      <td>10/19/2020 08:00:00 AM</td>\n",
       "      <td>10/19/2020 11:59:00 PM</td>\n",
       "      <td>10/08/2020 05:05:23 PM</td>\n",
       "      <td>Mayor's Office of Film, Theatre &amp; Broadcasting</td>\n",
       "      <td>QUEENS PLAZA SOUTH between 21 STREET and 22 ST...</td>\n",
       "      <td>Queens</td>\n",
       "      <td>2</td>\n",
       "      <td>108</td>\n",
       "      <td>Television</td>\n",
       "      <td>Episodic series</td>\n",
       "      <td>United States of America</td>\n",
       "      <td>11101</td>\n",
       "    </tr>\n",
       "    <tr>\n",
       "      <th>67358</th>\n",
       "      <td>548866</td>\n",
       "      <td>Shooting Permit</td>\n",
       "      <td>10/19/2020 07:00:00 AM</td>\n",
       "      <td>10/19/2020 09:00:00 PM</td>\n",
       "      <td>10/14/2020 11:41:01 AM</td>\n",
       "      <td>Mayor's Office of Film, Theatre &amp; Broadcasting</td>\n",
       "      <td>COVERT STREET between WYCKOFF AVENUE and IRVIN...</td>\n",
       "      <td>Queens</td>\n",
       "      <td>4, 5</td>\n",
       "      <td>104, 83</td>\n",
       "      <td>Television</td>\n",
       "      <td>Episodic series</td>\n",
       "      <td>United States of America</td>\n",
       "      <td>11237, 11385</td>\n",
       "    </tr>\n",
       "  </tbody>\n",
       "</table>\n",
       "<p>67359 rows × 14 columns</p>\n",
       "</div>"
      ],
      "text/plain": [
       "       EventID                      EventType           StartDateTime  \\\n",
       "0       446040                Shooting Permit  10/19/2018 02:00:00 PM   \n",
       "1       446168                Shooting Permit  10/19/2018 02:00:00 PM   \n",
       "2       186438                Shooting Permit  10/30/2014 07:00:00 AM   \n",
       "3       445255                Shooting Permit  10/20/2018 07:00:00 AM   \n",
       "4       128794  Theater Load in and Load Outs  11/16/2013 12:01:00 AM   \n",
       "...        ...                            ...                     ...   \n",
       "67354   511630                Shooting Permit  10/11/2019 10:00:00 AM   \n",
       "67355   548906                Shooting Permit  10/18/2020 06:00:00 AM   \n",
       "67356   491040                Shooting Permit  06/12/2019 07:00:00 AM   \n",
       "67357   548583                Shooting Permit  10/19/2020 08:00:00 AM   \n",
       "67358   548866                Shooting Permit  10/19/2020 07:00:00 AM   \n",
       "\n",
       "                  EndDateTime               EnteredOn  \\\n",
       "0      10/20/2018 04:00:00 AM  10/16/2018 11:57:27 AM   \n",
       "1      10/20/2018 02:00:00 AM  10/16/2018 07:03:56 PM   \n",
       "2      10/31/2014 02:00:00 AM  10/27/2014 12:14:15 PM   \n",
       "3      10/20/2018 06:00:00 PM  10/09/2018 09:34:58 PM   \n",
       "4      11/17/2013 06:00:00 AM  11/07/2013 03:48:28 PM   \n",
       "...                       ...                     ...   \n",
       "67354  10/11/2019 11:00:00 PM  10/08/2019 02:05:06 PM   \n",
       "67355  10/19/2020 06:00:00 PM  10/14/2020 03:50:06 PM   \n",
       "67356  06/12/2019 08:00:00 PM  06/10/2019 12:38:04 PM   \n",
       "67357  10/19/2020 11:59:00 PM  10/08/2020 05:05:23 PM   \n",
       "67358  10/19/2020 09:00:00 PM  10/14/2020 11:41:01 AM   \n",
       "\n",
       "                                          EventAgency  \\\n",
       "0      Mayor's Office of Film, Theatre & Broadcasting   \n",
       "1      Mayor's Office of Film, Theatre & Broadcasting   \n",
       "2      Mayor's Office of Film, Theatre & Broadcasting   \n",
       "3      Mayor's Office of Film, Theatre & Broadcasting   \n",
       "4      Mayor's Office of Film, Theatre & Broadcasting   \n",
       "...                                               ...   \n",
       "67354  Mayor's Office of Film, Theatre & Broadcasting   \n",
       "67355  Mayor's Office of Film, Theatre & Broadcasting   \n",
       "67356  Mayor's Office of Film, Theatre & Broadcasting   \n",
       "67357  Mayor's Office of Film, Theatre & Broadcasting   \n",
       "67358  Mayor's Office of Film, Theatre & Broadcasting   \n",
       "\n",
       "                                             ParkingHeld    Borough  \\\n",
       "0      THOMPSON STREET between PRINCE STREET and SPRI...  Manhattan   \n",
       "1      MARBLE HILL AVENUE between WEST  227 STREET an...  Manhattan   \n",
       "2      LAUREL HILL BLVD between REVIEW AVENUE and RUS...     Queens   \n",
       "3      JORALEMON STREET between BOERUM PLACE and COUR...   Brooklyn   \n",
       "4      WEST   31 STREET between 7 AVENUE and 8 AVENUE...  Manhattan   \n",
       "...                                                  ...        ...   \n",
       "67354  44 ROAD between 24 STREET and HUNTER STREET,  ...     Queens   \n",
       "67355  MADISON AVENUE between EAST   45 STREET and EA...  Manhattan   \n",
       "67356  SPOFFORD AVENUE between COSTER STREET and FAIL...      Bronx   \n",
       "67357  QUEENS PLAZA SOUTH between 21 STREET and 22 ST...     Queens   \n",
       "67358  COVERT STREET between WYCKOFF AVENUE and IRVIN...     Queens   \n",
       "\n",
       "      CommunityBoard(s) PolicePrecinct(s)           Category  SubCategoryName  \\\n",
       "0                     2                 1         Television   Cable-episodic   \n",
       "1                 12, 8            34, 50               Film          Feature   \n",
       "2                  2, 5          104, 108         Television  Episodic series   \n",
       "3                     2                84  Still Photography   Not Applicable   \n",
       "4                  4, 5                14            Theater          Theater   \n",
       "...                 ...               ...                ...              ...   \n",
       "67354                 2               108         Television  Episodic series   \n",
       "67355                 5            14, 18         Commercial       Commercial   \n",
       "67356           1, 2, 7        40, 41, 72         Television  Episodic series   \n",
       "67357                 2               108         Television  Episodic series   \n",
       "67358              4, 5           104, 83         Television  Episodic series   \n",
       "\n",
       "                        Country           ZipCode(s)  \n",
       "0      United States of America                10012  \n",
       "1      United States of America         10034, 10463  \n",
       "2      United States of America                11378  \n",
       "3      United States of America                11201  \n",
       "4      United States of America         10001, 10121  \n",
       "...                         ...                  ...  \n",
       "67354  United States of America                11101  \n",
       "67355  United States of America                10017  \n",
       "67356  United States of America  10454, 10474, 11220  \n",
       "67357  United States of America                11101  \n",
       "67358  United States of America         11237, 11385  \n",
       "\n",
       "[67359 rows x 14 columns]"
      ]
     },
     "execution_count": 130,
     "metadata": {},
     "output_type": "execute_result"
    }
   ],
   "source": [
    "df"
   ]
  },
  {
   "cell_type": "code",
   "execution_count": 131,
   "id": "07c1853b",
   "metadata": {},
   "outputs": [
    {
     "data": {
      "text/html": [
       "<div>\n",
       "<style scoped>\n",
       "    .dataframe tbody tr th:only-of-type {\n",
       "        vertical-align: middle;\n",
       "    }\n",
       "\n",
       "    .dataframe tbody tr th {\n",
       "        vertical-align: top;\n",
       "    }\n",
       "\n",
       "    .dataframe thead th {\n",
       "        text-align: right;\n",
       "    }\n",
       "</style>\n",
       "<table border=\"1\" class=\"dataframe\">\n",
       "  <thead>\n",
       "    <tr style=\"text-align: right;\">\n",
       "      <th></th>\n",
       "      <th>EventID</th>\n",
       "      <th>EventType</th>\n",
       "      <th>StartDateTime</th>\n",
       "      <th>EndDateTime</th>\n",
       "      <th>EnteredOn</th>\n",
       "      <th>EventAgency</th>\n",
       "      <th>ParkingHeld</th>\n",
       "      <th>Borough</th>\n",
       "      <th>CommunityBoard(s)</th>\n",
       "      <th>PolicePrecinct(s)</th>\n",
       "      <th>Category</th>\n",
       "      <th>SubCategoryName</th>\n",
       "      <th>Country</th>\n",
       "      <th>ZipCode(s)</th>\n",
       "    </tr>\n",
       "  </thead>\n",
       "  <tbody>\n",
       "    <tr>\n",
       "      <th>0</th>\n",
       "      <td>446040</td>\n",
       "      <td>Shooting Permit</td>\n",
       "      <td>10/19/2018 02:00:00 PM</td>\n",
       "      <td>10/20/2018 04:00:00 AM</td>\n",
       "      <td>10/16/2018 11:57:27 AM</td>\n",
       "      <td>Mayor's Office of Film, Theatre &amp; Broadcasting</td>\n",
       "      <td>THOMPSON STREET between PRINCE STREET and SPRI...</td>\n",
       "      <td>Manhattan</td>\n",
       "      <td>2</td>\n",
       "      <td>1</td>\n",
       "      <td>Television</td>\n",
       "      <td>Cable-episodic</td>\n",
       "      <td>United States of America</td>\n",
       "      <td>10012</td>\n",
       "    </tr>\n",
       "    <tr>\n",
       "      <th>1</th>\n",
       "      <td>446168</td>\n",
       "      <td>Shooting Permit</td>\n",
       "      <td>10/19/2018 02:00:00 PM</td>\n",
       "      <td>10/20/2018 02:00:00 AM</td>\n",
       "      <td>10/16/2018 07:03:56 PM</td>\n",
       "      <td>Mayor's Office of Film, Theatre &amp; Broadcasting</td>\n",
       "      <td>MARBLE HILL AVENUE between WEST  227 STREET an...</td>\n",
       "      <td>Manhattan</td>\n",
       "      <td>12, 8</td>\n",
       "      <td>34, 50</td>\n",
       "      <td>Film</td>\n",
       "      <td>Feature</td>\n",
       "      <td>United States of America</td>\n",
       "      <td>10034, 10463</td>\n",
       "    </tr>\n",
       "    <tr>\n",
       "      <th>2</th>\n",
       "      <td>186438</td>\n",
       "      <td>Shooting Permit</td>\n",
       "      <td>10/30/2014 07:00:00 AM</td>\n",
       "      <td>10/31/2014 02:00:00 AM</td>\n",
       "      <td>10/27/2014 12:14:15 PM</td>\n",
       "      <td>Mayor's Office of Film, Theatre &amp; Broadcasting</td>\n",
       "      <td>LAUREL HILL BLVD between REVIEW AVENUE and RUS...</td>\n",
       "      <td>Queens</td>\n",
       "      <td>2, 5</td>\n",
       "      <td>104, 108</td>\n",
       "      <td>Television</td>\n",
       "      <td>Episodic series</td>\n",
       "      <td>United States of America</td>\n",
       "      <td>11378</td>\n",
       "    </tr>\n",
       "    <tr>\n",
       "      <th>3</th>\n",
       "      <td>445255</td>\n",
       "      <td>Shooting Permit</td>\n",
       "      <td>10/20/2018 07:00:00 AM</td>\n",
       "      <td>10/20/2018 06:00:00 PM</td>\n",
       "      <td>10/09/2018 09:34:58 PM</td>\n",
       "      <td>Mayor's Office of Film, Theatre &amp; Broadcasting</td>\n",
       "      <td>JORALEMON STREET between BOERUM PLACE and COUR...</td>\n",
       "      <td>Brooklyn</td>\n",
       "      <td>2</td>\n",
       "      <td>84</td>\n",
       "      <td>Still Photography</td>\n",
       "      <td>Not Applicable</td>\n",
       "      <td>United States of America</td>\n",
       "      <td>11201</td>\n",
       "    </tr>\n",
       "    <tr>\n",
       "      <th>4</th>\n",
       "      <td>128794</td>\n",
       "      <td>Theater Load in and Load Outs</td>\n",
       "      <td>11/16/2013 12:01:00 AM</td>\n",
       "      <td>11/17/2013 06:00:00 AM</td>\n",
       "      <td>11/07/2013 03:48:28 PM</td>\n",
       "      <td>Mayor's Office of Film, Theatre &amp; Broadcasting</td>\n",
       "      <td>WEST   31 STREET between 7 AVENUE and 8 AVENUE...</td>\n",
       "      <td>Manhattan</td>\n",
       "      <td>4, 5</td>\n",
       "      <td>14</td>\n",
       "      <td>Theater</td>\n",
       "      <td>Theater</td>\n",
       "      <td>United States of America</td>\n",
       "      <td>10001, 10121</td>\n",
       "    </tr>\n",
       "  </tbody>\n",
       "</table>\n",
       "</div>"
      ],
      "text/plain": [
       "   EventID                      EventType           StartDateTime  \\\n",
       "0   446040                Shooting Permit  10/19/2018 02:00:00 PM   \n",
       "1   446168                Shooting Permit  10/19/2018 02:00:00 PM   \n",
       "2   186438                Shooting Permit  10/30/2014 07:00:00 AM   \n",
       "3   445255                Shooting Permit  10/20/2018 07:00:00 AM   \n",
       "4   128794  Theater Load in and Load Outs  11/16/2013 12:01:00 AM   \n",
       "\n",
       "              EndDateTime               EnteredOn  \\\n",
       "0  10/20/2018 04:00:00 AM  10/16/2018 11:57:27 AM   \n",
       "1  10/20/2018 02:00:00 AM  10/16/2018 07:03:56 PM   \n",
       "2  10/31/2014 02:00:00 AM  10/27/2014 12:14:15 PM   \n",
       "3  10/20/2018 06:00:00 PM  10/09/2018 09:34:58 PM   \n",
       "4  11/17/2013 06:00:00 AM  11/07/2013 03:48:28 PM   \n",
       "\n",
       "                                      EventAgency  \\\n",
       "0  Mayor's Office of Film, Theatre & Broadcasting   \n",
       "1  Mayor's Office of Film, Theatre & Broadcasting   \n",
       "2  Mayor's Office of Film, Theatre & Broadcasting   \n",
       "3  Mayor's Office of Film, Theatre & Broadcasting   \n",
       "4  Mayor's Office of Film, Theatre & Broadcasting   \n",
       "\n",
       "                                         ParkingHeld    Borough  \\\n",
       "0  THOMPSON STREET between PRINCE STREET and SPRI...  Manhattan   \n",
       "1  MARBLE HILL AVENUE between WEST  227 STREET an...  Manhattan   \n",
       "2  LAUREL HILL BLVD between REVIEW AVENUE and RUS...     Queens   \n",
       "3  JORALEMON STREET between BOERUM PLACE and COUR...   Brooklyn   \n",
       "4  WEST   31 STREET between 7 AVENUE and 8 AVENUE...  Manhattan   \n",
       "\n",
       "  CommunityBoard(s) PolicePrecinct(s)           Category  SubCategoryName  \\\n",
       "0                 2                 1         Television   Cable-episodic   \n",
       "1             12, 8            34, 50               Film          Feature   \n",
       "2              2, 5          104, 108         Television  Episodic series   \n",
       "3                 2                84  Still Photography   Not Applicable   \n",
       "4              4, 5                14            Theater          Theater   \n",
       "\n",
       "                    Country    ZipCode(s)  \n",
       "0  United States of America         10012  \n",
       "1  United States of America  10034, 10463  \n",
       "2  United States of America         11378  \n",
       "3  United States of America         11201  \n",
       "4  United States of America  10001, 10121  "
      ]
     },
     "execution_count": 131,
     "metadata": {},
     "output_type": "execute_result"
    }
   ],
   "source": [
    "# Let's say we want to just peak at the first five rows of our dataset we can then use .head()\n",
    "# Since our dataframe is in the varaible df we are asking it to show us the first five rows using df.head(5)\n",
    "\n",
    "df.head(5)"
   ]
  },
  {
   "cell_type": "markdown",
   "id": "ea63cb27",
   "metadata": {},
   "source": [
    "##  Data types"
   ]
  },
  {
   "cell_type": "markdown",
   "id": "ab844271",
   "metadata": {},
   "source": [
    "### Checking data types"
   ]
  },
  {
   "cell_type": "markdown",
   "id": "ca180610",
   "metadata": {},
   "source": [
    "\n",
    "We've considered what data is there, but some is numbers, some is text, some are dates. What does **Pandas** think each one is? This is important because it will determine what we can do with the data in each column, how it will be sorted, and filtered etc...\n",
    "\n",
    "We can use \n",
    "\n",
    "``df.dtypes``\n",
    "\n",
    "to see each columns data type. We see that they are all **objects**, which is the Pandas type for strings or mixed values. We can load the data in again and tell it which columns represent dates, and it will automatically parse them is they are in a consistent format. This means we can do things like compare them (e.g. which one is earlier?), which is really useful for sorting. \n",
    "\n",
    "You will see the loading takes longer, as it has to parse the dates, and that afterwards the chosen columns are of the ``datetime64[ns]`` type"
   ]
  },
  {
   "cell_type": "code",
   "execution_count": 132,
   "id": "84c46cf3",
   "metadata": {},
   "outputs": [
    {
     "data": {
      "text/plain": [
       "EventID               int64\n",
       "EventType            object\n",
       "StartDateTime        object\n",
       "EndDateTime          object\n",
       "EnteredOn            object\n",
       "EventAgency          object\n",
       "ParkingHeld          object\n",
       "Borough              object\n",
       "CommunityBoard(s)    object\n",
       "PolicePrecinct(s)    object\n",
       "Category             object\n",
       "SubCategoryName      object\n",
       "Country              object\n",
       "ZipCode(s)           object\n",
       "dtype: object"
      ]
     },
     "execution_count": 132,
     "metadata": {},
     "output_type": "execute_result"
    }
   ],
   "source": [
    "# What are the types?\n",
    "# Checking the data type of each columne\n",
    "\n",
    "df.dtypes"
   ]
  },
  {
   "cell_type": "markdown",
   "id": "f13b1fd8",
   "metadata": {},
   "source": [
    "### Loading and formating date types"
   ]
  },
  {
   "cell_type": "markdown",
   "id": "41784250",
   "metadata": {},
   "source": [
    "- As we can see above that the columns \"StartDateTime\", \"EndDateTime\", and \"EnteredOn\" are being read as a object even though they contain date and time hence should be in the datetime format.\n",
    "- Refer to https://pandas.pydata.org/docs/reference/api/pandas.DataFrame.dtypes.html for more information on other formats."
   ]
  },
  {
   "cell_type": "code",
   "execution_count": null,
   "id": "47b4bbd6",
   "metadata": {},
   "outputs": [],
   "source": [
    "# Reloading the csv data and parsing the dates in the correct format.\n",
    "\n",
    "df = pd.read_csv(\"data/Film_Permits.csv\", parse_dates=[\"StartDateTime\",\"EndDateTime\",\"EnteredOn\"])"
   ]
  },
  {
   "cell_type": "code",
   "execution_count": null,
   "id": "160991ba",
   "metadata": {},
   "outputs": [],
   "source": [
    "# Checking if the data has been parsed in the correct format\n",
    "\n",
    "df.dtypes"
   ]
  },
  {
   "cell_type": "markdown",
   "id": "0f5259f2",
   "metadata": {},
   "source": [
    "## Summarising Data"
   ]
  },
  {
   "cell_type": "markdown",
   "id": "4da5563a",
   "metadata": {},
   "source": [
    "**Pandas** can also give us a summary of our data (67359 is a lot to look at ourselves!). \n",
    "\n",
    "``df.describe(include = \"all\")``\n"
   ]
  },
  {
   "cell_type": "code",
   "execution_count": null,
   "id": "2287f3e3",
   "metadata": {},
   "outputs": [],
   "source": [
    "df.describe()"
   ]
  },
  {
   "cell_type": "markdown",
   "id": "6f35f146",
   "metadata": {},
   "source": [
    "If we don't put ``include = \"all\"``, then we will only get summary stastics for **numeric** columns. \n"
   ]
  },
  {
   "cell_type": "code",
   "execution_count": null,
   "id": "c6ca8974",
   "metadata": {
    "scrolled": false
   },
   "outputs": [],
   "source": [
    "df.describe(include = \"all\")"
   ]
  },
  {
   "cell_type": "markdown",
   "id": "5c3a70d2",
   "metadata": {},
   "source": [
    "When we run the code, we get a table of stats describing our data. We can see that alot of the stats that are number based dont return values for our **nominal** columns, which is fine. But things such as the most common, and number of unique entries are stil interesting. \n",
    "\n",
    "For example, all 5 New York Boroughs are present, and Manahattan is the most common. We can also see the first filming started on **2012-01-01 06:00:00**, and this works because we formatted it as a date, so Pandas is able to order them. "
   ]
  },
  {
   "cell_type": "markdown",
   "id": "1fc0b3d6",
   "metadata": {},
   "source": [
    "## Selecting Columns "
   ]
  },
  {
   "cell_type": "markdown",
   "id": "ebae6f37",
   "metadata": {},
   "source": [
    "\n",
    "We can select a column using its name \n",
    "\n",
    "``df[\"ColumnName\"]``\n",
    "\n",
    "Or we can select a bunch of columns by passing an array \n",
    "\n",
    "``df[[\"ColumnName1\",\"ColumnName2\"]]``\n",
    "\n",
    "This returns a smaller **Series** object with the results but we can also use \n",
    "\n",
    "``result.values``\n"
   ]
  },
  {
   "cell_type": "code",
   "execution_count": null,
   "id": "f6319909",
   "metadata": {},
   "outputs": [],
   "source": [
    "#select column\n",
    "df[\"SubCategoryName\"]"
   ]
  },
  {
   "cell_type": "code",
   "execution_count": null,
   "id": "f0875517",
   "metadata": {
    "scrolled": false
   },
   "outputs": [],
   "source": [
    "#select columns\n",
    "df[[\"Category\",\"SubCategoryName\"]]"
   ]
  },
  {
   "cell_type": "code",
   "execution_count": null,
   "id": "160c57fc",
   "metadata": {
    "scrolled": true
   },
   "outputs": [],
   "source": [
    "#select column and get it back as an array of values\n",
    "df[\"SubCategoryName\"].values"
   ]
  },
  {
   "cell_type": "markdown",
   "id": "865c6bac",
   "metadata": {},
   "source": [
    "For more information on the differnce between lists and arrays check out https://www.geeksforgeeks.org/difference-between-list-and-array-in-python/"
   ]
  },
  {
   "cell_type": "markdown",
   "id": "f8258ec7",
   "metadata": {},
   "source": [
    "## Counting Columns "
   ]
  },
  {
   "cell_type": "markdown",
   "id": "da711c87",
   "metadata": {},
   "source": [
    "\n",
    "We can get counts to see what the most prevalent combinations of categories are. \n",
    "- Here, for the type of thing being filmed, we can see **Feature Films** and **Epsiodic TV Series** are the most common. This is a good way for us to get a feel for all the different things that are filmed in New York and what you need a permit for. \n",
    "\n",
    "``df[[\"Category\",\"SubCategoryName\"]].value_counts()``\n",
    "\n",
    "I wonder what **Television - Not Applicable** is?"
   ]
  },
  {
   "cell_type": "code",
   "execution_count": null,
   "id": "7c686845",
   "metadata": {
    "scrolled": true
   },
   "outputs": [],
   "source": [
    "df[[\"Category\",\"SubCategoryName\"]].value_counts()"
   ]
  },
  {
   "cell_type": "markdown",
   "id": "29b5ff5d",
   "metadata": {},
   "source": [
    "## Filtering "
   ]
  },
  {
   "cell_type": "markdown",
   "id": "4d53a8ac",
   "metadata": {},
   "source": [
    "As well as picking whole columns, we can also pick columns that fit certain parameters, using **filtering**. To do this we pick columns that equal a certain value\n",
    "\n",
    "``df[df[\"SubCategoryName\"]==\"Independent Artist\"]``\n",
    "\n"
   ]
  },
  {
   "cell_type": "code",
   "execution_count": null,
   "id": "305abc41",
   "metadata": {
    "scrolled": true
   },
   "outputs": [],
   "source": [
    "df[df[\"SubCategoryName\"]==\"Independent Artist\"]"
   ]
  },
  {
   "cell_type": "markdown",
   "id": "33ef1210",
   "metadata": {},
   "source": [
    "## Sorting"
   ]
  },
  {
   "cell_type": "markdown",
   "id": "4dd28d79",
   "metadata": {},
   "source": [
    "Strangely, this dataset isn't actually sorted by date, but we can do that using ``sort_values``. We tell **Pandas** which column we want to sort by, and this must be either a number, or an **ordinal** value (such as a date). We also say which direction we want to sort the results in, and this is useful if we want to get the top or bottom slice\n",
    "\n",
    "**Most recent 20**\n",
    "\n",
    "``df.sort_values(by='StartDateTime', ascending=False)[:20]``\n",
    "\n",
    "**Earliest 20**\n",
    "\n",
    "``df.sort_values(by='StartDateTime', ascending=True)[:20]``"
   ]
  },
  {
   "cell_type": "code",
   "execution_count": null,
   "id": "159a7422",
   "metadata": {
    "scrolled": true
   },
   "outputs": [],
   "source": [
    "df.sort_values(by='StartDateTime', ascending=True)[:20]"
   ]
  },
  {
   "cell_type": "markdown",
   "id": "4a6a93aa",
   "metadata": {},
   "source": [
    "## New Column - Finding the Longest shoot "
   ]
  },
  {
   "cell_type": "markdown",
   "id": "6a93738e",
   "metadata": {},
   "source": [
    "Now we're going to look at making new values (and columns!) from the existing data. \n",
    "\n",
    "``df['LengthOfShoot'] = df['EndDateTime'] - df['StartDateTime']``\n",
    "\n",
    "Because we formatted them as dates, we can subtract them from each other to get a **time difference**. We can then sort by the new column **LengthOfShoot** to find the longest and shortest shoots.\n",
    "\n",
    "We see the longest shoot is **360 days 00:59:00** and the shortest is **0 days 00:01:00**, possibly indicating that these are the boundaries of permits you can receive"
   ]
  },
  {
   "cell_type": "code",
   "execution_count": null,
   "id": "ec02b62e",
   "metadata": {
    "scrolled": true
   },
   "outputs": [],
   "source": [
    "#Make a new column containing the end time minus the start time\n",
    "df['LengthOfShoot'] = df['EndDateTime'] - df['StartDateTime']\n",
    "#Sort values and select the first 20 values\n",
    "df.sort_values(by='LengthOfShoot', ascending=False)[:20]"
   ]
  },
  {
   "cell_type": "markdown",
   "id": "cfdfd816",
   "metadata": {},
   "source": [
    "## Missing Values"
   ]
  },
  {
   "cell_type": "markdown",
   "id": "9f6bba5c",
   "metadata": {},
   "source": [
    "**NaN** in Pandas represents a missing value, or something that it is unable to format, and are excluded by **count()**\n",
    "\n",
    "This means we can divide the ``count()`` by the ``len`` and anything that is not 1.00 will have missing values!\n",
    "\n",
    "We can see that \"CommunityBoard(s)\",\"ZipCode(s)\",\"PolicePrecinct(s)\" all have missing values, so we can use **isna()** to filter all the ones out to see if theres a reason why these are missing!\n",
    "\n",
    "``df[df[\"CommunityBoard(s)\"].isna()]``\n",
    "\n",
    "We can look at the summary statistics to try and identify any trends \n",
    "\n",
    "``df[df[\"CommunityBoard(s)\"].isna()].describe(include=\"all\")``\n",
    "\n",
    "And it looks like there is no trend based on date. Most are in Manhattan, although most films are in Manhattan regardless. 3 are at the same location exactly, and some look like they are for the same mini-series. \n",
    "\n",
    "We're still not clear why this data is missing really! If it was important, or a greater amount of data, we could investigate further with the source"
   ]
  },
  {
   "cell_type": "code",
   "execution_count": null,
   "id": "1c64b336",
   "metadata": {},
   "outputs": [],
   "source": [
    "#Divide without NaN by total length revealing which columns have missing values\n",
    "df.count() / len(df)"
   ]
  },
  {
   "cell_type": "code",
   "execution_count": null,
   "id": "b83e1009",
   "metadata": {
    "scrolled": true
   },
   "outputs": [],
   "source": [
    "#Look at rows for which CommunityBoard(s) contains NaN\n",
    "df[df[\"CommunityBoard(s)\"].isna()]"
   ]
  },
  {
   "cell_type": "code",
   "execution_count": null,
   "id": "494a7342",
   "metadata": {},
   "outputs": [],
   "source": [
    "#Look at the summary of rows for which CommunityBoard(s) contains NaN\n",
    "df[df[\"CommunityBoard(s)\"].isna()].describe(include=\"all\")"
   ]
  },
  {
   "cell_type": "markdown",
   "id": "407a0518",
   "metadata": {},
   "source": [
    "### Fixing missing values"
   ]
  },
  {
   "cell_type": "markdown",
   "id": "d9336be3",
   "metadata": {},
   "source": [
    "We can use the **fillna()** function to replace missing values with a string. \n",
    "\n",
    "``df[[\"CommunityBoard(s)\",\"ZipCode(s)\",\"PolicePrecinct(s)\"]].fillna(\"unknown\")``"
   ]
  },
  {
   "cell_type": "code",
   "execution_count": null,
   "id": "5a3dbe08",
   "metadata": {
    "scrolled": false
   },
   "outputs": [],
   "source": [
    "#Replace missing values with string (\"unknown\")\n",
    "df[[\"CommunityBoard(s)\",\"ZipCode(s)\",\"PolicePrecinct(s)\"]].fillna(\"unknown\")"
   ]
  },
  {
   "cell_type": "markdown",
   "id": "b688b257",
   "metadata": {},
   "source": [
    "## Selection Bias "
   ]
  },
  {
   "cell_type": "markdown",
   "id": "40deec3a",
   "metadata": {},
   "source": [
    "Thinking about interesting machine learning models we could build from this, the first think I thought of was something that could predict whether a permit would be granted or not. However, this is something that we can't model from this dataset as it **only shows granted permits**. \n",
    "\n",
    "This is an example of **selection bias** in a dataset and is something we want to be careful of. If we are trying to model something and the dataset doesnt include all occurrences, it will be biased towards the things that got recorded, or selected to be in the dataset. \n",
    "\n"
   ]
  },
  {
   "cell_type": "markdown",
   "id": "76f18834",
   "metadata": {},
   "source": [
    "## Cooked data - Whats missing?\n"
   ]
  },
  {
   "cell_type": "markdown",
   "id": "b2bd32f3",
   "metadata": {},
   "source": [
    "\n",
    "We actually dont have data for who the permit was granted to, or how much they paid for it. Which I think would be interesting!!!"
   ]
  },
  {
   "cell_type": "markdown",
   "id": "05340eb0",
   "metadata": {},
   "source": [
    "\n",
    "\n",
    "# Task 1 : Import a JSON file instead of a CSV using Pandas"
   ]
  },
  {
   "cell_type": "markdown",
   "id": "1d0c9da1",
   "metadata": {},
   "source": [
    "You maye use the json data being provided by the exchange rate api.\n",
    "- https://api.exchangerate-api.com/v4/latest/USD\n",
    "\n",
    "Before importing the data visit the above link to see the json format in it's raw format and later compare it to what it looks like in a pandas dataframe."
   ]
  },
  {
   "cell_type": "code",
   "execution_count": null,
   "id": "3364b3b9",
   "metadata": {},
   "outputs": [],
   "source": []
  },
  {
   "cell_type": "markdown",
   "id": "c2be91b1",
   "metadata": {},
   "source": [
    " "
   ]
  },
  {
   "cell_type": "markdown",
   "id": "5baa2012",
   "metadata": {},
   "source": [
    "   "
   ]
  },
  {
   "cell_type": "markdown",
   "id": "66f202c2",
   "metadata": {},
   "source": [
    "\n",
    "\n",
    "\n",
    "# Requesting Data from an API"
   ]
  },
  {
   "cell_type": "markdown",
   "id": "d2787c21",
   "metadata": {},
   "source": [
    "- API is the acronym for Application Programming Interface, which is a software intermediary that allows two applications to talk to each other. Each time you use an app like Facebook, send an instant message, or check the weather on your phone, you’re using an API.\n",
    "\n",
    "\n",
    "- Coronavirus Covid-19 API - DOCUMENTATION\n",
    "https://documenter.getpostman.com/view/10808728/SzS8rjbc"
   ]
  },
  {
   "cell_type": "markdown",
   "id": "0db9a0b8",
   "metadata": {},
   "source": [
    "Requests is an elegant and simple HTTP library for Python. It “is an application-layer protocol for transmitting hypermedia documents, such as HTML. It was designed for communication between web browsers and web servers”\n",
    "So, requests is a package that is going to help us communicate between our browser and a web server somewhere that is storing data we are interested in. "
   ]
  },
  {
   "cell_type": "code",
   "execution_count": null,
   "id": "90886e77",
   "metadata": {},
   "outputs": [],
   "source": [
    "import requests"
   ]
  },
  {
   "cell_type": "code",
   "execution_count": null,
   "id": "177996be",
   "metadata": {},
   "outputs": [],
   "source": [
    "url = 'https://api.covid19api.com/summary'"
   ]
  },
  {
   "cell_type": "code",
   "execution_count": null,
   "id": "f0948563",
   "metadata": {},
   "outputs": [],
   "source": [
    "# Using the requests package to make a GET request from this API endpoint.\n",
    "r = requests.get(url)"
   ]
  },
  {
   "cell_type": "markdown",
   "id": "afe5acfe",
   "metadata": {},
   "source": [
    "What does <Response [200]> mean? That the request has succeeded."
   ]
  },
  {
   "cell_type": "code",
   "execution_count": null,
   "id": "beeeeaa0",
   "metadata": {},
   "outputs": [],
   "source": [
    "r"
   ]
  },
  {
   "cell_type": "markdown",
   "id": "cc914669",
   "metadata": {},
   "source": [
    "We will now use a method called json() to extract the json-structured data from the request 'r'"
   ]
  },
  {
   "cell_type": "code",
   "execution_count": null,
   "id": "1a86fd05",
   "metadata": {},
   "outputs": [],
   "source": [
    "json = r.json()"
   ]
  },
  {
   "cell_type": "code",
   "execution_count": null,
   "id": "f3b433f7",
   "metadata": {},
   "outputs": [],
   "source": [
    "json.keys()"
   ]
  },
  {
   "cell_type": "code",
   "execution_count": null,
   "id": "5f69692a",
   "metadata": {},
   "outputs": [],
   "source": [
    "json['Global']"
   ]
  },
  {
   "cell_type": "code",
   "execution_count": null,
   "id": "388a3a8e",
   "metadata": {
    "scrolled": true
   },
   "outputs": [],
   "source": [
    "json['Countries']"
   ]
  },
  {
   "cell_type": "code",
   "execution_count": null,
   "id": "d28c61ce",
   "metadata": {},
   "outputs": [],
   "source": [
    "type(json['Global'])"
   ]
  },
  {
   "cell_type": "code",
   "execution_count": null,
   "id": "fb566d21",
   "metadata": {},
   "outputs": [],
   "source": [
    "type(json['Countries'])"
   ]
  },
  {
   "cell_type": "code",
   "execution_count": null,
   "id": "27c80498",
   "metadata": {},
   "outputs": [],
   "source": [
    "type(json['Date'])"
   ]
  },
  {
   "cell_type": "code",
   "execution_count": null,
   "id": "26f956cb",
   "metadata": {},
   "outputs": [],
   "source": [
    "json['Countries'][0]"
   ]
  },
  {
   "cell_type": "code",
   "execution_count": null,
   "id": "a0df941a",
   "metadata": {},
   "outputs": [],
   "source": [
    "df_countries = pd.DataFrame(json['Countries'])"
   ]
  },
  {
   "cell_type": "code",
   "execution_count": null,
   "id": "77603b47",
   "metadata": {},
   "outputs": [],
   "source": [
    "df_countries"
   ]
  },
  {
   "cell_type": "markdown",
   "id": "8117abc6",
   "metadata": {},
   "source": [
    "# Task 2: Get data of confirmed cases in the UK starting from the first recorded case"
   ]
  },
  {
   "cell_type": "markdown",
   "id": "256f5e93",
   "metadata": {},
   "source": [
    "- Hint: Refer to the API documenataion to understand how to query this data  "
   ]
  },
  {
   "cell_type": "code",
   "execution_count": null,
   "id": "0d9b0a88",
   "metadata": {},
   "outputs": [],
   "source": []
  },
  {
   "cell_type": "markdown",
   "id": "bd87e1ca",
   "metadata": {},
   "source": [
    "# Task 3: Create a pandas dataframe for the data obtained in task 2 "
   ]
  },
  {
   "cell_type": "code",
   "execution_count": null,
   "id": "75038750",
   "metadata": {},
   "outputs": [],
   "source": []
  }
 ],
 "metadata": {
  "kernelspec": {
   "display_name": "Python 3 (ipykernel)",
   "language": "python",
   "name": "python3"
  },
  "language_info": {
   "codemirror_mode": {
    "name": "ipython",
    "version": 3
   },
   "file_extension": ".py",
   "mimetype": "text/x-python",
   "name": "python",
   "nbconvert_exporter": "python",
   "pygments_lexer": "ipython3",
   "version": "3.8.12"
  }
 },
 "nbformat": 4,
 "nbformat_minor": 5
}
