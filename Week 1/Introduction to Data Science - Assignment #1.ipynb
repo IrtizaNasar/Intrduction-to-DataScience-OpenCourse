{
 "cells": [
  {
   "cell_type": "markdown",
   "id": "646da132",
   "metadata": {},
   "source": [
    "# Assignment #1"
   ]
  },
  {
   "cell_type": "markdown",
   "id": "9a231a7f",
   "metadata": {},
   "source": [
    "1. Make two list's one of clothing items and accesories such as shirts, shorts, jeans etc and another list of their corresponing colours such as red, white etc.\n",
    "\n",
    "\n",
    "2. Write a nested loop printing out clothing items and accesories with their corresponding colours with the string statment 'item from list of clothing item' are of 'colour from list of colour'. \n",
    "- Example statment \"shirts are of white colour\"\n",
    "\n",
    "3. Hints\n",
    "\n",
    "- Review declaring a counter\n",
    "- Review the len function \n",
    "- Review concatenation of strings"
   ]
  },
  {
   "cell_type": "code",
   "execution_count": null,
   "id": "a03d3d06",
   "metadata": {},
   "outputs": [],
   "source": []
  }
 ],
 "metadata": {
  "kernelspec": {
   "display_name": "Python 3 (ipykernel)",
   "language": "python",
   "name": "python3"
  },
  "language_info": {
   "codemirror_mode": {
    "name": "ipython",
    "version": 3
   },
   "file_extension": ".py",
   "mimetype": "text/x-python",
   "name": "python",
   "nbconvert_exporter": "python",
   "pygments_lexer": "ipython3",
   "version": "3.8.12"
  }
 },
 "nbformat": 4,
 "nbformat_minor": 5
}
