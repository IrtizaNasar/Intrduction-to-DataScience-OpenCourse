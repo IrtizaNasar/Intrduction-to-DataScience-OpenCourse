{
 "cells": [
  {
   "cell_type": "markdown",
   "id": "d279eb65",
   "metadata": {},
   "source": [
    "# Assignment #1"
   ]
  },
  {
   "cell_type": "markdown",
   "id": "cafa14de",
   "metadata": {},
   "source": [
    "1. Make two list's one of clothing items and accesories such as shirts, shorts, jeans etc and another list of atleast five colours such as red, white etc.\n",
    "\n",
    "\n",
    "2. Write a nested loop printing out each clothing item and accessory in every colour with the string statment \n",
    "- 'item from list of clothing item' are of 'colour from list of colour'. \n",
    "- Example statment \"shirts are of white colour\", \"shirts are of red colour\"\n",
    "\n",
    "3. Hints\n",
    "\n",
    "- Review declaring a counter\n",
    "- Review the len function \n",
    "- Review concatenation of strings"
   ]
  },
  {
   "cell_type": "markdown",
   "id": "8b60c2ea",
   "metadata": {},
   "source": [
    "# Assignment #1 - Solution "
   ]
  },
  {
   "cell_type": "code",
   "execution_count": 13,
   "id": "53a2f64a",
   "metadata": {},
   "outputs": [],
   "source": [
    "items = [\"shirts\", \"t-shirts\", \"sunglasses\"]\n",
    "colours = [\"red\", \"blue\", \"green\", \"purple\", \"pink\"]"
   ]
  },
  {
   "cell_type": "code",
   "execution_count": null,
   "id": "c1786daf",
   "metadata": {},
   "outputs": [],
   "source": [
    "# Print each item in every colour"
   ]
  },
  {
   "cell_type": "code",
   "execution_count": 14,
   "id": "bf6897bd",
   "metadata": {},
   "outputs": [
    {
     "name": "stdout",
     "output_type": "stream",
     "text": [
      "shirts are of red colour\n",
      "shirts are of blue colour\n",
      "shirts are of green colour\n",
      "shirts are of purple colour\n",
      "shirts are of pink colour\n",
      "t-shirts are of red colour\n",
      "t-shirts are of blue colour\n",
      "t-shirts are of green colour\n",
      "t-shirts are of purple colour\n",
      "t-shirts are of pink colour\n",
      "sunglasses are of red colour\n",
      "sunglasses are of blue colour\n",
      "sunglasses are of green colour\n",
      "sunglasses are of purple colour\n",
      "sunglasses are of pink colour\n"
     ]
    }
   ],
   "source": [
    "for item in items:\n",
    "  for colour in colours:\n",
    "    print(item + \" are of \" +  colour + \" colour\")"
   ]
  }
 ],
 "metadata": {
  "kernelspec": {
   "display_name": "Python 3 (ipykernel)",
   "language": "python",
   "name": "python3"
  },
  "language_info": {
   "codemirror_mode": {
    "name": "ipython",
    "version": 3
   },
   "file_extension": ".py",
   "mimetype": "text/x-python",
   "name": "python",
   "nbconvert_exporter": "python",
   "pygments_lexer": "ipython3",
   "version": "3.8.12"
  }
 },
 "nbformat": 4,
 "nbformat_minor": 5
}
