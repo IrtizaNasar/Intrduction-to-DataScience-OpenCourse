{
 "cells": [
  {
   "cell_type": "markdown",
   "id": "56f2dde8",
   "metadata": {},
   "source": [
    "# Python Fundamentals"
   ]
  },
  {
   "cell_type": "markdown",
   "id": "034ce2ab",
   "metadata": {},
   "source": [
    "## Comments"
   ]
  },
  {
   "cell_type": "markdown",
   "id": "612764e0",
   "metadata": {},
   "source": [
    "- Comments are pieces of text in a programming language that are not executed but are meant to provide additional information and context to understanding the logic and structure of code\n",
    "- In python the # character is used to denote a comment "
   ]
  },
  {
   "cell_type": "markdown",
   "id": "bbd0d502",
   "metadata": {},
   "source": [
    "## Variables "
   ]
  },
  {
   "cell_type": "markdown",
   "id": "26190ee6",
   "metadata": {},
   "source": [
    "- Every programming language has variables which a a method to store data that can be used by the program at different stages. \n",
    "- The data type stored in a variable can include a number, a string, a Boolean (true or false), a list or some other data type. \n",
    "- Every variable is assigned a name that can consists of numbers, letters and the underscore character.\n",
    "- A value is assigned to a variable using an  \"=\"  sign."
   ]
  },
  {
   "cell_type": "code",
   "execution_count": 2,
   "id": "12bbd4b7",
   "metadata": {},
   "outputs": [],
   "source": [
    "# These are all valid variable names and assignment\n",
    " \n",
    "user_name = \"irtiza\" # String \n",
    "user_id = 50 # Integer\n",
    "identity_confirmed = False # Boolean"
   ]
  },
  {
   "cell_type": "markdown",
   "id": "813a9bcf",
   "metadata": {},
   "source": [
    "- Now lets check the value assigned and see how it can be called back.\n",
    "\n",
    "- \"print(  )\" is a python function that is used to display an output to screen or to the console. It takes one or   more arguments and will output each of the arguments to the console separated by a space."
   ]
  },
  {
   "cell_type": "code",
   "execution_count": 3,
   "id": "c80b6b0a",
   "metadata": {},
   "outputs": [
    {
     "name": "stdout",
     "output_type": "stream",
     "text": [
      "irtiza\n"
     ]
    }
   ],
   "source": [
    "print(user_name) # In this case we are printing out the value of the variable \"user_name\""
   ]
  },
  {
   "cell_type": "markdown",
   "id": "0467bbf4",
   "metadata": {},
   "source": [
    "- The value of a variable can be reassigned at any point \n",
    "\n",
    "- Lets print the value of user_id"
   ]
  },
  {
   "cell_type": "code",
   "execution_count": 4,
   "id": "eeeff5b7",
   "metadata": {},
   "outputs": [
    {
     "name": "stdout",
     "output_type": "stream",
     "text": [
      "50\n"
     ]
    }
   ],
   "source": [
    "print(user_id)"
   ]
  },
  {
   "cell_type": "markdown",
   "id": "c0b6f913",
   "metadata": {},
   "source": [
    "- Now as we can see the value of the user_id is 50 we can reassign a new value to it\n",
    "- We now want the user_id to have a value of 100"
   ]
  },
  {
   "cell_type": "code",
   "execution_count": 5,
   "id": "28fedea7",
   "metadata": {},
   "outputs": [
    {
     "name": "stdout",
     "output_type": "stream",
     "text": [
      "100\n"
     ]
    }
   ],
   "source": [
    "user_id = 100 # Reassigning new value to variable.\n",
    "print(user_id) # Checking the newly assigned value and confirming it's replaced the old one."
   ]
  },
  {
   "cell_type": "markdown",
   "id": "910f3f74",
   "metadata": {},
   "source": [
    "## Strings"
   ]
  },
  {
   "cell_type": "markdown",
   "id": "2a722b57",
   "metadata": {},
   "source": [
    "- A string is a sequence of characters (could include numbers, letters, white space or punctuation) enclosed by doubble quotation marks \" \" or single ' '.\n",
    "- If a string has to be broken into multiple lines then a backslash character can be used \"\\\" to indicate that the string continues on the next line."
   ]
  },
  {
   "cell_type": "code",
   "execution_count": 9,
   "id": "880ad7cd",
   "metadata": {},
   "outputs": [],
   "source": [
    "name = \"John Doe\"\n",
    "sex = 'Male'\n",
    " \n",
    "longer_string = \"This string is broken up \\\n",
    "over multiple lines\""
   ]
  },
  {
   "cell_type": "code",
   "execution_count": 10,
   "id": "ac101ed7",
   "metadata": {},
   "outputs": [
    {
     "name": "stdout",
     "output_type": "stream",
     "text": [
      "This string is broken up over multiple lines\n"
     ]
    }
   ],
   "source": [
    "print(longer_string)"
   ]
  },
  {
   "cell_type": "markdown",
   "id": "1f54c53c",
   "metadata": {},
   "source": [
    "## Arthmetic Operations"
   ]
  },
  {
   "cell_type": "markdown",
   "id": "8700e932",
   "metadata": {},
   "source": [
    "Python supports differnet type of airtmetic operations "
   ]
  },
  {
   "cell_type": "markdown",
   "id": "bf32f8ae",
   "metadata": {},
   "source": [
    "## Lists"
   ]
  },
  {
   "cell_type": "markdown",
   "id": "c366869a",
   "metadata": {},
   "source": [
    "## Loops"
   ]
  },
  {
   "cell_type": "markdown",
   "id": "19d25dbd",
   "metadata": {},
   "source": [
    "### If..Else.. Loop"
   ]
  },
  {
   "cell_type": "markdown",
   "id": "90b6d8ba",
   "metadata": {},
   "source": [
    "### While Loop"
   ]
  },
  {
   "cell_type": "markdown",
   "id": "c57ed05c",
   "metadata": {},
   "source": [
    "### len "
   ]
  },
  {
   "cell_type": "code",
   "execution_count": null,
   "id": "3622502f",
   "metadata": {},
   "outputs": [],
   "source": []
  }
 ],
 "metadata": {
  "kernelspec": {
   "display_name": "Python 3 (ipykernel)",
   "language": "python",
   "name": "python3"
  },
  "language_info": {
   "codemirror_mode": {
    "name": "ipython",
    "version": 3
   },
   "file_extension": ".py",
   "mimetype": "text/x-python",
   "name": "python",
   "nbconvert_exporter": "python",
   "pygments_lexer": "ipython3",
   "version": "3.8.12"
  }
 },
 "nbformat": 4,
 "nbformat_minor": 5
}
