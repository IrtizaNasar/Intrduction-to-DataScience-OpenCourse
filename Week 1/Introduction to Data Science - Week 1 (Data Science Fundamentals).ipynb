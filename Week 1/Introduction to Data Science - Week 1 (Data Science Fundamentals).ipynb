{
 "cells": [
  {
   "cell_type": "markdown",
   "id": "56f2dde8",
   "metadata": {},
   "source": [
    "# Python Fundamentals"
   ]
  },
  {
   "cell_type": "markdown",
   "id": "034ce2ab",
   "metadata": {},
   "source": [
    "## Comments"
   ]
  },
  {
   "cell_type": "markdown",
   "id": "612764e0",
   "metadata": {},
   "source": [
    "- Comments are pieces of text in a programming language that are not executed but are meant to provide additional information and context to understanding the logic and structure of code\n",
    "- In python the # character is used to denote a comment "
   ]
  },
  {
   "cell_type": "markdown",
   "id": "bbd0d502",
   "metadata": {},
   "source": [
    "## Variables "
   ]
  },
  {
   "cell_type": "markdown",
   "id": "26190ee6",
   "metadata": {},
   "source": [
    "- Every programming language has variables which a a method to store data that can be used by the program at different stages. \n",
    "- The data type stored in a variable can include a number, a string, a Boolean (true or false), a list or some other data type. \n",
    "- Every variable is assigned a name that can consists of numbers, letters and the underscore character.\n",
    "- A value is assigned to a variable using an  \"=\"  sign."
   ]
  },
  {
   "cell_type": "code",
   "execution_count": 2,
   "id": "12bbd4b7",
   "metadata": {},
   "outputs": [],
   "source": [
    "# These are all valid variable names and assignment\n",
    " \n",
    "user_name = \"irtiza\" # String \n",
    "user_id = 50 # Integer\n",
    "identity_confirmed = False # Boolean"
   ]
  },
  {
   "cell_type": "markdown",
   "id": "813a9bcf",
   "metadata": {},
   "source": [
    "- Now lets check the value assigned and see how it can be called back.\n",
    "\n",
    "- \"print(  )\" is a python function that is used to display an output to screen or to the console. It takes one or   more arguments and will output each of the arguments to the console separated by a space."
   ]
  },
  {
   "cell_type": "code",
   "execution_count": 3,
   "id": "c80b6b0a",
   "metadata": {},
   "outputs": [
    {
     "name": "stdout",
     "output_type": "stream",
     "text": [
      "irtiza\n"
     ]
    }
   ],
   "source": [
    "print(user_name) # In this case we are printing out the value of the variable \"user_name\""
   ]
  },
  {
   "cell_type": "markdown",
   "id": "0467bbf4",
   "metadata": {},
   "source": [
    "- The value of a variable can be reassigned at any point \n",
    "\n",
    "- Lets print the value of user_id"
   ]
  },
  {
   "cell_type": "code",
   "execution_count": 4,
   "id": "eeeff5b7",
   "metadata": {},
   "outputs": [
    {
     "name": "stdout",
     "output_type": "stream",
     "text": [
      "50\n"
     ]
    }
   ],
   "source": [
    "print(user_id)"
   ]
  },
  {
   "cell_type": "markdown",
   "id": "c0b6f913",
   "metadata": {},
   "source": [
    "- Now as we can see the value of the user_id is 50 we can reassign a new value to it\n",
    "- We now want the user_id to have a value of 100"
   ]
  },
  {
   "cell_type": "code",
   "execution_count": 5,
   "id": "28fedea7",
   "metadata": {},
   "outputs": [
    {
     "name": "stdout",
     "output_type": "stream",
     "text": [
      "100\n"
     ]
    }
   ],
   "source": [
    "user_id = 100 # Reassigning new value to variable.\n",
    "print(user_id) # Checking the newly assigned value and confirming it's replaced the old one."
   ]
  },
  {
   "cell_type": "markdown",
   "id": "910f3f74",
   "metadata": {},
   "source": [
    "## Strings"
   ]
  },
  {
   "cell_type": "markdown",
   "id": "2a722b57",
   "metadata": {},
   "source": [
    "- A string is a sequence of characters (could include numbers, letters, white space or punctuation) enclosed by doubble quotation marks \" \" or single ' '.\n",
    "- If a string has to be broken into multiple lines then a backslash character can be used \"\\\" to indicate that the string continues on the next line."
   ]
  },
  {
   "cell_type": "code",
   "execution_count": 9,
   "id": "880ad7cd",
   "metadata": {},
   "outputs": [],
   "source": [
    "name = \"John Doe\"\n",
    "sex = 'Male'\n",
    " \n",
    "longer_string = \"This string is broken up \\\n",
    "over multiple lines\""
   ]
  },
  {
   "cell_type": "code",
   "execution_count": 10,
   "id": "ac101ed7",
   "metadata": {},
   "outputs": [
    {
     "name": "stdout",
     "output_type": "stream",
     "text": [
      "This string is broken up over multiple lines\n"
     ]
    }
   ],
   "source": [
    "print(longer_string)"
   ]
  },
  {
   "cell_type": "markdown",
   "id": "1f54c53c",
   "metadata": {},
   "source": [
    "## Arthmetic Operations"
   ]
  },
  {
   "cell_type": "markdown",
   "id": "8700e932",
   "metadata": {},
   "source": [
    "Python supports differnet type of arthemetic operations that can be performed on varibales, numbers or a combination. The common one are as follows\n",
    "- ( + ) for addition\n",
    "- ( - ) for subtraction\n",
    "- ( * ) for multiplication\n",
    "- ( / ) for division\n",
    "- ( % ) for modulus (returns the remainder)\n",
    "- ( ** ) for exponentiation"
   ]
  },
  {
   "cell_type": "code",
   "execution_count": 4,
   "id": "f00df984",
   "metadata": {},
   "outputs": [],
   "source": [
    "addition = 5 + 10\n",
    "subtraction = 15 - 5\n",
    "multiply = 30 * 5\n",
    "divide = 16 / 4\n",
    "remainder = 25 % 2\n",
    "exponent  = 5 ** 2 # 5 to the power of 2"
   ]
  },
  {
   "cell_type": "markdown",
   "id": "bf32f8ae",
   "metadata": {},
   "source": [
    "## Lists"
   ]
  },
  {
   "cell_type": "markdown",
   "id": "bb8f384f",
   "metadata": {},
   "source": [
    "- Lists are an ordered collection of items that allow for easily storing and retrival of data.\n",
    "- List values are places between square [ ] brackets, seperated by commas.\n",
    "- A good practice is to put space between the comma and the next value.\n",
    "- Same values can be repeated in a list.\n",
    "- You can also create an empty list and add values to it late using the append function."
   ]
  },
  {
   "cell_type": "code",
   "execution_count": 7,
   "id": "5fe4c1e7",
   "metadata": {},
   "outputs": [
    {
     "name": "stdout",
     "output_type": "stream",
     "text": [
      "['Apple', 'Orange', 'Banana', 'Raspberry']\n"
     ]
    }
   ],
   "source": [
    "fruits = [\"Apple\", \"Orange\", \"Banana\", \"Raspberry\"] # Need to be stored as strings \n",
    "print(fruits)"
   ]
  },
  {
   "cell_type": "code",
   "execution_count": 9,
   "id": "a06797de",
   "metadata": {},
   "outputs": [
    {
     "name": "stdout",
     "output_type": "stream",
     "text": [
      "Banana\n"
     ]
    }
   ],
   "source": [
    "# Access the third item from the list \n",
    "# Count starts from 0 not 1 \n",
    "print(fruits[2])"
   ]
  },
  {
   "cell_type": "markdown",
   "id": "53e0d3ff",
   "metadata": {},
   "source": [
    "### Append Function"
   ]
  },
  {
   "cell_type": "code",
   "execution_count": 10,
   "id": "69368dbc",
   "metadata": {},
   "outputs": [
    {
     "name": "stdout",
     "output_type": "stream",
     "text": [
      "['Apple', 'Orange', 'Banana', 'Raspberry', 'Strawberry']\n"
     ]
    }
   ],
   "source": [
    "# Now lets see how we append a value to an existing list or an empty list\n",
    "# Let's add  to this this existing list.\n",
    "\n",
    "fruits.append(\"Strawberry\") \n",
    "\n",
    "print(fruits) # Check if \"Strawberry\" is now added to our list "
   ]
  },
  {
   "cell_type": "markdown",
   "id": "c366869a",
   "metadata": {},
   "source": [
    "## Loops"
   ]
  },
  {
   "cell_type": "markdown",
   "id": "b9c612c8",
   "metadata": {},
   "source": [
    "### For Loop"
   ]
  },
  {
   "cell_type": "markdown",
   "id": "826572a9",
   "metadata": {},
   "source": [
    "- A python for loop can be used to iterate over a list of items or perform actions on each item.\n",
    "- Indentations are very important within all loops otherwise you may get an indentation error. "
   ]
  },
  {
   "cell_type": "code",
   "execution_count": 13,
   "id": "abdd8586",
   "metadata": {},
   "outputs": [
    {
     "name": "stdout",
     "output_type": "stream",
     "text": [
      "1\n",
      "2\n",
      "3\n",
      "4\n",
      "5\n"
     ]
    }
   ],
   "source": [
    "# Let's write an example for loop \n",
    "\n",
    "#each num in nums will be printed below\n",
    "numbers = [1,2,3,4,5] # A list of numbers \n",
    "\n",
    "for num in numbers: \n",
    "  print(num)\n",
    "\n",
    "# Format \n",
    "# for <temporary variable> in <list variable>:\n",
    "#   <action statement>\n",
    "#   <action statement>"
   ]
  },
  {
   "cell_type": "markdown",
   "id": "90b6d8ba",
   "metadata": {},
   "source": [
    "### While Loop"
   ]
  },
  {
   "cell_type": "markdown",
   "id": "796061d2",
   "metadata": {},
   "source": [
    "- A while loop will repeatedly execute a code block until a condition is satisfied."
   ]
  },
  {
   "cell_type": "code",
   "execution_count": 16,
   "id": "a7338ac0",
   "metadata": {},
   "outputs": [
    {
     "name": "stdout",
     "output_type": "stream",
     "text": [
      "1\n",
      "2\n",
      "3\n",
      "4\n",
      "5\n"
     ]
    }
   ],
   "source": [
    "# This loop will run five times until the condition is true\n",
    "\n",
    "i = 1\n",
    "while i < 6:\n",
    "  print(i)\n",
    "  i = i + 1"
   ]
  },
  {
   "cell_type": "markdown",
   "id": "a3e4497a",
   "metadata": {},
   "source": [
    "### Nested Loops"
   ]
  },
  {
   "cell_type": "markdown",
   "id": "235f52e2",
   "metadata": {},
   "source": [
    "- A nested loop is when a loop is placed within another loop.\n",
    "- Nested loops can be used to access items of lists which are inside other lists. The item selected from the outer loop can be used as the list for the inner loop to iterate over."
   ]
  },
  {
   "cell_type": "code",
   "execution_count": 36,
   "id": "330e5386",
   "metadata": {},
   "outputs": [
    {
     "name": "stdout",
     "output_type": "stream",
     "text": [
      "Jobs\n",
      "Gates\n",
      "Newton\n",
      "Euclid\n",
      "Einstein\n",
      "Feynman\n"
     ]
    }
   ],
   "source": [
    "nested_list = [[\"Jobs\", \"Gates\"], [\"Newton\", \"Euclid\"], [\"Einstein\", \"Feynman\"]]\n",
    " \n",
    "# This outer loop will iterate over each list in the nested list\n",
    "for list in nested_list:\n",
    "  # This inner loop will go through each name in each list\n",
    "  for name in list:\n",
    "    print(name)"
   ]
  },
  {
   "cell_type": "markdown",
   "id": "d2177324",
   "metadata": {},
   "source": [
    "## Conditional Statments"
   ]
  },
  {
   "cell_type": "markdown",
   "id": "97d30b0d",
   "metadata": {},
   "source": [
    "Python support a number of logical conditions such as \n",
    "- Equals: a == b\n",
    "- Not Equals: a != b\n",
    "- Less than: a < b\n",
    "- Less than or equal to: a <= b\n",
    "- Greater than: a > b\n",
    "- Greater than or equal to: a >= b\n",
    "\n",
    "These conditions can be used in a number of way most commonly in if statments and loops."
   ]
  },
  {
   "cell_type": "markdown",
   "id": "4a1a0a92",
   "metadata": {},
   "source": [
    "### If Statment"
   ]
  },
  {
   "cell_type": "code",
   "execution_count": 39,
   "id": "3b59c700",
   "metadata": {},
   "outputs": [
    {
     "name": "stdout",
     "output_type": "stream",
     "text": [
      "a is greater than b\n"
     ]
    }
   ],
   "source": [
    "# If statment \n",
    "\n",
    "a = 20\n",
    "b = 10\n",
    "\n",
    "if a > b:\n",
    "    print(\"a is greater than b\")\n",
    "    "
   ]
  },
  {
   "cell_type": "markdown",
   "id": "614c6137",
   "metadata": {},
   "source": [
    "### Elif "
   ]
  },
  {
   "cell_type": "markdown",
   "id": "d4338c3a",
   "metadata": {},
   "source": [
    "- Elif is a way of stating that if the previous condition was not fulfilled then try this condition"
   ]
  },
  {
   "cell_type": "code",
   "execution_count": 48,
   "id": "c5246257",
   "metadata": {},
   "outputs": [
    {
     "name": "stdout",
     "output_type": "stream",
     "text": [
      "a and b are equal\n"
     ]
    }
   ],
   "source": [
    "a = 20\n",
    "b = 20\n",
    "\n",
    "if a > b:\n",
    "    print(\"a is greater than b\")\n",
    "elif a == b:\n",
    "    print(\"a and b are equal\")"
   ]
  },
  {
   "cell_type": "markdown",
   "id": "9a3dba4a",
   "metadata": {},
   "source": [
    "### Else"
   ]
  },
  {
   "cell_type": "markdown",
   "id": "a93c55a4",
   "metadata": {},
   "source": [
    "- The else keyword catches anything which isn't caught by the preceding conditions."
   ]
  },
  {
   "cell_type": "code",
   "execution_count": 49,
   "id": "51371614",
   "metadata": {},
   "outputs": [
    {
     "name": "stdout",
     "output_type": "stream",
     "text": [
      "a is greater than b\n"
     ]
    }
   ],
   "source": [
    "a = 200\n",
    "b = 33\n",
    "\n",
    "if b > a:\n",
    "  print(\"b is greater than a\")\n",
    "elif a == b:\n",
    "  print(\"a and b are equal\")\n",
    "else:\n",
    "  print(\"a is greater than b\")"
   ]
  },
  {
   "cell_type": "markdown",
   "id": "c57ed05c",
   "metadata": {},
   "source": [
    "## Len Function"
   ]
  },
  {
   "cell_type": "code",
   "execution_count": 52,
   "id": "c0cea916",
   "metadata": {},
   "outputs": [
    {
     "name": "stdout",
     "output_type": "stream",
     "text": [
      "Length of fruits = 4\n"
     ]
    }
   ],
   "source": [
    "fruits = [\"Apple\", \"Orange\", \"Banana\", \"Raspberry\"] \n",
    "\n",
    "print(\"Length of fruits =\", len(fruits))"
   ]
  },
  {
   "cell_type": "code",
   "execution_count": 53,
   "id": "a68e9380",
   "metadata": {},
   "outputs": [
    {
     "name": "stdout",
     "output_type": "stream",
     "text": [
      "0 Apple\n",
      "1 Orange\n",
      "2 Banana\n",
      "3 Raspberry\n"
     ]
    }
   ],
   "source": [
    "i = 0\n",
    "while i < len(fruits):\n",
    "    print(i, fruits[i])\n",
    "    i = i+1"
   ]
  },
  {
   "cell_type": "code",
   "execution_count": 55,
   "id": "931ccc1d",
   "metadata": {},
   "outputs": [
    {
     "name": "stdout",
     "output_type": "stream",
     "text": [
      "1 Orange\n",
      "2 Banana\n",
      "3 Raspberry\n"
     ]
    },
    {
     "ename": "IndexError",
     "evalue": "list index out of range",
     "output_type": "error",
     "traceback": [
      "\u001b[0;31m---------------------------------------------------------------------------\u001b[0m",
      "\u001b[0;31mIndexError\u001b[0m                                Traceback (most recent call last)",
      "\u001b[0;32m/var/folders/4l/xm5jn32j517d842_nfd4nvymkgphp6/T/ipykernel_95361/4127563813.py\u001b[0m in \u001b[0;36m<module>\u001b[0;34m\u001b[0m\n\u001b[1;32m      3\u001b[0m \u001b[0;32mwhile\u001b[0m \u001b[0mi\u001b[0m \u001b[0;34m<\u001b[0m \u001b[0mlen\u001b[0m\u001b[0;34m(\u001b[0m\u001b[0mfruits\u001b[0m\u001b[0;34m)\u001b[0m\u001b[0;34m:\u001b[0m\u001b[0;34m\u001b[0m\u001b[0;34m\u001b[0m\u001b[0m\n\u001b[1;32m      4\u001b[0m     \u001b[0mi\u001b[0m \u001b[0;34m=\u001b[0m \u001b[0mi\u001b[0m\u001b[0;34m+\u001b[0m\u001b[0;36m1\u001b[0m\u001b[0;34m\u001b[0m\u001b[0;34m\u001b[0m\u001b[0m\n\u001b[0;32m----> 5\u001b[0;31m     \u001b[0mprint\u001b[0m\u001b[0;34m(\u001b[0m\u001b[0mi\u001b[0m\u001b[0;34m,\u001b[0m \u001b[0mfruits\u001b[0m\u001b[0;34m[\u001b[0m\u001b[0mi\u001b[0m\u001b[0;34m]\u001b[0m\u001b[0;34m)\u001b[0m\u001b[0;34m\u001b[0m\u001b[0;34m\u001b[0m\u001b[0m\n\u001b[0m",
      "\u001b[0;31mIndexError\u001b[0m: list index out of range"
     ]
    }
   ],
   "source": [
    "# Common Error: if i is incremneted before print statment then within the print statment it'll be 1 instead of 0\n",
    "i = 0\n",
    "while i < len(fruits):\n",
    "    i = i+1\n",
    "    print(i, fruits[i])  "
   ]
  },
  {
   "cell_type": "markdown",
   "id": "ad7ca6bc",
   "metadata": {},
   "source": [
    "## Declaring Functions"
   ]
  },
  {
   "cell_type": "markdown",
   "id": "9ab8c0c4",
   "metadata": {},
   "source": [
    "A function is a block of code that is only run when it is called. "
   ]
  },
  {
   "cell_type": "code",
   "execution_count": 46,
   "id": "c16100e8",
   "metadata": {},
   "outputs": [],
   "source": [
    "def my_function(name):\n",
    "  print(name + \" is an A grade student\")"
   ]
  },
  {
   "cell_type": "code",
   "execution_count": 47,
   "id": "ffb351c6",
   "metadata": {},
   "outputs": [
    {
     "name": "stdout",
     "output_type": "stream",
     "text": [
      "Emil is an A grade student\n",
      "Tobias is an A grade student\n",
      "Linus is an A grade student\n"
     ]
    }
   ],
   "source": [
    "my_function(\"Emil\")\n",
    "my_function(\"Tobias\")\n",
    "my_function(\"Linus\")"
   ]
  },
  {
   "cell_type": "markdown",
   "id": "947740cb",
   "metadata": {},
   "source": [
    "## User Input "
   ]
  },
  {
   "cell_type": "markdown",
   "id": "65ec10a4",
   "metadata": {},
   "source": [
    "As the name implies this method is used to get input from the user."
   ]
  },
  {
   "cell_type": "code",
   "execution_count": 42,
   "id": "3622502f",
   "metadata": {},
   "outputs": [
    {
     "name": "stdout",
     "output_type": "stream",
     "text": [
      "Enter username:Hello\n"
     ]
    }
   ],
   "source": [
    "# This take the input from user and stores it in the varibale username \n",
    "username = input(\"Enter username:\")"
   ]
  },
  {
   "cell_type": "code",
   "execution_count": 43,
   "id": "19b8dfd1",
   "metadata": {},
   "outputs": [
    {
     "data": {
      "text/plain": [
       "'Hello'"
      ]
     },
     "execution_count": 43,
     "metadata": {},
     "output_type": "execute_result"
    }
   ],
   "source": [
    "# Let's now check if the user input has been stored in the variable\n",
    "username"
   ]
  },
  {
   "cell_type": "markdown",
   "id": "9e10d51b",
   "metadata": {},
   "source": [
    " "
   ]
  },
  {
   "cell_type": "markdown",
   "id": "b52148e6",
   "metadata": {},
   "source": [
    "# Exercise 1: Print First 10 natural numbers using while loop"
   ]
  },
  {
   "cell_type": "code",
   "execution_count": 57,
   "id": "23f19765",
   "metadata": {},
   "outputs": [],
   "source": [
    "# Expected Output\n",
    "\n",
    "# 1\n",
    "# 2\n",
    "# 3\n",
    "# 4\n",
    "# 5\n",
    "# 6\n",
    "# 7\n",
    "# 8\n",
    "# 9\n",
    "# 10"
   ]
  },
  {
   "cell_type": "code",
   "execution_count": 60,
   "id": "e41d8fab",
   "metadata": {},
   "outputs": [],
   "source": [
    "# Solution"
   ]
  },
  {
   "cell_type": "markdown",
   "id": "83486e66",
   "metadata": {},
   "source": [
    "# Exercise 2: Print list in reverse order using a loop"
   ]
  },
  {
   "cell_type": "code",
   "execution_count": 62,
   "id": "ea208d59",
   "metadata": {},
   "outputs": [],
   "source": [
    "# Given\n",
    "\n",
    "list1 = [10, 20, 30, 40, 50]\n",
    "# Hint: Look at the reversed function in Python"
   ]
  },
  {
   "cell_type": "code",
   "execution_count": 61,
   "id": "c479ca8c",
   "metadata": {},
   "outputs": [],
   "source": [
    "# Solution"
   ]
  },
  {
   "cell_type": "markdown",
   "id": "130e0f18",
   "metadata": {},
   "source": [
    "# Exercise 3: Write a for loop that iterates through a string and prints every letter."
   ]
  },
  {
   "cell_type": "code",
   "execution_count": 63,
   "id": "556b8b19",
   "metadata": {},
   "outputs": [],
   "source": [
    "# Given\n",
    "\n",
    "str=\"London\""
   ]
  },
  {
   "cell_type": "code",
   "execution_count": 66,
   "id": "dccf1631",
   "metadata": {},
   "outputs": [],
   "source": [
    "# Solution"
   ]
  },
  {
   "cell_type": "markdown",
   "id": "811a4d97",
   "metadata": {},
   "source": [
    "# Exercise 4: Using a for loop and .append() method to append each item in the list to a new list with a Dr. prefix added to each name."
   ]
  },
  {
   "cell_type": "code",
   "execution_count": 68,
   "id": "69d6d60a",
   "metadata": {},
   "outputs": [],
   "source": [
    "# Given\n",
    "\n",
    "list=[\"Phil\", \"Oz\", \"Seuss\", \"Dre\"]\n",
    "\n",
    "# Expected Output \n",
    "\n",
    "# list = [\"Dr. Phil\", \"Dr. Oz\"...]"
   ]
  },
  {
   "cell_type": "code",
   "execution_count": 69,
   "id": "2434068e",
   "metadata": {},
   "outputs": [],
   "source": [
    "# Solution"
   ]
  },
  {
   "cell_type": "code",
   "execution_count": null,
   "id": "4061989e",
   "metadata": {},
   "outputs": [],
   "source": []
  }
 ],
 "metadata": {
  "kernelspec": {
   "display_name": "Python 3 (ipykernel)",
   "language": "python",
   "name": "python3"
  },
  "language_info": {
   "codemirror_mode": {
    "name": "ipython",
    "version": 3
   },
   "file_extension": ".py",
   "mimetype": "text/x-python",
   "name": "python",
   "nbconvert_exporter": "python",
   "pygments_lexer": "ipython3",
   "version": "3.8.12"
  }
 },
 "nbformat": 4,
 "nbformat_minor": 5
}
