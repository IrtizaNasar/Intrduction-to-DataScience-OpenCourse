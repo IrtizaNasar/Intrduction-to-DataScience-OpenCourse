{
 "cells": [
  {
   "cell_type": "markdown",
   "id": "827b7f6e",
   "metadata": {},
   "source": [
    "# Week 3"
   ]
  },
  {
   "cell_type": "markdown",
   "id": "a2dc47ea",
   "metadata": {},
   "source": [
    "## Dictionaries "
   ]
  },
  {
   "cell_type": "markdown",
   "id": "9bde8e2d",
   "metadata": {},
   "source": [
    "- Dictionaries are used to store data values in key:value pairs.\n",
    "\n",
    "- A dictionary is a collection which is ordered*, changeable and do not allow duplicates.\n",
    "\n",
    "- More on https://www.w3schools.com/python/python_dictionaries.asp"
   ]
  },
  {
   "cell_type": "code",
   "execution_count": 1,
   "id": "fefd56f3",
   "metadata": {},
   "outputs": [
    {
     "name": "stdout",
     "output_type": "stream",
     "text": [
      "{'brand': 'Ford', 'model': 'Mustang', 'year': 1964}\n"
     ]
    }
   ],
   "source": [
    "thisdict = {\n",
    "  \"brand\": \"Ford\",\n",
    "  \"model\": \"Mustang\",\n",
    "  \"year\": 1964\n",
    "}\n",
    "print(thisdict)"
   ]
  },
  {
   "cell_type": "code",
   "execution_count": 2,
   "id": "09312837",
   "metadata": {},
   "outputs": [
    {
     "name": "stdout",
     "output_type": "stream",
     "text": [
      "Ford\n"
     ]
    }
   ],
   "source": [
    "# Print the \"brand\" value of the dictionary:\n",
    "print(thisdict[\"brand\"])"
   ]
  },
  {
   "cell_type": "markdown",
   "id": "11da0ef1",
   "metadata": {},
   "source": [
    "   "
   ]
  },
  {
   "cell_type": "markdown",
   "id": "59aa661b",
   "metadata": {},
   "source": [
    "\n",
    "\n",
    "\n",
    "## Getting Data from an API"
   ]
  },
  {
   "cell_type": "markdown",
   "id": "70e0d0f8",
   "metadata": {},
   "source": [
    "- API is the acronym for Application Programming Interface, which is a software intermediary that allows two applications to talk to each other. Each time you use an app like Facebook, send an instant message, or check the weather on your phone, you’re using an API.\n"
   ]
  },
  {
   "cell_type": "markdown",
   "id": "70f00b8c",
   "metadata": {},
   "source": [
    "### REST APIs\n",
    "\n",
    "Most of the time we've been finding datasets, we've accessed them whole, as finished `.csv` files for Excel sheets. \n",
    "\n",
    "However, sometimes that lovely data exists on a server somewhere else and instead of giving us access to the whole thing, we can make requests for specific pieces of data \n",
    "\n",
    "This is useful when \n",
    "\n",
    "* The dataset is a huge database we dont have space / desire to keep \n",
    "\n",
    "* We want to keep getting new up-to-date data \n",
    "\n",
    "An **API** or **Application Programming Interface**, describes the entry points a programming library or service has made available to us. \n",
    "\n",
    "Specifically a **REST API** is a type of online service that we can access to receiver (and send) data. \n",
    "\n",
    "\n",
    "### HTTP Requests \n",
    "\n",
    "``HTTP Requests`` are what we will use to query an API for data. Here, we point to a specific `URL`, and give some extra information about. \n",
    "\n",
    "1. The type of action we are doing (e.g. getting data, sending data, deleting data)\n",
    "\n",
    "2. Some additional parameters (e.g. authorisation, specific queries etc...)\n",
    "\n",
    "\n",
    "We then get a response that tells us whether our request was successful and hopefully, the information we requested.\n",
    "\n",
    "Whilst there are several types of request, we will be looking at the ``GET`` request, where we ask for some information from the API. \n",
    "\n",
    "For more detailed view you can check the always excellent [W3Schools](https://www.w3schools.com/whatis/whatis_http.asp), \n",
    "\n",
    "### Python ``requests`` Library\n",
    "\n",
    "``requests`` is a Python library we'll use to help us make ``HTTP Requests``, and to examine the responses. \n",
    "\n"
   ]
  },
  {
   "cell_type": "markdown",
   "id": "4e86a223",
   "metadata": {},
   "source": [
    "Requests is an elegant and simple HTTP library for Python. It “is an application-layer protocol for transmitting hypermedia documents, such as HTML. It was designed for communication between web browsers and web servers”\n",
    "So, requests is a package that is going to help us communicate between our browser and a web server somewhere that is storing data we are interested in. "
   ]
  },
  {
   "cell_type": "markdown",
   "id": "610cd66d",
   "metadata": {},
   "source": [
    "\n",
    "- Coronavirus Covid-19 API - DOCUMENTATION\n",
    "https://documenter.getpostman.com/view/10808728/SzS8rjbc"
   ]
  },
  {
   "cell_type": "markdown",
   "id": "09b79390",
   "metadata": {},
   "source": [
    "### Installing Requests "
   ]
  },
  {
   "cell_type": "code",
   "execution_count": null,
   "id": "c71cd968",
   "metadata": {},
   "outputs": [],
   "source": [
    "# Need to only be run once per environment. No need to run it again in every project.\n",
    "\n",
    "import sys\n",
    "!{sys.executable} -m pip install requests"
   ]
  },
  {
   "cell_type": "markdown",
   "id": "d8fbb560",
   "metadata": {},
   "source": [
    "### Importing and Running Requests "
   ]
  },
  {
   "cell_type": "code",
   "execution_count": 33,
   "id": "4428571f",
   "metadata": {},
   "outputs": [],
   "source": [
    "import requests\n",
    "import pandas as pd"
   ]
  },
  {
   "cell_type": "code",
   "execution_count": 34,
   "id": "58af3f56",
   "metadata": {},
   "outputs": [],
   "source": [
    "url = 'https://api.covid19api.com/summary'"
   ]
  },
  {
   "cell_type": "code",
   "execution_count": 35,
   "id": "82bc5550",
   "metadata": {},
   "outputs": [],
   "source": [
    "# Using the requests package to make a GET request from this API endpoint.\n",
    "r = requests.get(url)"
   ]
  },
  {
   "cell_type": "markdown",
   "id": "59140d95",
   "metadata": {},
   "source": [
    "What does <Response [200]> mean? That the request has succeeded."
   ]
  },
  {
   "cell_type": "code",
   "execution_count": 36,
   "id": "a4c82b0f",
   "metadata": {},
   "outputs": [
    {
     "data": {
      "text/plain": [
       "<Response [200]>"
      ]
     },
     "execution_count": 36,
     "metadata": {},
     "output_type": "execute_result"
    }
   ],
   "source": [
    "r"
   ]
  },
  {
   "cell_type": "code",
   "execution_count": 37,
   "id": "25138e8f",
   "metadata": {},
   "outputs": [
    {
     "data": {
      "text/plain": [
       "200"
      ]
     },
     "execution_count": 37,
     "metadata": {},
     "output_type": "execute_result"
    }
   ],
   "source": [
    "r.status_code"
   ]
  },
  {
   "cell_type": "markdown",
   "id": "ae039941",
   "metadata": {},
   "source": [
    "### JSON \n",
    "\n",
    "The majority of information passed between **APIs** is in a human-readable dictionary format called ``JSON``. \n",
    "\n",
    "From [W3Schools](https://www.w3schools.com/js/js_json_intro.asp)\n",
    "\n",
    "```\n",
    "When exchanging data between a browser and a server, the data can only be text.\n",
    "\n",
    "JSON is text, and we can convert any JavaScript object into JSON, and send JSON to the server.\n",
    "\n",
    "We can also convert any JSON received from the server into JavaScript objects.\n",
    "\n",
    "This way we can work with the data as JavaScript objects, with no complicated parsing and translations.\n",
    "```\n",
    "\n",
    "So this means we can get back a string which we turn into a **Dictionary**\n",
    "\n",
    "Refresher: A Dictionary is a type of collection in Python where we use **keys** (often strings) instead of **indexes** to access the items (as we would with arrays).\n",
    "\n",
    "You can a spot dictionary because it uses a `{}` instead of `[]`.\n",
    "\n",
    "``\n",
    "{\n",
    "\"key1\":0,\n",
    "\"key2\":\"value2\",\n",
    "\"key3\":[1,2,3,4]\n",
    "}\n",
    "``\n",
    "\n",
    "Each item in the JSON dictionary can be \n",
    "\n",
    "* Text\n",
    "\n",
    "* A number\n",
    "\n",
    "* An array\n",
    "\n",
    "**OR**\n",
    "\n",
    "* Another Dictionary\n",
    "\n",
    "So lets look at the response as text, hard to make sense right?"
   ]
  },
  {
   "cell_type": "code",
   "execution_count": 38,
   "id": "9096c721",
   "metadata": {},
   "outputs": [
    {
     "data": {
      "text/plain": [
       "'{\"ID\":\"2f352fe5-d58f-46d2-99a2-6182de8e59a8\",\"Message\":\"\",\"Global\":{\"NewConfirmed\":224924,\"TotalConfirmed\":533787388,\"NewDeaths\":696,\"TotalDeaths\":6304011,\"NewRecovered\":0,\"TotalRecovered\":0,\"Date\":\"2022-06-13T05:28:15.704Z\"},\"Countries\":[{\"ID\":\"48dfed97-2334-498c-b1bb-02c96e2317fd\",\"Country\":\"Afghanistan\",\"CountryCode\":\"AF\",\"Slug\":\"afghanistan\",\"NewConfirmed\":0,\"TotalConfirmed\":180864,\"NewDeaths\":0,\"TotalDeaths\":7709,\"NewRecovered\":0,\"TotalRecovered\":0,\"Date\":\"2022-06-13T05:28:15.704Z\",\"Premium\":{}},{\"ID\":\"644964b7-f36c-4790-a89e-e219e8e6436d\",\"Country\":\"Albania\",\"CountryCode\":\"AL\",\"Slug\":\"albania\",\"NewConfirmed\":41,\"TotalConfirmed\":276731,\"NewDeaths\":0,\"TotalDeaths\":3497,\"NewRecovered\":0,\"TotalRecovered\":0,\"Date\":\"2022-06-13T05:28:15.704Z\",\"Premium\":{}},{\"ID\":\"9a9aab62-9a41-4e2f-a892-742b288720bf\",\"Country\":\"Algeria\",\"CountryCode\":\"DZ\",\"Slug\":\"algeria\",\"NewConfirmed\":2,\"TotalConfirmed\":265927,\"NewDeaths\":0,\"TotalDeaths\":6875,\"NewRecovered\":0,\"TotalRecovered\":0,\"Date\":\"2022-06-13T05:28:15.704Z\",\"Premium\":{}},{\"ID\":\"bbc359e2-4baf-4d5a-95be-a23ae10905e4\",\"Country\":\"Andorra\",\"CountryCode\":\"AD\",\"Slug\":\"andorra\",\"NewConfirmed\":0,\"TotalConfirmed\":43224,\"NewDeaths\":0,\"TotalDeaths\":153,\"NewRecovered\":0,\"TotalRecovered\":0,\"Date\":\"2022-06-13T05:28:15.704Z\",\"Premium\":{}},{\"ID\":\"26a5c7a9-ba7b-4a99-ace3-f9d077e26ee6\",\"Country\":\"Angola\",\"CountryCode\":\"AO\",\"Slug\":\"angola\",\"NewConfirmed\":0,\"TotalConfirmed\":99761,\"NewDeaths\":0,\"TotalDeaths\":1900,\"NewRecovered\":0,\"TotalRecovered\":0,\"Date\":\"2022-06-13T05:28:15.704Z\",\"Premium\":{}},{\"ID\":\"2782ea2e-f027-4ae4-846d-20ae4e4fad31\",\"Country\":\"Antarctica\",\"CountryCode\":\"AQ\",\"Slug\":\"antarctica\",\"NewConfirmed\":0,\"TotalConfirmed\":11,\"NewDeaths\":0,\"TotalDeaths\":0,\"NewRecovered\":0,\"TotalRecovered\":0,\"Date\":\"2022-06-13T05:28:15.704Z\",\"Premium\":{}},{\"ID\":\"9b61d17d-26bc-453f-90d4-2b8b2e477238\",\"Country\":\"Antigua and Barbuda\",\"CountryCode\":\"AG\",\"Slug\":\"antigua-and-barbuda\",\"NewConfirmed\":13,\"TotalConfirmed\":8492,\"NewDeaths\":0,\"TotalDeaths\":140,\"NewRecovered\":0,\"TotalRecovered\":0,\"Date\":\"2022-06-13T05:28:15.704Z\",\"Premium\":{}},{\"ID\":\"8a83b8bf-a9d4-4178-8092-8fe49762e693\",\"Country\":\"Argentina\",\"CountryCode\":\"AR\",\"Slug\":\"argentina\",\"NewConfirmed\":0,\"TotalConfirmed\":9276618,\"NewDeaths\":0,\"TotalDeaths\":128973,\"NewRecovered\":0,\"TotalRecovered\":0,\"Date\":\"2022-06-13T05:28:15.704Z\",\"Premium\":{}},{\"ID\":\"6ea0f7dc-5e9a-41e4-b8bc-18c50e776b03\",\"Country\":\"Armenia\",\"CountryCode\":\"AM\",\"Slug\":\"armenia\",\"NewConfirmed\":0,\"TotalConfirmed\":423006,\"NewDeaths\":0,\"TotalDeaths\":8629,\"NewRecovered\":0,\"TotalRecovered\":0,\"Date\":\"2022-06-13T05:28:15.704Z\",\"Premium\":{}},{\"ID\":\"488dba25-75d3-4418-a806-0795a16a274e\",\"Country\":\"Australia\",\"CountryCode\":\"AU\",\"Slug\":\"australia\",\"NewConfirmed\":16393,\"TotalConfirmed\":7614107,\"NewDeaths\":24,\"TotalDeaths\":9048,\"NewRecovered\":0,\"TotalRecovered\":0,\"Date\":\"2022-06-13T05:28:15.704Z\",\"Premium\":{}},{\"ID\":\"21190adb-f081-4526-a6f3-b7307ab52d64\",\"Country\":\"Austria\",\"CountryCode\":\"AT\",\"Slug\":\"austria\",\"NewConfirmed\":0,\"TotalConfirmed\":4316435,\"NewDeaths\":0,\"TotalDeaths\":19963,\"NewRecovered\":0,\"TotalRecovered\":0,\"Date\":\"2022-06-13T05:28:15.704Z\",\"Premium\":{}},{\"ID\":\"ff323a48-33b1-4e34-9448-1d43c4724153\",\"Country\":\"Azerbaijan\",\"CountryCode\":\"AZ\",\"Slug\":\"azerbaijan\",\"NewConfirmed\":0,\"TotalConfirmed\":792785,\"NewDeaths\":0,\"TotalDeaths\":9713,\"NewRecovered\":0,\"TotalRecovered\":0,\"Date\":\"2022-06-13T05:28:15.704Z\",\"Premium\":{}},{\"ID\":\"e0f59c43-ac88-4e5d-bd8a-d95ac7df0fc3\",\"Country\":\"Bahamas\",\"CountryCode\":\"BS\",\"Slug\":\"bahamas\",\"NewConfirmed\":46,\"TotalConfirmed\":35332,\"NewDeaths\":0,\"TotalDeaths\":812,\"NewRecovered\":0,\"TotalRecovered\":0,\"Date\":\"2022-06-13T05:28:15.704Z\",\"Premium\":{}},{\"ID\":\"d335f889-845d-46d4-a49c-0a8f5344b6db\",\"Country\":\"Bahrain\",\"CountryCode\":\"BH\",\"Slug\":\"bahrain\",\"NewConfirmed\":1166,\"TotalConfirmed\":595787,\"NewDeaths\":0,\"TotalDeaths\":1489,\"NewRecovered\":0,\"TotalRecovered\":0,\"Date\":\"2022-06-13T05:28:15.704Z\",\"Premium\":{}},{\"ID\":\"8620df6e-32c3-459c-ad98-43b867ad0980\",\"Country\":\"Bangladesh\",\"CountryCode\":\"BD\",\"Slug\":\"bangladesh\",\"NewConfirmed\":109,\"TotalConfirmed\":1954115,\"NewDeaths\":0,\"TotalDeaths\":29131,\"NewRecovered\":0,\"TotalRecovered\":0,\"Date\":\"2022-06-13T05:28:15.704Z\",\"Premium\":{}},{\"ID\":\"b92fb7b5-6b29-4a5a-ba6d-e6b91ee8f5e9\",\"Country\":\"Barbados\",\"CountryCode\":\"BB\",\"Slug\":\"barbados\",\"NewConfirmed\":72,\"TotalConfirmed\":82255,\"NewDeaths\":0,\"TotalDeaths\":467,\"NewRecovered\":0,\"TotalRecovered\":0,\"Date\":\"2022-06-13T05:28:15.704Z\",\"Premium\":{}},{\"ID\":\"fa2855ce-71b9-4116-9528-88ee3b2b50c6\",\"Country\":\"Belarus\",\"CountryCode\":\"BY\",\"Slug\":\"belarus\",\"NewConfirmed\":0,\"TotalConfirmed\":982867,\"NewDeaths\":0,\"TotalDeaths\":6978,\"NewRecovered\":0,\"TotalRecovered\":0,\"Date\":\"2022-06-13T05:28:15.704Z\",\"Premium\":{}},{\"ID\":\"4c53a898-24a1-4aa6-8084-2d21d5caaf33\",\"Country\":\"Belgium\",\"CountryCode\":\"BE\",\"Slug\":\"belgium\",\"NewConfirmed\":0,\"TotalConfirmed\":4170252,\"NewDeaths\":0,\"TotalDeaths\":31816,\"NewRecovered\":0,\"TotalRecovered\":0,\"Date\":\"2022-06-13T05:28:15.704Z\",\"Premium\":{}},{\"ID\":\"4abc5f77-c088-4e63-81d8-b548edff6bf1\",\"Country\":\"Belize\",\"CountryCode\":\"BZ\",\"Slug\":\"belize\",\"NewConfirmed\":0,\"TotalConfirmed\":60863,\"NewDeaths\":0,\"TotalDeaths\":678,\"NewRecovered\":0,\"TotalRecovered\":0,\"Date\":\"2022-06-13T05:28:15.704Z\",\"Premium\":{}},{\"ID\":\"6d255076-9542-41fa-985b-ba5832264a78\",\"Country\":\"Benin\",\"CountryCode\":\"BJ\",\"Slug\":\"benin\",\"NewConfirmed\":0,\"TotalConfirmed\":26952,\"NewDeaths\":0,\"TotalDeaths\":163,\"NewRecovered\":0,\"TotalRecovered\":0,\"Date\":\"2022-06-13T05:28:15.704Z\",\"Premium\":{}},{\"ID\":\"dde3f0da-3f02-443d-b4c7-041589a5b5f2\",\"Country\":\"Bhutan\",\"CountryCode\":\"BT\",\"Slug\":\"bhutan\",\"NewConfirmed\":0,\"TotalConfirmed\":59636,\"NewDeaths\":0,\"TotalDeaths\":21,\"NewRecovered\":0,\"TotalRecovered\":0,\"Date\":\"2022-06-13T05:28:15.704Z\",\"Premium\":{}},{\"ID\":\"403e9763-8957-43b8-a025-956568c55365\",\"Country\":\"Bolivia\",\"CountryCode\":\"BO\",\"Slug\":\"bolivia\",\"NewConfirmed\":0,\"TotalConfirmed\":912272,\"NewDeaths\":0,\"TotalDeaths\":21951,\"NewRecovered\":0,\"TotalRecovered\":0,\"Date\":\"2022-06-13T05:28:15.704Z\",\"Premium\":{}},{\"ID\":\"14487984-14be-477b-a2fe-dad5ab87740a\",\"Country\":\"Bosnia and Herzegovina\",\"CountryCode\":\"BA\",\"Slug\":\"bosnia-and-herzegovina\",\"NewConfirmed\":0,\"TotalConfirmed\":378083,\"NewDeaths\":0,\"TotalDeaths\":15793,\"NewRecovered\":0,\"TotalRecovered\":0,\"Date\":\"2022-06-13T05:28:15.704Z\",\"Premium\":{}},{\"ID\":\"3a8acb24-83d1-4574-980d-ca9b89a4d64a\",\"Country\":\"Botswana\",\"CountryCode\":\"BW\",\"Slug\":\"botswana\",\"NewConfirmed\":0,\"TotalConfirmed\":310431,\"NewDeaths\":0,\"TotalDeaths\":2701,\"NewRecovered\":0,\"TotalRecovered\":0,\"Date\":\"2022-06-13T05:28:15.704Z\",\"Premium\":{}},{\"ID\":\"6a119ee9-9b72-41e4-a586-1b753636cb8a\",\"Country\":\"Brazil\",\"CountryCode\":\"BR\",\"Slug\":\"brazil\",\"NewConfirmed\":27796,\"TotalConfirmed\":31445137,\"NewDeaths\":114,\"TotalDeaths\":668074,\"NewRecovered\":0,\"TotalRecovered\":0,\"Date\":\"2022-06-13T05:28:15.704Z\",\"Premium\":{}},{\"ID\":\"e820273c-365b-405b-a36b-9c016c729df3\",\"Country\":\"Brunei Darussalam\",\"CountryCode\":\"BN\",\"Slug\":\"brunei\",\"NewConfirmed\":381,\"TotalConfirmed\":153093,\"NewDeaths\":0,\"TotalDeaths\":225,\"NewRecovered\":0,\"TotalRecovered\":0,\"Date\":\"2022-06-13T05:28:15.704Z\",\"Premium\":{}},{\"ID\":\"8988bf86-48ab-4fb3-9508-a8671675bb93\",\"Country\":\"Bulgaria\",\"CountryCode\":\"BG\",\"Slug\":\"bulgaria\",\"NewConfirmed\":42,\"TotalConfirmed\":1166901,\"NewDeaths\":0,\"TotalDeaths\":37196,\"NewRecovered\":0,\"TotalRecovered\":0,\"Date\":\"2022-06-13T05:28:15.704Z\",\"Premium\":{}},{\"ID\":\"448ebeec-b62f-4528-b673-e1d6a561fae0\",\"Country\":\"Burkina Faso\",\"CountryCode\":\"BF\",\"Slug\":\"burkina-faso\",\"NewConfirmed\":0,\"TotalConfirmed\":20899,\"NewDeaths\":0,\"TotalDeaths\":384,\"NewRecovered\":0,\"TotalRecovered\":0,\"Date\":\"2022-06-13T05:28:15.704Z\",\"Premium\":{}},{\"ID\":\"a32c5ac0-ae55-491c-ba91-863c8247330d\",\"Country\":\"Burundi\",\"CountryCode\":\"BI\",\"Slug\":\"burundi\",\"NewConfirmed\":0,\"TotalConfirmed\":42248,\"NewDeaths\":0,\"TotalDeaths\":38,\"NewRecovered\":0,\"TotalRecovered\":0,\"Date\":\"2022-06-13T05:28:15.704Z\",\"Premium\":{}},{\"ID\":\"b05decab-b2d2-4618-ba5d-b17535e20205\",\"Country\":\"Cambodia\",\"CountryCode\":\"KH\",\"Slug\":\"cambodia\",\"NewConfirmed\":0,\"TotalConfirmed\":136262,\"NewDeaths\":0,\"TotalDeaths\":3056,\"NewRecovered\":0,\"TotalRecovered\":0,\"Date\":\"2022-06-13T05:28:15.704Z\",\"Premium\":{}},{\"ID\":\"462e2176-b115-4da7-bbbb-ee0911700ea6\",\"Country\":\"Cameroon\",\"CountryCode\":\"CM\",\"Slug\":\"cameroon\",\"NewConfirmed\":0,\"TotalConfirmed\":119947,\"NewDeaths\":0,\"TotalDeaths\":1930,\"NewRecovered\":0,\"TotalRecovered\":0,\"Date\":\"2022-06-13T05:28:15.704Z\",\"Premium\":{}},{\"ID\":\"c3f703e2-cb5d-40c4-8e02-29578555bf8e\",\"Country\":\"Canada\",\"CountryCode\":\"CA\",\"Slug\":\"canada\",\"NewConfirmed\":710,\"TotalConfirmed\":3328745,\"NewDeaths\":5,\"TotalDeaths\":37008,\"NewRecovered\":0,\"TotalRecovered\":0,\"Date\":\"2022-06-13T05:28:15.704Z\",\"Premium\":{}},{\"ID\":\"2240f97b-3357-4d70-842a-85e8b5f39c4f\",\"Country\":\"Cape Verde\",\"CountryCode\":\"CV\",\"Slug\":\"cape-verde\",\"NewConfirmed\":56,\"TotalConfirmed\":57096,\"NewDeaths\":0,\"TotalDeaths\":402,\"NewRecovered\":0,\"TotalRecovered\":0,\"Date\":\"2022-06-13T05:28:15.704Z\",\"Premium\":{}},{\"ID\":\"51dfc334-6be9-4856-9370-7790a89426b9\",\"Country\":\"Central African Republic\",\"CountryCode\":\"CF\",\"Slug\":\"central-african-republic\",\"NewConfirmed\":0,\"TotalConfirmed\":14649,\"NewDeaths\":0,\"TotalDeaths\":113,\"NewRecovered\":0,\"TotalRecovered\":0,\"Date\":\"2022-06-13T05:28:15.704Z\",\"Premium\":{}},{\"ID\":\"13d3a601-6822-4bb8-b222-ae35c32be1db\",\"Country\":\"Chad\",\"CountryCode\":\"TD\",\"Slug\":\"chad\",\"NewConfirmed\":0,\"TotalConfirmed\":7418,\"NewDeaths\":0,\"TotalDeaths\":193,\"NewRecovered\":0,\"TotalRecovered\":0,\"Date\":\"2022-06-13T05:28:15.704Z\",\"Premium\":{}},{\"ID\":\"b769c9e4-7499-4745-b9d0-1d13e4447b8b\",\"Country\":\"Chile\",\"CountryCode\":\"CL\",\"Slug\":\"chile\",\"NewConfirmed\":12061,\"TotalConfirmed\":3808970,\"NewDeaths\":22,\"TotalDeaths\":58076,\"NewRecovered\":0,\"TotalRecovered\":0,\"Date\":\"2022-06-13T05:28:15.704Z\",\"Premium\":{}},{\"ID\":\"60b7416b-fb1c-4520-93ff-332e4904ab3b\",\"Country\":\"China\",\"CountryCode\":\"CN\",\"Slug\":\"china\",\"NewConfirmed\":985,\"TotalConfirmed\":1443237,\"NewDeaths\":0,\"TotalDeaths\":14616,\"NewRecovered\":0,\"TotalRecovered\":0,\"Date\":\"2022-06-13T05:28:15.704Z\",\"Premium\":{}},{\"ID\":\"3f5bb895-f560-4917-8f3b-3d30a0db1d77\",\"Country\":\"Colombia\",\"CountryCode\":\"CO\",\"Slug\":\"colombia\",\"NewConfirmed\":0,\"TotalConfirmed\":6117847,\"NewDeaths\":0,\"TotalDeaths\":139894,\"NewRecovered\":0,\"TotalRecovered\":0,\"Date\":\"2022-06-13T05:28:15.704Z\",\"Premium\":{}},{\"ID\":\"5e95b4ba-eefc-4d3b-94a9-e80d60ecc4cd\",\"Country\":\"Comoros\",\"CountryCode\":\"KM\",\"Slug\":\"comoros\",\"NewConfirmed\":0,\"TotalConfirmed\":8131,\"NewDeaths\":0,\"TotalDeaths\":160,\"NewRecovered\":0,\"TotalRecovered\":0,\"Date\":\"2022-06-13T05:28:15.704Z\",\"Premium\":{}},{\"ID\":\"0493d539-728d-4358-8b7d-0504e8ba5366\",\"Country\":\"Congo (Brazzaville)\",\"CountryCode\":\"CG\",\"Slug\":\"congo-brazzaville\",\"NewConfirmed\":0,\"TotalConfirmed\":24128,\"NewDeaths\":0,\"TotalDeaths\":385,\"NewRecovered\":0,\"TotalRecovered\":0,\"Date\":\"2022-06-13T05:28:15.704Z\",\"Premium\":{}},{\"ID\":\"4d76616a-9d3f-41dc-bf1f-ccdada46ba87\",\"Country\":\"Congo (Kinshasa)\",\"CountryCode\":\"CD\",\"Slug\":\"congo-kinshasa\",\"NewConfirmed\":0,\"TotalConfirmed\":89932,\"NewDeaths\":0,\"TotalDeaths\":1345,\"NewRecovered\":0,\"TotalRecovered\":0,\"Date\":\"2022-06-13T05:28:15.704Z\",\"Premium\":{}},{\"ID\":\"b3f2ffd0-0c73-482e-a12d-6b80be0950c0\",\"Country\":\"Costa Rica\",\"CountryCode\":\"CR\",\"Slug\":\"costa-rica\",\"NewConfirmed\":0,\"TotalConfirmed\":904934,\"NewDeaths\":0,\"TotalDeaths\":8525,\"NewRecovered\":0,\"TotalRecovered\":0,\"Date\":\"2022-06-13T05:28:15.704Z\",\"Premium\":{}},{\"ID\":\"6109685b-8f97-4137-9364-0d1aeb4fc621\",\"Country\":\"Croatia\",\"CountryCode\":\"HR\",\"Slug\":\"croatia\",\"NewConfirmed\":204,\"TotalConfirmed\":1139816,\"NewDeaths\":3,\"TotalDeaths\":16019,\"NewRecovered\":0,\"TotalRecovered\":0,\"Date\":\"2022-06-13T05:28:15.704Z\",\"Premium\":{}},{\"ID\":\"bc819b2f-4315-4d4b-acc0-edecb4a0408c\",\"Country\":\"Cuba\",\"CountryCode\":\"CU\",\"Slug\":\"cuba\",\"NewConfirmed\":20,\"TotalConfirmed\":1105612,\"NewDeaths\":0,\"TotalDeaths\":8529,\"NewRecovered\":0,\"TotalRecovered\":0,\"Date\":\"2022-06-13T05:28:15.704Z\",\"Premium\":{}},{\"ID\":\"100a2ce7-781a-4d33-8559-88acf148b63e\",\"Country\":\"Cyprus\",\"CountryCode\":\"CY\",\"Slug\":\"cyprus\",\"NewConfirmed\":0,\"TotalConfirmed\":493984,\"NewDeaths\":0,\"TotalDeaths\":1068,\"NewRecovered\":0,\"TotalRecovered\":0,\"Date\":\"2022-06-13T05:28:15.704Z\",\"Premium\":{}},{\"ID\":\"b09690db-6252-472a-a29a-aaff9dc362fd\",\"Country\":\"Czech Republic\",\"CountryCode\":\"CZ\",\"Slug\":\"czech-republic\",\"NewConfirmed\":0,\"TotalConfirmed\":3922968,\"NewDeaths\":0,\"TotalDeaths\":40301,\"NewRecovered\":0,\"TotalRecovered\":0,\"Date\":\"2022-06-13T05:28:15.704Z\",\"Premium\":{}},{\"ID\":\"cb97404f-6bf6-492f-80fe-c9a2eb1a3227\",\"Country\":\"Côte d\\'Ivoire\",\"CountryCode\":\"CI\",\"Slug\":\"cote-divoire\",\"NewConfirmed\":20,\"TotalConfirmed\":82487,\"NewDeaths\":0,\"TotalDeaths\":799,\"NewRecovered\":0,\"TotalRecovered\":0,\"Date\":\"2022-06-13T05:28:15.704Z\",\"Premium\":{}},{\"ID\":\"ff6844c2-dfc3-49e8-8a94-e387e012110a\",\"Country\":\"Denmark\",\"CountryCode\":\"DK\",\"Slug\":\"denmark\",\"NewConfirmed\":0,\"TotalConfirmed\":3190021,\"NewDeaths\":0,\"TotalDeaths\":6453,\"NewRecovered\":0,\"TotalRecovered\":0,\"Date\":\"2022-06-13T05:28:15.704Z\",\"Premium\":{}},{\"ID\":\"71765a52-e037-46f7-b615-d32828cb1ba6\",\"Country\":\"Djibouti\",\"CountryCode\":\"DJ\",\"Slug\":\"djibouti\",\"NewConfirmed\":0,\"TotalConfirmed\":15686,\"NewDeaths\":0,\"TotalDeaths\":189,\"NewRecovered\":0,\"TotalRecovered\":0,\"Date\":\"2022-06-13T05:28:15.704Z\",\"Premium\":{}},{\"ID\":\"ee002ea7-0350-4c08-b4b3-ae3aec0cb961\",\"Country\":\"Dominica\",\"CountryCode\":\"DM\",\"Slug\":\"dominica\",\"NewConfirmed\":0,\"TotalConfirmed\":14638,\"NewDeaths\":0,\"TotalDeaths\":67,\"NewRecovered\":0,\"TotalRecovered\":0,\"Date\":\"2022-06-13T05:28:15.704Z\",\"Premium\":{}},{\"ID\":\"c3feedb4-818a-4f74-8b3a-ab47ddaa2165\",\"Country\":\"Dominican Republic\",\"CountryCode\":\"DO\",\"Slug\":\"dominican-republic\",\"NewConfirmed\":0,\"TotalConfirmed\":590764,\"NewDeaths\":0,\"TotalDeaths\":4380,\"NewRecovered\":0,\"TotalRecovered\":0,\"Date\":\"2022-06-13T05:28:15.704Z\",\"Premium\":{}},{\"ID\":\"8296014d-dc5f-4be4-b7c4-16bff144cc23\",\"Country\":\"Ecuador\",\"CountryCode\":\"EC\",\"Slug\":\"ecuador\",\"NewConfirmed\":0,\"TotalConfirmed\":887478,\"NewDeaths\":0,\"TotalDeaths\":35652,\"NewRecovered\":0,\"TotalRecovered\":0,\"Date\":\"2022-06-13T05:28:15.704Z\",\"Premium\":{}},{\"ID\":\"13cef90e-b7b6-456f-bedb-92390bb88da8\",\"Country\":\"Egypt\",\"CountryCode\":\"EG\",\"Slug\":\"egypt\",\"NewConfirmed\":0,\"TotalConfirmed\":515645,\"NewDeaths\":0,\"TotalDeaths\":24719,\"NewRecovered\":0,\"TotalRecovered\":0,\"Date\":\"2022-06-13T05:28:15.704Z\",\"Premium\":{}},{\"ID\":\"4d3b8d82-c38e-4119-acba-ad2082121828\",\"Country\":\"El Salvador\",\"CountryCode\":\"SV\",\"Slug\":\"el-salvador\",\"NewConfirmed\":0,\"TotalConfirmed\":164134,\"NewDeaths\":0,\"TotalDeaths\":4135,\"NewRecovered\":0,\"TotalRecovered\":0,\"Date\":\"2022-06-13T05:28:15.704Z\",\"Premium\":{}},{\"ID\":\"0ff701c7-ee14-481c-8335-30d130ff9d8d\",\"Country\":\"Equatorial Guinea\",\"CountryCode\":\"GQ\",\"Slug\":\"equatorial-guinea\",\"NewConfirmed\":0,\"TotalConfirmed\":15937,\"NewDeaths\":0,\"TotalDeaths\":183,\"NewRecovered\":0,\"TotalRecovered\":0,\"Date\":\"2022-06-13T05:28:15.704Z\",\"Premium\":{}},{\"ID\":\"3f0ffe6a-9566-4e36-8b17-378d5ea635ee\",\"Country\":\"Eritrea\",\"CountryCode\":\"ER\",\"Slug\":\"eritrea\",\"NewConfirmed\":2,\"TotalConfirmed\":9771,\"NewDeaths\":0,\"TotalDeaths\":103,\"NewRecovered\":0,\"TotalRecovered\":0,\"Date\":\"2022-06-13T05:28:15.704Z\",\"Premium\":{}},{\"ID\":\"710e4ecd-f6d2-4238-87fa-4991f9b1956d\",\"Country\":\"Estonia\",\"CountryCode\":\"EE\",\"Slug\":\"estonia\",\"NewConfirmed\":0,\"TotalConfirmed\":577655,\"NewDeaths\":0,\"TotalDeaths\":2574,\"NewRecovered\":0,\"TotalRecovered\":0,\"Date\":\"2022-06-13T05:28:15.704Z\",\"Premium\":{}},{\"ID\":\"86957082-657e-47ac-ad20-1b49acad2b6f\",\"Country\":\"Ethiopia\",\"CountryCode\":\"ET\",\"Slug\":\"ethiopia\",\"NewConfirmed\":419,\"TotalConfirmed\":478963,\"NewDeaths\":0,\"TotalDeaths\":7516,\"NewRecovered\":0,\"TotalRecovered\":0,\"Date\":\"2022-06-13T05:28:15.704Z\",\"Premium\":{}},{\"ID\":\"114cb505-61f9-4bf1-bd78-4d9e24441669\",\"Country\":\"Fiji\",\"CountryCode\":\"FJ\",\"Slug\":\"fiji\",\"NewConfirmed\":0,\"TotalConfirmed\":65159,\"NewDeaths\":0,\"TotalDeaths\":864,\"NewRecovered\":0,\"TotalRecovered\":0,\"Date\":\"2022-06-13T05:28:15.704Z\",\"Premium\":{}},{\"ID\":\"0f671dd9-d8eb-4f02-af18-ed36396f7817\",\"Country\":\"Finland\",\"CountryCode\":\"FI\",\"Slug\":\"finland\",\"NewConfirmed\":0,\"TotalConfirmed\":1114573,\"NewDeaths\":0,\"TotalDeaths\":4714,\"NewRecovered\":0,\"TotalRecovered\":0,\"Date\":\"2022-06-13T05:28:15.704Z\",\"Premium\":{}},{\"ID\":\"c8b47d0c-3da0-4c08-9273-6be054ea3e4c\",\"Country\":\"France\",\"CountryCode\":\"FR\",\"Slug\":\"france\",\"NewConfirmed\":0,\"TotalConfirmed\":29946603,\"NewDeaths\":0,\"TotalDeaths\":149788,\"NewRecovered\":0,\"TotalRecovered\":0,\"Date\":\"2022-06-13T05:28:15.704Z\",\"Premium\":{}},{\"ID\":\"3606a950-83d1-4a98-805b-32eda68e9028\",\"Country\":\"Gabon\",\"CountryCode\":\"GA\",\"Slug\":\"gabon\",\"NewConfirmed\":0,\"TotalConfirmed\":47711,\"NewDeaths\":0,\"TotalDeaths\":304,\"NewRecovered\":0,\"TotalRecovered\":0,\"Date\":\"2022-06-13T05:28:15.704Z\",\"Premium\":{}},{\"ID\":\"90c08933-ada7-4506-aa7e-1f83330ed70b\",\"Country\":\"Gambia\",\"CountryCode\":\"GM\",\"Slug\":\"gambia\",\"NewConfirmed\":0,\"TotalConfirmed\":12002,\"NewDeaths\":0,\"TotalDeaths\":365,\"NewRecovered\":0,\"TotalRecovered\":0,\"Date\":\"2022-06-13T05:28:15.704Z\",\"Premium\":{}},{\"ID\":\"272099f2-aa16-4152-91f1-c8636bc5926d\",\"Country\":\"Georgia\",\"CountryCode\":\"GE\",\"Slug\":\"georgia\",\"NewConfirmed\":0,\"TotalConfirmed\":1655221,\"NewDeaths\":0,\"TotalDeaths\":16811,\"NewRecovered\":0,\"TotalRecovered\":0,\"Date\":\"2022-06-13T05:28:15.704Z\",\"Premium\":{}},{\"ID\":\"80936961-0cff-4363-928b-26f0006f39d0\",\"Country\":\"Germany\",\"CountryCode\":\"DE\",\"Slug\":\"germany\",\"NewConfirmed\":0,\"TotalConfirmed\":26803867,\"NewDeaths\":0,\"TotalDeaths\":139806,\"NewRecovered\":0,\"TotalRecovered\":0,\"Date\":\"2022-06-13T05:28:15.704Z\",\"Premium\":{}},{\"ID\":\"3332d46f-fdd8-4d95-bca7-b9bfa9104d15\",\"Country\":\"Ghana\",\"CountryCode\":\"GH\",\"Slug\":\"ghana\",\"NewConfirmed\":94,\"TotalConfirmed\":161935,\"NewDeaths\":0,\"TotalDeaths\":1445,\"NewRecovered\":0,\"TotalRecovered\":0,\"Date\":\"2022-06-13T05:28:15.704Z\",\"Premium\":{}},{\"ID\":\"fd3c62a8-40f1-47a9-9458-394026b2eb01\",\"Country\":\"Greece\",\"CountryCode\":\"GR\",\"Slug\":\"greece\",\"NewConfirmed\":3682,\"TotalConfirmed\":3500489,\"NewDeaths\":8,\"TotalDeaths\":30020,\"NewRecovered\":0,\"TotalRecovered\":0,\"Date\":\"2022-06-13T05:28:15.704Z\",\"Premium\":{}},{\"ID\":\"b683faf4-ecd8-46e3-b199-4d1539a12f6c\",\"Country\":\"Grenada\",\"CountryCode\":\"GD\",\"Slug\":\"grenada\",\"NewConfirmed\":0,\"TotalConfirmed\":18035,\"NewDeaths\":0,\"TotalDeaths\":231,\"NewRecovered\":0,\"TotalRecovered\":0,\"Date\":\"2022-06-13T05:28:15.704Z\",\"Premium\":{}},{\"ID\":\"52fd4030-b6be-4aed-a94d-421022f41069\",\"Country\":\"Guatemala\",\"CountryCode\":\"GT\",\"Slug\":\"guatemala\",\"NewConfirmed\":215,\"TotalConfirmed\":871112,\"NewDeaths\":5,\"TotalDeaths\":18287,\"NewRecovered\":0,\"TotalRecovered\":0,\"Date\":\"2022-06-13T05:28:15.704Z\",\"Premium\":{}},{\"ID\":\"4d502dad-f17f-4dc5-bd29-445e59ccf480\",\"Country\":\"Guinea\",\"CountryCode\":\"GN\",\"Slug\":\"guinea\",\"NewConfirmed\":0,\"TotalConfirmed\":36817,\"NewDeaths\":0,\"TotalDeaths\":442,\"NewRecovered\":0,\"TotalRecovered\":0,\"Date\":\"2022-06-13T05:28:15.704Z\",\"Premium\":{}},{\"ID\":\"cd08b3f1-c4a4-42f9-a86c-5a5ca9a4a090\",\"Country\":\"Guinea-Bissau\",\"CountryCode\":\"GW\",\"Slug\":\"guinea-bissau\",\"NewConfirmed\":1,\"TotalConfirmed\":8306,\"NewDeaths\":0,\"TotalDeaths\":171,\"NewRecovered\":0,\"TotalRecovered\":0,\"Date\":\"2022-06-13T05:28:15.704Z\",\"Premium\":{}},{\"ID\":\"fc5868aa-4908-4676-9fc4-9dd720bbdf47\",\"Country\":\"Guyana\",\"CountryCode\":\"GY\",\"Slug\":\"guyana\",\"NewConfirmed\":33,\"TotalConfirmed\":65892,\"NewDeaths\":0,\"TotalDeaths\":1239,\"NewRecovered\":0,\"TotalRecovered\":0,\"Date\":\"2022-06-13T05:28:15.704Z\",\"Premium\":{}},{\"ID\":\"29598c7d-1d64-4870-b705-2b705c90e04b\",\"Country\":\"Haiti\",\"CountryCode\":\"HT\",\"Slug\":\"haiti\",\"NewConfirmed\":0,\"TotalConfirmed\":31004,\"NewDeaths\":0,\"TotalDeaths\":837,\"NewRecovered\":0,\"TotalRecovered\":0,\"Date\":\"2022-06-13T05:28:15.704Z\",\"Premium\":{}},{\"ID\":\"53fa3a26-841c-4df7-b315-ffbe1fc8274e\",\"Country\":\"Holy See (Vatican City State)\",\"CountryCode\":\"VA\",\"Slug\":\"holy-see-vatican-city-state\",\"NewConfirmed\":0,\"TotalConfirmed\":29,\"NewDeaths\":0,\"TotalDeaths\":0,\"NewRecovered\":0,\"TotalRecovered\":0,\"Date\":\"2022-06-13T05:28:15.704Z\",\"Premium\":{}},{\"ID\":\"bdbbbc36-c631-42bc-b682-ae79a8b44b1c\",\"Country\":\"Honduras\",\"CountryCode\":\"HN\",\"Slug\":\"honduras\",\"NewConfirmed\":91,\"TotalConfirmed\":425655,\"NewDeaths\":0,\"TotalDeaths\":10902,\"NewRecovered\":0,\"TotalRecovered\":0,\"Date\":\"2022-06-13T05:28:15.704Z\",\"Premium\":{}},{\"ID\":\"b126b12a-e0f3-4ba9-8d31-5ab774f15a56\",\"Country\":\"Hungary\",\"CountryCode\":\"HU\",\"Slug\":\"hungary\",\"NewConfirmed\":0,\"TotalConfirmed\":1921486,\"NewDeaths\":0,\"TotalDeaths\":46571,\"NewRecovered\":0,\"TotalRecovered\":0,\"Date\":\"2022-06-13T05:28:15.704Z\",\"Premium\":{}},{\"ID\":\"e57e6cd8-4735-46fe-b9b8-5075adae7678\",\"Country\":\"Iceland\",\"CountryCode\":\"IS\",\"Slug\":\"iceland\",\"NewConfirmed\":0,\"TotalConfirmed\":190014,\"NewDeaths\":0,\"TotalDeaths\":153,\"NewRecovered\":0,\"TotalRecovered\":0,\"Date\":\"2022-06-13T05:28:15.704Z\",\"Premium\":{}},{\"ID\":\"36e67038-d4df-4698-bba3-ab1d00b311ca\",\"Country\":\"India\",\"CountryCode\":\"IN\",\"Slug\":\"india\",\"NewConfirmed\":8582,\"TotalConfirmed\":43222017,\"NewDeaths\":4,\"TotalDeaths\":524761,\"NewRecovered\":0,\"TotalRecovered\":0,\"Date\":\"2022-06-13T05:28:15.704Z\",\"Premium\":{}},{\"ID\":\"adb0ac4f-b72e-4650-8f7c-4cb6f7f384be\",\"Country\":\"Indonesia\",\"CountryCode\":\"ID\",\"Slug\":\"indonesia\",\"NewConfirmed\":0,\"TotalConfirmed\":6056017,\"NewDeaths\":0,\"TotalDeaths\":156604,\"NewRecovered\":0,\"TotalRecovered\":0,\"Date\":\"2022-06-13T05:28:15.704Z\",\"Premium\":{}},{\"ID\":\"8fc65afb-2b14-4cd2-993d-9040ad4d1218\",\"Country\":\"Iran, Islamic Republic of\",\"CountryCode\":\"IR\",\"Slug\":\"iran\",\"NewConfirmed\":160,\"TotalConfirmed\":7233688,\"NewDeaths\":1,\"TotalDeaths\":141350,\"NewRecovered\":0,\"TotalRecovered\":0,\"Date\":\"2022-06-13T05:28:15.704Z\",\"Premium\":{}},{\"ID\":\"5ac872c9-8b69-4737-a52a-22e8080cded8\",\"Country\":\"Iraq\",\"CountryCode\":\"IQ\",\"Slug\":\"iraq\",\"NewConfirmed\":151,\"TotalConfirmed\":2329813,\"NewDeaths\":0,\"TotalDeaths\":25222,\"NewRecovered\":0,\"TotalRecovered\":0,\"Date\":\"2022-06-13T05:28:15.704Z\",\"Premium\":{}},{\"ID\":\"c1d855c0-039e-4591-9bb0-21d0e6f7c7c8\",\"Country\":\"Ireland\",\"CountryCode\":\"IE\",\"Slug\":\"ireland\",\"NewConfirmed\":0,\"TotalConfirmed\":1570519,\"NewDeaths\":0,\"TotalDeaths\":7416,\"NewRecovered\":0,\"TotalRecovered\":0,\"Date\":\"2022-06-13T05:28:15.704Z\",\"Premium\":{}},{\"ID\":\"e3824654-0fff-4007-9448-0c62d83b47e4\",\"Country\":\"Israel\",\"CountryCode\":\"IL\",\"Slug\":\"israel\",\"NewConfirmed\":3697,\"TotalConfirmed\":4183477,\"NewDeaths\":11,\"TotalDeaths\":10882,\"NewRecovered\":0,\"TotalRecovered\":0,\"Date\":\"2022-06-13T05:28:15.704Z\",\"Premium\":{}},{\"ID\":\"9bad04bc-60e9-4b41-9804-47739dbf065f\",\"Country\":\"Italy\",\"CountryCode\":\"IT\",\"Slug\":\"italy\",\"NewConfirmed\":22458,\"TotalConfirmed\":17634065,\"NewDeaths\":60,\"TotalDeaths\":167365,\"NewRecovered\":0,\"TotalRecovered\":0,\"Date\":\"2022-06-13T05:28:15.704Z\",\"Premium\":{}},{\"ID\":\"f7ce913c-0627-4967-8387-064704de4161\",\"Country\":\"Jamaica\",\"CountryCode\":\"JM\",\"Slug\":\"jamaica\",\"NewConfirmed\":260,\"TotalConfirmed\":140463,\"NewDeaths\":1,\"TotalDeaths\":3083,\"NewRecovered\":0,\"TotalRecovered\":0,\"Date\":\"2022-06-13T05:28:15.704Z\",\"Premium\":{}},{\"ID\":\"4f9f372c-f8f5-468d-976e-3c8f0d226e53\",\"Country\":\"Japan\",\"CountryCode\":\"JP\",\"Slug\":\"japan\",\"NewConfirmed\":15338,\"TotalConfirmed\":9026281,\"NewDeaths\":15,\"TotalDeaths\":30879,\"NewRecovered\":0,\"TotalRecovered\":0,\"Date\":\"2022-06-13T05:28:15.704Z\",\"Premium\":{}},{\"ID\":\"4c1da930-d4fa-4f9f-9065-9770c59cb3b9\",\"Country\":\"Jordan\",\"CountryCode\":\"JO\",\"Slug\":\"jordan\",\"NewConfirmed\":0,\"TotalConfirmed\":1697271,\"NewDeaths\":0,\"TotalDeaths\":14068,\"NewRecovered\":0,\"TotalRecovered\":0,\"Date\":\"2022-06-13T05:28:15.704Z\",\"Premium\":{}},{\"ID\":\"1aa80047-3866-4003-8755-058b649bb28f\",\"Country\":\"Kazakhstan\",\"CountryCode\":\"KZ\",\"Slug\":\"kazakhstan\",\"NewConfirmed\":16,\"TotalConfirmed\":1395055,\"NewDeaths\":0,\"TotalDeaths\":19016,\"NewRecovered\":0,\"TotalRecovered\":0,\"Date\":\"2022-06-13T05:28:15.704Z\",\"Premium\":{}},{\"ID\":\"d7e2c0a1-c486-4ba4-a055-61d918526053\",\"Country\":\"Kenya\",\"CountryCode\":\"KE\",\"Slug\":\"kenya\",\"NewConfirmed\":195,\"TotalConfirmed\":326932,\"NewDeaths\":0,\"TotalDeaths\":5651,\"NewRecovered\":0,\"TotalRecovered\":0,\"Date\":\"2022-06-13T05:28:15.704Z\",\"Premium\":{}},{\"ID\":\"1cbae5ad-b984-4c15-9f4c-b46b28b49d2a\",\"Country\":\"Kiribati\",\"CountryCode\":\"KI\",\"Slug\":\"kiribati\",\"NewConfirmed\":0,\"TotalConfirmed\":3204,\"NewDeaths\":0,\"TotalDeaths\":13,\"NewRecovered\":0,\"TotalRecovered\":0,\"Date\":\"2022-06-13T05:28:15.704Z\",\"Premium\":{}},{\"ID\":\"38885a5f-29ee-40bc-8639-d46c62e02aa9\",\"Country\":\"Korea (North)\",\"CountryCode\":\"KP\",\"Slug\":\"korea-north\",\"NewConfirmed\":0,\"TotalConfirmed\":1,\"NewDeaths\":0,\"TotalDeaths\":6,\"NewRecovered\":0,\"TotalRecovered\":0,\"Date\":\"2022-06-13T05:28:15.704Z\",\"Premium\":{}},{\"ID\":\"5eb6c1fd-7fe3-4de4-84a9-066c00c8f242\",\"Country\":\"Korea (South)\",\"CountryCode\":\"KR\",\"Slug\":\"korea-south\",\"NewConfirmed\":3828,\"TotalConfirmed\":18229288,\"NewDeaths\":17,\"TotalDeaths\":24388,\"NewRecovered\":0,\"TotalRecovered\":0,\"Date\":\"2022-06-13T05:28:15.704Z\",\"Premium\":{}},{\"ID\":\"d581421d-1f34-48ff-9748-76fa2b18aa91\",\"Country\":\"Kuwait\",\"CountryCode\":\"KW\",\"Slug\":\"kuwait\",\"NewConfirmed\":372,\"TotalConfirmed\":636240,\"NewDeaths\":0,\"TotalDeaths\":2555,\"NewRecovered\":0,\"TotalRecovered\":0,\"Date\":\"2022-06-13T05:28:15.704Z\",\"Premium\":{}},{\"ID\":\"e0ed4a71-4bbc-4fba-8ec2-fdf7e2fb9e8a\",\"Country\":\"Kyrgyzstan\",\"CountryCode\":\"KG\",\"Slug\":\"kyrgyzstan\",\"NewConfirmed\":0,\"TotalConfirmed\":200993,\"NewDeaths\":0,\"TotalDeaths\":2991,\"NewRecovered\":0,\"TotalRecovered\":0,\"Date\":\"2022-06-13T05:28:15.704Z\",\"Premium\":{}},{\"ID\":\"c011c02a-8fa7-44fd-be7d-06073cb55702\",\"Country\":\"Lao PDR\",\"CountryCode\":\"LA\",\"Slug\":\"lao-pdr\",\"NewConfirmed\":11,\"TotalConfirmed\":210147,\"NewDeaths\":0,\"TotalDeaths\":757,\"NewRecovered\":0,\"TotalRecovered\":0,\"Date\":\"2022-06-13T05:28:15.704Z\",\"Premium\":{}},{\"ID\":\"cb12b4db-6b7c-411d-9104-a3d3aa4da553\",\"Country\":\"Latvia\",\"CountryCode\":\"LV\",\"Slug\":\"latvia\",\"NewConfirmed\":0,\"TotalConfirmed\":830281,\"NewDeaths\":0,\"TotalDeaths\":5837,\"NewRecovered\":0,\"TotalRecovered\":0,\"Date\":\"2022-06-13T05:28:15.704Z\",\"Premium\":{}},{\"ID\":\"01eec534-036b-4edb-b0cf-c9baa2cf09b2\",\"Country\":\"Lebanon\",\"CountryCode\":\"LB\",\"Slug\":\"lebanon\",\"NewConfirmed\":238,\"TotalConfirmed\":1101109,\"NewDeaths\":1,\"TotalDeaths\":10445,\"NewRecovered\":0,\"TotalRecovered\":0,\"Date\":\"2022-06-13T05:28:15.704Z\",\"Premium\":{}},{\"ID\":\"afc6f78e-2d92-474f-9827-86c6ae7c374b\",\"Country\":\"Lesotho\",\"CountryCode\":\"LS\",\"Slug\":\"lesotho\",\"NewConfirmed\":0,\"TotalConfirmed\":33746,\"NewDeaths\":0,\"TotalDeaths\":699,\"NewRecovered\":0,\"TotalRecovered\":0,\"Date\":\"2022-06-13T05:28:15.704Z\",\"Premium\":{}},{\"ID\":\"4c50ea8d-3a98-4855-b1ac-b1858ef83641\",\"Country\":\"Liberia\",\"CountryCode\":\"LR\",\"Slug\":\"liberia\",\"NewConfirmed\":0,\"TotalConfirmed\":7459,\"NewDeaths\":0,\"TotalDeaths\":294,\"NewRecovered\":0,\"TotalRecovered\":0,\"Date\":\"2022-06-13T05:28:15.704Z\",\"Premium\":{}},{\"ID\":\"cfed0dd3-4484-4e0f-97b2-82dc6ea46b49\",\"Country\":\"Libya\",\"CountryCode\":\"LY\",\"Slug\":\"libya\",\"NewConfirmed\":0,\"TotalConfirmed\":502040,\"NewDeaths\":0,\"TotalDeaths\":6430,\"NewRecovered\":0,\"TotalRecovered\":0,\"Date\":\"2022-06-13T05:28:15.704Z\",\"Premium\":{}},{\"ID\":\"6bfd1bdc-2b8b-4c7f-8a3f-dcf96776d189\",\"Country\":\"Liechtenstein\",\"CountryCode\":\"LI\",\"Slug\":\"liechtenstein\",\"NewConfirmed\":0,\"TotalConfirmed\":17605,\"NewDeaths\":0,\"TotalDeaths\":85,\"NewRecovered\":0,\"TotalRecovered\":0,\"Date\":\"2022-06-13T05:28:15.704Z\",\"Premium\":{}},{\"ID\":\"91edfcbf-a612-4327-8933-26cb0ed1f3be\",\"Country\":\"Lithuania\",\"CountryCode\":\"LT\",\"Slug\":\"lithuania\",\"NewConfirmed\":176,\"TotalConfirmed\":1064011,\"NewDeaths\":0,\"TotalDeaths\":9153,\"NewRecovered\":0,\"TotalRecovered\":0,\"Date\":\"2022-06-13T05:28:15.704Z\",\"Premium\":{}},{\"ID\":\"18e272de-fcfd-45af-afd0-e927f64367ea\",\"Country\":\"Luxembourg\",\"CountryCode\":\"LU\",\"Slug\":\"luxembourg\",\"NewConfirmed\":0,\"TotalConfirmed\":251873,\"NewDeaths\":0,\"TotalDeaths\":1084,\"NewRecovered\":0,\"TotalRecovered\":0,\"Date\":\"2022-06-13T05:28:15.704Z\",\"Premium\":{}},{\"ID\":\"3d4f925b-3d38-425a-8bd6-338c63a31bb7\",\"Country\":\"Macedonia, Republic of\",\"CountryCode\":\"MK\",\"Slug\":\"macedonia\",\"NewConfirmed\":0,\"TotalConfirmed\":312538,\"NewDeaths\":0,\"TotalDeaths\":9316,\"NewRecovered\":0,\"TotalRecovered\":0,\"Date\":\"2022-06-13T05:28:15.704Z\",\"Premium\":{}},{\"ID\":\"00120c9a-b1e2-4293-b076-9dd852bd72a5\",\"Country\":\"Madagascar\",\"CountryCode\":\"MG\",\"Slug\":\"madagascar\",\"NewConfirmed\":207,\"TotalConfirmed\":64685,\"NewDeaths\":0,\"TotalDeaths\":1396,\"NewRecovered\":0,\"TotalRecovered\":0,\"Date\":\"2022-06-13T05:28:15.704Z\",\"Premium\":{}},{\"ID\":\"b39f9437-16e3-4de6-9333-9eb747ea8859\",\"Country\":\"Malawi\",\"CountryCode\":\"MW\",\"Slug\":\"malawi\",\"NewConfirmed\":17,\"TotalConfirmed\":86107,\"NewDeaths\":0,\"TotalDeaths\":2642,\"NewRecovered\":0,\"TotalRecovered\":0,\"Date\":\"2022-06-13T05:28:15.704Z\",\"Premium\":{}},{\"ID\":\"c2e13efe-befb-4eb4-b22f-90284f714125\",\"Country\":\"Malaysia\",\"CountryCode\":\"MY\",\"Slug\":\"malaysia\",\"NewConfirmed\":1709,\"TotalConfirmed\":4524727,\"NewDeaths\":2,\"TotalDeaths\":35711,\"NewRecovered\":0,\"TotalRecovered\":0,\"Date\":\"2022-06-13T05:28:15.704Z\",\"Premium\":{}},{\"ID\":\"98849435-01ba-4bd0-9565-3148bdcadbff\",\"Country\":\"Maldives\",\"CountryCode\":\"MV\",\"Slug\":\"maldives\",\"NewConfirmed\":0,\"TotalConfirmed\":179837,\"NewDeaths\":0,\"TotalDeaths\":299,\"NewRecovered\":0,\"TotalRecovered\":0,\"Date\":\"2022-06-13T05:28:15.704Z\",\"Premium\":{}},{\"ID\":\"f3069298-584f-4691-854d-8599eca00c06\",\"Country\":\"Mali\",\"CountryCode\":\"ML\",\"Slug\":\"mali\",\"NewConfirmed\":3,\"TotalConfirmed\":31125,\"NewDeaths\":0,\"TotalDeaths\":735,\"NewRecovered\":0,\"TotalRecovered\":0,\"Date\":\"2022-06-13T05:28:15.704Z\",\"Premium\":{}},{\"ID\":\"fef9b9d7-4215-4e48-b293-b00619e3e8e0\",\"Country\":\"Malta\",\"CountryCode\":\"MT\",\"Slug\":\"malta\",\"NewConfirmed\":153,\"TotalConfirmed\":96148,\"NewDeaths\":2,\"TotalDeaths\":726,\"NewRecovered\":0,\"TotalRecovered\":0,\"Date\":\"2022-06-13T05:28:15.704Z\",\"Premium\":{}},{\"ID\":\"68e7e09d-8641-4543-a3d5-343019255cc7\",\"Country\":\"Marshall Islands\",\"CountryCode\":\"MH\",\"Slug\":\"marshall-islands\",\"NewConfirmed\":0,\"TotalConfirmed\":18,\"NewDeaths\":0,\"TotalDeaths\":0,\"NewRecovered\":0,\"TotalRecovered\":0,\"Date\":\"2022-06-13T05:28:15.704Z\",\"Premium\":{}},{\"ID\":\"650fc1cc-2fc4-4abc-98fd-c0aea3b32132\",\"Country\":\"Mauritania\",\"CountryCode\":\"MR\",\"Slug\":\"mauritania\",\"NewConfirmed\":9,\"TotalConfirmed\":59247,\"NewDeaths\":0,\"TotalDeaths\":982,\"NewRecovered\":0,\"TotalRecovered\":0,\"Date\":\"2022-06-13T05:28:15.704Z\",\"Premium\":{}},{\"ID\":\"599009a3-b124-4059-a9b1-cff16040c412\",\"Country\":\"Mauritius\",\"CountryCode\":\"MU\",\"Slug\":\"mauritius\",\"NewConfirmed\":0,\"TotalConfirmed\":226851,\"NewDeaths\":0,\"TotalDeaths\":996,\"NewRecovered\":0,\"TotalRecovered\":0,\"Date\":\"2022-06-13T05:28:15.704Z\",\"Premium\":{}},{\"ID\":\"615cf089-c911-4464-9d04-1e401bca9ddd\",\"Country\":\"Mexico\",\"CountryCode\":\"MX\",\"Slug\":\"mexico\",\"NewConfirmed\":6396,\"TotalConfirmed\":5821262,\"NewDeaths\":42,\"TotalDeaths\":325186,\"NewRecovered\":0,\"TotalRecovered\":0,\"Date\":\"2022-06-13T05:28:15.704Z\",\"Premium\":{}},{\"ID\":\"0a474ef0-501f-4c12-9f0b-4f0af3b3990d\",\"Country\":\"Micronesia, Federated States of\",\"CountryCode\":\"FM\",\"Slug\":\"micronesia\",\"NewConfirmed\":0,\"TotalConfirmed\":35,\"NewDeaths\":0,\"TotalDeaths\":0,\"NewRecovered\":0,\"TotalRecovered\":0,\"Date\":\"2022-06-13T05:28:15.704Z\",\"Premium\":{}},{\"ID\":\"776fec8f-587a-4880-b0c0-41760b019403\",\"Country\":\"Moldova\",\"CountryCode\":\"MD\",\"Slug\":\"moldova\",\"NewConfirmed\":0,\"TotalConfirmed\":519228,\"NewDeaths\":0,\"TotalDeaths\":11551,\"NewRecovered\":0,\"TotalRecovered\":0,\"Date\":\"2022-06-13T05:28:15.704Z\",\"Premium\":{}},{\"ID\":\"1fd0e51d-ff45-4ffa-8481-f62242b03811\",\"Country\":\"Monaco\",\"CountryCode\":\"MC\",\"Slug\":\"monaco\",\"NewConfirmed\":0,\"TotalConfirmed\":12186,\"NewDeaths\":0,\"TotalDeaths\":57,\"NewRecovered\":0,\"TotalRecovered\":0,\"Date\":\"2022-06-13T05:28:15.704Z\",\"Premium\":{}},{\"ID\":\"9993d0fd-192d-438d-afc7-e23937475883\",\"Country\":\"Mongolia\",\"CountryCode\":\"MN\",\"Slug\":\"mongolia\",\"NewConfirmed\":0,\"TotalConfirmed\":925227,\"NewDeaths\":0,\"TotalDeaths\":2179,\"NewRecovered\":0,\"TotalRecovered\":0,\"Date\":\"2022-06-13T05:28:15.704Z\",\"Premium\":{}},{\"ID\":\"820292fe-b926-4121-868c-93f5a80c5346\",\"Country\":\"Montenegro\",\"CountryCode\":\"ME\",\"Slug\":\"montenegro\",\"NewConfirmed\":53,\"TotalConfirmed\":237901,\"NewDeaths\":0,\"TotalDeaths\":2722,\"NewRecovered\":0,\"TotalRecovered\":0,\"Date\":\"2022-06-13T05:28:15.704Z\",\"Premium\":{}},{\"ID\":\"ce86f896-74db-437a-bcdf-03c7be836762\",\"Country\":\"Morocco\",\"CountryCode\":\"MA\",\"Slug\":\"morocco\",\"NewConfirmed\":500,\"TotalConfirmed\":1175604,\"NewDeaths\":0,\"TotalDeaths\":16082,\"NewRecovered\":0,\"TotalRecovered\":0,\"Date\":\"2022-06-13T05:28:15.704Z\",\"Premium\":{}},{\"ID\":\"c46eb456-a8b4-479b-9ffe-917f7d23202c\",\"Country\":\"Mozambique\",\"CountryCode\":\"MZ\",\"Slug\":\"mozambique\",\"NewConfirmed\":35,\"TotalConfirmed\":226463,\"NewDeaths\":0,\"TotalDeaths\":2206,\"NewRecovered\":0,\"TotalRecovered\":0,\"Date\":\"2022-06-13T05:28:15.704Z\",\"Premium\":{}},{\"ID\":\"9bf606b3-03b2-44a2-bd84-771e713b29e7\",\"Country\":\"Myanmar\",\"CountryCode\":\"MM\",\"Slug\":\"myanmar\",\"NewConfirmed\":3,\"TotalConfirmed\":613443,\"NewDeaths\":0,\"TotalDeaths\":19434,\"NewRecovered\":0,\"TotalRecovered\":0,\"Date\":\"2022-06-13T05:28:15.704Z\",\"Premium\":{}},{\"ID\":\"f263ce5b-3c0f-4f3a-9ff9-d31e6d19473a\",\"Country\":\"Namibia\",\"CountryCode\":\"NA\",\"Slug\":\"namibia\",\"NewConfirmed\":83,\"TotalConfirmed\":168403,\"NewDeaths\":1,\"TotalDeaths\":4049,\"NewRecovered\":0,\"TotalRecovered\":0,\"Date\":\"2022-06-13T05:28:15.704Z\",\"Premium\":{}},{\"ID\":\"ed81367d-2886-4f99-a33e-9192e2f87d8c\",\"Country\":\"Nepal\",\"CountryCode\":\"NP\",\"Slug\":\"nepal\",\"NewConfirmed\":11,\"TotalConfirmed\":979262,\"NewDeaths\":0,\"TotalDeaths\":11952,\"NewRecovered\":0,\"TotalRecovered\":0,\"Date\":\"2022-06-13T05:28:15.704Z\",\"Premium\":{}},{\"ID\":\"a4347d9b-bea0-48fe-b9e2-b7a45fcbe430\",\"Country\":\"Netherlands\",\"CountryCode\":\"NL\",\"Slug\":\"netherlands\",\"NewConfirmed\":0,\"TotalConfirmed\":8101754,\"NewDeaths\":0,\"TotalDeaths\":22332,\"NewRecovered\":0,\"TotalRecovered\":0,\"Date\":\"2022-06-13T05:28:15.704Z\",\"Premium\":{}},{\"ID\":\"12ca9414-2f05-4bc5-825a-66a4a40ffcfd\",\"Country\":\"New Zealand\",\"CountryCode\":\"NZ\",\"Slug\":\"new-zealand\",\"NewConfirmed\":0,\"TotalConfirmed\":1243696,\"NewDeaths\":0,\"TotalDeaths\":1262,\"NewRecovered\":0,\"TotalRecovered\":0,\"Date\":\"2022-06-13T05:28:15.704Z\",\"Premium\":{}},{\"ID\":\"854d0a81-44d9-4ac5-8707-e13dfa71ba98\",\"Country\":\"Nicaragua\",\"CountryCode\":\"NI\",\"Slug\":\"nicaragua\",\"NewConfirmed\":0,\"TotalConfirmed\":14577,\"NewDeaths\":0,\"TotalDeaths\":240,\"NewRecovered\":0,\"TotalRecovered\":0,\"Date\":\"2022-06-13T05:28:15.704Z\",\"Premium\":{}},{\"ID\":\"fe21234b-3aa9-4112-b364-d401bd67cb9a\",\"Country\":\"Niger\",\"CountryCode\":\"NE\",\"Slug\":\"niger\",\"NewConfirmed\":0,\"TotalConfirmed\":9031,\"NewDeaths\":0,\"TotalDeaths\":310,\"NewRecovered\":0,\"TotalRecovered\":0,\"Date\":\"2022-06-13T05:28:15.704Z\",\"Premium\":{}},{\"ID\":\"649d7a63-eef7-497d-ab14-197517ad5370\",\"Country\":\"Nigeria\",\"CountryCode\":\"NG\",\"Slug\":\"nigeria\",\"NewConfirmed\":0,\"TotalConfirmed\":256352,\"NewDeaths\":0,\"TotalDeaths\":3144,\"NewRecovered\":0,\"TotalRecovered\":0,\"Date\":\"2022-06-13T05:28:15.704Z\",\"Premium\":{}},{\"ID\":\"4bfd4307-c1b5-4a63-bbb5-e0cf67d40bd7\",\"Country\":\"Norway\",\"CountryCode\":\"NO\",\"Slug\":\"norway\",\"NewConfirmed\":96,\"TotalConfirmed\":1436855,\"NewDeaths\":0,\"TotalDeaths\":3210,\"NewRecovered\":0,\"TotalRecovered\":0,\"Date\":\"2022-06-13T05:28:15.704Z\",\"Premium\":{}},{\"ID\":\"cf8014f6-dc7a-4331-ba32-823ef86401fd\",\"Country\":\"Oman\",\"CountryCode\":\"OM\",\"Slug\":\"oman\",\"NewConfirmed\":0,\"TotalConfirmed\":389758,\"NewDeaths\":0,\"TotalDeaths\":4260,\"NewRecovered\":0,\"TotalRecovered\":0,\"Date\":\"2022-06-13T05:28:15.704Z\",\"Premium\":{}},{\"ID\":\"7c6de43f-b82d-4300-8f37-7059ef4955b3\",\"Country\":\"Pakistan\",\"CountryCode\":\"PK\",\"Slug\":\"pakistan\",\"NewConfirmed\":67,\"TotalConfirmed\":1531179,\"NewDeaths\":0,\"TotalDeaths\":30381,\"NewRecovered\":0,\"TotalRecovered\":0,\"Date\":\"2022-06-13T05:28:15.704Z\",\"Premium\":{}},{\"ID\":\"bcc012d5-5bbd-48d0-b129-f1990020cf82\",\"Country\":\"Palau\",\"CountryCode\":\"PW\",\"Slug\":\"palau\",\"NewConfirmed\":0,\"TotalConfirmed\":5145,\"NewDeaths\":0,\"TotalDeaths\":6,\"NewRecovered\":0,\"TotalRecovered\":0,\"Date\":\"2022-06-13T05:28:15.704Z\",\"Premium\":{}},{\"ID\":\"da152995-2bb3-489f-8f92-af59bffc5db1\",\"Country\":\"Palestinian Territory\",\"CountryCode\":\"PS\",\"Slug\":\"palestine\",\"NewConfirmed\":0,\"TotalConfirmed\":657879,\"NewDeaths\":0,\"TotalDeaths\":5660,\"NewRecovered\":0,\"TotalRecovered\":0,\"Date\":\"2022-06-13T05:28:15.704Z\",\"Premium\":{}},{\"ID\":\"4b58dfad-8115-49fa-b989-d8e97cd9cb67\",\"Country\":\"Panama\",\"CountryCode\":\"PA\",\"Slug\":\"panama\",\"NewConfirmed\":0,\"TotalConfirmed\":889960,\"NewDeaths\":0,\"TotalDeaths\":8298,\"NewRecovered\":0,\"TotalRecovered\":0,\"Date\":\"2022-06-13T05:28:15.704Z\",\"Premium\":{}},{\"ID\":\"e3696151-845c-4c6b-91d2-334f0683bfe7\",\"Country\":\"Papua New Guinea\",\"CountryCode\":\"PG\",\"Slug\":\"papua-new-guinea\",\"NewConfirmed\":0,\"TotalConfirmed\":44655,\"NewDeaths\":0,\"TotalDeaths\":658,\"NewRecovered\":0,\"TotalRecovered\":0,\"Date\":\"2022-06-13T05:28:15.704Z\",\"Premium\":{}},{\"ID\":\"47735301-06e8-4624-a658-b56f1cd26f10\",\"Country\":\"Paraguay\",\"CountryCode\":\"PY\",\"Slug\":\"paraguay\",\"NewConfirmed\":0,\"TotalConfirmed\":652044,\"NewDeaths\":0,\"TotalDeaths\":18932,\"NewRecovered\":0,\"TotalRecovered\":0,\"Date\":\"2022-06-13T05:28:15.704Z\",\"Premium\":{}},{\"ID\":\"2ccb5540-505f-49a0-8d67-0c10db3dd6c7\",\"Country\":\"Peru\",\"CountryCode\":\"PE\",\"Slug\":\"peru\",\"NewConfirmed\":1085,\"TotalConfirmed\":3589782,\"NewDeaths\":8,\"TotalDeaths\":213316,\"NewRecovered\":0,\"TotalRecovered\":0,\"Date\":\"2022-06-13T05:28:15.704Z\",\"Premium\":{}},{\"ID\":\"a86f55a1-a4e6-4a6a-b43b-0f24dec70c90\",\"Country\":\"Philippines\",\"CountryCode\":\"PH\",\"Slug\":\"philippines\",\"NewConfirmed\":308,\"TotalConfirmed\":3693222,\"NewDeaths\":0,\"TotalDeaths\":60461,\"NewRecovered\":0,\"TotalRecovered\":0,\"Date\":\"2022-06-13T05:28:15.704Z\",\"Premium\":{}},{\"ID\":\"7ed310c9-4230-49e6-bafe-f6cd0d39b5f8\",\"Country\":\"Poland\",\"CountryCode\":\"PL\",\"Slug\":\"poland\",\"NewConfirmed\":56,\"TotalConfirmed\":6010045,\"NewDeaths\":0,\"TotalDeaths\":116371,\"NewRecovered\":0,\"TotalRecovered\":0,\"Date\":\"2022-06-13T05:28:15.704Z\",\"Premium\":{}},{\"ID\":\"c49e13d9-6eb5-4ee5-95da-225948de6bbe\",\"Country\":\"Portugal\",\"CountryCode\":\"PT\",\"Slug\":\"portugal\",\"NewConfirmed\":0,\"TotalConfirmed\":4917127,\"NewDeaths\":0,\"TotalDeaths\":23531,\"NewRecovered\":0,\"TotalRecovered\":0,\"Date\":\"2022-06-13T05:28:15.704Z\",\"Premium\":{}},{\"ID\":\"521f09a6-23b8-403c-999b-d285cf2b6398\",\"Country\":\"Qatar\",\"CountryCode\":\"QA\",\"Slug\":\"qatar\",\"NewConfirmed\":415,\"TotalConfirmed\":372261,\"NewDeaths\":0,\"TotalDeaths\":677,\"NewRecovered\":0,\"TotalRecovered\":0,\"Date\":\"2022-06-13T05:28:15.704Z\",\"Premium\":{}},{\"ID\":\"de4f597d-06a7-4713-9cec-39a9c32f6c91\",\"Country\":\"Republic of Kosovo\",\"CountryCode\":\"XK\",\"Slug\":\"kosovo\",\"NewConfirmed\":8,\"TotalConfirmed\":228438,\"NewDeaths\":0,\"TotalDeaths\":3139,\"NewRecovered\":0,\"TotalRecovered\":0,\"Date\":\"2022-06-13T05:28:15.704Z\",\"Premium\":{}},{\"ID\":\"39819612-1714-4dd6-8e73-b1604dc4e6ef\",\"Country\":\"Romania\",\"CountryCode\":\"RO\",\"Slug\":\"romania\",\"NewConfirmed\":168,\"TotalConfirmed\":2912705,\"NewDeaths\":1,\"TotalDeaths\":65714,\"NewRecovered\":0,\"TotalRecovered\":0,\"Date\":\"2022-06-13T05:28:15.704Z\",\"Premium\":{}},{\"ID\":\"49651f97-2432-4dfe-a8e3-7a44cdbab67f\",\"Country\":\"Russian Federation\",\"CountryCode\":\"RU\",\"Slug\":\"russia\",\"NewConfirmed\":3572,\"TotalConfirmed\":18104944,\"NewDeaths\":71,\"TotalDeaths\":372276,\"NewRecovered\":0,\"TotalRecovered\":0,\"Date\":\"2022-06-13T05:28:15.704Z\",\"Premium\":{}},{\"ID\":\"542d1c2e-5d90-43ca-83d6-b82889eca435\",\"Country\":\"Rwanda\",\"CountryCode\":\"RW\",\"Slug\":\"rwanda\",\"NewConfirmed\":26,\"TotalConfirmed\":130345,\"NewDeaths\":0,\"TotalDeaths\":1459,\"NewRecovered\":0,\"TotalRecovered\":0,\"Date\":\"2022-06-13T05:28:15.704Z\",\"Premium\":{}},{\"ID\":\"97eb9b95-65fb-420f-8fd1-0f5908846dda\",\"Country\":\"Saint Kitts and Nevis\",\"CountryCode\":\"KN\",\"Slug\":\"saint-kitts-and-nevis\",\"NewConfirmed\":27,\"TotalConfirmed\":5851,\"NewDeaths\":0,\"TotalDeaths\":43,\"NewRecovered\":0,\"TotalRecovered\":0,\"Date\":\"2022-06-13T05:28:15.704Z\",\"Premium\":{}},{\"ID\":\"32ca76fa-510e-40cb-8244-b6ce9eb9730c\",\"Country\":\"Saint Lucia\",\"CountryCode\":\"LC\",\"Slug\":\"saint-lucia\",\"NewConfirmed\":85,\"TotalConfirmed\":26538,\"NewDeaths\":0,\"TotalDeaths\":371,\"NewRecovered\":0,\"TotalRecovered\":0,\"Date\":\"2022-06-13T05:28:15.704Z\",\"Premium\":{}},{\"ID\":\"b2aed597-c489-487c-a771-383008f3e10c\",\"Country\":\"Saint Vincent and Grenadines\",\"CountryCode\":\"VC\",\"Slug\":\"saint-vincent-and-the-grenadines\",\"NewConfirmed\":0,\"TotalConfirmed\":8883,\"NewDeaths\":0,\"TotalDeaths\":108,\"NewRecovered\":0,\"TotalRecovered\":0,\"Date\":\"2022-06-13T05:28:15.704Z\",\"Premium\":{}},{\"ID\":\"5e6a365c-0504-40be-97e6-bb552ee07dfa\",\"Country\":\"Samoa\",\"CountryCode\":\"WS\",\"Slug\":\"samoa\",\"NewConfirmed\":0,\"TotalConfirmed\":14187,\"NewDeaths\":0,\"TotalDeaths\":28,\"NewRecovered\":0,\"TotalRecovered\":0,\"Date\":\"2022-06-13T05:28:15.704Z\",\"Premium\":{}},{\"ID\":\"374d0a9a-d2e7-456c-b77f-dafdc00ebda2\",\"Country\":\"San Marino\",\"CountryCode\":\"SM\",\"Slug\":\"san-marino\",\"NewConfirmed\":0,\"TotalConfirmed\":17124,\"NewDeaths\":0,\"TotalDeaths\":115,\"NewRecovered\":0,\"TotalRecovered\":0,\"Date\":\"2022-06-13T05:28:15.704Z\",\"Premium\":{}},{\"ID\":\"157303d2-6fe0-4db6-935f-454d5cbb0700\",\"Country\":\"Sao Tome and Principe\",\"CountryCode\":\"ST\",\"Slug\":\"sao-tome-and-principe\",\"NewConfirmed\":0,\"TotalConfirmed\":6003,\"NewDeaths\":0,\"TotalDeaths\":73,\"NewRecovered\":0,\"TotalRecovered\":0,\"Date\":\"2022-06-13T05:28:15.704Z\",\"Premium\":{}},{\"ID\":\"75dd0610-c163-4e94-aa34-6b699fd2f5a5\",\"Country\":\"Saudi Arabia\",\"CountryCode\":\"SA\",\"Slug\":\"saudi-arabia\",\"NewConfirmed\":905,\"TotalConfirmed\":777795,\"NewDeaths\":3,\"TotalDeaths\":9173,\"NewRecovered\":0,\"TotalRecovered\":0,\"Date\":\"2022-06-13T05:28:15.704Z\",\"Premium\":{}},{\"ID\":\"9dd3c8ed-f25a-4223-b703-59fa4b3de2b0\",\"Country\":\"Senegal\",\"CountryCode\":\"SN\",\"Slug\":\"senegal\",\"NewConfirmed\":0,\"TotalConfirmed\":86150,\"NewDeaths\":0,\"TotalDeaths\":1967,\"NewRecovered\":0,\"TotalRecovered\":0,\"Date\":\"2022-06-13T05:28:15.704Z\",\"Premium\":{}},{\"ID\":\"bbc72bdc-ff89-4939-80fa-ab3dad06e3a9\",\"Country\":\"Serbia\",\"CountryCode\":\"RS\",\"Slug\":\"serbia\",\"NewConfirmed\":165,\"TotalConfirmed\":2020338,\"NewDeaths\":2,\"TotalDeaths\":16101,\"NewRecovered\":0,\"TotalRecovered\":0,\"Date\":\"2022-06-13T05:28:15.704Z\",\"Premium\":{}},{\"ID\":\"1c7210e7-d164-48ac-a0cb-1b9c50599914\",\"Country\":\"Seychelles\",\"CountryCode\":\"SC\",\"Slug\":\"seychelles\",\"NewConfirmed\":0,\"TotalConfirmed\":44363,\"NewDeaths\":0,\"TotalDeaths\":167,\"NewRecovered\":0,\"TotalRecovered\":0,\"Date\":\"2022-06-13T05:28:15.704Z\",\"Premium\":{}},{\"ID\":\"475471fb-e727-4863-9204-4470047cc41b\",\"Country\":\"Sierra Leone\",\"CountryCode\":\"SL\",\"Slug\":\"sierra-leone\",\"NewConfirmed\":1,\"TotalConfirmed\":7684,\"NewDeaths\":0,\"TotalDeaths\":125,\"NewRecovered\":0,\"TotalRecovered\":0,\"Date\":\"2022-06-13T05:28:15.704Z\",\"Premium\":{}},{\"ID\":\"0fc2499d-716e-4a3e-80ac-578779e85876\",\"Country\":\"Singapore\",\"CountryCode\":\"SG\",\"Slug\":\"singapore\",\"NewConfirmed\":2503,\"TotalConfirmed\":1341256,\"NewDeaths\":0,\"TotalDeaths\":1397,\"NewRecovered\":0,\"TotalRecovered\":0,\"Date\":\"2022-06-13T05:28:15.704Z\",\"Premium\":{}},{\"ID\":\"95f8c30b-da91-4a29-8739-bbe2e05215f4\",\"Country\":\"Slovakia\",\"CountryCode\":\"SK\",\"Slug\":\"slovakia\",\"NewConfirmed\":0,\"TotalConfirmed\":2544678,\"NewDeaths\":0,\"TotalDeaths\":20114,\"NewRecovered\":0,\"TotalRecovered\":0,\"Date\":\"2022-06-13T05:28:15.704Z\",\"Premium\":{}},{\"ID\":\"2fe77d17-2802-4e07-aeaa-a7ad365b6e11\",\"Country\":\"Slovenia\",\"CountryCode\":\"SI\",\"Slug\":\"slovenia\",\"NewConfirmed\":0,\"TotalConfirmed\":1027821,\"NewDeaths\":0,\"TotalDeaths\":6644,\"NewRecovered\":0,\"TotalRecovered\":0,\"Date\":\"2022-06-13T05:28:15.704Z\",\"Premium\":{}},{\"ID\":\"6831a4b8-fe77-4651-9ac1-81e811806be3\",\"Country\":\"Solomon Islands\",\"CountryCode\":\"SB\",\"Slug\":\"solomon-islands\",\"NewConfirmed\":0,\"TotalConfirmed\":21237,\"NewDeaths\":0,\"TotalDeaths\":149,\"NewRecovered\":0,\"TotalRecovered\":0,\"Date\":\"2022-06-13T05:28:15.704Z\",\"Premium\":{}},{\"ID\":\"32e749ee-7838-4ad4-aa99-0b0809897e39\",\"Country\":\"Somalia\",\"CountryCode\":\"SO\",\"Slug\":\"somalia\",\"NewConfirmed\":0,\"TotalConfirmed\":26565,\"NewDeaths\":0,\"TotalDeaths\":1361,\"NewRecovered\":0,\"TotalRecovered\":0,\"Date\":\"2022-06-13T05:28:15.704Z\",\"Premium\":{}},{\"ID\":\"dd8a4535-f838-41e4-b74d-4b5be6d9ac34\",\"Country\":\"South Africa\",\"CountryCode\":\"ZA\",\"Slug\":\"south-africa\",\"NewConfirmed\":962,\"TotalConfirmed\":3978590,\"NewDeaths\":7,\"TotalDeaths\":101484,\"NewRecovered\":0,\"TotalRecovered\":0,\"Date\":\"2022-06-13T05:28:15.704Z\",\"Premium\":{}},{\"ID\":\"b086c3ff-2f25-4bd5-97b0-800b404dac80\",\"Country\":\"South Sudan\",\"CountryCode\":\"SS\",\"Slug\":\"south-sudan\",\"NewConfirmed\":0,\"TotalConfirmed\":17644,\"NewDeaths\":0,\"TotalDeaths\":138,\"NewRecovered\":0,\"TotalRecovered\":0,\"Date\":\"2022-06-13T05:28:15.704Z\",\"Premium\":{}},{\"ID\":\"84a5805a-5431-4adc-8d69-cb4f9764d59c\",\"Country\":\"Spain\",\"CountryCode\":\"ES\",\"Slug\":\"spain\",\"NewConfirmed\":0,\"TotalConfirmed\":12478994,\"NewDeaths\":0,\"TotalDeaths\":107108,\"NewRecovered\":0,\"TotalRecovered\":0,\"Date\":\"2022-06-13T05:28:15.704Z\",\"Premium\":{}},{\"ID\":\"a252ff60-1100-47d7-b5b1-e1163d741fb0\",\"Country\":\"Sri Lanka\",\"CountryCode\":\"LK\",\"Slug\":\"sri-lanka\",\"NewConfirmed\":13,\"TotalConfirmed\":663950,\"NewDeaths\":0,\"TotalDeaths\":16519,\"NewRecovered\":0,\"TotalRecovered\":0,\"Date\":\"2022-06-13T05:28:15.704Z\",\"Premium\":{}},{\"ID\":\"cf74b7a6-e02f-4558-b4a4-9ed137782dc1\",\"Country\":\"Sudan\",\"CountryCode\":\"SD\",\"Slug\":\"sudan\",\"NewConfirmed\":0,\"TotalConfirmed\":62444,\"NewDeaths\":0,\"TotalDeaths\":4950,\"NewRecovered\":0,\"TotalRecovered\":0,\"Date\":\"2022-06-13T05:28:15.704Z\",\"Premium\":{}},{\"ID\":\"21848b0e-2cb5-4b2a-8395-d99392a9c14e\",\"Country\":\"Suriname\",\"CountryCode\":\"SR\",\"Slug\":\"suriname\",\"NewConfirmed\":0,\"TotalConfirmed\":80673,\"NewDeaths\":0,\"TotalDeaths\":1352,\"NewRecovered\":0,\"TotalRecovered\":0,\"Date\":\"2022-06-13T05:28:15.704Z\",\"Premium\":{}},{\"ID\":\"48b1fc19-aea6-486e-a383-f9466abae282\",\"Country\":\"Swaziland\",\"CountryCode\":\"SZ\",\"Slug\":\"swaziland\",\"NewConfirmed\":12,\"TotalConfirmed\":72891,\"NewDeaths\":0,\"TotalDeaths\":1410,\"NewRecovered\":0,\"TotalRecovered\":0,\"Date\":\"2022-06-13T05:28:15.704Z\",\"Premium\":{}},{\"ID\":\"ee7272e1-91e9-4815-aa03-fff8b63b8dda\",\"Country\":\"Sweden\",\"CountryCode\":\"SE\",\"Slug\":\"sweden\",\"NewConfirmed\":0,\"TotalConfirmed\":2510930,\"NewDeaths\":0,\"TotalDeaths\":19049,\"NewRecovered\":0,\"TotalRecovered\":0,\"Date\":\"2022-06-13T05:28:15.704Z\",\"Premium\":{}},{\"ID\":\"65f3d08d-7e4a-42b9-9680-c505818498be\",\"Country\":\"Switzerland\",\"CountryCode\":\"CH\",\"Slug\":\"switzerland\",\"NewConfirmed\":0,\"TotalConfirmed\":3685281,\"NewDeaths\":0,\"TotalDeaths\":13814,\"NewRecovered\":0,\"TotalRecovered\":0,\"Date\":\"2022-06-13T05:28:15.704Z\",\"Premium\":{}},{\"ID\":\"cf4df325-0d87-4d55-9296-42aaf68b905a\",\"Country\":\"Syrian Arab Republic (Syria)\",\"CountryCode\":\"SY\",\"Slug\":\"syria\",\"NewConfirmed\":0,\"TotalConfirmed\":55904,\"NewDeaths\":0,\"TotalDeaths\":3150,\"NewRecovered\":0,\"TotalRecovered\":0,\"Date\":\"2022-06-13T05:28:15.704Z\",\"Premium\":{}},{\"ID\":\"3704c944-658c-4971-8a09-8be38f96c9a9\",\"Country\":\"Taiwan, Republic of China\",\"CountryCode\":\"TW\",\"Slug\":\"taiwan\",\"NewConfirmed\":50567,\"TotalConfirmed\":2892263,\"NewDeaths\":163,\"TotalDeaths\":4171,\"NewRecovered\":0,\"TotalRecovered\":0,\"Date\":\"2022-06-13T05:28:15.704Z\",\"Premium\":{}},{\"ID\":\"d1290104-7830-4f0f-b54b-3a54f74a07eb\",\"Country\":\"Tajikistan\",\"CountryCode\":\"TJ\",\"Slug\":\"tajikistan\",\"NewConfirmed\":0,\"TotalConfirmed\":17786,\"NewDeaths\":0,\"TotalDeaths\":125,\"NewRecovered\":0,\"TotalRecovered\":0,\"Date\":\"2022-06-13T05:28:15.704Z\",\"Premium\":{}},{\"ID\":\"4ac8b2dd-3282-4447-b3f5-744f9fe6f55c\",\"Country\":\"Tanzania, United Republic of\",\"CountryCode\":\"TZ\",\"Slug\":\"tanzania\",\"NewConfirmed\":0,\"TotalConfirmed\":35354,\"NewDeaths\":0,\"TotalDeaths\":840,\"NewRecovered\":0,\"TotalRecovered\":0,\"Date\":\"2022-06-13T05:28:15.704Z\",\"Premium\":{}},{\"ID\":\"cf5ba9ed-f83d-45de-bd8a-217a4d261a80\",\"Country\":\"Thailand\",\"CountryCode\":\"TH\",\"Slug\":\"thailand\",\"NewConfirmed\":0,\"TotalConfirmed\":4484863,\"NewDeaths\":0,\"TotalDeaths\":30334,\"NewRecovered\":0,\"TotalRecovered\":0,\"Date\":\"2022-06-13T05:28:15.704Z\",\"Premium\":{}},{\"ID\":\"466687a1-0dbc-4830-a910-584e9ea83178\",\"Country\":\"Timor-Leste\",\"CountryCode\":\"TL\",\"Slug\":\"timor-leste\",\"NewConfirmed\":0,\"TotalConfirmed\":22931,\"NewDeaths\":0,\"TotalDeaths\":133,\"NewRecovered\":0,\"TotalRecovered\":0,\"Date\":\"2022-06-13T05:28:15.704Z\",\"Premium\":{}},{\"ID\":\"ed3e4541-7097-4563-8a02-c08a0d721c40\",\"Country\":\"Togo\",\"CountryCode\":\"TG\",\"Slug\":\"togo\",\"NewConfirmed\":20,\"TotalConfirmed\":37196,\"NewDeaths\":0,\"TotalDeaths\":273,\"NewRecovered\":0,\"TotalRecovered\":0,\"Date\":\"2022-06-13T05:28:15.704Z\",\"Premium\":{}},{\"ID\":\"447c313d-6edb-4807-826c-8edca5c1c42f\",\"Country\":\"Tonga\",\"CountryCode\":\"TO\",\"Slug\":\"tonga\",\"NewConfirmed\":0,\"TotalConfirmed\":11909,\"NewDeaths\":0,\"TotalDeaths\":12,\"NewRecovered\":0,\"TotalRecovered\":0,\"Date\":\"2022-06-13T05:28:15.704Z\",\"Premium\":{}},{\"ID\":\"3db5458f-a626-40db-b804-e11a690473f0\",\"Country\":\"Trinidad and Tobago\",\"CountryCode\":\"TT\",\"Slug\":\"trinidad-and-tobago\",\"NewConfirmed\":217,\"TotalConfirmed\":164723,\"NewDeaths\":4,\"TotalDeaths\":3963,\"NewRecovered\":0,\"TotalRecovered\":0,\"Date\":\"2022-06-13T05:28:15.704Z\",\"Premium\":{}},{\"ID\":\"6f1fe929-7c61-49d9-ada1-c3399b88f95e\",\"Country\":\"Tunisia\",\"CountryCode\":\"TN\",\"Slug\":\"tunisia\",\"NewConfirmed\":0,\"TotalConfirmed\":1043540,\"NewDeaths\":0,\"TotalDeaths\":28648,\"NewRecovered\":0,\"TotalRecovered\":0,\"Date\":\"2022-06-13T05:28:15.704Z\",\"Premium\":{}},{\"ID\":\"96bf2dd4-d9c3-4a69-a5da-35642d21134d\",\"Country\":\"Turkey\",\"CountryCode\":\"TR\",\"Slug\":\"turkey\",\"NewConfirmed\":0,\"TotalConfirmed\":15072747,\"NewDeaths\":0,\"TotalDeaths\":98965,\"NewRecovered\":0,\"TotalRecovered\":0,\"Date\":\"2022-06-13T05:28:15.704Z\",\"Premium\":{}},{\"ID\":\"05af70e1-5787-480f-812f-5b013e2ca129\",\"Country\":\"Uganda\",\"CountryCode\":\"UG\",\"Slug\":\"uganda\",\"NewConfirmed\":116,\"TotalConfirmed\":166237,\"NewDeaths\":0,\"TotalDeaths\":3602,\"NewRecovered\":0,\"TotalRecovered\":0,\"Date\":\"2022-06-13T05:28:15.704Z\",\"Premium\":{}},{\"ID\":\"6d308741-43d5-4975-a651-1936934f0e63\",\"Country\":\"Ukraine\",\"CountryCode\":\"UA\",\"Slug\":\"ukraine\",\"NewConfirmed\":0,\"TotalConfirmed\":5040518,\"NewDeaths\":0,\"TotalDeaths\":112459,\"NewRecovered\":0,\"TotalRecovered\":0,\"Date\":\"2022-06-13T05:28:15.704Z\",\"Premium\":{}},{\"ID\":\"03208754-ea8a-4387-9576-b2194324411f\",\"Country\":\"United Arab Emirates\",\"CountryCode\":\"AE\",\"Slug\":\"united-arab-emirates\",\"NewConfirmed\":1249,\"TotalConfirmed\":917496,\"NewDeaths\":0,\"TotalDeaths\":2305,\"NewRecovered\":0,\"TotalRecovered\":0,\"Date\":\"2022-06-13T05:28:15.704Z\",\"Premium\":{}},{\"ID\":\"8083c742-74a0-4f91-90bf-1beccd5994d3\",\"Country\":\"United Kingdom\",\"CountryCode\":\"GB\",\"Slug\":\"united-kingdom\",\"NewConfirmed\":0,\"TotalConfirmed\":22571880,\"NewDeaths\":0,\"TotalDeaths\":179884,\"NewRecovered\":0,\"TotalRecovered\":0,\"Date\":\"2022-06-13T05:28:15.704Z\",\"Premium\":{}},{\"ID\":\"727a5f73-22c8-4974-94c0-43d6e7f89e08\",\"Country\":\"United States of America\",\"CountryCode\":\"US\",\"Slug\":\"united-states\",\"NewConfirmed\":32160,\"TotalConfirmed\":85500976,\"NewDeaths\":96,\"TotalDeaths\":1011260,\"NewRecovered\":0,\"TotalRecovered\":0,\"Date\":\"2022-06-13T05:28:15.704Z\",\"Premium\":{}},{\"ID\":\"7b46673b-f433-4bc7-946f-419482480c89\",\"Country\":\"Uruguay\",\"CountryCode\":\"UY\",\"Slug\":\"uruguay\",\"NewConfirmed\":0,\"TotalConfirmed\":934961,\"NewDeaths\":0,\"TotalDeaths\":7262,\"NewRecovered\":0,\"TotalRecovered\":0,\"Date\":\"2022-06-13T05:28:15.704Z\",\"Premium\":{}},{\"ID\":\"ec2fe308-d8d4-48dd-91e4-eea9f37ffed4\",\"Country\":\"Uzbekistan\",\"CountryCode\":\"UZ\",\"Slug\":\"uzbekistan\",\"NewConfirmed\":0,\"TotalConfirmed\":239236,\"NewDeaths\":0,\"TotalDeaths\":1637,\"NewRecovered\":0,\"TotalRecovered\":0,\"Date\":\"2022-06-13T05:28:15.704Z\",\"Premium\":{}},{\"ID\":\"f8801618-1e47-445f-8483-63acbbf11753\",\"Country\":\"Vanuatu\",\"CountryCode\":\"VU\",\"Slug\":\"vanuatu\",\"NewConfirmed\":107,\"TotalConfirmed\":10497,\"NewDeaths\":0,\"TotalDeaths\":14,\"NewRecovered\":0,\"TotalRecovered\":0,\"Date\":\"2022-06-13T05:28:15.704Z\",\"Premium\":{}},{\"ID\":\"182fc3cb-1729-451f-a86e-e22cdc5fb04e\",\"Country\":\"Venezuela (Bolivarian Republic)\",\"CountryCode\":\"VE\",\"Slug\":\"venezuela\",\"NewConfirmed\":64,\"TotalConfirmed\":524216,\"NewDeaths\":0,\"TotalDeaths\":5723,\"NewRecovered\":0,\"TotalRecovered\":0,\"Date\":\"2022-06-13T05:28:15.704Z\",\"Premium\":{}},{\"ID\":\"3b9b893d-f3b5-4f2e-94f0-2e50d66b6b54\",\"Country\":\"Viet Nam\",\"CountryCode\":\"VN\",\"Slug\":\"vietnam\",\"NewConfirmed\":568,\"TotalConfirmed\":10731812,\"NewDeaths\":0,\"TotalDeaths\":43083,\"NewRecovered\":0,\"TotalRecovered\":0,\"Date\":\"2022-06-13T05:28:15.704Z\",\"Premium\":{}},{\"ID\":\"306a8f26-0e54-4bbf-bc2c-0b21d929826c\",\"Country\":\"Yemen\",\"CountryCode\":\"YE\",\"Slug\":\"yemen\",\"NewConfirmed\":0,\"TotalConfirmed\":11822,\"NewDeaths\":0,\"TotalDeaths\":2149,\"NewRecovered\":0,\"TotalRecovered\":0,\"Date\":\"2022-06-13T05:28:15.704Z\",\"Premium\":{}},{\"ID\":\"9716e43c-64a6-4f27-95c0-13e187912bdc\",\"Country\":\"Zambia\",\"CountryCode\":\"ZM\",\"Slug\":\"zambia\",\"NewConfirmed\":0,\"TotalConfirmed\":323058,\"NewDeaths\":0,\"TotalDeaths\":3989,\"NewRecovered\":0,\"TotalRecovered\":0,\"Date\":\"2022-06-13T05:28:15.704Z\",\"Premium\":{}},{\"ID\":\"d21238d0-43ca-4dc8-9927-6c5db2153917\",\"Country\":\"Zimbabwe\",\"CountryCode\":\"ZW\",\"Slug\":\"zimbabwe\",\"NewConfirmed\":67,\"TotalConfirmed\":254098,\"NewDeaths\":3,\"TotalDeaths\":5521,\"NewRecovered\":0,\"TotalRecovered\":0,\"Date\":\"2022-06-13T05:28:15.704Z\",\"Premium\":{}}],\"Date\":\"2022-06-13T05:28:15.704Z\"}\\n'"
      ]
     },
     "execution_count": 38,
     "metadata": {},
     "output_type": "execute_result"
    }
   ],
   "source": [
    "# To see the data returned \n",
    "r.text"
   ]
  },
  {
   "cell_type": "markdown",
   "id": "f5b9cfff",
   "metadata": {},
   "source": [
    "We will now use a method called json() to extract the json-structured data from the request 'r'"
   ]
  },
  {
   "cell_type": "code",
   "execution_count": 39,
   "id": "80bb5458",
   "metadata": {},
   "outputs": [],
   "source": [
    "json = r.json()"
   ]
  },
  {
   "cell_type": "code",
   "execution_count": 40,
   "id": "c360c51a",
   "metadata": {},
   "outputs": [
    {
     "data": {
      "text/plain": [
       "dict_keys(['ID', 'Message', 'Global', 'Countries', 'Date'])"
      ]
     },
     "execution_count": 40,
     "metadata": {},
     "output_type": "execute_result"
    }
   ],
   "source": [
    "# .keys() is a method of returning keys of a dictionary \n",
    "# More on https://www.w3schools.com/python/ref_dictionary_keys.asp\n",
    "\n",
    "json.keys()"
   ]
  },
  {
   "cell_type": "code",
   "execution_count": 41,
   "id": "b8abe846",
   "metadata": {},
   "outputs": [
    {
     "data": {
      "text/plain": [
       "{'NewConfirmed': 224924,\n",
       " 'TotalConfirmed': 533787388,\n",
       " 'NewDeaths': 696,\n",
       " 'TotalDeaths': 6304011,\n",
       " 'NewRecovered': 0,\n",
       " 'TotalRecovered': 0,\n",
       " 'Date': '2022-06-13T05:28:15.704Z'}"
      ]
     },
     "execution_count": 41,
     "metadata": {},
     "output_type": "execute_result"
    }
   ],
   "source": [
    "json['Global']"
   ]
  },
  {
   "cell_type": "code",
   "execution_count": 42,
   "id": "5177fee8",
   "metadata": {
    "scrolled": true
   },
   "outputs": [
    {
     "data": {
      "text/plain": [
       "[{'ID': '48dfed97-2334-498c-b1bb-02c96e2317fd',\n",
       "  'Country': 'Afghanistan',\n",
       "  'CountryCode': 'AF',\n",
       "  'Slug': 'afghanistan',\n",
       "  'NewConfirmed': 0,\n",
       "  'TotalConfirmed': 180864,\n",
       "  'NewDeaths': 0,\n",
       "  'TotalDeaths': 7709,\n",
       "  'NewRecovered': 0,\n",
       "  'TotalRecovered': 0,\n",
       "  'Date': '2022-06-13T05:28:15.704Z',\n",
       "  'Premium': {}},\n",
       " {'ID': '644964b7-f36c-4790-a89e-e219e8e6436d',\n",
       "  'Country': 'Albania',\n",
       "  'CountryCode': 'AL',\n",
       "  'Slug': 'albania',\n",
       "  'NewConfirmed': 41,\n",
       "  'TotalConfirmed': 276731,\n",
       "  'NewDeaths': 0,\n",
       "  'TotalDeaths': 3497,\n",
       "  'NewRecovered': 0,\n",
       "  'TotalRecovered': 0,\n",
       "  'Date': '2022-06-13T05:28:15.704Z',\n",
       "  'Premium': {}},\n",
       " {'ID': '9a9aab62-9a41-4e2f-a892-742b288720bf',\n",
       "  'Country': 'Algeria',\n",
       "  'CountryCode': 'DZ',\n",
       "  'Slug': 'algeria',\n",
       "  'NewConfirmed': 2,\n",
       "  'TotalConfirmed': 265927,\n",
       "  'NewDeaths': 0,\n",
       "  'TotalDeaths': 6875,\n",
       "  'NewRecovered': 0,\n",
       "  'TotalRecovered': 0,\n",
       "  'Date': '2022-06-13T05:28:15.704Z',\n",
       "  'Premium': {}},\n",
       " {'ID': 'bbc359e2-4baf-4d5a-95be-a23ae10905e4',\n",
       "  'Country': 'Andorra',\n",
       "  'CountryCode': 'AD',\n",
       "  'Slug': 'andorra',\n",
       "  'NewConfirmed': 0,\n",
       "  'TotalConfirmed': 43224,\n",
       "  'NewDeaths': 0,\n",
       "  'TotalDeaths': 153,\n",
       "  'NewRecovered': 0,\n",
       "  'TotalRecovered': 0,\n",
       "  'Date': '2022-06-13T05:28:15.704Z',\n",
       "  'Premium': {}},\n",
       " {'ID': '26a5c7a9-ba7b-4a99-ace3-f9d077e26ee6',\n",
       "  'Country': 'Angola',\n",
       "  'CountryCode': 'AO',\n",
       "  'Slug': 'angola',\n",
       "  'NewConfirmed': 0,\n",
       "  'TotalConfirmed': 99761,\n",
       "  'NewDeaths': 0,\n",
       "  'TotalDeaths': 1900,\n",
       "  'NewRecovered': 0,\n",
       "  'TotalRecovered': 0,\n",
       "  'Date': '2022-06-13T05:28:15.704Z',\n",
       "  'Premium': {}},\n",
       " {'ID': '2782ea2e-f027-4ae4-846d-20ae4e4fad31',\n",
       "  'Country': 'Antarctica',\n",
       "  'CountryCode': 'AQ',\n",
       "  'Slug': 'antarctica',\n",
       "  'NewConfirmed': 0,\n",
       "  'TotalConfirmed': 11,\n",
       "  'NewDeaths': 0,\n",
       "  'TotalDeaths': 0,\n",
       "  'NewRecovered': 0,\n",
       "  'TotalRecovered': 0,\n",
       "  'Date': '2022-06-13T05:28:15.704Z',\n",
       "  'Premium': {}},\n",
       " {'ID': '9b61d17d-26bc-453f-90d4-2b8b2e477238',\n",
       "  'Country': 'Antigua and Barbuda',\n",
       "  'CountryCode': 'AG',\n",
       "  'Slug': 'antigua-and-barbuda',\n",
       "  'NewConfirmed': 13,\n",
       "  'TotalConfirmed': 8492,\n",
       "  'NewDeaths': 0,\n",
       "  'TotalDeaths': 140,\n",
       "  'NewRecovered': 0,\n",
       "  'TotalRecovered': 0,\n",
       "  'Date': '2022-06-13T05:28:15.704Z',\n",
       "  'Premium': {}},\n",
       " {'ID': '8a83b8bf-a9d4-4178-8092-8fe49762e693',\n",
       "  'Country': 'Argentina',\n",
       "  'CountryCode': 'AR',\n",
       "  'Slug': 'argentina',\n",
       "  'NewConfirmed': 0,\n",
       "  'TotalConfirmed': 9276618,\n",
       "  'NewDeaths': 0,\n",
       "  'TotalDeaths': 128973,\n",
       "  'NewRecovered': 0,\n",
       "  'TotalRecovered': 0,\n",
       "  'Date': '2022-06-13T05:28:15.704Z',\n",
       "  'Premium': {}},\n",
       " {'ID': '6ea0f7dc-5e9a-41e4-b8bc-18c50e776b03',\n",
       "  'Country': 'Armenia',\n",
       "  'CountryCode': 'AM',\n",
       "  'Slug': 'armenia',\n",
       "  'NewConfirmed': 0,\n",
       "  'TotalConfirmed': 423006,\n",
       "  'NewDeaths': 0,\n",
       "  'TotalDeaths': 8629,\n",
       "  'NewRecovered': 0,\n",
       "  'TotalRecovered': 0,\n",
       "  'Date': '2022-06-13T05:28:15.704Z',\n",
       "  'Premium': {}},\n",
       " {'ID': '488dba25-75d3-4418-a806-0795a16a274e',\n",
       "  'Country': 'Australia',\n",
       "  'CountryCode': 'AU',\n",
       "  'Slug': 'australia',\n",
       "  'NewConfirmed': 16393,\n",
       "  'TotalConfirmed': 7614107,\n",
       "  'NewDeaths': 24,\n",
       "  'TotalDeaths': 9048,\n",
       "  'NewRecovered': 0,\n",
       "  'TotalRecovered': 0,\n",
       "  'Date': '2022-06-13T05:28:15.704Z',\n",
       "  'Premium': {}},\n",
       " {'ID': '21190adb-f081-4526-a6f3-b7307ab52d64',\n",
       "  'Country': 'Austria',\n",
       "  'CountryCode': 'AT',\n",
       "  'Slug': 'austria',\n",
       "  'NewConfirmed': 0,\n",
       "  'TotalConfirmed': 4316435,\n",
       "  'NewDeaths': 0,\n",
       "  'TotalDeaths': 19963,\n",
       "  'NewRecovered': 0,\n",
       "  'TotalRecovered': 0,\n",
       "  'Date': '2022-06-13T05:28:15.704Z',\n",
       "  'Premium': {}},\n",
       " {'ID': 'ff323a48-33b1-4e34-9448-1d43c4724153',\n",
       "  'Country': 'Azerbaijan',\n",
       "  'CountryCode': 'AZ',\n",
       "  'Slug': 'azerbaijan',\n",
       "  'NewConfirmed': 0,\n",
       "  'TotalConfirmed': 792785,\n",
       "  'NewDeaths': 0,\n",
       "  'TotalDeaths': 9713,\n",
       "  'NewRecovered': 0,\n",
       "  'TotalRecovered': 0,\n",
       "  'Date': '2022-06-13T05:28:15.704Z',\n",
       "  'Premium': {}},\n",
       " {'ID': 'e0f59c43-ac88-4e5d-bd8a-d95ac7df0fc3',\n",
       "  'Country': 'Bahamas',\n",
       "  'CountryCode': 'BS',\n",
       "  'Slug': 'bahamas',\n",
       "  'NewConfirmed': 46,\n",
       "  'TotalConfirmed': 35332,\n",
       "  'NewDeaths': 0,\n",
       "  'TotalDeaths': 812,\n",
       "  'NewRecovered': 0,\n",
       "  'TotalRecovered': 0,\n",
       "  'Date': '2022-06-13T05:28:15.704Z',\n",
       "  'Premium': {}},\n",
       " {'ID': 'd335f889-845d-46d4-a49c-0a8f5344b6db',\n",
       "  'Country': 'Bahrain',\n",
       "  'CountryCode': 'BH',\n",
       "  'Slug': 'bahrain',\n",
       "  'NewConfirmed': 1166,\n",
       "  'TotalConfirmed': 595787,\n",
       "  'NewDeaths': 0,\n",
       "  'TotalDeaths': 1489,\n",
       "  'NewRecovered': 0,\n",
       "  'TotalRecovered': 0,\n",
       "  'Date': '2022-06-13T05:28:15.704Z',\n",
       "  'Premium': {}},\n",
       " {'ID': '8620df6e-32c3-459c-ad98-43b867ad0980',\n",
       "  'Country': 'Bangladesh',\n",
       "  'CountryCode': 'BD',\n",
       "  'Slug': 'bangladesh',\n",
       "  'NewConfirmed': 109,\n",
       "  'TotalConfirmed': 1954115,\n",
       "  'NewDeaths': 0,\n",
       "  'TotalDeaths': 29131,\n",
       "  'NewRecovered': 0,\n",
       "  'TotalRecovered': 0,\n",
       "  'Date': '2022-06-13T05:28:15.704Z',\n",
       "  'Premium': {}},\n",
       " {'ID': 'b92fb7b5-6b29-4a5a-ba6d-e6b91ee8f5e9',\n",
       "  'Country': 'Barbados',\n",
       "  'CountryCode': 'BB',\n",
       "  'Slug': 'barbados',\n",
       "  'NewConfirmed': 72,\n",
       "  'TotalConfirmed': 82255,\n",
       "  'NewDeaths': 0,\n",
       "  'TotalDeaths': 467,\n",
       "  'NewRecovered': 0,\n",
       "  'TotalRecovered': 0,\n",
       "  'Date': '2022-06-13T05:28:15.704Z',\n",
       "  'Premium': {}},\n",
       " {'ID': 'fa2855ce-71b9-4116-9528-88ee3b2b50c6',\n",
       "  'Country': 'Belarus',\n",
       "  'CountryCode': 'BY',\n",
       "  'Slug': 'belarus',\n",
       "  'NewConfirmed': 0,\n",
       "  'TotalConfirmed': 982867,\n",
       "  'NewDeaths': 0,\n",
       "  'TotalDeaths': 6978,\n",
       "  'NewRecovered': 0,\n",
       "  'TotalRecovered': 0,\n",
       "  'Date': '2022-06-13T05:28:15.704Z',\n",
       "  'Premium': {}},\n",
       " {'ID': '4c53a898-24a1-4aa6-8084-2d21d5caaf33',\n",
       "  'Country': 'Belgium',\n",
       "  'CountryCode': 'BE',\n",
       "  'Slug': 'belgium',\n",
       "  'NewConfirmed': 0,\n",
       "  'TotalConfirmed': 4170252,\n",
       "  'NewDeaths': 0,\n",
       "  'TotalDeaths': 31816,\n",
       "  'NewRecovered': 0,\n",
       "  'TotalRecovered': 0,\n",
       "  'Date': '2022-06-13T05:28:15.704Z',\n",
       "  'Premium': {}},\n",
       " {'ID': '4abc5f77-c088-4e63-81d8-b548edff6bf1',\n",
       "  'Country': 'Belize',\n",
       "  'CountryCode': 'BZ',\n",
       "  'Slug': 'belize',\n",
       "  'NewConfirmed': 0,\n",
       "  'TotalConfirmed': 60863,\n",
       "  'NewDeaths': 0,\n",
       "  'TotalDeaths': 678,\n",
       "  'NewRecovered': 0,\n",
       "  'TotalRecovered': 0,\n",
       "  'Date': '2022-06-13T05:28:15.704Z',\n",
       "  'Premium': {}},\n",
       " {'ID': '6d255076-9542-41fa-985b-ba5832264a78',\n",
       "  'Country': 'Benin',\n",
       "  'CountryCode': 'BJ',\n",
       "  'Slug': 'benin',\n",
       "  'NewConfirmed': 0,\n",
       "  'TotalConfirmed': 26952,\n",
       "  'NewDeaths': 0,\n",
       "  'TotalDeaths': 163,\n",
       "  'NewRecovered': 0,\n",
       "  'TotalRecovered': 0,\n",
       "  'Date': '2022-06-13T05:28:15.704Z',\n",
       "  'Premium': {}},\n",
       " {'ID': 'dde3f0da-3f02-443d-b4c7-041589a5b5f2',\n",
       "  'Country': 'Bhutan',\n",
       "  'CountryCode': 'BT',\n",
       "  'Slug': 'bhutan',\n",
       "  'NewConfirmed': 0,\n",
       "  'TotalConfirmed': 59636,\n",
       "  'NewDeaths': 0,\n",
       "  'TotalDeaths': 21,\n",
       "  'NewRecovered': 0,\n",
       "  'TotalRecovered': 0,\n",
       "  'Date': '2022-06-13T05:28:15.704Z',\n",
       "  'Premium': {}},\n",
       " {'ID': '403e9763-8957-43b8-a025-956568c55365',\n",
       "  'Country': 'Bolivia',\n",
       "  'CountryCode': 'BO',\n",
       "  'Slug': 'bolivia',\n",
       "  'NewConfirmed': 0,\n",
       "  'TotalConfirmed': 912272,\n",
       "  'NewDeaths': 0,\n",
       "  'TotalDeaths': 21951,\n",
       "  'NewRecovered': 0,\n",
       "  'TotalRecovered': 0,\n",
       "  'Date': '2022-06-13T05:28:15.704Z',\n",
       "  'Premium': {}},\n",
       " {'ID': '14487984-14be-477b-a2fe-dad5ab87740a',\n",
       "  'Country': 'Bosnia and Herzegovina',\n",
       "  'CountryCode': 'BA',\n",
       "  'Slug': 'bosnia-and-herzegovina',\n",
       "  'NewConfirmed': 0,\n",
       "  'TotalConfirmed': 378083,\n",
       "  'NewDeaths': 0,\n",
       "  'TotalDeaths': 15793,\n",
       "  'NewRecovered': 0,\n",
       "  'TotalRecovered': 0,\n",
       "  'Date': '2022-06-13T05:28:15.704Z',\n",
       "  'Premium': {}},\n",
       " {'ID': '3a8acb24-83d1-4574-980d-ca9b89a4d64a',\n",
       "  'Country': 'Botswana',\n",
       "  'CountryCode': 'BW',\n",
       "  'Slug': 'botswana',\n",
       "  'NewConfirmed': 0,\n",
       "  'TotalConfirmed': 310431,\n",
       "  'NewDeaths': 0,\n",
       "  'TotalDeaths': 2701,\n",
       "  'NewRecovered': 0,\n",
       "  'TotalRecovered': 0,\n",
       "  'Date': '2022-06-13T05:28:15.704Z',\n",
       "  'Premium': {}},\n",
       " {'ID': '6a119ee9-9b72-41e4-a586-1b753636cb8a',\n",
       "  'Country': 'Brazil',\n",
       "  'CountryCode': 'BR',\n",
       "  'Slug': 'brazil',\n",
       "  'NewConfirmed': 27796,\n",
       "  'TotalConfirmed': 31445137,\n",
       "  'NewDeaths': 114,\n",
       "  'TotalDeaths': 668074,\n",
       "  'NewRecovered': 0,\n",
       "  'TotalRecovered': 0,\n",
       "  'Date': '2022-06-13T05:28:15.704Z',\n",
       "  'Premium': {}},\n",
       " {'ID': 'e820273c-365b-405b-a36b-9c016c729df3',\n",
       "  'Country': 'Brunei Darussalam',\n",
       "  'CountryCode': 'BN',\n",
       "  'Slug': 'brunei',\n",
       "  'NewConfirmed': 381,\n",
       "  'TotalConfirmed': 153093,\n",
       "  'NewDeaths': 0,\n",
       "  'TotalDeaths': 225,\n",
       "  'NewRecovered': 0,\n",
       "  'TotalRecovered': 0,\n",
       "  'Date': '2022-06-13T05:28:15.704Z',\n",
       "  'Premium': {}},\n",
       " {'ID': '8988bf86-48ab-4fb3-9508-a8671675bb93',\n",
       "  'Country': 'Bulgaria',\n",
       "  'CountryCode': 'BG',\n",
       "  'Slug': 'bulgaria',\n",
       "  'NewConfirmed': 42,\n",
       "  'TotalConfirmed': 1166901,\n",
       "  'NewDeaths': 0,\n",
       "  'TotalDeaths': 37196,\n",
       "  'NewRecovered': 0,\n",
       "  'TotalRecovered': 0,\n",
       "  'Date': '2022-06-13T05:28:15.704Z',\n",
       "  'Premium': {}},\n",
       " {'ID': '448ebeec-b62f-4528-b673-e1d6a561fae0',\n",
       "  'Country': 'Burkina Faso',\n",
       "  'CountryCode': 'BF',\n",
       "  'Slug': 'burkina-faso',\n",
       "  'NewConfirmed': 0,\n",
       "  'TotalConfirmed': 20899,\n",
       "  'NewDeaths': 0,\n",
       "  'TotalDeaths': 384,\n",
       "  'NewRecovered': 0,\n",
       "  'TotalRecovered': 0,\n",
       "  'Date': '2022-06-13T05:28:15.704Z',\n",
       "  'Premium': {}},\n",
       " {'ID': 'a32c5ac0-ae55-491c-ba91-863c8247330d',\n",
       "  'Country': 'Burundi',\n",
       "  'CountryCode': 'BI',\n",
       "  'Slug': 'burundi',\n",
       "  'NewConfirmed': 0,\n",
       "  'TotalConfirmed': 42248,\n",
       "  'NewDeaths': 0,\n",
       "  'TotalDeaths': 38,\n",
       "  'NewRecovered': 0,\n",
       "  'TotalRecovered': 0,\n",
       "  'Date': '2022-06-13T05:28:15.704Z',\n",
       "  'Premium': {}},\n",
       " {'ID': 'b05decab-b2d2-4618-ba5d-b17535e20205',\n",
       "  'Country': 'Cambodia',\n",
       "  'CountryCode': 'KH',\n",
       "  'Slug': 'cambodia',\n",
       "  'NewConfirmed': 0,\n",
       "  'TotalConfirmed': 136262,\n",
       "  'NewDeaths': 0,\n",
       "  'TotalDeaths': 3056,\n",
       "  'NewRecovered': 0,\n",
       "  'TotalRecovered': 0,\n",
       "  'Date': '2022-06-13T05:28:15.704Z',\n",
       "  'Premium': {}},\n",
       " {'ID': '462e2176-b115-4da7-bbbb-ee0911700ea6',\n",
       "  'Country': 'Cameroon',\n",
       "  'CountryCode': 'CM',\n",
       "  'Slug': 'cameroon',\n",
       "  'NewConfirmed': 0,\n",
       "  'TotalConfirmed': 119947,\n",
       "  'NewDeaths': 0,\n",
       "  'TotalDeaths': 1930,\n",
       "  'NewRecovered': 0,\n",
       "  'TotalRecovered': 0,\n",
       "  'Date': '2022-06-13T05:28:15.704Z',\n",
       "  'Premium': {}},\n",
       " {'ID': 'c3f703e2-cb5d-40c4-8e02-29578555bf8e',\n",
       "  'Country': 'Canada',\n",
       "  'CountryCode': 'CA',\n",
       "  'Slug': 'canada',\n",
       "  'NewConfirmed': 710,\n",
       "  'TotalConfirmed': 3328745,\n",
       "  'NewDeaths': 5,\n",
       "  'TotalDeaths': 37008,\n",
       "  'NewRecovered': 0,\n",
       "  'TotalRecovered': 0,\n",
       "  'Date': '2022-06-13T05:28:15.704Z',\n",
       "  'Premium': {}},\n",
       " {'ID': '2240f97b-3357-4d70-842a-85e8b5f39c4f',\n",
       "  'Country': 'Cape Verde',\n",
       "  'CountryCode': 'CV',\n",
       "  'Slug': 'cape-verde',\n",
       "  'NewConfirmed': 56,\n",
       "  'TotalConfirmed': 57096,\n",
       "  'NewDeaths': 0,\n",
       "  'TotalDeaths': 402,\n",
       "  'NewRecovered': 0,\n",
       "  'TotalRecovered': 0,\n",
       "  'Date': '2022-06-13T05:28:15.704Z',\n",
       "  'Premium': {}},\n",
       " {'ID': '51dfc334-6be9-4856-9370-7790a89426b9',\n",
       "  'Country': 'Central African Republic',\n",
       "  'CountryCode': 'CF',\n",
       "  'Slug': 'central-african-republic',\n",
       "  'NewConfirmed': 0,\n",
       "  'TotalConfirmed': 14649,\n",
       "  'NewDeaths': 0,\n",
       "  'TotalDeaths': 113,\n",
       "  'NewRecovered': 0,\n",
       "  'TotalRecovered': 0,\n",
       "  'Date': '2022-06-13T05:28:15.704Z',\n",
       "  'Premium': {}},\n",
       " {'ID': '13d3a601-6822-4bb8-b222-ae35c32be1db',\n",
       "  'Country': 'Chad',\n",
       "  'CountryCode': 'TD',\n",
       "  'Slug': 'chad',\n",
       "  'NewConfirmed': 0,\n",
       "  'TotalConfirmed': 7418,\n",
       "  'NewDeaths': 0,\n",
       "  'TotalDeaths': 193,\n",
       "  'NewRecovered': 0,\n",
       "  'TotalRecovered': 0,\n",
       "  'Date': '2022-06-13T05:28:15.704Z',\n",
       "  'Premium': {}},\n",
       " {'ID': 'b769c9e4-7499-4745-b9d0-1d13e4447b8b',\n",
       "  'Country': 'Chile',\n",
       "  'CountryCode': 'CL',\n",
       "  'Slug': 'chile',\n",
       "  'NewConfirmed': 12061,\n",
       "  'TotalConfirmed': 3808970,\n",
       "  'NewDeaths': 22,\n",
       "  'TotalDeaths': 58076,\n",
       "  'NewRecovered': 0,\n",
       "  'TotalRecovered': 0,\n",
       "  'Date': '2022-06-13T05:28:15.704Z',\n",
       "  'Premium': {}},\n",
       " {'ID': '60b7416b-fb1c-4520-93ff-332e4904ab3b',\n",
       "  'Country': 'China',\n",
       "  'CountryCode': 'CN',\n",
       "  'Slug': 'china',\n",
       "  'NewConfirmed': 985,\n",
       "  'TotalConfirmed': 1443237,\n",
       "  'NewDeaths': 0,\n",
       "  'TotalDeaths': 14616,\n",
       "  'NewRecovered': 0,\n",
       "  'TotalRecovered': 0,\n",
       "  'Date': '2022-06-13T05:28:15.704Z',\n",
       "  'Premium': {}},\n",
       " {'ID': '3f5bb895-f560-4917-8f3b-3d30a0db1d77',\n",
       "  'Country': 'Colombia',\n",
       "  'CountryCode': 'CO',\n",
       "  'Slug': 'colombia',\n",
       "  'NewConfirmed': 0,\n",
       "  'TotalConfirmed': 6117847,\n",
       "  'NewDeaths': 0,\n",
       "  'TotalDeaths': 139894,\n",
       "  'NewRecovered': 0,\n",
       "  'TotalRecovered': 0,\n",
       "  'Date': '2022-06-13T05:28:15.704Z',\n",
       "  'Premium': {}},\n",
       " {'ID': '5e95b4ba-eefc-4d3b-94a9-e80d60ecc4cd',\n",
       "  'Country': 'Comoros',\n",
       "  'CountryCode': 'KM',\n",
       "  'Slug': 'comoros',\n",
       "  'NewConfirmed': 0,\n",
       "  'TotalConfirmed': 8131,\n",
       "  'NewDeaths': 0,\n",
       "  'TotalDeaths': 160,\n",
       "  'NewRecovered': 0,\n",
       "  'TotalRecovered': 0,\n",
       "  'Date': '2022-06-13T05:28:15.704Z',\n",
       "  'Premium': {}},\n",
       " {'ID': '0493d539-728d-4358-8b7d-0504e8ba5366',\n",
       "  'Country': 'Congo (Brazzaville)',\n",
       "  'CountryCode': 'CG',\n",
       "  'Slug': 'congo-brazzaville',\n",
       "  'NewConfirmed': 0,\n",
       "  'TotalConfirmed': 24128,\n",
       "  'NewDeaths': 0,\n",
       "  'TotalDeaths': 385,\n",
       "  'NewRecovered': 0,\n",
       "  'TotalRecovered': 0,\n",
       "  'Date': '2022-06-13T05:28:15.704Z',\n",
       "  'Premium': {}},\n",
       " {'ID': '4d76616a-9d3f-41dc-bf1f-ccdada46ba87',\n",
       "  'Country': 'Congo (Kinshasa)',\n",
       "  'CountryCode': 'CD',\n",
       "  'Slug': 'congo-kinshasa',\n",
       "  'NewConfirmed': 0,\n",
       "  'TotalConfirmed': 89932,\n",
       "  'NewDeaths': 0,\n",
       "  'TotalDeaths': 1345,\n",
       "  'NewRecovered': 0,\n",
       "  'TotalRecovered': 0,\n",
       "  'Date': '2022-06-13T05:28:15.704Z',\n",
       "  'Premium': {}},\n",
       " {'ID': 'b3f2ffd0-0c73-482e-a12d-6b80be0950c0',\n",
       "  'Country': 'Costa Rica',\n",
       "  'CountryCode': 'CR',\n",
       "  'Slug': 'costa-rica',\n",
       "  'NewConfirmed': 0,\n",
       "  'TotalConfirmed': 904934,\n",
       "  'NewDeaths': 0,\n",
       "  'TotalDeaths': 8525,\n",
       "  'NewRecovered': 0,\n",
       "  'TotalRecovered': 0,\n",
       "  'Date': '2022-06-13T05:28:15.704Z',\n",
       "  'Premium': {}},\n",
       " {'ID': '6109685b-8f97-4137-9364-0d1aeb4fc621',\n",
       "  'Country': 'Croatia',\n",
       "  'CountryCode': 'HR',\n",
       "  'Slug': 'croatia',\n",
       "  'NewConfirmed': 204,\n",
       "  'TotalConfirmed': 1139816,\n",
       "  'NewDeaths': 3,\n",
       "  'TotalDeaths': 16019,\n",
       "  'NewRecovered': 0,\n",
       "  'TotalRecovered': 0,\n",
       "  'Date': '2022-06-13T05:28:15.704Z',\n",
       "  'Premium': {}},\n",
       " {'ID': 'bc819b2f-4315-4d4b-acc0-edecb4a0408c',\n",
       "  'Country': 'Cuba',\n",
       "  'CountryCode': 'CU',\n",
       "  'Slug': 'cuba',\n",
       "  'NewConfirmed': 20,\n",
       "  'TotalConfirmed': 1105612,\n",
       "  'NewDeaths': 0,\n",
       "  'TotalDeaths': 8529,\n",
       "  'NewRecovered': 0,\n",
       "  'TotalRecovered': 0,\n",
       "  'Date': '2022-06-13T05:28:15.704Z',\n",
       "  'Premium': {}},\n",
       " {'ID': '100a2ce7-781a-4d33-8559-88acf148b63e',\n",
       "  'Country': 'Cyprus',\n",
       "  'CountryCode': 'CY',\n",
       "  'Slug': 'cyprus',\n",
       "  'NewConfirmed': 0,\n",
       "  'TotalConfirmed': 493984,\n",
       "  'NewDeaths': 0,\n",
       "  'TotalDeaths': 1068,\n",
       "  'NewRecovered': 0,\n",
       "  'TotalRecovered': 0,\n",
       "  'Date': '2022-06-13T05:28:15.704Z',\n",
       "  'Premium': {}},\n",
       " {'ID': 'b09690db-6252-472a-a29a-aaff9dc362fd',\n",
       "  'Country': 'Czech Republic',\n",
       "  'CountryCode': 'CZ',\n",
       "  'Slug': 'czech-republic',\n",
       "  'NewConfirmed': 0,\n",
       "  'TotalConfirmed': 3922968,\n",
       "  'NewDeaths': 0,\n",
       "  'TotalDeaths': 40301,\n",
       "  'NewRecovered': 0,\n",
       "  'TotalRecovered': 0,\n",
       "  'Date': '2022-06-13T05:28:15.704Z',\n",
       "  'Premium': {}},\n",
       " {'ID': 'cb97404f-6bf6-492f-80fe-c9a2eb1a3227',\n",
       "  'Country': \"Côte d'Ivoire\",\n",
       "  'CountryCode': 'CI',\n",
       "  'Slug': 'cote-divoire',\n",
       "  'NewConfirmed': 20,\n",
       "  'TotalConfirmed': 82487,\n",
       "  'NewDeaths': 0,\n",
       "  'TotalDeaths': 799,\n",
       "  'NewRecovered': 0,\n",
       "  'TotalRecovered': 0,\n",
       "  'Date': '2022-06-13T05:28:15.704Z',\n",
       "  'Premium': {}},\n",
       " {'ID': 'ff6844c2-dfc3-49e8-8a94-e387e012110a',\n",
       "  'Country': 'Denmark',\n",
       "  'CountryCode': 'DK',\n",
       "  'Slug': 'denmark',\n",
       "  'NewConfirmed': 0,\n",
       "  'TotalConfirmed': 3190021,\n",
       "  'NewDeaths': 0,\n",
       "  'TotalDeaths': 6453,\n",
       "  'NewRecovered': 0,\n",
       "  'TotalRecovered': 0,\n",
       "  'Date': '2022-06-13T05:28:15.704Z',\n",
       "  'Premium': {}},\n",
       " {'ID': '71765a52-e037-46f7-b615-d32828cb1ba6',\n",
       "  'Country': 'Djibouti',\n",
       "  'CountryCode': 'DJ',\n",
       "  'Slug': 'djibouti',\n",
       "  'NewConfirmed': 0,\n",
       "  'TotalConfirmed': 15686,\n",
       "  'NewDeaths': 0,\n",
       "  'TotalDeaths': 189,\n",
       "  'NewRecovered': 0,\n",
       "  'TotalRecovered': 0,\n",
       "  'Date': '2022-06-13T05:28:15.704Z',\n",
       "  'Premium': {}},\n",
       " {'ID': 'ee002ea7-0350-4c08-b4b3-ae3aec0cb961',\n",
       "  'Country': 'Dominica',\n",
       "  'CountryCode': 'DM',\n",
       "  'Slug': 'dominica',\n",
       "  'NewConfirmed': 0,\n",
       "  'TotalConfirmed': 14638,\n",
       "  'NewDeaths': 0,\n",
       "  'TotalDeaths': 67,\n",
       "  'NewRecovered': 0,\n",
       "  'TotalRecovered': 0,\n",
       "  'Date': '2022-06-13T05:28:15.704Z',\n",
       "  'Premium': {}},\n",
       " {'ID': 'c3feedb4-818a-4f74-8b3a-ab47ddaa2165',\n",
       "  'Country': 'Dominican Republic',\n",
       "  'CountryCode': 'DO',\n",
       "  'Slug': 'dominican-republic',\n",
       "  'NewConfirmed': 0,\n",
       "  'TotalConfirmed': 590764,\n",
       "  'NewDeaths': 0,\n",
       "  'TotalDeaths': 4380,\n",
       "  'NewRecovered': 0,\n",
       "  'TotalRecovered': 0,\n",
       "  'Date': '2022-06-13T05:28:15.704Z',\n",
       "  'Premium': {}},\n",
       " {'ID': '8296014d-dc5f-4be4-b7c4-16bff144cc23',\n",
       "  'Country': 'Ecuador',\n",
       "  'CountryCode': 'EC',\n",
       "  'Slug': 'ecuador',\n",
       "  'NewConfirmed': 0,\n",
       "  'TotalConfirmed': 887478,\n",
       "  'NewDeaths': 0,\n",
       "  'TotalDeaths': 35652,\n",
       "  'NewRecovered': 0,\n",
       "  'TotalRecovered': 0,\n",
       "  'Date': '2022-06-13T05:28:15.704Z',\n",
       "  'Premium': {}},\n",
       " {'ID': '13cef90e-b7b6-456f-bedb-92390bb88da8',\n",
       "  'Country': 'Egypt',\n",
       "  'CountryCode': 'EG',\n",
       "  'Slug': 'egypt',\n",
       "  'NewConfirmed': 0,\n",
       "  'TotalConfirmed': 515645,\n",
       "  'NewDeaths': 0,\n",
       "  'TotalDeaths': 24719,\n",
       "  'NewRecovered': 0,\n",
       "  'TotalRecovered': 0,\n",
       "  'Date': '2022-06-13T05:28:15.704Z',\n",
       "  'Premium': {}},\n",
       " {'ID': '4d3b8d82-c38e-4119-acba-ad2082121828',\n",
       "  'Country': 'El Salvador',\n",
       "  'CountryCode': 'SV',\n",
       "  'Slug': 'el-salvador',\n",
       "  'NewConfirmed': 0,\n",
       "  'TotalConfirmed': 164134,\n",
       "  'NewDeaths': 0,\n",
       "  'TotalDeaths': 4135,\n",
       "  'NewRecovered': 0,\n",
       "  'TotalRecovered': 0,\n",
       "  'Date': '2022-06-13T05:28:15.704Z',\n",
       "  'Premium': {}},\n",
       " {'ID': '0ff701c7-ee14-481c-8335-30d130ff9d8d',\n",
       "  'Country': 'Equatorial Guinea',\n",
       "  'CountryCode': 'GQ',\n",
       "  'Slug': 'equatorial-guinea',\n",
       "  'NewConfirmed': 0,\n",
       "  'TotalConfirmed': 15937,\n",
       "  'NewDeaths': 0,\n",
       "  'TotalDeaths': 183,\n",
       "  'NewRecovered': 0,\n",
       "  'TotalRecovered': 0,\n",
       "  'Date': '2022-06-13T05:28:15.704Z',\n",
       "  'Premium': {}},\n",
       " {'ID': '3f0ffe6a-9566-4e36-8b17-378d5ea635ee',\n",
       "  'Country': 'Eritrea',\n",
       "  'CountryCode': 'ER',\n",
       "  'Slug': 'eritrea',\n",
       "  'NewConfirmed': 2,\n",
       "  'TotalConfirmed': 9771,\n",
       "  'NewDeaths': 0,\n",
       "  'TotalDeaths': 103,\n",
       "  'NewRecovered': 0,\n",
       "  'TotalRecovered': 0,\n",
       "  'Date': '2022-06-13T05:28:15.704Z',\n",
       "  'Premium': {}},\n",
       " {'ID': '710e4ecd-f6d2-4238-87fa-4991f9b1956d',\n",
       "  'Country': 'Estonia',\n",
       "  'CountryCode': 'EE',\n",
       "  'Slug': 'estonia',\n",
       "  'NewConfirmed': 0,\n",
       "  'TotalConfirmed': 577655,\n",
       "  'NewDeaths': 0,\n",
       "  'TotalDeaths': 2574,\n",
       "  'NewRecovered': 0,\n",
       "  'TotalRecovered': 0,\n",
       "  'Date': '2022-06-13T05:28:15.704Z',\n",
       "  'Premium': {}},\n",
       " {'ID': '86957082-657e-47ac-ad20-1b49acad2b6f',\n",
       "  'Country': 'Ethiopia',\n",
       "  'CountryCode': 'ET',\n",
       "  'Slug': 'ethiopia',\n",
       "  'NewConfirmed': 419,\n",
       "  'TotalConfirmed': 478963,\n",
       "  'NewDeaths': 0,\n",
       "  'TotalDeaths': 7516,\n",
       "  'NewRecovered': 0,\n",
       "  'TotalRecovered': 0,\n",
       "  'Date': '2022-06-13T05:28:15.704Z',\n",
       "  'Premium': {}},\n",
       " {'ID': '114cb505-61f9-4bf1-bd78-4d9e24441669',\n",
       "  'Country': 'Fiji',\n",
       "  'CountryCode': 'FJ',\n",
       "  'Slug': 'fiji',\n",
       "  'NewConfirmed': 0,\n",
       "  'TotalConfirmed': 65159,\n",
       "  'NewDeaths': 0,\n",
       "  'TotalDeaths': 864,\n",
       "  'NewRecovered': 0,\n",
       "  'TotalRecovered': 0,\n",
       "  'Date': '2022-06-13T05:28:15.704Z',\n",
       "  'Premium': {}},\n",
       " {'ID': '0f671dd9-d8eb-4f02-af18-ed36396f7817',\n",
       "  'Country': 'Finland',\n",
       "  'CountryCode': 'FI',\n",
       "  'Slug': 'finland',\n",
       "  'NewConfirmed': 0,\n",
       "  'TotalConfirmed': 1114573,\n",
       "  'NewDeaths': 0,\n",
       "  'TotalDeaths': 4714,\n",
       "  'NewRecovered': 0,\n",
       "  'TotalRecovered': 0,\n",
       "  'Date': '2022-06-13T05:28:15.704Z',\n",
       "  'Premium': {}},\n",
       " {'ID': 'c8b47d0c-3da0-4c08-9273-6be054ea3e4c',\n",
       "  'Country': 'France',\n",
       "  'CountryCode': 'FR',\n",
       "  'Slug': 'france',\n",
       "  'NewConfirmed': 0,\n",
       "  'TotalConfirmed': 29946603,\n",
       "  'NewDeaths': 0,\n",
       "  'TotalDeaths': 149788,\n",
       "  'NewRecovered': 0,\n",
       "  'TotalRecovered': 0,\n",
       "  'Date': '2022-06-13T05:28:15.704Z',\n",
       "  'Premium': {}},\n",
       " {'ID': '3606a950-83d1-4a98-805b-32eda68e9028',\n",
       "  'Country': 'Gabon',\n",
       "  'CountryCode': 'GA',\n",
       "  'Slug': 'gabon',\n",
       "  'NewConfirmed': 0,\n",
       "  'TotalConfirmed': 47711,\n",
       "  'NewDeaths': 0,\n",
       "  'TotalDeaths': 304,\n",
       "  'NewRecovered': 0,\n",
       "  'TotalRecovered': 0,\n",
       "  'Date': '2022-06-13T05:28:15.704Z',\n",
       "  'Premium': {}},\n",
       " {'ID': '90c08933-ada7-4506-aa7e-1f83330ed70b',\n",
       "  'Country': 'Gambia',\n",
       "  'CountryCode': 'GM',\n",
       "  'Slug': 'gambia',\n",
       "  'NewConfirmed': 0,\n",
       "  'TotalConfirmed': 12002,\n",
       "  'NewDeaths': 0,\n",
       "  'TotalDeaths': 365,\n",
       "  'NewRecovered': 0,\n",
       "  'TotalRecovered': 0,\n",
       "  'Date': '2022-06-13T05:28:15.704Z',\n",
       "  'Premium': {}},\n",
       " {'ID': '272099f2-aa16-4152-91f1-c8636bc5926d',\n",
       "  'Country': 'Georgia',\n",
       "  'CountryCode': 'GE',\n",
       "  'Slug': 'georgia',\n",
       "  'NewConfirmed': 0,\n",
       "  'TotalConfirmed': 1655221,\n",
       "  'NewDeaths': 0,\n",
       "  'TotalDeaths': 16811,\n",
       "  'NewRecovered': 0,\n",
       "  'TotalRecovered': 0,\n",
       "  'Date': '2022-06-13T05:28:15.704Z',\n",
       "  'Premium': {}},\n",
       " {'ID': '80936961-0cff-4363-928b-26f0006f39d0',\n",
       "  'Country': 'Germany',\n",
       "  'CountryCode': 'DE',\n",
       "  'Slug': 'germany',\n",
       "  'NewConfirmed': 0,\n",
       "  'TotalConfirmed': 26803867,\n",
       "  'NewDeaths': 0,\n",
       "  'TotalDeaths': 139806,\n",
       "  'NewRecovered': 0,\n",
       "  'TotalRecovered': 0,\n",
       "  'Date': '2022-06-13T05:28:15.704Z',\n",
       "  'Premium': {}},\n",
       " {'ID': '3332d46f-fdd8-4d95-bca7-b9bfa9104d15',\n",
       "  'Country': 'Ghana',\n",
       "  'CountryCode': 'GH',\n",
       "  'Slug': 'ghana',\n",
       "  'NewConfirmed': 94,\n",
       "  'TotalConfirmed': 161935,\n",
       "  'NewDeaths': 0,\n",
       "  'TotalDeaths': 1445,\n",
       "  'NewRecovered': 0,\n",
       "  'TotalRecovered': 0,\n",
       "  'Date': '2022-06-13T05:28:15.704Z',\n",
       "  'Premium': {}},\n",
       " {'ID': 'fd3c62a8-40f1-47a9-9458-394026b2eb01',\n",
       "  'Country': 'Greece',\n",
       "  'CountryCode': 'GR',\n",
       "  'Slug': 'greece',\n",
       "  'NewConfirmed': 3682,\n",
       "  'TotalConfirmed': 3500489,\n",
       "  'NewDeaths': 8,\n",
       "  'TotalDeaths': 30020,\n",
       "  'NewRecovered': 0,\n",
       "  'TotalRecovered': 0,\n",
       "  'Date': '2022-06-13T05:28:15.704Z',\n",
       "  'Premium': {}},\n",
       " {'ID': 'b683faf4-ecd8-46e3-b199-4d1539a12f6c',\n",
       "  'Country': 'Grenada',\n",
       "  'CountryCode': 'GD',\n",
       "  'Slug': 'grenada',\n",
       "  'NewConfirmed': 0,\n",
       "  'TotalConfirmed': 18035,\n",
       "  'NewDeaths': 0,\n",
       "  'TotalDeaths': 231,\n",
       "  'NewRecovered': 0,\n",
       "  'TotalRecovered': 0,\n",
       "  'Date': '2022-06-13T05:28:15.704Z',\n",
       "  'Premium': {}},\n",
       " {'ID': '52fd4030-b6be-4aed-a94d-421022f41069',\n",
       "  'Country': 'Guatemala',\n",
       "  'CountryCode': 'GT',\n",
       "  'Slug': 'guatemala',\n",
       "  'NewConfirmed': 215,\n",
       "  'TotalConfirmed': 871112,\n",
       "  'NewDeaths': 5,\n",
       "  'TotalDeaths': 18287,\n",
       "  'NewRecovered': 0,\n",
       "  'TotalRecovered': 0,\n",
       "  'Date': '2022-06-13T05:28:15.704Z',\n",
       "  'Premium': {}},\n",
       " {'ID': '4d502dad-f17f-4dc5-bd29-445e59ccf480',\n",
       "  'Country': 'Guinea',\n",
       "  'CountryCode': 'GN',\n",
       "  'Slug': 'guinea',\n",
       "  'NewConfirmed': 0,\n",
       "  'TotalConfirmed': 36817,\n",
       "  'NewDeaths': 0,\n",
       "  'TotalDeaths': 442,\n",
       "  'NewRecovered': 0,\n",
       "  'TotalRecovered': 0,\n",
       "  'Date': '2022-06-13T05:28:15.704Z',\n",
       "  'Premium': {}},\n",
       " {'ID': 'cd08b3f1-c4a4-42f9-a86c-5a5ca9a4a090',\n",
       "  'Country': 'Guinea-Bissau',\n",
       "  'CountryCode': 'GW',\n",
       "  'Slug': 'guinea-bissau',\n",
       "  'NewConfirmed': 1,\n",
       "  'TotalConfirmed': 8306,\n",
       "  'NewDeaths': 0,\n",
       "  'TotalDeaths': 171,\n",
       "  'NewRecovered': 0,\n",
       "  'TotalRecovered': 0,\n",
       "  'Date': '2022-06-13T05:28:15.704Z',\n",
       "  'Premium': {}},\n",
       " {'ID': 'fc5868aa-4908-4676-9fc4-9dd720bbdf47',\n",
       "  'Country': 'Guyana',\n",
       "  'CountryCode': 'GY',\n",
       "  'Slug': 'guyana',\n",
       "  'NewConfirmed': 33,\n",
       "  'TotalConfirmed': 65892,\n",
       "  'NewDeaths': 0,\n",
       "  'TotalDeaths': 1239,\n",
       "  'NewRecovered': 0,\n",
       "  'TotalRecovered': 0,\n",
       "  'Date': '2022-06-13T05:28:15.704Z',\n",
       "  'Premium': {}},\n",
       " {'ID': '29598c7d-1d64-4870-b705-2b705c90e04b',\n",
       "  'Country': 'Haiti',\n",
       "  'CountryCode': 'HT',\n",
       "  'Slug': 'haiti',\n",
       "  'NewConfirmed': 0,\n",
       "  'TotalConfirmed': 31004,\n",
       "  'NewDeaths': 0,\n",
       "  'TotalDeaths': 837,\n",
       "  'NewRecovered': 0,\n",
       "  'TotalRecovered': 0,\n",
       "  'Date': '2022-06-13T05:28:15.704Z',\n",
       "  'Premium': {}},\n",
       " {'ID': '53fa3a26-841c-4df7-b315-ffbe1fc8274e',\n",
       "  'Country': 'Holy See (Vatican City State)',\n",
       "  'CountryCode': 'VA',\n",
       "  'Slug': 'holy-see-vatican-city-state',\n",
       "  'NewConfirmed': 0,\n",
       "  'TotalConfirmed': 29,\n",
       "  'NewDeaths': 0,\n",
       "  'TotalDeaths': 0,\n",
       "  'NewRecovered': 0,\n",
       "  'TotalRecovered': 0,\n",
       "  'Date': '2022-06-13T05:28:15.704Z',\n",
       "  'Premium': {}},\n",
       " {'ID': 'bdbbbc36-c631-42bc-b682-ae79a8b44b1c',\n",
       "  'Country': 'Honduras',\n",
       "  'CountryCode': 'HN',\n",
       "  'Slug': 'honduras',\n",
       "  'NewConfirmed': 91,\n",
       "  'TotalConfirmed': 425655,\n",
       "  'NewDeaths': 0,\n",
       "  'TotalDeaths': 10902,\n",
       "  'NewRecovered': 0,\n",
       "  'TotalRecovered': 0,\n",
       "  'Date': '2022-06-13T05:28:15.704Z',\n",
       "  'Premium': {}},\n",
       " {'ID': 'b126b12a-e0f3-4ba9-8d31-5ab774f15a56',\n",
       "  'Country': 'Hungary',\n",
       "  'CountryCode': 'HU',\n",
       "  'Slug': 'hungary',\n",
       "  'NewConfirmed': 0,\n",
       "  'TotalConfirmed': 1921486,\n",
       "  'NewDeaths': 0,\n",
       "  'TotalDeaths': 46571,\n",
       "  'NewRecovered': 0,\n",
       "  'TotalRecovered': 0,\n",
       "  'Date': '2022-06-13T05:28:15.704Z',\n",
       "  'Premium': {}},\n",
       " {'ID': 'e57e6cd8-4735-46fe-b9b8-5075adae7678',\n",
       "  'Country': 'Iceland',\n",
       "  'CountryCode': 'IS',\n",
       "  'Slug': 'iceland',\n",
       "  'NewConfirmed': 0,\n",
       "  'TotalConfirmed': 190014,\n",
       "  'NewDeaths': 0,\n",
       "  'TotalDeaths': 153,\n",
       "  'NewRecovered': 0,\n",
       "  'TotalRecovered': 0,\n",
       "  'Date': '2022-06-13T05:28:15.704Z',\n",
       "  'Premium': {}},\n",
       " {'ID': '36e67038-d4df-4698-bba3-ab1d00b311ca',\n",
       "  'Country': 'India',\n",
       "  'CountryCode': 'IN',\n",
       "  'Slug': 'india',\n",
       "  'NewConfirmed': 8582,\n",
       "  'TotalConfirmed': 43222017,\n",
       "  'NewDeaths': 4,\n",
       "  'TotalDeaths': 524761,\n",
       "  'NewRecovered': 0,\n",
       "  'TotalRecovered': 0,\n",
       "  'Date': '2022-06-13T05:28:15.704Z',\n",
       "  'Premium': {}},\n",
       " {'ID': 'adb0ac4f-b72e-4650-8f7c-4cb6f7f384be',\n",
       "  'Country': 'Indonesia',\n",
       "  'CountryCode': 'ID',\n",
       "  'Slug': 'indonesia',\n",
       "  'NewConfirmed': 0,\n",
       "  'TotalConfirmed': 6056017,\n",
       "  'NewDeaths': 0,\n",
       "  'TotalDeaths': 156604,\n",
       "  'NewRecovered': 0,\n",
       "  'TotalRecovered': 0,\n",
       "  'Date': '2022-06-13T05:28:15.704Z',\n",
       "  'Premium': {}},\n",
       " {'ID': '8fc65afb-2b14-4cd2-993d-9040ad4d1218',\n",
       "  'Country': 'Iran, Islamic Republic of',\n",
       "  'CountryCode': 'IR',\n",
       "  'Slug': 'iran',\n",
       "  'NewConfirmed': 160,\n",
       "  'TotalConfirmed': 7233688,\n",
       "  'NewDeaths': 1,\n",
       "  'TotalDeaths': 141350,\n",
       "  'NewRecovered': 0,\n",
       "  'TotalRecovered': 0,\n",
       "  'Date': '2022-06-13T05:28:15.704Z',\n",
       "  'Premium': {}},\n",
       " {'ID': '5ac872c9-8b69-4737-a52a-22e8080cded8',\n",
       "  'Country': 'Iraq',\n",
       "  'CountryCode': 'IQ',\n",
       "  'Slug': 'iraq',\n",
       "  'NewConfirmed': 151,\n",
       "  'TotalConfirmed': 2329813,\n",
       "  'NewDeaths': 0,\n",
       "  'TotalDeaths': 25222,\n",
       "  'NewRecovered': 0,\n",
       "  'TotalRecovered': 0,\n",
       "  'Date': '2022-06-13T05:28:15.704Z',\n",
       "  'Premium': {}},\n",
       " {'ID': 'c1d855c0-039e-4591-9bb0-21d0e6f7c7c8',\n",
       "  'Country': 'Ireland',\n",
       "  'CountryCode': 'IE',\n",
       "  'Slug': 'ireland',\n",
       "  'NewConfirmed': 0,\n",
       "  'TotalConfirmed': 1570519,\n",
       "  'NewDeaths': 0,\n",
       "  'TotalDeaths': 7416,\n",
       "  'NewRecovered': 0,\n",
       "  'TotalRecovered': 0,\n",
       "  'Date': '2022-06-13T05:28:15.704Z',\n",
       "  'Premium': {}},\n",
       " {'ID': 'e3824654-0fff-4007-9448-0c62d83b47e4',\n",
       "  'Country': 'Israel',\n",
       "  'CountryCode': 'IL',\n",
       "  'Slug': 'israel',\n",
       "  'NewConfirmed': 3697,\n",
       "  'TotalConfirmed': 4183477,\n",
       "  'NewDeaths': 11,\n",
       "  'TotalDeaths': 10882,\n",
       "  'NewRecovered': 0,\n",
       "  'TotalRecovered': 0,\n",
       "  'Date': '2022-06-13T05:28:15.704Z',\n",
       "  'Premium': {}},\n",
       " {'ID': '9bad04bc-60e9-4b41-9804-47739dbf065f',\n",
       "  'Country': 'Italy',\n",
       "  'CountryCode': 'IT',\n",
       "  'Slug': 'italy',\n",
       "  'NewConfirmed': 22458,\n",
       "  'TotalConfirmed': 17634065,\n",
       "  'NewDeaths': 60,\n",
       "  'TotalDeaths': 167365,\n",
       "  'NewRecovered': 0,\n",
       "  'TotalRecovered': 0,\n",
       "  'Date': '2022-06-13T05:28:15.704Z',\n",
       "  'Premium': {}},\n",
       " {'ID': 'f7ce913c-0627-4967-8387-064704de4161',\n",
       "  'Country': 'Jamaica',\n",
       "  'CountryCode': 'JM',\n",
       "  'Slug': 'jamaica',\n",
       "  'NewConfirmed': 260,\n",
       "  'TotalConfirmed': 140463,\n",
       "  'NewDeaths': 1,\n",
       "  'TotalDeaths': 3083,\n",
       "  'NewRecovered': 0,\n",
       "  'TotalRecovered': 0,\n",
       "  'Date': '2022-06-13T05:28:15.704Z',\n",
       "  'Premium': {}},\n",
       " {'ID': '4f9f372c-f8f5-468d-976e-3c8f0d226e53',\n",
       "  'Country': 'Japan',\n",
       "  'CountryCode': 'JP',\n",
       "  'Slug': 'japan',\n",
       "  'NewConfirmed': 15338,\n",
       "  'TotalConfirmed': 9026281,\n",
       "  'NewDeaths': 15,\n",
       "  'TotalDeaths': 30879,\n",
       "  'NewRecovered': 0,\n",
       "  'TotalRecovered': 0,\n",
       "  'Date': '2022-06-13T05:28:15.704Z',\n",
       "  'Premium': {}},\n",
       " {'ID': '4c1da930-d4fa-4f9f-9065-9770c59cb3b9',\n",
       "  'Country': 'Jordan',\n",
       "  'CountryCode': 'JO',\n",
       "  'Slug': 'jordan',\n",
       "  'NewConfirmed': 0,\n",
       "  'TotalConfirmed': 1697271,\n",
       "  'NewDeaths': 0,\n",
       "  'TotalDeaths': 14068,\n",
       "  'NewRecovered': 0,\n",
       "  'TotalRecovered': 0,\n",
       "  'Date': '2022-06-13T05:28:15.704Z',\n",
       "  'Premium': {}},\n",
       " {'ID': '1aa80047-3866-4003-8755-058b649bb28f',\n",
       "  'Country': 'Kazakhstan',\n",
       "  'CountryCode': 'KZ',\n",
       "  'Slug': 'kazakhstan',\n",
       "  'NewConfirmed': 16,\n",
       "  'TotalConfirmed': 1395055,\n",
       "  'NewDeaths': 0,\n",
       "  'TotalDeaths': 19016,\n",
       "  'NewRecovered': 0,\n",
       "  'TotalRecovered': 0,\n",
       "  'Date': '2022-06-13T05:28:15.704Z',\n",
       "  'Premium': {}},\n",
       " {'ID': 'd7e2c0a1-c486-4ba4-a055-61d918526053',\n",
       "  'Country': 'Kenya',\n",
       "  'CountryCode': 'KE',\n",
       "  'Slug': 'kenya',\n",
       "  'NewConfirmed': 195,\n",
       "  'TotalConfirmed': 326932,\n",
       "  'NewDeaths': 0,\n",
       "  'TotalDeaths': 5651,\n",
       "  'NewRecovered': 0,\n",
       "  'TotalRecovered': 0,\n",
       "  'Date': '2022-06-13T05:28:15.704Z',\n",
       "  'Premium': {}},\n",
       " {'ID': '1cbae5ad-b984-4c15-9f4c-b46b28b49d2a',\n",
       "  'Country': 'Kiribati',\n",
       "  'CountryCode': 'KI',\n",
       "  'Slug': 'kiribati',\n",
       "  'NewConfirmed': 0,\n",
       "  'TotalConfirmed': 3204,\n",
       "  'NewDeaths': 0,\n",
       "  'TotalDeaths': 13,\n",
       "  'NewRecovered': 0,\n",
       "  'TotalRecovered': 0,\n",
       "  'Date': '2022-06-13T05:28:15.704Z',\n",
       "  'Premium': {}},\n",
       " {'ID': '38885a5f-29ee-40bc-8639-d46c62e02aa9',\n",
       "  'Country': 'Korea (North)',\n",
       "  'CountryCode': 'KP',\n",
       "  'Slug': 'korea-north',\n",
       "  'NewConfirmed': 0,\n",
       "  'TotalConfirmed': 1,\n",
       "  'NewDeaths': 0,\n",
       "  'TotalDeaths': 6,\n",
       "  'NewRecovered': 0,\n",
       "  'TotalRecovered': 0,\n",
       "  'Date': '2022-06-13T05:28:15.704Z',\n",
       "  'Premium': {}},\n",
       " {'ID': '5eb6c1fd-7fe3-4de4-84a9-066c00c8f242',\n",
       "  'Country': 'Korea (South)',\n",
       "  'CountryCode': 'KR',\n",
       "  'Slug': 'korea-south',\n",
       "  'NewConfirmed': 3828,\n",
       "  'TotalConfirmed': 18229288,\n",
       "  'NewDeaths': 17,\n",
       "  'TotalDeaths': 24388,\n",
       "  'NewRecovered': 0,\n",
       "  'TotalRecovered': 0,\n",
       "  'Date': '2022-06-13T05:28:15.704Z',\n",
       "  'Premium': {}},\n",
       " {'ID': 'd581421d-1f34-48ff-9748-76fa2b18aa91',\n",
       "  'Country': 'Kuwait',\n",
       "  'CountryCode': 'KW',\n",
       "  'Slug': 'kuwait',\n",
       "  'NewConfirmed': 372,\n",
       "  'TotalConfirmed': 636240,\n",
       "  'NewDeaths': 0,\n",
       "  'TotalDeaths': 2555,\n",
       "  'NewRecovered': 0,\n",
       "  'TotalRecovered': 0,\n",
       "  'Date': '2022-06-13T05:28:15.704Z',\n",
       "  'Premium': {}},\n",
       " {'ID': 'e0ed4a71-4bbc-4fba-8ec2-fdf7e2fb9e8a',\n",
       "  'Country': 'Kyrgyzstan',\n",
       "  'CountryCode': 'KG',\n",
       "  'Slug': 'kyrgyzstan',\n",
       "  'NewConfirmed': 0,\n",
       "  'TotalConfirmed': 200993,\n",
       "  'NewDeaths': 0,\n",
       "  'TotalDeaths': 2991,\n",
       "  'NewRecovered': 0,\n",
       "  'TotalRecovered': 0,\n",
       "  'Date': '2022-06-13T05:28:15.704Z',\n",
       "  'Premium': {}},\n",
       " {'ID': 'c011c02a-8fa7-44fd-be7d-06073cb55702',\n",
       "  'Country': 'Lao PDR',\n",
       "  'CountryCode': 'LA',\n",
       "  'Slug': 'lao-pdr',\n",
       "  'NewConfirmed': 11,\n",
       "  'TotalConfirmed': 210147,\n",
       "  'NewDeaths': 0,\n",
       "  'TotalDeaths': 757,\n",
       "  'NewRecovered': 0,\n",
       "  'TotalRecovered': 0,\n",
       "  'Date': '2022-06-13T05:28:15.704Z',\n",
       "  'Premium': {}},\n",
       " {'ID': 'cb12b4db-6b7c-411d-9104-a3d3aa4da553',\n",
       "  'Country': 'Latvia',\n",
       "  'CountryCode': 'LV',\n",
       "  'Slug': 'latvia',\n",
       "  'NewConfirmed': 0,\n",
       "  'TotalConfirmed': 830281,\n",
       "  'NewDeaths': 0,\n",
       "  'TotalDeaths': 5837,\n",
       "  'NewRecovered': 0,\n",
       "  'TotalRecovered': 0,\n",
       "  'Date': '2022-06-13T05:28:15.704Z',\n",
       "  'Premium': {}},\n",
       " {'ID': '01eec534-036b-4edb-b0cf-c9baa2cf09b2',\n",
       "  'Country': 'Lebanon',\n",
       "  'CountryCode': 'LB',\n",
       "  'Slug': 'lebanon',\n",
       "  'NewConfirmed': 238,\n",
       "  'TotalConfirmed': 1101109,\n",
       "  'NewDeaths': 1,\n",
       "  'TotalDeaths': 10445,\n",
       "  'NewRecovered': 0,\n",
       "  'TotalRecovered': 0,\n",
       "  'Date': '2022-06-13T05:28:15.704Z',\n",
       "  'Premium': {}},\n",
       " {'ID': 'afc6f78e-2d92-474f-9827-86c6ae7c374b',\n",
       "  'Country': 'Lesotho',\n",
       "  'CountryCode': 'LS',\n",
       "  'Slug': 'lesotho',\n",
       "  'NewConfirmed': 0,\n",
       "  'TotalConfirmed': 33746,\n",
       "  'NewDeaths': 0,\n",
       "  'TotalDeaths': 699,\n",
       "  'NewRecovered': 0,\n",
       "  'TotalRecovered': 0,\n",
       "  'Date': '2022-06-13T05:28:15.704Z',\n",
       "  'Premium': {}},\n",
       " {'ID': '4c50ea8d-3a98-4855-b1ac-b1858ef83641',\n",
       "  'Country': 'Liberia',\n",
       "  'CountryCode': 'LR',\n",
       "  'Slug': 'liberia',\n",
       "  'NewConfirmed': 0,\n",
       "  'TotalConfirmed': 7459,\n",
       "  'NewDeaths': 0,\n",
       "  'TotalDeaths': 294,\n",
       "  'NewRecovered': 0,\n",
       "  'TotalRecovered': 0,\n",
       "  'Date': '2022-06-13T05:28:15.704Z',\n",
       "  'Premium': {}},\n",
       " {'ID': 'cfed0dd3-4484-4e0f-97b2-82dc6ea46b49',\n",
       "  'Country': 'Libya',\n",
       "  'CountryCode': 'LY',\n",
       "  'Slug': 'libya',\n",
       "  'NewConfirmed': 0,\n",
       "  'TotalConfirmed': 502040,\n",
       "  'NewDeaths': 0,\n",
       "  'TotalDeaths': 6430,\n",
       "  'NewRecovered': 0,\n",
       "  'TotalRecovered': 0,\n",
       "  'Date': '2022-06-13T05:28:15.704Z',\n",
       "  'Premium': {}},\n",
       " {'ID': '6bfd1bdc-2b8b-4c7f-8a3f-dcf96776d189',\n",
       "  'Country': 'Liechtenstein',\n",
       "  'CountryCode': 'LI',\n",
       "  'Slug': 'liechtenstein',\n",
       "  'NewConfirmed': 0,\n",
       "  'TotalConfirmed': 17605,\n",
       "  'NewDeaths': 0,\n",
       "  'TotalDeaths': 85,\n",
       "  'NewRecovered': 0,\n",
       "  'TotalRecovered': 0,\n",
       "  'Date': '2022-06-13T05:28:15.704Z',\n",
       "  'Premium': {}},\n",
       " {'ID': '91edfcbf-a612-4327-8933-26cb0ed1f3be',\n",
       "  'Country': 'Lithuania',\n",
       "  'CountryCode': 'LT',\n",
       "  'Slug': 'lithuania',\n",
       "  'NewConfirmed': 176,\n",
       "  'TotalConfirmed': 1064011,\n",
       "  'NewDeaths': 0,\n",
       "  'TotalDeaths': 9153,\n",
       "  'NewRecovered': 0,\n",
       "  'TotalRecovered': 0,\n",
       "  'Date': '2022-06-13T05:28:15.704Z',\n",
       "  'Premium': {}},\n",
       " {'ID': '18e272de-fcfd-45af-afd0-e927f64367ea',\n",
       "  'Country': 'Luxembourg',\n",
       "  'CountryCode': 'LU',\n",
       "  'Slug': 'luxembourg',\n",
       "  'NewConfirmed': 0,\n",
       "  'TotalConfirmed': 251873,\n",
       "  'NewDeaths': 0,\n",
       "  'TotalDeaths': 1084,\n",
       "  'NewRecovered': 0,\n",
       "  'TotalRecovered': 0,\n",
       "  'Date': '2022-06-13T05:28:15.704Z',\n",
       "  'Premium': {}},\n",
       " {'ID': '3d4f925b-3d38-425a-8bd6-338c63a31bb7',\n",
       "  'Country': 'Macedonia, Republic of',\n",
       "  'CountryCode': 'MK',\n",
       "  'Slug': 'macedonia',\n",
       "  'NewConfirmed': 0,\n",
       "  'TotalConfirmed': 312538,\n",
       "  'NewDeaths': 0,\n",
       "  'TotalDeaths': 9316,\n",
       "  'NewRecovered': 0,\n",
       "  'TotalRecovered': 0,\n",
       "  'Date': '2022-06-13T05:28:15.704Z',\n",
       "  'Premium': {}},\n",
       " {'ID': '00120c9a-b1e2-4293-b076-9dd852bd72a5',\n",
       "  'Country': 'Madagascar',\n",
       "  'CountryCode': 'MG',\n",
       "  'Slug': 'madagascar',\n",
       "  'NewConfirmed': 207,\n",
       "  'TotalConfirmed': 64685,\n",
       "  'NewDeaths': 0,\n",
       "  'TotalDeaths': 1396,\n",
       "  'NewRecovered': 0,\n",
       "  'TotalRecovered': 0,\n",
       "  'Date': '2022-06-13T05:28:15.704Z',\n",
       "  'Premium': {}},\n",
       " {'ID': 'b39f9437-16e3-4de6-9333-9eb747ea8859',\n",
       "  'Country': 'Malawi',\n",
       "  'CountryCode': 'MW',\n",
       "  'Slug': 'malawi',\n",
       "  'NewConfirmed': 17,\n",
       "  'TotalConfirmed': 86107,\n",
       "  'NewDeaths': 0,\n",
       "  'TotalDeaths': 2642,\n",
       "  'NewRecovered': 0,\n",
       "  'TotalRecovered': 0,\n",
       "  'Date': '2022-06-13T05:28:15.704Z',\n",
       "  'Premium': {}},\n",
       " {'ID': 'c2e13efe-befb-4eb4-b22f-90284f714125',\n",
       "  'Country': 'Malaysia',\n",
       "  'CountryCode': 'MY',\n",
       "  'Slug': 'malaysia',\n",
       "  'NewConfirmed': 1709,\n",
       "  'TotalConfirmed': 4524727,\n",
       "  'NewDeaths': 2,\n",
       "  'TotalDeaths': 35711,\n",
       "  'NewRecovered': 0,\n",
       "  'TotalRecovered': 0,\n",
       "  'Date': '2022-06-13T05:28:15.704Z',\n",
       "  'Premium': {}},\n",
       " {'ID': '98849435-01ba-4bd0-9565-3148bdcadbff',\n",
       "  'Country': 'Maldives',\n",
       "  'CountryCode': 'MV',\n",
       "  'Slug': 'maldives',\n",
       "  'NewConfirmed': 0,\n",
       "  'TotalConfirmed': 179837,\n",
       "  'NewDeaths': 0,\n",
       "  'TotalDeaths': 299,\n",
       "  'NewRecovered': 0,\n",
       "  'TotalRecovered': 0,\n",
       "  'Date': '2022-06-13T05:28:15.704Z',\n",
       "  'Premium': {}},\n",
       " {'ID': 'f3069298-584f-4691-854d-8599eca00c06',\n",
       "  'Country': 'Mali',\n",
       "  'CountryCode': 'ML',\n",
       "  'Slug': 'mali',\n",
       "  'NewConfirmed': 3,\n",
       "  'TotalConfirmed': 31125,\n",
       "  'NewDeaths': 0,\n",
       "  'TotalDeaths': 735,\n",
       "  'NewRecovered': 0,\n",
       "  'TotalRecovered': 0,\n",
       "  'Date': '2022-06-13T05:28:15.704Z',\n",
       "  'Premium': {}},\n",
       " {'ID': 'fef9b9d7-4215-4e48-b293-b00619e3e8e0',\n",
       "  'Country': 'Malta',\n",
       "  'CountryCode': 'MT',\n",
       "  'Slug': 'malta',\n",
       "  'NewConfirmed': 153,\n",
       "  'TotalConfirmed': 96148,\n",
       "  'NewDeaths': 2,\n",
       "  'TotalDeaths': 726,\n",
       "  'NewRecovered': 0,\n",
       "  'TotalRecovered': 0,\n",
       "  'Date': '2022-06-13T05:28:15.704Z',\n",
       "  'Premium': {}},\n",
       " {'ID': '68e7e09d-8641-4543-a3d5-343019255cc7',\n",
       "  'Country': 'Marshall Islands',\n",
       "  'CountryCode': 'MH',\n",
       "  'Slug': 'marshall-islands',\n",
       "  'NewConfirmed': 0,\n",
       "  'TotalConfirmed': 18,\n",
       "  'NewDeaths': 0,\n",
       "  'TotalDeaths': 0,\n",
       "  'NewRecovered': 0,\n",
       "  'TotalRecovered': 0,\n",
       "  'Date': '2022-06-13T05:28:15.704Z',\n",
       "  'Premium': {}},\n",
       " {'ID': '650fc1cc-2fc4-4abc-98fd-c0aea3b32132',\n",
       "  'Country': 'Mauritania',\n",
       "  'CountryCode': 'MR',\n",
       "  'Slug': 'mauritania',\n",
       "  'NewConfirmed': 9,\n",
       "  'TotalConfirmed': 59247,\n",
       "  'NewDeaths': 0,\n",
       "  'TotalDeaths': 982,\n",
       "  'NewRecovered': 0,\n",
       "  'TotalRecovered': 0,\n",
       "  'Date': '2022-06-13T05:28:15.704Z',\n",
       "  'Premium': {}},\n",
       " {'ID': '599009a3-b124-4059-a9b1-cff16040c412',\n",
       "  'Country': 'Mauritius',\n",
       "  'CountryCode': 'MU',\n",
       "  'Slug': 'mauritius',\n",
       "  'NewConfirmed': 0,\n",
       "  'TotalConfirmed': 226851,\n",
       "  'NewDeaths': 0,\n",
       "  'TotalDeaths': 996,\n",
       "  'NewRecovered': 0,\n",
       "  'TotalRecovered': 0,\n",
       "  'Date': '2022-06-13T05:28:15.704Z',\n",
       "  'Premium': {}},\n",
       " {'ID': '615cf089-c911-4464-9d04-1e401bca9ddd',\n",
       "  'Country': 'Mexico',\n",
       "  'CountryCode': 'MX',\n",
       "  'Slug': 'mexico',\n",
       "  'NewConfirmed': 6396,\n",
       "  'TotalConfirmed': 5821262,\n",
       "  'NewDeaths': 42,\n",
       "  'TotalDeaths': 325186,\n",
       "  'NewRecovered': 0,\n",
       "  'TotalRecovered': 0,\n",
       "  'Date': '2022-06-13T05:28:15.704Z',\n",
       "  'Premium': {}},\n",
       " {'ID': '0a474ef0-501f-4c12-9f0b-4f0af3b3990d',\n",
       "  'Country': 'Micronesia, Federated States of',\n",
       "  'CountryCode': 'FM',\n",
       "  'Slug': 'micronesia',\n",
       "  'NewConfirmed': 0,\n",
       "  'TotalConfirmed': 35,\n",
       "  'NewDeaths': 0,\n",
       "  'TotalDeaths': 0,\n",
       "  'NewRecovered': 0,\n",
       "  'TotalRecovered': 0,\n",
       "  'Date': '2022-06-13T05:28:15.704Z',\n",
       "  'Premium': {}},\n",
       " {'ID': '776fec8f-587a-4880-b0c0-41760b019403',\n",
       "  'Country': 'Moldova',\n",
       "  'CountryCode': 'MD',\n",
       "  'Slug': 'moldova',\n",
       "  'NewConfirmed': 0,\n",
       "  'TotalConfirmed': 519228,\n",
       "  'NewDeaths': 0,\n",
       "  'TotalDeaths': 11551,\n",
       "  'NewRecovered': 0,\n",
       "  'TotalRecovered': 0,\n",
       "  'Date': '2022-06-13T05:28:15.704Z',\n",
       "  'Premium': {}},\n",
       " {'ID': '1fd0e51d-ff45-4ffa-8481-f62242b03811',\n",
       "  'Country': 'Monaco',\n",
       "  'CountryCode': 'MC',\n",
       "  'Slug': 'monaco',\n",
       "  'NewConfirmed': 0,\n",
       "  'TotalConfirmed': 12186,\n",
       "  'NewDeaths': 0,\n",
       "  'TotalDeaths': 57,\n",
       "  'NewRecovered': 0,\n",
       "  'TotalRecovered': 0,\n",
       "  'Date': '2022-06-13T05:28:15.704Z',\n",
       "  'Premium': {}},\n",
       " {'ID': '9993d0fd-192d-438d-afc7-e23937475883',\n",
       "  'Country': 'Mongolia',\n",
       "  'CountryCode': 'MN',\n",
       "  'Slug': 'mongolia',\n",
       "  'NewConfirmed': 0,\n",
       "  'TotalConfirmed': 925227,\n",
       "  'NewDeaths': 0,\n",
       "  'TotalDeaths': 2179,\n",
       "  'NewRecovered': 0,\n",
       "  'TotalRecovered': 0,\n",
       "  'Date': '2022-06-13T05:28:15.704Z',\n",
       "  'Premium': {}},\n",
       " {'ID': '820292fe-b926-4121-868c-93f5a80c5346',\n",
       "  'Country': 'Montenegro',\n",
       "  'CountryCode': 'ME',\n",
       "  'Slug': 'montenegro',\n",
       "  'NewConfirmed': 53,\n",
       "  'TotalConfirmed': 237901,\n",
       "  'NewDeaths': 0,\n",
       "  'TotalDeaths': 2722,\n",
       "  'NewRecovered': 0,\n",
       "  'TotalRecovered': 0,\n",
       "  'Date': '2022-06-13T05:28:15.704Z',\n",
       "  'Premium': {}},\n",
       " {'ID': 'ce86f896-74db-437a-bcdf-03c7be836762',\n",
       "  'Country': 'Morocco',\n",
       "  'CountryCode': 'MA',\n",
       "  'Slug': 'morocco',\n",
       "  'NewConfirmed': 500,\n",
       "  'TotalConfirmed': 1175604,\n",
       "  'NewDeaths': 0,\n",
       "  'TotalDeaths': 16082,\n",
       "  'NewRecovered': 0,\n",
       "  'TotalRecovered': 0,\n",
       "  'Date': '2022-06-13T05:28:15.704Z',\n",
       "  'Premium': {}},\n",
       " {'ID': 'c46eb456-a8b4-479b-9ffe-917f7d23202c',\n",
       "  'Country': 'Mozambique',\n",
       "  'CountryCode': 'MZ',\n",
       "  'Slug': 'mozambique',\n",
       "  'NewConfirmed': 35,\n",
       "  'TotalConfirmed': 226463,\n",
       "  'NewDeaths': 0,\n",
       "  'TotalDeaths': 2206,\n",
       "  'NewRecovered': 0,\n",
       "  'TotalRecovered': 0,\n",
       "  'Date': '2022-06-13T05:28:15.704Z',\n",
       "  'Premium': {}},\n",
       " {'ID': '9bf606b3-03b2-44a2-bd84-771e713b29e7',\n",
       "  'Country': 'Myanmar',\n",
       "  'CountryCode': 'MM',\n",
       "  'Slug': 'myanmar',\n",
       "  'NewConfirmed': 3,\n",
       "  'TotalConfirmed': 613443,\n",
       "  'NewDeaths': 0,\n",
       "  'TotalDeaths': 19434,\n",
       "  'NewRecovered': 0,\n",
       "  'TotalRecovered': 0,\n",
       "  'Date': '2022-06-13T05:28:15.704Z',\n",
       "  'Premium': {}},\n",
       " {'ID': 'f263ce5b-3c0f-4f3a-9ff9-d31e6d19473a',\n",
       "  'Country': 'Namibia',\n",
       "  'CountryCode': 'NA',\n",
       "  'Slug': 'namibia',\n",
       "  'NewConfirmed': 83,\n",
       "  'TotalConfirmed': 168403,\n",
       "  'NewDeaths': 1,\n",
       "  'TotalDeaths': 4049,\n",
       "  'NewRecovered': 0,\n",
       "  'TotalRecovered': 0,\n",
       "  'Date': '2022-06-13T05:28:15.704Z',\n",
       "  'Premium': {}},\n",
       " {'ID': 'ed81367d-2886-4f99-a33e-9192e2f87d8c',\n",
       "  'Country': 'Nepal',\n",
       "  'CountryCode': 'NP',\n",
       "  'Slug': 'nepal',\n",
       "  'NewConfirmed': 11,\n",
       "  'TotalConfirmed': 979262,\n",
       "  'NewDeaths': 0,\n",
       "  'TotalDeaths': 11952,\n",
       "  'NewRecovered': 0,\n",
       "  'TotalRecovered': 0,\n",
       "  'Date': '2022-06-13T05:28:15.704Z',\n",
       "  'Premium': {}},\n",
       " {'ID': 'a4347d9b-bea0-48fe-b9e2-b7a45fcbe430',\n",
       "  'Country': 'Netherlands',\n",
       "  'CountryCode': 'NL',\n",
       "  'Slug': 'netherlands',\n",
       "  'NewConfirmed': 0,\n",
       "  'TotalConfirmed': 8101754,\n",
       "  'NewDeaths': 0,\n",
       "  'TotalDeaths': 22332,\n",
       "  'NewRecovered': 0,\n",
       "  'TotalRecovered': 0,\n",
       "  'Date': '2022-06-13T05:28:15.704Z',\n",
       "  'Premium': {}},\n",
       " {'ID': '12ca9414-2f05-4bc5-825a-66a4a40ffcfd',\n",
       "  'Country': 'New Zealand',\n",
       "  'CountryCode': 'NZ',\n",
       "  'Slug': 'new-zealand',\n",
       "  'NewConfirmed': 0,\n",
       "  'TotalConfirmed': 1243696,\n",
       "  'NewDeaths': 0,\n",
       "  'TotalDeaths': 1262,\n",
       "  'NewRecovered': 0,\n",
       "  'TotalRecovered': 0,\n",
       "  'Date': '2022-06-13T05:28:15.704Z',\n",
       "  'Premium': {}},\n",
       " {'ID': '854d0a81-44d9-4ac5-8707-e13dfa71ba98',\n",
       "  'Country': 'Nicaragua',\n",
       "  'CountryCode': 'NI',\n",
       "  'Slug': 'nicaragua',\n",
       "  'NewConfirmed': 0,\n",
       "  'TotalConfirmed': 14577,\n",
       "  'NewDeaths': 0,\n",
       "  'TotalDeaths': 240,\n",
       "  'NewRecovered': 0,\n",
       "  'TotalRecovered': 0,\n",
       "  'Date': '2022-06-13T05:28:15.704Z',\n",
       "  'Premium': {}},\n",
       " {'ID': 'fe21234b-3aa9-4112-b364-d401bd67cb9a',\n",
       "  'Country': 'Niger',\n",
       "  'CountryCode': 'NE',\n",
       "  'Slug': 'niger',\n",
       "  'NewConfirmed': 0,\n",
       "  'TotalConfirmed': 9031,\n",
       "  'NewDeaths': 0,\n",
       "  'TotalDeaths': 310,\n",
       "  'NewRecovered': 0,\n",
       "  'TotalRecovered': 0,\n",
       "  'Date': '2022-06-13T05:28:15.704Z',\n",
       "  'Premium': {}},\n",
       " {'ID': '649d7a63-eef7-497d-ab14-197517ad5370',\n",
       "  'Country': 'Nigeria',\n",
       "  'CountryCode': 'NG',\n",
       "  'Slug': 'nigeria',\n",
       "  'NewConfirmed': 0,\n",
       "  'TotalConfirmed': 256352,\n",
       "  'NewDeaths': 0,\n",
       "  'TotalDeaths': 3144,\n",
       "  'NewRecovered': 0,\n",
       "  'TotalRecovered': 0,\n",
       "  'Date': '2022-06-13T05:28:15.704Z',\n",
       "  'Premium': {}},\n",
       " {'ID': '4bfd4307-c1b5-4a63-bbb5-e0cf67d40bd7',\n",
       "  'Country': 'Norway',\n",
       "  'CountryCode': 'NO',\n",
       "  'Slug': 'norway',\n",
       "  'NewConfirmed': 96,\n",
       "  'TotalConfirmed': 1436855,\n",
       "  'NewDeaths': 0,\n",
       "  'TotalDeaths': 3210,\n",
       "  'NewRecovered': 0,\n",
       "  'TotalRecovered': 0,\n",
       "  'Date': '2022-06-13T05:28:15.704Z',\n",
       "  'Premium': {}},\n",
       " {'ID': 'cf8014f6-dc7a-4331-ba32-823ef86401fd',\n",
       "  'Country': 'Oman',\n",
       "  'CountryCode': 'OM',\n",
       "  'Slug': 'oman',\n",
       "  'NewConfirmed': 0,\n",
       "  'TotalConfirmed': 389758,\n",
       "  'NewDeaths': 0,\n",
       "  'TotalDeaths': 4260,\n",
       "  'NewRecovered': 0,\n",
       "  'TotalRecovered': 0,\n",
       "  'Date': '2022-06-13T05:28:15.704Z',\n",
       "  'Premium': {}},\n",
       " {'ID': '7c6de43f-b82d-4300-8f37-7059ef4955b3',\n",
       "  'Country': 'Pakistan',\n",
       "  'CountryCode': 'PK',\n",
       "  'Slug': 'pakistan',\n",
       "  'NewConfirmed': 67,\n",
       "  'TotalConfirmed': 1531179,\n",
       "  'NewDeaths': 0,\n",
       "  'TotalDeaths': 30381,\n",
       "  'NewRecovered': 0,\n",
       "  'TotalRecovered': 0,\n",
       "  'Date': '2022-06-13T05:28:15.704Z',\n",
       "  'Premium': {}},\n",
       " {'ID': 'bcc012d5-5bbd-48d0-b129-f1990020cf82',\n",
       "  'Country': 'Palau',\n",
       "  'CountryCode': 'PW',\n",
       "  'Slug': 'palau',\n",
       "  'NewConfirmed': 0,\n",
       "  'TotalConfirmed': 5145,\n",
       "  'NewDeaths': 0,\n",
       "  'TotalDeaths': 6,\n",
       "  'NewRecovered': 0,\n",
       "  'TotalRecovered': 0,\n",
       "  'Date': '2022-06-13T05:28:15.704Z',\n",
       "  'Premium': {}},\n",
       " {'ID': 'da152995-2bb3-489f-8f92-af59bffc5db1',\n",
       "  'Country': 'Palestinian Territory',\n",
       "  'CountryCode': 'PS',\n",
       "  'Slug': 'palestine',\n",
       "  'NewConfirmed': 0,\n",
       "  'TotalConfirmed': 657879,\n",
       "  'NewDeaths': 0,\n",
       "  'TotalDeaths': 5660,\n",
       "  'NewRecovered': 0,\n",
       "  'TotalRecovered': 0,\n",
       "  'Date': '2022-06-13T05:28:15.704Z',\n",
       "  'Premium': {}},\n",
       " {'ID': '4b58dfad-8115-49fa-b989-d8e97cd9cb67',\n",
       "  'Country': 'Panama',\n",
       "  'CountryCode': 'PA',\n",
       "  'Slug': 'panama',\n",
       "  'NewConfirmed': 0,\n",
       "  'TotalConfirmed': 889960,\n",
       "  'NewDeaths': 0,\n",
       "  'TotalDeaths': 8298,\n",
       "  'NewRecovered': 0,\n",
       "  'TotalRecovered': 0,\n",
       "  'Date': '2022-06-13T05:28:15.704Z',\n",
       "  'Premium': {}},\n",
       " {'ID': 'e3696151-845c-4c6b-91d2-334f0683bfe7',\n",
       "  'Country': 'Papua New Guinea',\n",
       "  'CountryCode': 'PG',\n",
       "  'Slug': 'papua-new-guinea',\n",
       "  'NewConfirmed': 0,\n",
       "  'TotalConfirmed': 44655,\n",
       "  'NewDeaths': 0,\n",
       "  'TotalDeaths': 658,\n",
       "  'NewRecovered': 0,\n",
       "  'TotalRecovered': 0,\n",
       "  'Date': '2022-06-13T05:28:15.704Z',\n",
       "  'Premium': {}},\n",
       " {'ID': '47735301-06e8-4624-a658-b56f1cd26f10',\n",
       "  'Country': 'Paraguay',\n",
       "  'CountryCode': 'PY',\n",
       "  'Slug': 'paraguay',\n",
       "  'NewConfirmed': 0,\n",
       "  'TotalConfirmed': 652044,\n",
       "  'NewDeaths': 0,\n",
       "  'TotalDeaths': 18932,\n",
       "  'NewRecovered': 0,\n",
       "  'TotalRecovered': 0,\n",
       "  'Date': '2022-06-13T05:28:15.704Z',\n",
       "  'Premium': {}},\n",
       " {'ID': '2ccb5540-505f-49a0-8d67-0c10db3dd6c7',\n",
       "  'Country': 'Peru',\n",
       "  'CountryCode': 'PE',\n",
       "  'Slug': 'peru',\n",
       "  'NewConfirmed': 1085,\n",
       "  'TotalConfirmed': 3589782,\n",
       "  'NewDeaths': 8,\n",
       "  'TotalDeaths': 213316,\n",
       "  'NewRecovered': 0,\n",
       "  'TotalRecovered': 0,\n",
       "  'Date': '2022-06-13T05:28:15.704Z',\n",
       "  'Premium': {}},\n",
       " {'ID': 'a86f55a1-a4e6-4a6a-b43b-0f24dec70c90',\n",
       "  'Country': 'Philippines',\n",
       "  'CountryCode': 'PH',\n",
       "  'Slug': 'philippines',\n",
       "  'NewConfirmed': 308,\n",
       "  'TotalConfirmed': 3693222,\n",
       "  'NewDeaths': 0,\n",
       "  'TotalDeaths': 60461,\n",
       "  'NewRecovered': 0,\n",
       "  'TotalRecovered': 0,\n",
       "  'Date': '2022-06-13T05:28:15.704Z',\n",
       "  'Premium': {}},\n",
       " {'ID': '7ed310c9-4230-49e6-bafe-f6cd0d39b5f8',\n",
       "  'Country': 'Poland',\n",
       "  'CountryCode': 'PL',\n",
       "  'Slug': 'poland',\n",
       "  'NewConfirmed': 56,\n",
       "  'TotalConfirmed': 6010045,\n",
       "  'NewDeaths': 0,\n",
       "  'TotalDeaths': 116371,\n",
       "  'NewRecovered': 0,\n",
       "  'TotalRecovered': 0,\n",
       "  'Date': '2022-06-13T05:28:15.704Z',\n",
       "  'Premium': {}},\n",
       " {'ID': 'c49e13d9-6eb5-4ee5-95da-225948de6bbe',\n",
       "  'Country': 'Portugal',\n",
       "  'CountryCode': 'PT',\n",
       "  'Slug': 'portugal',\n",
       "  'NewConfirmed': 0,\n",
       "  'TotalConfirmed': 4917127,\n",
       "  'NewDeaths': 0,\n",
       "  'TotalDeaths': 23531,\n",
       "  'NewRecovered': 0,\n",
       "  'TotalRecovered': 0,\n",
       "  'Date': '2022-06-13T05:28:15.704Z',\n",
       "  'Premium': {}},\n",
       " {'ID': '521f09a6-23b8-403c-999b-d285cf2b6398',\n",
       "  'Country': 'Qatar',\n",
       "  'CountryCode': 'QA',\n",
       "  'Slug': 'qatar',\n",
       "  'NewConfirmed': 415,\n",
       "  'TotalConfirmed': 372261,\n",
       "  'NewDeaths': 0,\n",
       "  'TotalDeaths': 677,\n",
       "  'NewRecovered': 0,\n",
       "  'TotalRecovered': 0,\n",
       "  'Date': '2022-06-13T05:28:15.704Z',\n",
       "  'Premium': {}},\n",
       " {'ID': 'de4f597d-06a7-4713-9cec-39a9c32f6c91',\n",
       "  'Country': 'Republic of Kosovo',\n",
       "  'CountryCode': 'XK',\n",
       "  'Slug': 'kosovo',\n",
       "  'NewConfirmed': 8,\n",
       "  'TotalConfirmed': 228438,\n",
       "  'NewDeaths': 0,\n",
       "  'TotalDeaths': 3139,\n",
       "  'NewRecovered': 0,\n",
       "  'TotalRecovered': 0,\n",
       "  'Date': '2022-06-13T05:28:15.704Z',\n",
       "  'Premium': {}},\n",
       " {'ID': '39819612-1714-4dd6-8e73-b1604dc4e6ef',\n",
       "  'Country': 'Romania',\n",
       "  'CountryCode': 'RO',\n",
       "  'Slug': 'romania',\n",
       "  'NewConfirmed': 168,\n",
       "  'TotalConfirmed': 2912705,\n",
       "  'NewDeaths': 1,\n",
       "  'TotalDeaths': 65714,\n",
       "  'NewRecovered': 0,\n",
       "  'TotalRecovered': 0,\n",
       "  'Date': '2022-06-13T05:28:15.704Z',\n",
       "  'Premium': {}},\n",
       " {'ID': '49651f97-2432-4dfe-a8e3-7a44cdbab67f',\n",
       "  'Country': 'Russian Federation',\n",
       "  'CountryCode': 'RU',\n",
       "  'Slug': 'russia',\n",
       "  'NewConfirmed': 3572,\n",
       "  'TotalConfirmed': 18104944,\n",
       "  'NewDeaths': 71,\n",
       "  'TotalDeaths': 372276,\n",
       "  'NewRecovered': 0,\n",
       "  'TotalRecovered': 0,\n",
       "  'Date': '2022-06-13T05:28:15.704Z',\n",
       "  'Premium': {}},\n",
       " {'ID': '542d1c2e-5d90-43ca-83d6-b82889eca435',\n",
       "  'Country': 'Rwanda',\n",
       "  'CountryCode': 'RW',\n",
       "  'Slug': 'rwanda',\n",
       "  'NewConfirmed': 26,\n",
       "  'TotalConfirmed': 130345,\n",
       "  'NewDeaths': 0,\n",
       "  'TotalDeaths': 1459,\n",
       "  'NewRecovered': 0,\n",
       "  'TotalRecovered': 0,\n",
       "  'Date': '2022-06-13T05:28:15.704Z',\n",
       "  'Premium': {}},\n",
       " {'ID': '97eb9b95-65fb-420f-8fd1-0f5908846dda',\n",
       "  'Country': 'Saint Kitts and Nevis',\n",
       "  'CountryCode': 'KN',\n",
       "  'Slug': 'saint-kitts-and-nevis',\n",
       "  'NewConfirmed': 27,\n",
       "  'TotalConfirmed': 5851,\n",
       "  'NewDeaths': 0,\n",
       "  'TotalDeaths': 43,\n",
       "  'NewRecovered': 0,\n",
       "  'TotalRecovered': 0,\n",
       "  'Date': '2022-06-13T05:28:15.704Z',\n",
       "  'Premium': {}},\n",
       " {'ID': '32ca76fa-510e-40cb-8244-b6ce9eb9730c',\n",
       "  'Country': 'Saint Lucia',\n",
       "  'CountryCode': 'LC',\n",
       "  'Slug': 'saint-lucia',\n",
       "  'NewConfirmed': 85,\n",
       "  'TotalConfirmed': 26538,\n",
       "  'NewDeaths': 0,\n",
       "  'TotalDeaths': 371,\n",
       "  'NewRecovered': 0,\n",
       "  'TotalRecovered': 0,\n",
       "  'Date': '2022-06-13T05:28:15.704Z',\n",
       "  'Premium': {}},\n",
       " {'ID': 'b2aed597-c489-487c-a771-383008f3e10c',\n",
       "  'Country': 'Saint Vincent and Grenadines',\n",
       "  'CountryCode': 'VC',\n",
       "  'Slug': 'saint-vincent-and-the-grenadines',\n",
       "  'NewConfirmed': 0,\n",
       "  'TotalConfirmed': 8883,\n",
       "  'NewDeaths': 0,\n",
       "  'TotalDeaths': 108,\n",
       "  'NewRecovered': 0,\n",
       "  'TotalRecovered': 0,\n",
       "  'Date': '2022-06-13T05:28:15.704Z',\n",
       "  'Premium': {}},\n",
       " {'ID': '5e6a365c-0504-40be-97e6-bb552ee07dfa',\n",
       "  'Country': 'Samoa',\n",
       "  'CountryCode': 'WS',\n",
       "  'Slug': 'samoa',\n",
       "  'NewConfirmed': 0,\n",
       "  'TotalConfirmed': 14187,\n",
       "  'NewDeaths': 0,\n",
       "  'TotalDeaths': 28,\n",
       "  'NewRecovered': 0,\n",
       "  'TotalRecovered': 0,\n",
       "  'Date': '2022-06-13T05:28:15.704Z',\n",
       "  'Premium': {}},\n",
       " {'ID': '374d0a9a-d2e7-456c-b77f-dafdc00ebda2',\n",
       "  'Country': 'San Marino',\n",
       "  'CountryCode': 'SM',\n",
       "  'Slug': 'san-marino',\n",
       "  'NewConfirmed': 0,\n",
       "  'TotalConfirmed': 17124,\n",
       "  'NewDeaths': 0,\n",
       "  'TotalDeaths': 115,\n",
       "  'NewRecovered': 0,\n",
       "  'TotalRecovered': 0,\n",
       "  'Date': '2022-06-13T05:28:15.704Z',\n",
       "  'Premium': {}},\n",
       " {'ID': '157303d2-6fe0-4db6-935f-454d5cbb0700',\n",
       "  'Country': 'Sao Tome and Principe',\n",
       "  'CountryCode': 'ST',\n",
       "  'Slug': 'sao-tome-and-principe',\n",
       "  'NewConfirmed': 0,\n",
       "  'TotalConfirmed': 6003,\n",
       "  'NewDeaths': 0,\n",
       "  'TotalDeaths': 73,\n",
       "  'NewRecovered': 0,\n",
       "  'TotalRecovered': 0,\n",
       "  'Date': '2022-06-13T05:28:15.704Z',\n",
       "  'Premium': {}},\n",
       " {'ID': '75dd0610-c163-4e94-aa34-6b699fd2f5a5',\n",
       "  'Country': 'Saudi Arabia',\n",
       "  'CountryCode': 'SA',\n",
       "  'Slug': 'saudi-arabia',\n",
       "  'NewConfirmed': 905,\n",
       "  'TotalConfirmed': 777795,\n",
       "  'NewDeaths': 3,\n",
       "  'TotalDeaths': 9173,\n",
       "  'NewRecovered': 0,\n",
       "  'TotalRecovered': 0,\n",
       "  'Date': '2022-06-13T05:28:15.704Z',\n",
       "  'Premium': {}},\n",
       " {'ID': '9dd3c8ed-f25a-4223-b703-59fa4b3de2b0',\n",
       "  'Country': 'Senegal',\n",
       "  'CountryCode': 'SN',\n",
       "  'Slug': 'senegal',\n",
       "  'NewConfirmed': 0,\n",
       "  'TotalConfirmed': 86150,\n",
       "  'NewDeaths': 0,\n",
       "  'TotalDeaths': 1967,\n",
       "  'NewRecovered': 0,\n",
       "  'TotalRecovered': 0,\n",
       "  'Date': '2022-06-13T05:28:15.704Z',\n",
       "  'Premium': {}},\n",
       " {'ID': 'bbc72bdc-ff89-4939-80fa-ab3dad06e3a9',\n",
       "  'Country': 'Serbia',\n",
       "  'CountryCode': 'RS',\n",
       "  'Slug': 'serbia',\n",
       "  'NewConfirmed': 165,\n",
       "  'TotalConfirmed': 2020338,\n",
       "  'NewDeaths': 2,\n",
       "  'TotalDeaths': 16101,\n",
       "  'NewRecovered': 0,\n",
       "  'TotalRecovered': 0,\n",
       "  'Date': '2022-06-13T05:28:15.704Z',\n",
       "  'Premium': {}},\n",
       " {'ID': '1c7210e7-d164-48ac-a0cb-1b9c50599914',\n",
       "  'Country': 'Seychelles',\n",
       "  'CountryCode': 'SC',\n",
       "  'Slug': 'seychelles',\n",
       "  'NewConfirmed': 0,\n",
       "  'TotalConfirmed': 44363,\n",
       "  'NewDeaths': 0,\n",
       "  'TotalDeaths': 167,\n",
       "  'NewRecovered': 0,\n",
       "  'TotalRecovered': 0,\n",
       "  'Date': '2022-06-13T05:28:15.704Z',\n",
       "  'Premium': {}},\n",
       " {'ID': '475471fb-e727-4863-9204-4470047cc41b',\n",
       "  'Country': 'Sierra Leone',\n",
       "  'CountryCode': 'SL',\n",
       "  'Slug': 'sierra-leone',\n",
       "  'NewConfirmed': 1,\n",
       "  'TotalConfirmed': 7684,\n",
       "  'NewDeaths': 0,\n",
       "  'TotalDeaths': 125,\n",
       "  'NewRecovered': 0,\n",
       "  'TotalRecovered': 0,\n",
       "  'Date': '2022-06-13T05:28:15.704Z',\n",
       "  'Premium': {}},\n",
       " {'ID': '0fc2499d-716e-4a3e-80ac-578779e85876',\n",
       "  'Country': 'Singapore',\n",
       "  'CountryCode': 'SG',\n",
       "  'Slug': 'singapore',\n",
       "  'NewConfirmed': 2503,\n",
       "  'TotalConfirmed': 1341256,\n",
       "  'NewDeaths': 0,\n",
       "  'TotalDeaths': 1397,\n",
       "  'NewRecovered': 0,\n",
       "  'TotalRecovered': 0,\n",
       "  'Date': '2022-06-13T05:28:15.704Z',\n",
       "  'Premium': {}},\n",
       " {'ID': '95f8c30b-da91-4a29-8739-bbe2e05215f4',\n",
       "  'Country': 'Slovakia',\n",
       "  'CountryCode': 'SK',\n",
       "  'Slug': 'slovakia',\n",
       "  'NewConfirmed': 0,\n",
       "  'TotalConfirmed': 2544678,\n",
       "  'NewDeaths': 0,\n",
       "  'TotalDeaths': 20114,\n",
       "  'NewRecovered': 0,\n",
       "  'TotalRecovered': 0,\n",
       "  'Date': '2022-06-13T05:28:15.704Z',\n",
       "  'Premium': {}},\n",
       " {'ID': '2fe77d17-2802-4e07-aeaa-a7ad365b6e11',\n",
       "  'Country': 'Slovenia',\n",
       "  'CountryCode': 'SI',\n",
       "  'Slug': 'slovenia',\n",
       "  'NewConfirmed': 0,\n",
       "  'TotalConfirmed': 1027821,\n",
       "  'NewDeaths': 0,\n",
       "  'TotalDeaths': 6644,\n",
       "  'NewRecovered': 0,\n",
       "  'TotalRecovered': 0,\n",
       "  'Date': '2022-06-13T05:28:15.704Z',\n",
       "  'Premium': {}},\n",
       " {'ID': '6831a4b8-fe77-4651-9ac1-81e811806be3',\n",
       "  'Country': 'Solomon Islands',\n",
       "  'CountryCode': 'SB',\n",
       "  'Slug': 'solomon-islands',\n",
       "  'NewConfirmed': 0,\n",
       "  'TotalConfirmed': 21237,\n",
       "  'NewDeaths': 0,\n",
       "  'TotalDeaths': 149,\n",
       "  'NewRecovered': 0,\n",
       "  'TotalRecovered': 0,\n",
       "  'Date': '2022-06-13T05:28:15.704Z',\n",
       "  'Premium': {}},\n",
       " {'ID': '32e749ee-7838-4ad4-aa99-0b0809897e39',\n",
       "  'Country': 'Somalia',\n",
       "  'CountryCode': 'SO',\n",
       "  'Slug': 'somalia',\n",
       "  'NewConfirmed': 0,\n",
       "  'TotalConfirmed': 26565,\n",
       "  'NewDeaths': 0,\n",
       "  'TotalDeaths': 1361,\n",
       "  'NewRecovered': 0,\n",
       "  'TotalRecovered': 0,\n",
       "  'Date': '2022-06-13T05:28:15.704Z',\n",
       "  'Premium': {}},\n",
       " {'ID': 'dd8a4535-f838-41e4-b74d-4b5be6d9ac34',\n",
       "  'Country': 'South Africa',\n",
       "  'CountryCode': 'ZA',\n",
       "  'Slug': 'south-africa',\n",
       "  'NewConfirmed': 962,\n",
       "  'TotalConfirmed': 3978590,\n",
       "  'NewDeaths': 7,\n",
       "  'TotalDeaths': 101484,\n",
       "  'NewRecovered': 0,\n",
       "  'TotalRecovered': 0,\n",
       "  'Date': '2022-06-13T05:28:15.704Z',\n",
       "  'Premium': {}},\n",
       " {'ID': 'b086c3ff-2f25-4bd5-97b0-800b404dac80',\n",
       "  'Country': 'South Sudan',\n",
       "  'CountryCode': 'SS',\n",
       "  'Slug': 'south-sudan',\n",
       "  'NewConfirmed': 0,\n",
       "  'TotalConfirmed': 17644,\n",
       "  'NewDeaths': 0,\n",
       "  'TotalDeaths': 138,\n",
       "  'NewRecovered': 0,\n",
       "  'TotalRecovered': 0,\n",
       "  'Date': '2022-06-13T05:28:15.704Z',\n",
       "  'Premium': {}},\n",
       " {'ID': '84a5805a-5431-4adc-8d69-cb4f9764d59c',\n",
       "  'Country': 'Spain',\n",
       "  'CountryCode': 'ES',\n",
       "  'Slug': 'spain',\n",
       "  'NewConfirmed': 0,\n",
       "  'TotalConfirmed': 12478994,\n",
       "  'NewDeaths': 0,\n",
       "  'TotalDeaths': 107108,\n",
       "  'NewRecovered': 0,\n",
       "  'TotalRecovered': 0,\n",
       "  'Date': '2022-06-13T05:28:15.704Z',\n",
       "  'Premium': {}},\n",
       " {'ID': 'a252ff60-1100-47d7-b5b1-e1163d741fb0',\n",
       "  'Country': 'Sri Lanka',\n",
       "  'CountryCode': 'LK',\n",
       "  'Slug': 'sri-lanka',\n",
       "  'NewConfirmed': 13,\n",
       "  'TotalConfirmed': 663950,\n",
       "  'NewDeaths': 0,\n",
       "  'TotalDeaths': 16519,\n",
       "  'NewRecovered': 0,\n",
       "  'TotalRecovered': 0,\n",
       "  'Date': '2022-06-13T05:28:15.704Z',\n",
       "  'Premium': {}},\n",
       " {'ID': 'cf74b7a6-e02f-4558-b4a4-9ed137782dc1',\n",
       "  'Country': 'Sudan',\n",
       "  'CountryCode': 'SD',\n",
       "  'Slug': 'sudan',\n",
       "  'NewConfirmed': 0,\n",
       "  'TotalConfirmed': 62444,\n",
       "  'NewDeaths': 0,\n",
       "  'TotalDeaths': 4950,\n",
       "  'NewRecovered': 0,\n",
       "  'TotalRecovered': 0,\n",
       "  'Date': '2022-06-13T05:28:15.704Z',\n",
       "  'Premium': {}},\n",
       " {'ID': '21848b0e-2cb5-4b2a-8395-d99392a9c14e',\n",
       "  'Country': 'Suriname',\n",
       "  'CountryCode': 'SR',\n",
       "  'Slug': 'suriname',\n",
       "  'NewConfirmed': 0,\n",
       "  'TotalConfirmed': 80673,\n",
       "  'NewDeaths': 0,\n",
       "  'TotalDeaths': 1352,\n",
       "  'NewRecovered': 0,\n",
       "  'TotalRecovered': 0,\n",
       "  'Date': '2022-06-13T05:28:15.704Z',\n",
       "  'Premium': {}},\n",
       " {'ID': '48b1fc19-aea6-486e-a383-f9466abae282',\n",
       "  'Country': 'Swaziland',\n",
       "  'CountryCode': 'SZ',\n",
       "  'Slug': 'swaziland',\n",
       "  'NewConfirmed': 12,\n",
       "  'TotalConfirmed': 72891,\n",
       "  'NewDeaths': 0,\n",
       "  'TotalDeaths': 1410,\n",
       "  'NewRecovered': 0,\n",
       "  'TotalRecovered': 0,\n",
       "  'Date': '2022-06-13T05:28:15.704Z',\n",
       "  'Premium': {}},\n",
       " {'ID': 'ee7272e1-91e9-4815-aa03-fff8b63b8dda',\n",
       "  'Country': 'Sweden',\n",
       "  'CountryCode': 'SE',\n",
       "  'Slug': 'sweden',\n",
       "  'NewConfirmed': 0,\n",
       "  'TotalConfirmed': 2510930,\n",
       "  'NewDeaths': 0,\n",
       "  'TotalDeaths': 19049,\n",
       "  'NewRecovered': 0,\n",
       "  'TotalRecovered': 0,\n",
       "  'Date': '2022-06-13T05:28:15.704Z',\n",
       "  'Premium': {}},\n",
       " {'ID': '65f3d08d-7e4a-42b9-9680-c505818498be',\n",
       "  'Country': 'Switzerland',\n",
       "  'CountryCode': 'CH',\n",
       "  'Slug': 'switzerland',\n",
       "  'NewConfirmed': 0,\n",
       "  'TotalConfirmed': 3685281,\n",
       "  'NewDeaths': 0,\n",
       "  'TotalDeaths': 13814,\n",
       "  'NewRecovered': 0,\n",
       "  'TotalRecovered': 0,\n",
       "  'Date': '2022-06-13T05:28:15.704Z',\n",
       "  'Premium': {}},\n",
       " {'ID': 'cf4df325-0d87-4d55-9296-42aaf68b905a',\n",
       "  'Country': 'Syrian Arab Republic (Syria)',\n",
       "  'CountryCode': 'SY',\n",
       "  'Slug': 'syria',\n",
       "  'NewConfirmed': 0,\n",
       "  'TotalConfirmed': 55904,\n",
       "  'NewDeaths': 0,\n",
       "  'TotalDeaths': 3150,\n",
       "  'NewRecovered': 0,\n",
       "  'TotalRecovered': 0,\n",
       "  'Date': '2022-06-13T05:28:15.704Z',\n",
       "  'Premium': {}},\n",
       " {'ID': '3704c944-658c-4971-8a09-8be38f96c9a9',\n",
       "  'Country': 'Taiwan, Republic of China',\n",
       "  'CountryCode': 'TW',\n",
       "  'Slug': 'taiwan',\n",
       "  'NewConfirmed': 50567,\n",
       "  'TotalConfirmed': 2892263,\n",
       "  'NewDeaths': 163,\n",
       "  'TotalDeaths': 4171,\n",
       "  'NewRecovered': 0,\n",
       "  'TotalRecovered': 0,\n",
       "  'Date': '2022-06-13T05:28:15.704Z',\n",
       "  'Premium': {}},\n",
       " {'ID': 'd1290104-7830-4f0f-b54b-3a54f74a07eb',\n",
       "  'Country': 'Tajikistan',\n",
       "  'CountryCode': 'TJ',\n",
       "  'Slug': 'tajikistan',\n",
       "  'NewConfirmed': 0,\n",
       "  'TotalConfirmed': 17786,\n",
       "  'NewDeaths': 0,\n",
       "  'TotalDeaths': 125,\n",
       "  'NewRecovered': 0,\n",
       "  'TotalRecovered': 0,\n",
       "  'Date': '2022-06-13T05:28:15.704Z',\n",
       "  'Premium': {}},\n",
       " {'ID': '4ac8b2dd-3282-4447-b3f5-744f9fe6f55c',\n",
       "  'Country': 'Tanzania, United Republic of',\n",
       "  'CountryCode': 'TZ',\n",
       "  'Slug': 'tanzania',\n",
       "  'NewConfirmed': 0,\n",
       "  'TotalConfirmed': 35354,\n",
       "  'NewDeaths': 0,\n",
       "  'TotalDeaths': 840,\n",
       "  'NewRecovered': 0,\n",
       "  'TotalRecovered': 0,\n",
       "  'Date': '2022-06-13T05:28:15.704Z',\n",
       "  'Premium': {}},\n",
       " {'ID': 'cf5ba9ed-f83d-45de-bd8a-217a4d261a80',\n",
       "  'Country': 'Thailand',\n",
       "  'CountryCode': 'TH',\n",
       "  'Slug': 'thailand',\n",
       "  'NewConfirmed': 0,\n",
       "  'TotalConfirmed': 4484863,\n",
       "  'NewDeaths': 0,\n",
       "  'TotalDeaths': 30334,\n",
       "  'NewRecovered': 0,\n",
       "  'TotalRecovered': 0,\n",
       "  'Date': '2022-06-13T05:28:15.704Z',\n",
       "  'Premium': {}},\n",
       " {'ID': '466687a1-0dbc-4830-a910-584e9ea83178',\n",
       "  'Country': 'Timor-Leste',\n",
       "  'CountryCode': 'TL',\n",
       "  'Slug': 'timor-leste',\n",
       "  'NewConfirmed': 0,\n",
       "  'TotalConfirmed': 22931,\n",
       "  'NewDeaths': 0,\n",
       "  'TotalDeaths': 133,\n",
       "  'NewRecovered': 0,\n",
       "  'TotalRecovered': 0,\n",
       "  'Date': '2022-06-13T05:28:15.704Z',\n",
       "  'Premium': {}},\n",
       " {'ID': 'ed3e4541-7097-4563-8a02-c08a0d721c40',\n",
       "  'Country': 'Togo',\n",
       "  'CountryCode': 'TG',\n",
       "  'Slug': 'togo',\n",
       "  'NewConfirmed': 20,\n",
       "  'TotalConfirmed': 37196,\n",
       "  'NewDeaths': 0,\n",
       "  'TotalDeaths': 273,\n",
       "  'NewRecovered': 0,\n",
       "  'TotalRecovered': 0,\n",
       "  'Date': '2022-06-13T05:28:15.704Z',\n",
       "  'Premium': {}},\n",
       " {'ID': '447c313d-6edb-4807-826c-8edca5c1c42f',\n",
       "  'Country': 'Tonga',\n",
       "  'CountryCode': 'TO',\n",
       "  'Slug': 'tonga',\n",
       "  'NewConfirmed': 0,\n",
       "  'TotalConfirmed': 11909,\n",
       "  'NewDeaths': 0,\n",
       "  'TotalDeaths': 12,\n",
       "  'NewRecovered': 0,\n",
       "  'TotalRecovered': 0,\n",
       "  'Date': '2022-06-13T05:28:15.704Z',\n",
       "  'Premium': {}},\n",
       " {'ID': '3db5458f-a626-40db-b804-e11a690473f0',\n",
       "  'Country': 'Trinidad and Tobago',\n",
       "  'CountryCode': 'TT',\n",
       "  'Slug': 'trinidad-and-tobago',\n",
       "  'NewConfirmed': 217,\n",
       "  'TotalConfirmed': 164723,\n",
       "  'NewDeaths': 4,\n",
       "  'TotalDeaths': 3963,\n",
       "  'NewRecovered': 0,\n",
       "  'TotalRecovered': 0,\n",
       "  'Date': '2022-06-13T05:28:15.704Z',\n",
       "  'Premium': {}},\n",
       " {'ID': '6f1fe929-7c61-49d9-ada1-c3399b88f95e',\n",
       "  'Country': 'Tunisia',\n",
       "  'CountryCode': 'TN',\n",
       "  'Slug': 'tunisia',\n",
       "  'NewConfirmed': 0,\n",
       "  'TotalConfirmed': 1043540,\n",
       "  'NewDeaths': 0,\n",
       "  'TotalDeaths': 28648,\n",
       "  'NewRecovered': 0,\n",
       "  'TotalRecovered': 0,\n",
       "  'Date': '2022-06-13T05:28:15.704Z',\n",
       "  'Premium': {}},\n",
       " {'ID': '96bf2dd4-d9c3-4a69-a5da-35642d21134d',\n",
       "  'Country': 'Turkey',\n",
       "  'CountryCode': 'TR',\n",
       "  'Slug': 'turkey',\n",
       "  'NewConfirmed': 0,\n",
       "  'TotalConfirmed': 15072747,\n",
       "  'NewDeaths': 0,\n",
       "  'TotalDeaths': 98965,\n",
       "  'NewRecovered': 0,\n",
       "  'TotalRecovered': 0,\n",
       "  'Date': '2022-06-13T05:28:15.704Z',\n",
       "  'Premium': {}},\n",
       " {'ID': '05af70e1-5787-480f-812f-5b013e2ca129',\n",
       "  'Country': 'Uganda',\n",
       "  'CountryCode': 'UG',\n",
       "  'Slug': 'uganda',\n",
       "  'NewConfirmed': 116,\n",
       "  'TotalConfirmed': 166237,\n",
       "  'NewDeaths': 0,\n",
       "  'TotalDeaths': 3602,\n",
       "  'NewRecovered': 0,\n",
       "  'TotalRecovered': 0,\n",
       "  'Date': '2022-06-13T05:28:15.704Z',\n",
       "  'Premium': {}},\n",
       " {'ID': '6d308741-43d5-4975-a651-1936934f0e63',\n",
       "  'Country': 'Ukraine',\n",
       "  'CountryCode': 'UA',\n",
       "  'Slug': 'ukraine',\n",
       "  'NewConfirmed': 0,\n",
       "  'TotalConfirmed': 5040518,\n",
       "  'NewDeaths': 0,\n",
       "  'TotalDeaths': 112459,\n",
       "  'NewRecovered': 0,\n",
       "  'TotalRecovered': 0,\n",
       "  'Date': '2022-06-13T05:28:15.704Z',\n",
       "  'Premium': {}},\n",
       " {'ID': '03208754-ea8a-4387-9576-b2194324411f',\n",
       "  'Country': 'United Arab Emirates',\n",
       "  'CountryCode': 'AE',\n",
       "  'Slug': 'united-arab-emirates',\n",
       "  'NewConfirmed': 1249,\n",
       "  'TotalConfirmed': 917496,\n",
       "  'NewDeaths': 0,\n",
       "  'TotalDeaths': 2305,\n",
       "  'NewRecovered': 0,\n",
       "  'TotalRecovered': 0,\n",
       "  'Date': '2022-06-13T05:28:15.704Z',\n",
       "  'Premium': {}},\n",
       " {'ID': '8083c742-74a0-4f91-90bf-1beccd5994d3',\n",
       "  'Country': 'United Kingdom',\n",
       "  'CountryCode': 'GB',\n",
       "  'Slug': 'united-kingdom',\n",
       "  'NewConfirmed': 0,\n",
       "  'TotalConfirmed': 22571880,\n",
       "  'NewDeaths': 0,\n",
       "  'TotalDeaths': 179884,\n",
       "  'NewRecovered': 0,\n",
       "  'TotalRecovered': 0,\n",
       "  'Date': '2022-06-13T05:28:15.704Z',\n",
       "  'Premium': {}},\n",
       " {'ID': '727a5f73-22c8-4974-94c0-43d6e7f89e08',\n",
       "  'Country': 'United States of America',\n",
       "  'CountryCode': 'US',\n",
       "  'Slug': 'united-states',\n",
       "  'NewConfirmed': 32160,\n",
       "  'TotalConfirmed': 85500976,\n",
       "  'NewDeaths': 96,\n",
       "  'TotalDeaths': 1011260,\n",
       "  'NewRecovered': 0,\n",
       "  'TotalRecovered': 0,\n",
       "  'Date': '2022-06-13T05:28:15.704Z',\n",
       "  'Premium': {}},\n",
       " {'ID': '7b46673b-f433-4bc7-946f-419482480c89',\n",
       "  'Country': 'Uruguay',\n",
       "  'CountryCode': 'UY',\n",
       "  'Slug': 'uruguay',\n",
       "  'NewConfirmed': 0,\n",
       "  'TotalConfirmed': 934961,\n",
       "  'NewDeaths': 0,\n",
       "  'TotalDeaths': 7262,\n",
       "  'NewRecovered': 0,\n",
       "  'TotalRecovered': 0,\n",
       "  'Date': '2022-06-13T05:28:15.704Z',\n",
       "  'Premium': {}},\n",
       " {'ID': 'ec2fe308-d8d4-48dd-91e4-eea9f37ffed4',\n",
       "  'Country': 'Uzbekistan',\n",
       "  'CountryCode': 'UZ',\n",
       "  'Slug': 'uzbekistan',\n",
       "  'NewConfirmed': 0,\n",
       "  'TotalConfirmed': 239236,\n",
       "  'NewDeaths': 0,\n",
       "  'TotalDeaths': 1637,\n",
       "  'NewRecovered': 0,\n",
       "  'TotalRecovered': 0,\n",
       "  'Date': '2022-06-13T05:28:15.704Z',\n",
       "  'Premium': {}},\n",
       " {'ID': 'f8801618-1e47-445f-8483-63acbbf11753',\n",
       "  'Country': 'Vanuatu',\n",
       "  'CountryCode': 'VU',\n",
       "  'Slug': 'vanuatu',\n",
       "  'NewConfirmed': 107,\n",
       "  'TotalConfirmed': 10497,\n",
       "  'NewDeaths': 0,\n",
       "  'TotalDeaths': 14,\n",
       "  'NewRecovered': 0,\n",
       "  'TotalRecovered': 0,\n",
       "  'Date': '2022-06-13T05:28:15.704Z',\n",
       "  'Premium': {}},\n",
       " {'ID': '182fc3cb-1729-451f-a86e-e22cdc5fb04e',\n",
       "  'Country': 'Venezuela (Bolivarian Republic)',\n",
       "  'CountryCode': 'VE',\n",
       "  'Slug': 'venezuela',\n",
       "  'NewConfirmed': 64,\n",
       "  'TotalConfirmed': 524216,\n",
       "  'NewDeaths': 0,\n",
       "  'TotalDeaths': 5723,\n",
       "  'NewRecovered': 0,\n",
       "  'TotalRecovered': 0,\n",
       "  'Date': '2022-06-13T05:28:15.704Z',\n",
       "  'Premium': {}},\n",
       " {'ID': '3b9b893d-f3b5-4f2e-94f0-2e50d66b6b54',\n",
       "  'Country': 'Viet Nam',\n",
       "  'CountryCode': 'VN',\n",
       "  'Slug': 'vietnam',\n",
       "  'NewConfirmed': 568,\n",
       "  'TotalConfirmed': 10731812,\n",
       "  'NewDeaths': 0,\n",
       "  'TotalDeaths': 43083,\n",
       "  'NewRecovered': 0,\n",
       "  'TotalRecovered': 0,\n",
       "  'Date': '2022-06-13T05:28:15.704Z',\n",
       "  'Premium': {}},\n",
       " {'ID': '306a8f26-0e54-4bbf-bc2c-0b21d929826c',\n",
       "  'Country': 'Yemen',\n",
       "  'CountryCode': 'YE',\n",
       "  'Slug': 'yemen',\n",
       "  'NewConfirmed': 0,\n",
       "  'TotalConfirmed': 11822,\n",
       "  'NewDeaths': 0,\n",
       "  'TotalDeaths': 2149,\n",
       "  'NewRecovered': 0,\n",
       "  'TotalRecovered': 0,\n",
       "  'Date': '2022-06-13T05:28:15.704Z',\n",
       "  'Premium': {}},\n",
       " {'ID': '9716e43c-64a6-4f27-95c0-13e187912bdc',\n",
       "  'Country': 'Zambia',\n",
       "  'CountryCode': 'ZM',\n",
       "  'Slug': 'zambia',\n",
       "  'NewConfirmed': 0,\n",
       "  'TotalConfirmed': 323058,\n",
       "  'NewDeaths': 0,\n",
       "  'TotalDeaths': 3989,\n",
       "  'NewRecovered': 0,\n",
       "  'TotalRecovered': 0,\n",
       "  'Date': '2022-06-13T05:28:15.704Z',\n",
       "  'Premium': {}},\n",
       " {'ID': 'd21238d0-43ca-4dc8-9927-6c5db2153917',\n",
       "  'Country': 'Zimbabwe',\n",
       "  'CountryCode': 'ZW',\n",
       "  'Slug': 'zimbabwe',\n",
       "  'NewConfirmed': 67,\n",
       "  'TotalConfirmed': 254098,\n",
       "  'NewDeaths': 3,\n",
       "  'TotalDeaths': 5521,\n",
       "  'NewRecovered': 0,\n",
       "  'TotalRecovered': 0,\n",
       "  'Date': '2022-06-13T05:28:15.704Z',\n",
       "  'Premium': {}}]"
      ]
     },
     "execution_count": 42,
     "metadata": {},
     "output_type": "execute_result"
    }
   ],
   "source": [
    "json['Countries']"
   ]
  },
  {
   "cell_type": "code",
   "execution_count": 43,
   "id": "a7c55db1",
   "metadata": {},
   "outputs": [
    {
     "data": {
      "text/plain": [
       "dict"
      ]
     },
     "execution_count": 43,
     "metadata": {},
     "output_type": "execute_result"
    }
   ],
   "source": [
    "type(json['Global'])"
   ]
  },
  {
   "cell_type": "code",
   "execution_count": 44,
   "id": "50396d50",
   "metadata": {},
   "outputs": [
    {
     "data": {
      "text/plain": [
       "list"
      ]
     },
     "execution_count": 44,
     "metadata": {},
     "output_type": "execute_result"
    }
   ],
   "source": [
    "type(json['Countries'])"
   ]
  },
  {
   "cell_type": "code",
   "execution_count": 45,
   "id": "b811ccef",
   "metadata": {},
   "outputs": [
    {
     "data": {
      "text/plain": [
       "str"
      ]
     },
     "execution_count": 45,
     "metadata": {},
     "output_type": "execute_result"
    }
   ],
   "source": [
    "type(json['Date'])"
   ]
  },
  {
   "cell_type": "code",
   "execution_count": 46,
   "id": "aacde977",
   "metadata": {},
   "outputs": [
    {
     "data": {
      "text/plain": [
       "{'ID': '48dfed97-2334-498c-b1bb-02c96e2317fd',\n",
       " 'Country': 'Afghanistan',\n",
       " 'CountryCode': 'AF',\n",
       " 'Slug': 'afghanistan',\n",
       " 'NewConfirmed': 0,\n",
       " 'TotalConfirmed': 180864,\n",
       " 'NewDeaths': 0,\n",
       " 'TotalDeaths': 7709,\n",
       " 'NewRecovered': 0,\n",
       " 'TotalRecovered': 0,\n",
       " 'Date': '2022-06-13T05:28:15.704Z',\n",
       " 'Premium': {}}"
      ]
     },
     "execution_count": 46,
     "metadata": {},
     "output_type": "execute_result"
    }
   ],
   "source": [
    "# Countires is a list of dictionaries so let's explore further \n",
    "json['Countries'][0]"
   ]
  },
  {
   "cell_type": "code",
   "execution_count": 47,
   "id": "18d98fd7",
   "metadata": {},
   "outputs": [],
   "source": [
    "df_countries = pd.DataFrame(json['Countries'])"
   ]
  },
  {
   "cell_type": "code",
   "execution_count": 48,
   "id": "6677a648",
   "metadata": {},
   "outputs": [
    {
     "data": {
      "text/html": [
       "<div>\n",
       "<style scoped>\n",
       "    .dataframe tbody tr th:only-of-type {\n",
       "        vertical-align: middle;\n",
       "    }\n",
       "\n",
       "    .dataframe tbody tr th {\n",
       "        vertical-align: top;\n",
       "    }\n",
       "\n",
       "    .dataframe thead th {\n",
       "        text-align: right;\n",
       "    }\n",
       "</style>\n",
       "<table border=\"1\" class=\"dataframe\">\n",
       "  <thead>\n",
       "    <tr style=\"text-align: right;\">\n",
       "      <th></th>\n",
       "      <th>ID</th>\n",
       "      <th>Country</th>\n",
       "      <th>CountryCode</th>\n",
       "      <th>Slug</th>\n",
       "      <th>NewConfirmed</th>\n",
       "      <th>TotalConfirmed</th>\n",
       "      <th>NewDeaths</th>\n",
       "      <th>TotalDeaths</th>\n",
       "      <th>NewRecovered</th>\n",
       "      <th>TotalRecovered</th>\n",
       "      <th>Date</th>\n",
       "      <th>Premium</th>\n",
       "    </tr>\n",
       "  </thead>\n",
       "  <tbody>\n",
       "    <tr>\n",
       "      <th>0</th>\n",
       "      <td>48dfed97-2334-498c-b1bb-02c96e2317fd</td>\n",
       "      <td>Afghanistan</td>\n",
       "      <td>AF</td>\n",
       "      <td>afghanistan</td>\n",
       "      <td>0</td>\n",
       "      <td>180864</td>\n",
       "      <td>0</td>\n",
       "      <td>7709</td>\n",
       "      <td>0</td>\n",
       "      <td>0</td>\n",
       "      <td>2022-06-13T05:28:15.704Z</td>\n",
       "      <td>{}</td>\n",
       "    </tr>\n",
       "    <tr>\n",
       "      <th>1</th>\n",
       "      <td>644964b7-f36c-4790-a89e-e219e8e6436d</td>\n",
       "      <td>Albania</td>\n",
       "      <td>AL</td>\n",
       "      <td>albania</td>\n",
       "      <td>41</td>\n",
       "      <td>276731</td>\n",
       "      <td>0</td>\n",
       "      <td>3497</td>\n",
       "      <td>0</td>\n",
       "      <td>0</td>\n",
       "      <td>2022-06-13T05:28:15.704Z</td>\n",
       "      <td>{}</td>\n",
       "    </tr>\n",
       "    <tr>\n",
       "      <th>2</th>\n",
       "      <td>9a9aab62-9a41-4e2f-a892-742b288720bf</td>\n",
       "      <td>Algeria</td>\n",
       "      <td>DZ</td>\n",
       "      <td>algeria</td>\n",
       "      <td>2</td>\n",
       "      <td>265927</td>\n",
       "      <td>0</td>\n",
       "      <td>6875</td>\n",
       "      <td>0</td>\n",
       "      <td>0</td>\n",
       "      <td>2022-06-13T05:28:15.704Z</td>\n",
       "      <td>{}</td>\n",
       "    </tr>\n",
       "    <tr>\n",
       "      <th>3</th>\n",
       "      <td>bbc359e2-4baf-4d5a-95be-a23ae10905e4</td>\n",
       "      <td>Andorra</td>\n",
       "      <td>AD</td>\n",
       "      <td>andorra</td>\n",
       "      <td>0</td>\n",
       "      <td>43224</td>\n",
       "      <td>0</td>\n",
       "      <td>153</td>\n",
       "      <td>0</td>\n",
       "      <td>0</td>\n",
       "      <td>2022-06-13T05:28:15.704Z</td>\n",
       "      <td>{}</td>\n",
       "    </tr>\n",
       "    <tr>\n",
       "      <th>4</th>\n",
       "      <td>26a5c7a9-ba7b-4a99-ace3-f9d077e26ee6</td>\n",
       "      <td>Angola</td>\n",
       "      <td>AO</td>\n",
       "      <td>angola</td>\n",
       "      <td>0</td>\n",
       "      <td>99761</td>\n",
       "      <td>0</td>\n",
       "      <td>1900</td>\n",
       "      <td>0</td>\n",
       "      <td>0</td>\n",
       "      <td>2022-06-13T05:28:15.704Z</td>\n",
       "      <td>{}</td>\n",
       "    </tr>\n",
       "    <tr>\n",
       "      <th>...</th>\n",
       "      <td>...</td>\n",
       "      <td>...</td>\n",
       "      <td>...</td>\n",
       "      <td>...</td>\n",
       "      <td>...</td>\n",
       "      <td>...</td>\n",
       "      <td>...</td>\n",
       "      <td>...</td>\n",
       "      <td>...</td>\n",
       "      <td>...</td>\n",
       "      <td>...</td>\n",
       "      <td>...</td>\n",
       "    </tr>\n",
       "    <tr>\n",
       "      <th>190</th>\n",
       "      <td>182fc3cb-1729-451f-a86e-e22cdc5fb04e</td>\n",
       "      <td>Venezuela (Bolivarian Republic)</td>\n",
       "      <td>VE</td>\n",
       "      <td>venezuela</td>\n",
       "      <td>64</td>\n",
       "      <td>524216</td>\n",
       "      <td>0</td>\n",
       "      <td>5723</td>\n",
       "      <td>0</td>\n",
       "      <td>0</td>\n",
       "      <td>2022-06-13T05:28:15.704Z</td>\n",
       "      <td>{}</td>\n",
       "    </tr>\n",
       "    <tr>\n",
       "      <th>191</th>\n",
       "      <td>3b9b893d-f3b5-4f2e-94f0-2e50d66b6b54</td>\n",
       "      <td>Viet Nam</td>\n",
       "      <td>VN</td>\n",
       "      <td>vietnam</td>\n",
       "      <td>568</td>\n",
       "      <td>10731812</td>\n",
       "      <td>0</td>\n",
       "      <td>43083</td>\n",
       "      <td>0</td>\n",
       "      <td>0</td>\n",
       "      <td>2022-06-13T05:28:15.704Z</td>\n",
       "      <td>{}</td>\n",
       "    </tr>\n",
       "    <tr>\n",
       "      <th>192</th>\n",
       "      <td>306a8f26-0e54-4bbf-bc2c-0b21d929826c</td>\n",
       "      <td>Yemen</td>\n",
       "      <td>YE</td>\n",
       "      <td>yemen</td>\n",
       "      <td>0</td>\n",
       "      <td>11822</td>\n",
       "      <td>0</td>\n",
       "      <td>2149</td>\n",
       "      <td>0</td>\n",
       "      <td>0</td>\n",
       "      <td>2022-06-13T05:28:15.704Z</td>\n",
       "      <td>{}</td>\n",
       "    </tr>\n",
       "    <tr>\n",
       "      <th>193</th>\n",
       "      <td>9716e43c-64a6-4f27-95c0-13e187912bdc</td>\n",
       "      <td>Zambia</td>\n",
       "      <td>ZM</td>\n",
       "      <td>zambia</td>\n",
       "      <td>0</td>\n",
       "      <td>323058</td>\n",
       "      <td>0</td>\n",
       "      <td>3989</td>\n",
       "      <td>0</td>\n",
       "      <td>0</td>\n",
       "      <td>2022-06-13T05:28:15.704Z</td>\n",
       "      <td>{}</td>\n",
       "    </tr>\n",
       "    <tr>\n",
       "      <th>194</th>\n",
       "      <td>d21238d0-43ca-4dc8-9927-6c5db2153917</td>\n",
       "      <td>Zimbabwe</td>\n",
       "      <td>ZW</td>\n",
       "      <td>zimbabwe</td>\n",
       "      <td>67</td>\n",
       "      <td>254098</td>\n",
       "      <td>3</td>\n",
       "      <td>5521</td>\n",
       "      <td>0</td>\n",
       "      <td>0</td>\n",
       "      <td>2022-06-13T05:28:15.704Z</td>\n",
       "      <td>{}</td>\n",
       "    </tr>\n",
       "  </tbody>\n",
       "</table>\n",
       "<p>195 rows × 12 columns</p>\n",
       "</div>"
      ],
      "text/plain": [
       "                                       ID                          Country  \\\n",
       "0    48dfed97-2334-498c-b1bb-02c96e2317fd                      Afghanistan   \n",
       "1    644964b7-f36c-4790-a89e-e219e8e6436d                          Albania   \n",
       "2    9a9aab62-9a41-4e2f-a892-742b288720bf                          Algeria   \n",
       "3    bbc359e2-4baf-4d5a-95be-a23ae10905e4                          Andorra   \n",
       "4    26a5c7a9-ba7b-4a99-ace3-f9d077e26ee6                           Angola   \n",
       "..                                    ...                              ...   \n",
       "190  182fc3cb-1729-451f-a86e-e22cdc5fb04e  Venezuela (Bolivarian Republic)   \n",
       "191  3b9b893d-f3b5-4f2e-94f0-2e50d66b6b54                         Viet Nam   \n",
       "192  306a8f26-0e54-4bbf-bc2c-0b21d929826c                            Yemen   \n",
       "193  9716e43c-64a6-4f27-95c0-13e187912bdc                           Zambia   \n",
       "194  d21238d0-43ca-4dc8-9927-6c5db2153917                         Zimbabwe   \n",
       "\n",
       "    CountryCode         Slug  NewConfirmed  TotalConfirmed  NewDeaths  \\\n",
       "0            AF  afghanistan             0          180864          0   \n",
       "1            AL      albania            41          276731          0   \n",
       "2            DZ      algeria             2          265927          0   \n",
       "3            AD      andorra             0           43224          0   \n",
       "4            AO       angola             0           99761          0   \n",
       "..          ...          ...           ...             ...        ...   \n",
       "190          VE    venezuela            64          524216          0   \n",
       "191          VN      vietnam           568        10731812          0   \n",
       "192          YE        yemen             0           11822          0   \n",
       "193          ZM       zambia             0          323058          0   \n",
       "194          ZW     zimbabwe            67          254098          3   \n",
       "\n",
       "     TotalDeaths  NewRecovered  TotalRecovered                      Date  \\\n",
       "0           7709             0               0  2022-06-13T05:28:15.704Z   \n",
       "1           3497             0               0  2022-06-13T05:28:15.704Z   \n",
       "2           6875             0               0  2022-06-13T05:28:15.704Z   \n",
       "3            153             0               0  2022-06-13T05:28:15.704Z   \n",
       "4           1900             0               0  2022-06-13T05:28:15.704Z   \n",
       "..           ...           ...             ...                       ...   \n",
       "190         5723             0               0  2022-06-13T05:28:15.704Z   \n",
       "191        43083             0               0  2022-06-13T05:28:15.704Z   \n",
       "192         2149             0               0  2022-06-13T05:28:15.704Z   \n",
       "193         3989             0               0  2022-06-13T05:28:15.704Z   \n",
       "194         5521             0               0  2022-06-13T05:28:15.704Z   \n",
       "\n",
       "    Premium  \n",
       "0        {}  \n",
       "1        {}  \n",
       "2        {}  \n",
       "3        {}  \n",
       "4        {}  \n",
       "..      ...  \n",
       "190      {}  \n",
       "191      {}  \n",
       "192      {}  \n",
       "193      {}  \n",
       "194      {}  \n",
       "\n",
       "[195 rows x 12 columns]"
      ]
     },
     "execution_count": 48,
     "metadata": {},
     "output_type": "execute_result"
    }
   ],
   "source": [
    "df_countries"
   ]
  },
  {
   "cell_type": "markdown",
   "id": "5d62c8d6",
   "metadata": {},
   "source": [
    "### Task 1: Get data of confirmed cases in the UK starting from the first recorded case"
   ]
  },
  {
   "cell_type": "markdown",
   "id": "76738b05",
   "metadata": {},
   "source": [
    "- Hint: Refer to the API documenataion to understand how to query this data  "
   ]
  },
  {
   "cell_type": "code",
   "execution_count": null,
   "id": "2c2982c3",
   "metadata": {},
   "outputs": [],
   "source": []
  },
  {
   "cell_type": "markdown",
   "id": "01fd26c5",
   "metadata": {},
   "source": [
    "### Task 2: Create a pandas dataframe for the data obtained in task 1 "
   ]
  },
  {
   "cell_type": "code",
   "execution_count": null,
   "id": "fe4d01e8",
   "metadata": {},
   "outputs": [],
   "source": []
  },
  {
   "cell_type": "markdown",
   "id": "fea2e75f",
   "metadata": {},
   "source": [
    " "
   ]
  },
  {
   "cell_type": "markdown",
   "id": "4cff6bbf",
   "metadata": {},
   "source": [
    " "
   ]
  },
  {
   "cell_type": "markdown",
   "id": "ef03be12",
   "metadata": {},
   "source": [
    "## Summarizing Data "
   ]
  },
  {
   "cell_type": "markdown",
   "id": "848e0481",
   "metadata": {},
   "source": [
    "When you first get a dataset, 99 out of 100 Data Scientists will \n",
    "\n",
    "\n",
    "1. Plot it \n",
    "\n",
    "\n",
    "2. Look at some summary stats. \n",
    "\n",
    "\n",
    "There are some cautionary tales about not plotting data from [this experiment](https://genomebiology.biomedcentral.com/articles/10.1186/s13059-020-02133-w), where students given a pre-conceived hypothesis were less likely to first plot the data, missing some interesting findings! \n",
    "\n",
    "Its a nod towards this even more [famous experiment](https://www.youtube.com/watch?v=vJG698U2Mvo)\n",
    "\n",
    "\n",
    "Today, we're going to continue to work on your Python, and introduce some basic maths concepts for examining datasets using the [NumPy](https://numpy.org/doc/stable/) library. \n",
    "\n",
    "If after today you still want to work out whats going on, this [absolute beginners guide](https://numpy.org/doc/stable/user/absolute_beginners.html?highlight=csv) is super useful if you at any point want to do any extra NumPy work.\n",
    "\n",
    "We have provided you with split of the [This Is My Jam](https://archive.org/details/thisismyjam-datadump) data dump. (Its not all of it because thats massive). We're going to use the Python libraries NumPy, and [Matplotlib](https://matplotlib.org/) to check it out. \n"
   ]
  },
  {
   "cell_type": "markdown",
   "id": "f0a93959",
   "metadata": {},
   "source": [
    "### Loading libraries"
   ]
  },
  {
   "cell_type": "markdown",
   "id": "30c14f18",
   "metadata": {},
   "source": [
    "Both NumPy and Matplotlib are included in your Anaconda installation, so no need to fetch them again. You can see whats included in Anaconda [here](https://docs.anaconda.com/anaconda/packages/pkg-docs/). Just to prove it we can run the code below. \n",
    "\n",
    "_Remember_, putting a `!` infront executes the code as if it was in the terminal, not as Python code. This shows which version of the library with have installed, and if it was installed via Anaconda. \n",
    "\n"
   ]
  },
  {
   "cell_type": "code",
   "execution_count": 7,
   "id": "2ab4e6f6",
   "metadata": {},
   "outputs": [
    {
     "name": "stdout",
     "output_type": "stream",
     "text": [
      "# packages in environment at /opt/homebrew/Caskroom/miniforge/base/envs/cci:\r\n",
      "#\r\n",
      "# Name                    Version                   Build  Channel\r\n",
      "numpy                     1.21.2           py38hbf7bb01_0    conda-forge\r\n"
     ]
    }
   ],
   "source": [
    "!conda list numpy"
   ]
  },
  {
   "cell_type": "code",
   "execution_count": 8,
   "id": "4a2e6602",
   "metadata": {},
   "outputs": [
    {
     "name": "stdout",
     "output_type": "stream",
     "text": [
      "# packages in environment at /opt/homebrew/Caskroom/miniforge/base/envs/cci:\r\n",
      "#\r\n",
      "# Name                    Version                   Build  Channel\r\n",
      "matplotlib                3.4.3                    pypi_0    pypi\r\n",
      "matplotlib-inline         0.1.3              pyhd8ed1ab_0    conda-forge\r\n"
     ]
    }
   ],
   "source": [
    "!conda list matplotlib"
   ]
  },
  {
   "cell_type": "markdown",
   "id": "c4d547e1",
   "metadata": {},
   "source": [
    "If you **dont** have them installed for some reason, you can use \n",
    "\n",
    "```!{sys.executable} -m pip install numpy``` and ```!{sys.executable} -m pip install matplotlib```\n",
    "                        \n",
    "**OR**\n",
    "                            \n",
    "```!conda install numpy``` and ```!conda install matplotlib```\n",
    "\n",
    "Even though the packages are installed on the computer, we need to tell the notebook that we are going to use them in this session. We do that using the ```import``` method. When we import the library, we can also give an _alias_. We normally do this to give the library a shorter name for ease when we're coding. The alias is designated using the ```as``` keyword. \n",
    "\n",
    "Below we are importing both the libraries, and giving them a shortened alias (``np`` for numpy, and the pyplot package from matplotlib as ``plt``)"
   ]
  },
  {
   "cell_type": "code",
   "execution_count": 10,
   "id": "30db4164",
   "metadata": {},
   "outputs": [],
   "source": [
    "import matplotlib.pyplot as plt\n",
    "import numpy as np"
   ]
  },
  {
   "cell_type": "markdown",
   "id": "3de943f4",
   "metadata": {},
   "source": [
    "## Generating Data with NumPy"
   ]
  },
  {
   "cell_type": "markdown",
   "id": "d6eda76c",
   "metadata": {},
   "source": [
    "Until this point, we have been working with **Lists** that we have either hand written ourselves\n",
    "\n",
    "``\n",
    "top_buffy_seasons_sorted = [2,5,3,6,1,7,4]\n",
    "``\n",
    "\n",
    "Or loaded in from files \n",
    "\n",
    "``\n",
    "book_chapters = open('hacking.txt', 'r')\n",
    "``\n",
    "\n",
    "However, often when we are working with dataset, debugging code or plotting graphs its useful to **generate lists of numbers** based on some simple rules.\n",
    "\n",
    "For example\n",
    "\n",
    "\n",
    "* All the numbers from 0 - 100\n",
    "\n",
    "\n",
    "* Every fifth number from 0 - 100\n",
    "\n",
    "\n",
    "* 100 random numbers \n",
    "\n",
    "\n",
    "Sometimes we _even work with numbers beyond 100_. \n",
    "\n",
    "**NumPy** has lots of **functions** built in to allow us to do this. We're going to learn about 2 of them, and then use them to make some **plots**. \n",
    "\n",
    "\n",
    "### ``np.arange(start, end, step)``\n",
    "\n",
    "What we see here is first generating a equally spaced range of numbers using ```np.arange()```. Here we get the first 100 (0-99). \n"
   ]
  },
  {
   "cell_type": "code",
   "execution_count": 12,
   "id": "af555fe2",
   "metadata": {},
   "outputs": [
    {
     "name": "stdout",
     "output_type": "stream",
     "text": [
      "[ 0  1  2  3  4  5  6  7  8  9 10 11 12 13 14 15 16 17 18 19 20 21 22 23\n",
      " 24 25 26 27 28 29 30 31 32 33 34 35 36 37 38 39 40 41 42 43 44 45 46 47\n",
      " 48 49 50 51 52 53 54 55 56 57 58 59 60 61 62 63 64 65 66 67 68 69 70 71\n",
      " 72 73 74 75 76 77 78 79 80 81 82 83 84 85 86 87 88 89 90 91 92 93 94 95\n",
      " 96 97 98 99]\n"
     ]
    }
   ],
   "source": [
    "#Generate numbers 0-99\n",
    "x = np.arange(100)\n",
    "print(x)"
   ]
  },
  {
   "cell_type": "markdown",
   "id": "92b2eec1",
   "metadata": {},
   "source": [
    "### ``np.random.randint(low, high, size)``\n",
    "\n",
    "We then use the ```np.random.randint``` function to generate 100 random numbers from 0 - 99. Run the code below a few times. \n",
    "\n",
    "1. Do the random numbers change every time?\n",
    "\n",
    "\n",
    "2. Are there duplicated numbers?"
   ]
  },
  {
   "cell_type": "code",
   "execution_count": 63,
   "id": "4ee71fb0",
   "metadata": {},
   "outputs": [
    {
     "name": "stdout",
     "output_type": "stream",
     "text": [
      "[58 92 60  0 43 47 96 80 12 97 16 57 91 33 53  6 47 81 80 10 66 27 92 44\n",
      " 74 35 39 30 70  4 28 68 43  0 12 63 45 70 46 70 18 19 81 84  4 84 34 66\n",
      " 24 61 41 39 36  7 94 88 82 92 70 17 92 15 83 79  4 62 96  0 16 64 57  5\n",
      " 42 87 96  8 30 94 85 58 71 64 30 57 19 98 64 63 72 52 31  3 12 68 84 58\n",
      " 52 57 46 60]\n"
     ]
    }
   ],
   "source": [
    "#Generate 100 random numbers in the range 0-99\n",
    "x = np.random.randint(0,100,100)\n",
    "print(x)"
   ]
  },
  {
   "cell_type": "markdown",
   "id": "b0ffe9fa",
   "metadata": {},
   "source": [
    "## Plotting Data with `matplotlib.pyplot`\n",
    "\n",
    "### What data do we need to make a plot?\n",
    "\n",
    "At its simplest, a `plot` or `graph` has **2 axes**, each corresponding to a variables of a dataset. By plotting them against each other, we are able to learn something about the relationship between the variables. Each data point can be shown individually, or joined together in a line.\n",
    "\n",
    "Traditionally, the horizontal axis is known as the **x axis** and the vertical axis is known as the **y axis**.\n",
    "\n",
    "For example, we might want to see :\n",
    "\n",
    "\n",
    "- Time (`x`) against amplitude (`y`) for an audio file\n",
    "\n",
    "\n",
    "- Height (`x`) against weight (`y`) for a population \n",
    "\n",
    "\n",
    "- Temperature (`x`) against ice cream sales (`y`)\n",
    "\n",
    "\n",
    "\n",
    "### The Data\n",
    "\n",
    "Each data point that we want to plot should have **2 values**. As we've seen in Python, when storing the multiple data points, it makes sense to use a ``List``. \n",
    "\n",
    "The data structure we will use for the `matplotlib.pyplot` library is **two lists**, one for each axis. \n",
    "\n",
    "They should be the same length, with each data point having a corresponding variable in each array \n",
    "\n",
    "e.g \n",
    "\n",
    "``\n",
    "pt1 = (x[0], y[0])\n",
    "pt2 = (x[1], y[1])\n",
    "pt3 = (x[2], y[2])\n",
    ".....\n",
    "ptn = (x[n], y[n])\n",
    "``\n",
    "\n",
    "### `plt.plot(x, y, options) `\n",
    "\n",
    "The package `matplotlib.pyplot` has a function `plot()`. This takes the lists of the two values as its **first two arguments**. \n",
    "\n",
    "After this we can add in some **optional extra arguments** to specify other aspects of how the plot is displayed"
   ]
  },
  {
   "cell_type": "code",
   "execution_count": 64,
   "id": "3196cfa1",
   "metadata": {},
   "outputs": [
    {
     "name": "stdout",
     "output_type": "stream",
     "text": [
      "x [  0  50 100 150 200 250 300 350 400 450 500 550 600 650 700 750 800 850\n",
      " 900 950]\n",
      "y [  0  10  20  30  40  50  60  70  80  90 100 110 120 130 140 150 160 170\n",
      " 180 190]\n"
     ]
    },
    {
     "data": {
      "text/plain": [
       "[<matplotlib.lines.Line2D at 0x137f24fa0>]"
      ]
     },
     "execution_count": 64,
     "metadata": {},
     "output_type": "execute_result"
    },
    {
     "data": {
      "image/png": "[encoded data removed]",
      "text/plain": [
       "<Figure size 432x288 with 1 Axes>"
      ]
     },
     "metadata": {
      "needs_background": "light"
     },
     "output_type": "display_data"
    }
   ],
   "source": [
    "x = np.arange(0, 1000, 50)\n",
    "y = np.arange(0, 200, 10)\n",
    "print(\"x\", x)\n",
    "print(\"y\", y)\n",
    "plt.plot(x, y) "
   ]
  },
  {
   "cell_type": "markdown",
   "id": "dfee55a6",
   "metadata": {},
   "source": [
    "We can also do (r)ed d(o)ts "
   ]
  },
  {
   "cell_type": "code",
   "execution_count": 65,
   "id": "d5df0d0b",
   "metadata": {},
   "outputs": [
    {
     "name": "stdout",
     "output_type": "stream",
     "text": [
      "x [ 0  5 10 15 20 25 30 35 40 45 50 55 60 65 70 75 80 85 90 95]\n",
      "y [82 72 31 70 70  0 51 94 67 85 24 74 29 32  1  5 44 57 53 73]\n"
     ]
    },
    {
     "data": {
      "text/plain": [
       "[<matplotlib.lines.Line2D at 0x137f90ee0>]"
      ]
     },
     "execution_count": 65,
     "metadata": {},
     "output_type": "execute_result"
    },
    {
     "data": {
      "image/png": "[encoded data removed]",
      "text/plain": [
       "<Figure size 432x288 with 1 Axes>"
      ]
     },
     "metadata": {
      "needs_background": "light"
     },
     "output_type": "display_data"
    }
   ],
   "source": [
    "x = np.arange(0, 100, 5)\n",
    "y = np.random.randint(0, 100, len(x))\n",
    "print(\"x\", x)\n",
    "print(\"y\", y)\n",
    "plt.plot(x, y,'ro') "
   ]
  },
  {
   "cell_type": "markdown",
   "id": "7a144872",
   "metadata": {},
   "source": [
    "Or (g)reen (x)s"
   ]
  },
  {
   "cell_type": "code",
   "execution_count": 66,
   "id": "d38cfbfa",
   "metadata": {},
   "outputs": [
    {
     "data": {
      "text/plain": [
       "[<matplotlib.lines.Line2D at 0x137b91490>]"
      ]
     },
     "execution_count": 66,
     "metadata": {},
     "output_type": "execute_result"
    },
    {
     "data": {
      "image/png": "[encoded data removed]",
      "text/plain": [
       "<Figure size 432x288 with 1 Axes>"
      ]
     },
     "metadata": {
      "needs_background": "light"
     },
     "output_type": "display_data"
    }
   ],
   "source": [
    "plt.plot(x, y,'gx') "
   ]
  },
  {
   "cell_type": "markdown",
   "id": "dfb07f4a",
   "metadata": {},
   "source": [
    "### Line Functions\n",
    "\n",
    "When often define functions (which we can then plot as lines) in a format where we can take a value on the x axis, and use the function to determine the value on the y axis. For example\n",
    "\n",
    "```y = 2x```\n",
    "\n",
    "We would know that when `x = 2, y = 4` and when `x = 256, y = 512`, and so on. We can then plot these pairs as coordinates.\n",
    "\n"
   ]
  },
  {
   "cell_type": "markdown",
   "id": "545ea905",
   "metadata": {},
   "source": [
    "Above we saw the line \n",
    "\n",
    "```\n",
    "y = x * 2\n",
    "```\n",
    "\n",
    "Previously we have only done maths with **single numbers**. Whats happening here?\n",
    "\n",
    "Once you have generated arrays using methods like ```np.arange``` and ```np.random.randint```, you can then alter then using simple maths notatation. If ```a``` is an array, when we say ```a = a + 1```, we would add one to **every** item in the array. When we say ```a = a * 2``` we would double **every** item in the array. \n",
    "\n",
    "This is something we'll end up doing alot, and doing it this way is **much cleaner** and **much more efficient** than using a ``for loop``"
   ]
  },
  {
   "cell_type": "code",
   "execution_count": 68,
   "id": "1c404975",
   "metadata": {},
   "outputs": [
    {
     "name": "stdout",
     "output_type": "stream",
     "text": [
      "[0 1 2 3 4 5 6 7 8 9]\n",
      "[ 1  2  3  4  5  6  7  8  9 10]\n",
      "[-2 -1  0  1  2  3  4  5  6  7]\n",
      "[  0 100 200 300 400 500 600 700 800 900]\n"
     ]
    }
   ],
   "source": [
    "#Generate array of 0-9\n",
    "a = np.arange(10)\n",
    "print(a)\n",
    "#Add 1 to every value\n",
    "print(a + 1)\n",
    "#Subract 2 from every value\n",
    "print(a - 2)\n",
    "#Multiply every value by 100\n",
    "print(a * 100)"
   ]
  },
  {
   "cell_type": "markdown",
   "id": "8318b4eb",
   "metadata": {},
   "source": [
    " "
   ]
  },
  {
   "cell_type": "markdown",
   "id": "76d0da6d",
   "metadata": {},
   "source": [
    "## Covid Data with Ploltly Express "
   ]
  },
  {
   "cell_type": "markdown",
   "id": "11cec57c",
   "metadata": {},
   "source": [
    "- Plotly is another interactive plotting librray in Python.\n",
    "- Learn more at \n",
    " - https://plotly.com/python/px-arguments/#plotly-express-works-with-columnoriented-matrix-or-geographic-data\n",
    " - https://plotly.com/python/plotly-fundamentals/"
   ]
  },
  {
   "cell_type": "markdown",
   "id": "1f4136ab",
   "metadata": {},
   "source": [
    "### Installing Plotly"
   ]
  },
  {
   "cell_type": "code",
   "execution_count": 92,
   "id": "b33b8788",
   "metadata": {},
   "outputs": [
    {
     "name": "stdout",
     "output_type": "stream",
     "text": [
      "Requirement already satisfied: numpy in /opt/homebrew/Caskroom/miniforge/base/envs/cci/lib/python3.8/site-packages (1.21.2)\r\n"
     ]
    }
   ],
   "source": [
    "import sys\n",
    "!{sys.executable} -m pip install numpy"
   ]
  },
  {
   "cell_type": "markdown",
   "id": "08bdd923",
   "metadata": {},
   "source": [
    "### Exploring Plotly"
   ]
  },
  {
   "cell_type": "code",
   "execution_count": 72,
   "id": "dbed6a18",
   "metadata": {},
   "outputs": [],
   "source": [
    "import plotly.graph_objects as go\n",
    "import plotly.express as px"
   ]
  },
  {
   "cell_type": "code",
   "execution_count": 103,
   "id": "427e1b6b",
   "metadata": {},
   "outputs": [
    {
     "data": {
      "application/vnd.plotly.v1+json": {
       "config": {
        "plotlyServerURL": "https://plot.ly"
       },
       "data": [
        {
         "alignmentgroup": "True",
         "hovertemplate": "Country=%{x}<br>TotalConfirmed=%{text}<extra></extra>",
         "legendgroup": "Afghanistan",
         "marker": {
          "color": "#636efa",
          "pattern": {
           "shape": ""
          }
         },
         "name": "Afghanistan",
         "offsetgroup": "Afghanistan",
         "orientation": "v",
         "showlegend": true,
         "text": [
          180864
         ],
         "textposition": "auto",
         "type": "bar",
         "x": [
          "Afghanistan"
         ],
         "xaxis": "x",
         "y": [
          180864
         ],
         "yaxis": "y"
        },
        {
         "alignmentgroup": "True",
         "hovertemplate": "Country=%{x}<br>TotalConfirmed=%{text}<extra></extra>",
         "legendgroup": "Albania",
         "marker": {
          "color": "#EF553B",
          "pattern": {
           "shape": ""
          }
         },
         "name": "Albania",
         "offsetgroup": "Albania",
         "orientation": "v",
         "showlegend": true,
         "text": [
          276731
         ],
         "textposition": "auto",
         "type": "bar",
         "x": [
          "Albania"
         ],
         "xaxis": "x",
         "y": [
          276731
         ],
         "yaxis": "y"
        },
        {
         "alignmentgroup": "True",
         "hovertemplate": "Country=%{x}<br>TotalConfirmed=%{text}<extra></extra>",
         "legendgroup": "Algeria",
         "marker": {
          "color": "#00cc96",
          "pattern": {
           "shape": ""
          }
         },
         "name": "Algeria",
         "offsetgroup": "Algeria",
         "orientation": "v",
         "showlegend": true,
         "text": [
          265927
         ],
         "textposition": "auto",
         "type": "bar",
         "x": [
          "Algeria"
         ],
         "xaxis": "x",
         "y": [
          265927
         ],
         "yaxis": "y"
        },
        {
         "alignmentgroup": "True",
         "hovertemplate": "Country=%{x}<br>TotalConfirmed=%{text}<extra></extra>",
         "legendgroup": "Andorra",
         "marker": {
          "color": "#ab63fa",
          "pattern": {
           "shape": ""
          }
         },
         "name": "Andorra",
         "offsetgroup": "Andorra",
         "orientation": "v",
         "showlegend": true,
         "text": [
          43224
         ],
         "textposition": "auto",
         "type": "bar",
         "x": [
          "Andorra"
         ],
         "xaxis": "x",
         "y": [
          43224
         ],
         "yaxis": "y"
        },
        {
         "alignmentgroup": "True",
         "hovertemplate": "Country=%{x}<br>TotalConfirmed=%{text}<extra></extra>",
         "legendgroup": "Angola",
         "marker": {
          "color": "#FFA15A",
          "pattern": {
           "shape": ""
          }
         },
         "name": "Angola",
         "offsetgroup": "Angola",
         "orientation": "v",
         "showlegend": true,
         "text": [
          99761
         ],
         "textposition": "auto",
         "type": "bar",
         "x": [
          "Angola"
         ],
         "xaxis": "x",
         "y": [
          99761
         ],
         "yaxis": "y"
        },
        {
         "alignmentgroup": "True",
         "hovertemplate": "Country=%{x}<br>TotalConfirmed=%{text}<extra></extra>",
         "legendgroup": "Antarctica",
         "marker": {
          "color": "#19d3f3",
          "pattern": {
           "shape": ""
          }
         },
         "name": "Antarctica",
         "offsetgroup": "Antarctica",
         "orientation": "v",
         "showlegend": true,
         "text": [
          11
         ],
         "textposition": "auto",
         "type": "bar",
         "x": [
          "Antarctica"
         ],
         "xaxis": "x",
         "y": [
          11
         ],
         "yaxis": "y"
        },
        {
         "alignmentgroup": "True",
         "hovertemplate": "Country=%{x}<br>TotalConfirmed=%{text}<extra></extra>",
         "legendgroup": "Antigua and Barbuda",
         "marker": {
          "color": "#FF6692",
          "pattern": {
           "shape": ""
          }
         },
         "name": "Antigua and Barbuda",
         "offsetgroup": "Antigua and Barbuda",
         "orientation": "v",
         "showlegend": true,
         "text": [
          8492
         ],
         "textposition": "auto",
         "type": "bar",
         "x": [
          "Antigua and Barbuda"
         ],
         "xaxis": "x",
         "y": [
          8492
         ],
         "yaxis": "y"
        },
        {
         "alignmentgroup": "True",
         "hovertemplate": "Country=%{x}<br>TotalConfirmed=%{text}<extra></extra>",
         "legendgroup": "Argentina",
         "marker": {
          "color": "#B6E880",
          "pattern": {
           "shape": ""
          }
         },
         "name": "Argentina",
         "offsetgroup": "Argentina",
         "orientation": "v",
         "showlegend": true,
         "text": [
          9276618
         ],
         "textposition": "auto",
         "type": "bar",
         "x": [
          "Argentina"
         ],
         "xaxis": "x",
         "y": [
          9276618
         ],
         "yaxis": "y"
        },
        {
         "alignmentgroup": "True",
         "hovertemplate": "Country=%{x}<br>TotalConfirmed=%{text}<extra></extra>",
         "legendgroup": "Armenia",
         "marker": {
          "color": "#FF97FF",
          "pattern": {
           "shape": ""
          }
         },
         "name": "Armenia",
         "offsetgroup": "Armenia",
         "orientation": "v",
         "showlegend": true,
         "text": [
          423006
         ],
         "textposition": "auto",
         "type": "bar",
         "x": [
          "Armenia"
         ],
         "xaxis": "x",
         "y": [
          423006
         ],
         "yaxis": "y"
        },
        {
         "alignmentgroup": "True",
         "hovertemplate": "Country=%{x}<br>TotalConfirmed=%{text}<extra></extra>",
         "legendgroup": "Australia",
         "marker": {
          "color": "#FECB52",
          "pattern": {
           "shape": ""
          }
         },
         "name": "Australia",
         "offsetgroup": "Australia",
         "orientation": "v",
         "showlegend": true,
         "text": [
          7614107
         ],
         "textposition": "auto",
         "type": "bar",
         "x": [
          "Australia"
         ],
         "xaxis": "x",
         "y": [
          7614107
         ],
         "yaxis": "y"
        },
        {
         "alignmentgroup": "True",
         "hovertemplate": "Country=%{x}<br>TotalConfirmed=%{text}<extra></extra>",
         "legendgroup": "Austria",
         "marker": {
          "color": "#636efa",
          "pattern": {
           "shape": ""
          }
         },
         "name": "Austria",
         "offsetgroup": "Austria",
         "orientation": "v",
         "showlegend": true,
         "text": [
          4316435
         ],
         "textposition": "auto",
         "type": "bar",
         "x": [
          "Austria"
         ],
         "xaxis": "x",
         "y": [
          4316435
         ],
         "yaxis": "y"
        },
        {
         "alignmentgroup": "True",
         "hovertemplate": "Country=%{x}<br>TotalConfirmed=%{text}<extra></extra>",
         "legendgroup": "Azerbaijan",
         "marker": {
          "color": "#EF553B",
          "pattern": {
           "shape": ""
          }
         },
         "name": "Azerbaijan",
         "offsetgroup": "Azerbaijan",
         "orientation": "v",
         "showlegend": true,
         "text": [
          792785
         ],
         "textposition": "auto",
         "type": "bar",
         "x": [
          "Azerbaijan"
         ],
         "xaxis": "x",
         "y": [
          792785
         ],
         "yaxis": "y"
        },
        {
         "alignmentgroup": "True",
         "hovertemplate": "Country=%{x}<br>TotalConfirmed=%{text}<extra></extra>",
         "legendgroup": "Bahamas",
         "marker": {
          "color": "#00cc96",
          "pattern": {
           "shape": ""
          }
         },
         "name": "Bahamas",
         "offsetgroup": "Bahamas",
         "orientation": "v",
         "showlegend": true,
         "text": [
          35332
         ],
         "textposition": "auto",
         "type": "bar",
         "x": [
          "Bahamas"
         ],
         "xaxis": "x",
         "y": [
          35332
         ],
         "yaxis": "y"
        },
        {
         "alignmentgroup": "True",
         "hovertemplate": "Country=%{x}<br>TotalConfirmed=%{text}<extra></extra>",
         "legendgroup": "Bahrain",
         "marker": {
          "color": "#ab63fa",
          "pattern": {
           "shape": ""
          }
         },
         "name": "Bahrain",
         "offsetgroup": "Bahrain",
         "orientation": "v",
         "showlegend": true,
         "text": [
          595787
         ],
         "textposition": "auto",
         "type": "bar",
         "x": [
          "Bahrain"
         ],
         "xaxis": "x",
         "y": [
          595787
         ],
         "yaxis": "y"
        },
        {
         "alignmentgroup": "True",
         "hovertemplate": "Country=%{x}<br>TotalConfirmed=%{text}<extra></extra>",
         "legendgroup": "Bangladesh",
         "marker": {
          "color": "#FFA15A",
          "pattern": {
           "shape": ""
          }
         },
         "name": "Bangladesh",
         "offsetgroup": "Bangladesh",
         "orientation": "v",
         "showlegend": true,
         "text": [
          1954115
         ],
         "textposition": "auto",
         "type": "bar",
         "x": [
          "Bangladesh"
         ],
         "xaxis": "x",
         "y": [
          1954115
         ],
         "yaxis": "y"
        },
        {
         "alignmentgroup": "True",
         "hovertemplate": "Country=%{x}<br>TotalConfirmed=%{text}<extra></extra>",
         "legendgroup": "Barbados",
         "marker": {
          "color": "#19d3f3",
          "pattern": {
           "shape": ""
          }
         },
         "name": "Barbados",
         "offsetgroup": "Barbados",
         "orientation": "v",
         "showlegend": true,
         "text": [
          82255
         ],
         "textposition": "auto",
         "type": "bar",
         "x": [
          "Barbados"
         ],
         "xaxis": "x",
         "y": [
          82255
         ],
         "yaxis": "y"
        },
        {
         "alignmentgroup": "True",
         "hovertemplate": "Country=%{x}<br>TotalConfirmed=%{text}<extra></extra>",
         "legendgroup": "Belarus",
         "marker": {
          "color": "#FF6692",
          "pattern": {
           "shape": ""
          }
         },
         "name": "Belarus",
         "offsetgroup": "Belarus",
         "orientation": "v",
         "showlegend": true,
         "text": [
          982867
         ],
         "textposition": "auto",
         "type": "bar",
         "x": [
          "Belarus"
         ],
         "xaxis": "x",
         "y": [
          982867
         ],
         "yaxis": "y"
        },
        {
         "alignmentgroup": "True",
         "hovertemplate": "Country=%{x}<br>TotalConfirmed=%{text}<extra></extra>",
         "legendgroup": "Belgium",
         "marker": {
          "color": "#B6E880",
          "pattern": {
           "shape": ""
          }
         },
         "name": "Belgium",
         "offsetgroup": "Belgium",
         "orientation": "v",
         "showlegend": true,
         "text": [
          4170252
         ],
         "textposition": "auto",
         "type": "bar",
         "x": [
          "Belgium"
         ],
         "xaxis": "x",
         "y": [
          4170252
         ],
         "yaxis": "y"
        },
        {
         "alignmentgroup": "True",
         "hovertemplate": "Country=%{x}<br>TotalConfirmed=%{text}<extra></extra>",
         "legendgroup": "Belize",
         "marker": {
          "color": "#FF97FF",
          "pattern": {
           "shape": ""
          }
         },
         "name": "Belize",
         "offsetgroup": "Belize",
         "orientation": "v",
         "showlegend": true,
         "text": [
          60863
         ],
         "textposition": "auto",
         "type": "bar",
         "x": [
          "Belize"
         ],
         "xaxis": "x",
         "y": [
          60863
         ],
         "yaxis": "y"
        },
        {
         "alignmentgroup": "True",
         "hovertemplate": "Country=%{x}<br>TotalConfirmed=%{text}<extra></extra>",
         "legendgroup": "Benin",
         "marker": {
          "color": "#FECB52",
          "pattern": {
           "shape": ""
          }
         },
         "name": "Benin",
         "offsetgroup": "Benin",
         "orientation": "v",
         "showlegend": true,
         "text": [
          26952
         ],
         "textposition": "auto",
         "type": "bar",
         "x": [
          "Benin"
         ],
         "xaxis": "x",
         "y": [
          26952
         ],
         "yaxis": "y"
        },
        {
         "alignmentgroup": "True",
         "hovertemplate": "Country=%{x}<br>TotalConfirmed=%{text}<extra></extra>",
         "legendgroup": "Bhutan",
         "marker": {
          "color": "#636efa",
          "pattern": {
           "shape": ""
          }
         },
         "name": "Bhutan",
         "offsetgroup": "Bhutan",
         "orientation": "v",
         "showlegend": true,
         "text": [
          59636
         ],
         "textposition": "auto",
         "type": "bar",
         "x": [
          "Bhutan"
         ],
         "xaxis": "x",
         "y": [
          59636
         ],
         "yaxis": "y"
        },
        {
         "alignmentgroup": "True",
         "hovertemplate": "Country=%{x}<br>TotalConfirmed=%{text}<extra></extra>",
         "legendgroup": "Bolivia",
         "marker": {
          "color": "#EF553B",
          "pattern": {
           "shape": ""
          }
         },
         "name": "Bolivia",
         "offsetgroup": "Bolivia",
         "orientation": "v",
         "showlegend": true,
         "text": [
          912272
         ],
         "textposition": "auto",
         "type": "bar",
         "x": [
          "Bolivia"
         ],
         "xaxis": "x",
         "y": [
          912272
         ],
         "yaxis": "y"
        },
        {
         "alignmentgroup": "True",
         "hovertemplate": "Country=%{x}<br>TotalConfirmed=%{text}<extra></extra>",
         "legendgroup": "Bosnia and Herzegovina",
         "marker": {
          "color": "#00cc96",
          "pattern": {
           "shape": ""
          }
         },
         "name": "Bosnia and Herzegovina",
         "offsetgroup": "Bosnia and Herzegovina",
         "orientation": "v",
         "showlegend": true,
         "text": [
          378083
         ],
         "textposition": "auto",
         "type": "bar",
         "x": [
          "Bosnia and Herzegovina"
         ],
         "xaxis": "x",
         "y": [
          378083
         ],
         "yaxis": "y"
        },
        {
         "alignmentgroup": "True",
         "hovertemplate": "Country=%{x}<br>TotalConfirmed=%{text}<extra></extra>",
         "legendgroup": "Botswana",
         "marker": {
          "color": "#ab63fa",
          "pattern": {
           "shape": ""
          }
         },
         "name": "Botswana",
         "offsetgroup": "Botswana",
         "orientation": "v",
         "showlegend": true,
         "text": [
          310431
         ],
         "textposition": "auto",
         "type": "bar",
         "x": [
          "Botswana"
         ],
         "xaxis": "x",
         "y": [
          310431
         ],
         "yaxis": "y"
        },
        {
         "alignmentgroup": "True",
         "hovertemplate": "Country=%{x}<br>TotalConfirmed=%{text}<extra></extra>",
         "legendgroup": "Brazil",
         "marker": {
          "color": "#FFA15A",
          "pattern": {
           "shape": ""
          }
         },
         "name": "Brazil",
         "offsetgroup": "Brazil",
         "orientation": "v",
         "showlegend": true,
         "text": [
          31445137
         ],
         "textposition": "auto",
         "type": "bar",
         "x": [
          "Brazil"
         ],
         "xaxis": "x",
         "y": [
          31445137
         ],
         "yaxis": "y"
        },
        {
         "alignmentgroup": "True",
         "hovertemplate": "Country=%{x}<br>TotalConfirmed=%{text}<extra></extra>",
         "legendgroup": "Brunei Darussalam",
         "marker": {
          "color": "#19d3f3",
          "pattern": {
           "shape": ""
          }
         },
         "name": "Brunei Darussalam",
         "offsetgroup": "Brunei Darussalam",
         "orientation": "v",
         "showlegend": true,
         "text": [
          153093
         ],
         "textposition": "auto",
         "type": "bar",
         "x": [
          "Brunei Darussalam"
         ],
         "xaxis": "x",
         "y": [
          153093
         ],
         "yaxis": "y"
        },
        {
         "alignmentgroup": "True",
         "hovertemplate": "Country=%{x}<br>TotalConfirmed=%{text}<extra></extra>",
         "legendgroup": "Bulgaria",
         "marker": {
          "color": "#FF6692",
          "pattern": {
           "shape": ""
          }
         },
         "name": "Bulgaria",
         "offsetgroup": "Bulgaria",
         "orientation": "v",
         "showlegend": true,
         "text": [
          1166901
         ],
         "textposition": "auto",
         "type": "bar",
         "x": [
          "Bulgaria"
         ],
         "xaxis": "x",
         "y": [
          1166901
         ],
         "yaxis": "y"
        },
        {
         "alignmentgroup": "True",
         "hovertemplate": "Country=%{x}<br>TotalConfirmed=%{text}<extra></extra>",
         "legendgroup": "Burkina Faso",
         "marker": {
          "color": "#B6E880",
          "pattern": {
           "shape": ""
          }
         },
         "name": "Burkina Faso",
         "offsetgroup": "Burkina Faso",
         "orientation": "v",
         "showlegend": true,
         "text": [
          20899
         ],
         "textposition": "auto",
         "type": "bar",
         "x": [
          "Burkina Faso"
         ],
         "xaxis": "x",
         "y": [
          20899
         ],
         "yaxis": "y"
        },
        {
         "alignmentgroup": "True",
         "hovertemplate": "Country=%{x}<br>TotalConfirmed=%{text}<extra></extra>",
         "legendgroup": "Burundi",
         "marker": {
          "color": "#FF97FF",
          "pattern": {
           "shape": ""
          }
         },
         "name": "Burundi",
         "offsetgroup": "Burundi",
         "orientation": "v",
         "showlegend": true,
         "text": [
          42248
         ],
         "textposition": "auto",
         "type": "bar",
         "x": [
          "Burundi"
         ],
         "xaxis": "x",
         "y": [
          42248
         ],
         "yaxis": "y"
        },
        {
         "alignmentgroup": "True",
         "hovertemplate": "Country=%{x}<br>TotalConfirmed=%{text}<extra></extra>",
         "legendgroup": "Cambodia",
         "marker": {
          "color": "#FECB52",
          "pattern": {
           "shape": ""
          }
         },
         "name": "Cambodia",
         "offsetgroup": "Cambodia",
         "orientation": "v",
         "showlegend": true,
         "text": [
          136262
         ],
         "textposition": "auto",
         "type": "bar",
         "x": [
          "Cambodia"
         ],
         "xaxis": "x",
         "y": [
          136262
         ],
         "yaxis": "y"
        },
        {
         "alignmentgroup": "True",
         "hovertemplate": "Country=%{x}<br>TotalConfirmed=%{text}<extra></extra>",
         "legendgroup": "Cameroon",
         "marker": {
          "color": "#636efa",
          "pattern": {
           "shape": ""
          }
         },
         "name": "Cameroon",
         "offsetgroup": "Cameroon",
         "orientation": "v",
         "showlegend": true,
         "text": [
          119947
         ],
         "textposition": "auto",
         "type": "bar",
         "x": [
          "Cameroon"
         ],
         "xaxis": "x",
         "y": [
          119947
         ],
         "yaxis": "y"
        },
        {
         "alignmentgroup": "True",
         "hovertemplate": "Country=%{x}<br>TotalConfirmed=%{text}<extra></extra>",
         "legendgroup": "Canada",
         "marker": {
          "color": "#EF553B",
          "pattern": {
           "shape": ""
          }
         },
         "name": "Canada",
         "offsetgroup": "Canada",
         "orientation": "v",
         "showlegend": true,
         "text": [
          3328745
         ],
         "textposition": "auto",
         "type": "bar",
         "x": [
          "Canada"
         ],
         "xaxis": "x",
         "y": [
          3328745
         ],
         "yaxis": "y"
        },
        {
         "alignmentgroup": "True",
         "hovertemplate": "Country=%{x}<br>TotalConfirmed=%{text}<extra></extra>",
         "legendgroup": "Cape Verde",
         "marker": {
          "color": "#00cc96",
          "pattern": {
           "shape": ""
          }
         },
         "name": "Cape Verde",
         "offsetgroup": "Cape Verde",
         "orientation": "v",
         "showlegend": true,
         "text": [
          57096
         ],
         "textposition": "auto",
         "type": "bar",
         "x": [
          "Cape Verde"
         ],
         "xaxis": "x",
         "y": [
          57096
         ],
         "yaxis": "y"
        },
        {
         "alignmentgroup": "True",
         "hovertemplate": "Country=%{x}<br>TotalConfirmed=%{text}<extra></extra>",
         "legendgroup": "Central African Republic",
         "marker": {
          "color": "#ab63fa",
          "pattern": {
           "shape": ""
          }
         },
         "name": "Central African Republic",
         "offsetgroup": "Central African Republic",
         "orientation": "v",
         "showlegend": true,
         "text": [
          14649
         ],
         "textposition": "auto",
         "type": "bar",
         "x": [
          "Central African Republic"
         ],
         "xaxis": "x",
         "y": [
          14649
         ],
         "yaxis": "y"
        },
        {
         "alignmentgroup": "True",
         "hovertemplate": "Country=%{x}<br>TotalConfirmed=%{text}<extra></extra>",
         "legendgroup": "Chad",
         "marker": {
          "color": "#FFA15A",
          "pattern": {
           "shape": ""
          }
         },
         "name": "Chad",
         "offsetgroup": "Chad",
         "orientation": "v",
         "showlegend": true,
         "text": [
          7418
         ],
         "textposition": "auto",
         "type": "bar",
         "x": [
          "Chad"
         ],
         "xaxis": "x",
         "y": [
          7418
         ],
         "yaxis": "y"
        },
        {
         "alignmentgroup": "True",
         "hovertemplate": "Country=%{x}<br>TotalConfirmed=%{text}<extra></extra>",
         "legendgroup": "Chile",
         "marker": {
          "color": "#19d3f3",
          "pattern": {
           "shape": ""
          }
         },
         "name": "Chile",
         "offsetgroup": "Chile",
         "orientation": "v",
         "showlegend": true,
         "text": [
          3808970
         ],
         "textposition": "auto",
         "type": "bar",
         "x": [
          "Chile"
         ],
         "xaxis": "x",
         "y": [
          3808970
         ],
         "yaxis": "y"
        },
        {
         "alignmentgroup": "True",
         "hovertemplate": "Country=%{x}<br>TotalConfirmed=%{text}<extra></extra>",
         "legendgroup": "China",
         "marker": {
          "color": "#FF6692",
          "pattern": {
           "shape": ""
          }
         },
         "name": "China",
         "offsetgroup": "China",
         "orientation": "v",
         "showlegend": true,
         "text": [
          1443237
         ],
         "textposition": "auto",
         "type": "bar",
         "x": [
          "China"
         ],
         "xaxis": "x",
         "y": [
          1443237
         ],
         "yaxis": "y"
        },
        {
         "alignmentgroup": "True",
         "hovertemplate": "Country=%{x}<br>TotalConfirmed=%{text}<extra></extra>",
         "legendgroup": "Colombia",
         "marker": {
          "color": "#B6E880",
          "pattern": {
           "shape": ""
          }
         },
         "name": "Colombia",
         "offsetgroup": "Colombia",
         "orientation": "v",
         "showlegend": true,
         "text": [
          6117847
         ],
         "textposition": "auto",
         "type": "bar",
         "x": [
          "Colombia"
         ],
         "xaxis": "x",
         "y": [
          6117847
         ],
         "yaxis": "y"
        },
        {
         "alignmentgroup": "True",
         "hovertemplate": "Country=%{x}<br>TotalConfirmed=%{text}<extra></extra>",
         "legendgroup": "Comoros",
         "marker": {
          "color": "#FF97FF",
          "pattern": {
           "shape": ""
          }
         },
         "name": "Comoros",
         "offsetgroup": "Comoros",
         "orientation": "v",
         "showlegend": true,
         "text": [
          8131
         ],
         "textposition": "auto",
         "type": "bar",
         "x": [
          "Comoros"
         ],
         "xaxis": "x",
         "y": [
          8131
         ],
         "yaxis": "y"
        },
        {
         "alignmentgroup": "True",
         "hovertemplate": "Country=%{x}<br>TotalConfirmed=%{text}<extra></extra>",
         "legendgroup": "Congo (Brazzaville)",
         "marker": {
          "color": "#FECB52",
          "pattern": {
           "shape": ""
          }
         },
         "name": "Congo (Brazzaville)",
         "offsetgroup": "Congo (Brazzaville)",
         "orientation": "v",
         "showlegend": true,
         "text": [
          24128
         ],
         "textposition": "auto",
         "type": "bar",
         "x": [
          "Congo (Brazzaville)"
         ],
         "xaxis": "x",
         "y": [
          24128
         ],
         "yaxis": "y"
        },
        {
         "alignmentgroup": "True",
         "hovertemplate": "Country=%{x}<br>TotalConfirmed=%{text}<extra></extra>",
         "legendgroup": "Congo (Kinshasa)",
         "marker": {
          "color": "#636efa",
          "pattern": {
           "shape": ""
          }
         },
         "name": "Congo (Kinshasa)",
         "offsetgroup": "Congo (Kinshasa)",
         "orientation": "v",
         "showlegend": true,
         "text": [
          89932
         ],
         "textposition": "auto",
         "type": "bar",
         "x": [
          "Congo (Kinshasa)"
         ],
         "xaxis": "x",
         "y": [
          89932
         ],
         "yaxis": "y"
        },
        {
         "alignmentgroup": "True",
         "hovertemplate": "Country=%{x}<br>TotalConfirmed=%{text}<extra></extra>",
         "legendgroup": "Costa Rica",
         "marker": {
          "color": "#EF553B",
          "pattern": {
           "shape": ""
          }
         },
         "name": "Costa Rica",
         "offsetgroup": "Costa Rica",
         "orientation": "v",
         "showlegend": true,
         "text": [
          904934
         ],
         "textposition": "auto",
         "type": "bar",
         "x": [
          "Costa Rica"
         ],
         "xaxis": "x",
         "y": [
          904934
         ],
         "yaxis": "y"
        },
        {
         "alignmentgroup": "True",
         "hovertemplate": "Country=%{x}<br>TotalConfirmed=%{text}<extra></extra>",
         "legendgroup": "Croatia",
         "marker": {
          "color": "#00cc96",
          "pattern": {
           "shape": ""
          }
         },
         "name": "Croatia",
         "offsetgroup": "Croatia",
         "orientation": "v",
         "showlegend": true,
         "text": [
          1139816
         ],
         "textposition": "auto",
         "type": "bar",
         "x": [
          "Croatia"
         ],
         "xaxis": "x",
         "y": [
          1139816
         ],
         "yaxis": "y"
        },
        {
         "alignmentgroup": "True",
         "hovertemplate": "Country=%{x}<br>TotalConfirmed=%{text}<extra></extra>",
         "legendgroup": "Cuba",
         "marker": {
          "color": "#ab63fa",
          "pattern": {
           "shape": ""
          }
         },
         "name": "Cuba",
         "offsetgroup": "Cuba",
         "orientation": "v",
         "showlegend": true,
         "text": [
          1105612
         ],
         "textposition": "auto",
         "type": "bar",
         "x": [
          "Cuba"
         ],
         "xaxis": "x",
         "y": [
          1105612
         ],
         "yaxis": "y"
        },
        {
         "alignmentgroup": "True",
         "hovertemplate": "Country=%{x}<br>TotalConfirmed=%{text}<extra></extra>",
         "legendgroup": "Cyprus",
         "marker": {
          "color": "#FFA15A",
          "pattern": {
           "shape": ""
          }
         },
         "name": "Cyprus",
         "offsetgroup": "Cyprus",
         "orientation": "v",
         "showlegend": true,
         "text": [
          493984
         ],
         "textposition": "auto",
         "type": "bar",
         "x": [
          "Cyprus"
         ],
         "xaxis": "x",
         "y": [
          493984
         ],
         "yaxis": "y"
        },
        {
         "alignmentgroup": "True",
         "hovertemplate": "Country=%{x}<br>TotalConfirmed=%{text}<extra></extra>",
         "legendgroup": "Czech Republic",
         "marker": {
          "color": "#19d3f3",
          "pattern": {
           "shape": ""
          }
         },
         "name": "Czech Republic",
         "offsetgroup": "Czech Republic",
         "orientation": "v",
         "showlegend": true,
         "text": [
          3922968
         ],
         "textposition": "auto",
         "type": "bar",
         "x": [
          "Czech Republic"
         ],
         "xaxis": "x",
         "y": [
          3922968
         ],
         "yaxis": "y"
        },
        {
         "alignmentgroup": "True",
         "hovertemplate": "Country=%{x}<br>TotalConfirmed=%{text}<extra></extra>",
         "legendgroup": "Côte d'Ivoire",
         "marker": {
          "color": "#FF6692",
          "pattern": {
           "shape": ""
          }
         },
         "name": "Côte d'Ivoire",
         "offsetgroup": "Côte d'Ivoire",
         "orientation": "v",
         "showlegend": true,
         "text": [
          82487
         ],
         "textposition": "auto",
         "type": "bar",
         "x": [
          "Côte d'Ivoire"
         ],
         "xaxis": "x",
         "y": [
          82487
         ],
         "yaxis": "y"
        },
        {
         "alignmentgroup": "True",
         "hovertemplate": "Country=%{x}<br>TotalConfirmed=%{text}<extra></extra>",
         "legendgroup": "Denmark",
         "marker": {
          "color": "#B6E880",
          "pattern": {
           "shape": ""
          }
         },
         "name": "Denmark",
         "offsetgroup": "Denmark",
         "orientation": "v",
         "showlegend": true,
         "text": [
          3190021
         ],
         "textposition": "auto",
         "type": "bar",
         "x": [
          "Denmark"
         ],
         "xaxis": "x",
         "y": [
          3190021
         ],
         "yaxis": "y"
        },
        {
         "alignmentgroup": "True",
         "hovertemplate": "Country=%{x}<br>TotalConfirmed=%{text}<extra></extra>",
         "legendgroup": "Djibouti",
         "marker": {
          "color": "#FF97FF",
          "pattern": {
           "shape": ""
          }
         },
         "name": "Djibouti",
         "offsetgroup": "Djibouti",
         "orientation": "v",
         "showlegend": true,
         "text": [
          15686
         ],
         "textposition": "auto",
         "type": "bar",
         "x": [
          "Djibouti"
         ],
         "xaxis": "x",
         "y": [
          15686
         ],
         "yaxis": "y"
        },
        {
         "alignmentgroup": "True",
         "hovertemplate": "Country=%{x}<br>TotalConfirmed=%{text}<extra></extra>",
         "legendgroup": "Dominica",
         "marker": {
          "color": "#FECB52",
          "pattern": {
           "shape": ""
          }
         },
         "name": "Dominica",
         "offsetgroup": "Dominica",
         "orientation": "v",
         "showlegend": true,
         "text": [
          14638
         ],
         "textposition": "auto",
         "type": "bar",
         "x": [
          "Dominica"
         ],
         "xaxis": "x",
         "y": [
          14638
         ],
         "yaxis": "y"
        }
       ],
       "layout": {
        "barmode": "relative",
        "legend": {
         "title": {
          "text": "Country"
         },
         "tracegroupgap": 0
        },
        "margin": {
         "t": 60
        },
        "template": {
         "data": {
          "bar": [
           {
            "error_x": {
             "color": "#2a3f5f"
            },
            "error_y": {
             "color": "#2a3f5f"
            },
            "marker": {
             "line": {
              "color": "#E5ECF6",
              "width": 0.5
             },
             "pattern": {
              "fillmode": "overlay",
              "size": 10,
              "solidity": 0.2
             }
            },
            "type": "bar"
           }
          ],
          "barpolar": [
           {
            "marker": {
             "line": {
              "color": "#E5ECF6",
              "width": 0.5
             },
             "pattern": {
              "fillmode": "overlay",
              "size": 10,
              "solidity": 0.2
             }
            },
            "type": "barpolar"
           }
          ],
          "carpet": [
           {
            "aaxis": {
             "endlinecolor": "#2a3f5f",
             "gridcolor": "white",
             "linecolor": "white",
             "minorgridcolor": "white",
             "startlinecolor": "#2a3f5f"
            },
            "baxis": {
             "endlinecolor": "#2a3f5f",
             "gridcolor": "white",
             "linecolor": "white",
             "minorgridcolor": "white",
             "startlinecolor": "#2a3f5f"
            },
            "type": "carpet"
           }
          ],
          "choropleth": [
           {
            "colorbar": {
             "outlinewidth": 0,
             "ticks": ""
            },
            "type": "choropleth"
           }
          ],
          "contour": [
           {
            "colorbar": {
             "outlinewidth": 0,
             "ticks": ""
            },
            "colorscale": [
             [
              0,
              "#0d0887"
             ],
             [
              0.1111111111111111,
              "#46039f"
             ],
             [
              0.2222222222222222,
              "#7201a8"
             ],
             [
              0.3333333333333333,
              "#9c179e"
             ],
             [
              0.4444444444444444,
              "#bd3786"
             ],
             [
              0.5555555555555556,
              "#d8576b"
             ],
             [
              0.6666666666666666,
              "#ed7953"
             ],
             [
              0.7777777777777778,
              "#fb9f3a"
             ],
             [
              0.8888888888888888,
              "#fdca26"
             ],
             [
              1,
              "#f0f921"
             ]
            ],
            "type": "contour"
           }
          ],
          "contourcarpet": [
           {
            "colorbar": {
             "outlinewidth": 0,
             "ticks": ""
            },
            "type": "contourcarpet"
           }
          ],
          "heatmap": [
           {
            "colorbar": {
             "outlinewidth": 0,
             "ticks": ""
            },
            "colorscale": [
             [
              0,
              "#0d0887"
             ],
             [
              0.1111111111111111,
              "#46039f"
             ],
             [
              0.2222222222222222,
              "#7201a8"
             ],
             [
              0.3333333333333333,
              "#9c179e"
             ],
             [
              0.4444444444444444,
              "#bd3786"
             ],
             [
              0.5555555555555556,
              "#d8576b"
             ],
             [
              0.6666666666666666,
              "#ed7953"
             ],
             [
              0.7777777777777778,
              "#fb9f3a"
             ],
             [
              0.8888888888888888,
              "#fdca26"
             ],
             [
              1,
              "#f0f921"
             ]
            ],
            "type": "heatmap"
           }
          ],
          "heatmapgl": [
           {
            "colorbar": {
             "outlinewidth": 0,
             "ticks": ""
            },
            "colorscale": [
             [
              0,
              "#0d0887"
             ],
             [
              0.1111111111111111,
              "#46039f"
             ],
             [
              0.2222222222222222,
              "#7201a8"
             ],
             [
              0.3333333333333333,
              "#9c179e"
             ],
             [
              0.4444444444444444,
              "#bd3786"
             ],
             [
              0.5555555555555556,
              "#d8576b"
             ],
             [
              0.6666666666666666,
              "#ed7953"
             ],
             [
              0.7777777777777778,
              "#fb9f3a"
             ],
             [
              0.8888888888888888,
              "#fdca26"
             ],
             [
              1,
              "#f0f921"
             ]
            ],
            "type": "heatmapgl"
           }
          ],
          "histogram": [
           {
            "marker": {
             "pattern": {
              "fillmode": "overlay",
              "size": 10,
              "solidity": 0.2
             }
            },
            "type": "histogram"
           }
          ],
          "histogram2d": [
           {
            "colorbar": {
             "outlinewidth": 0,
             "ticks": ""
            },
            "colorscale": [
             [
              0,
              "#0d0887"
             ],
             [
              0.1111111111111111,
              "#46039f"
             ],
             [
              0.2222222222222222,
              "#7201a8"
             ],
             [
              0.3333333333333333,
              "#9c179e"
             ],
             [
              0.4444444444444444,
              "#bd3786"
             ],
             [
              0.5555555555555556,
              "#d8576b"
             ],
             [
              0.6666666666666666,
              "#ed7953"
             ],
             [
              0.7777777777777778,
              "#fb9f3a"
             ],
             [
              0.8888888888888888,
              "#fdca26"
             ],
             [
              1,
              "#f0f921"
             ]
            ],
            "type": "histogram2d"
           }
          ],
          "histogram2dcontour": [
           {
            "colorbar": {
             "outlinewidth": 0,
             "ticks": ""
            },
            "colorscale": [
             [
              0,
              "#0d0887"
             ],
             [
              0.1111111111111111,
              "#46039f"
             ],
             [
              0.2222222222222222,
              "#7201a8"
             ],
             [
              0.3333333333333333,
              "#9c179e"
             ],
             [
              0.4444444444444444,
              "#bd3786"
             ],
             [
              0.5555555555555556,
              "#d8576b"
             ],
             [
              0.6666666666666666,
              "#ed7953"
             ],
             [
              0.7777777777777778,
              "#fb9f3a"
             ],
             [
              0.8888888888888888,
              "#fdca26"
             ],
             [
              1,
              "#f0f921"
             ]
            ],
            "type": "histogram2dcontour"
           }
          ],
          "mesh3d": [
           {
            "colorbar": {
             "outlinewidth": 0,
             "ticks": ""
            },
            "type": "mesh3d"
           }
          ],
          "parcoords": [
           {
            "line": {
             "colorbar": {
              "outlinewidth": 0,
              "ticks": ""
             }
            },
            "type": "parcoords"
           }
          ],
          "pie": [
           {
            "automargin": true,
            "type": "pie"
           }
          ],
          "scatter": [
           {
            "fillpattern": {
             "fillmode": "overlay",
             "size": 10,
             "solidity": 0.2
            },
            "type": "scatter"
           }
          ],
          "scatter3d": [
           {
            "line": {
             "colorbar": {
              "outlinewidth": 0,
              "ticks": ""
             }
            },
            "marker": {
             "colorbar": {
              "outlinewidth": 0,
              "ticks": ""
             }
            },
            "type": "scatter3d"
           }
          ],
          "scattercarpet": [
           {
            "marker": {
             "colorbar": {
              "outlinewidth": 0,
              "ticks": ""
             }
            },
            "type": "scattercarpet"
           }
          ],
          "scattergeo": [
           {
            "marker": {
             "colorbar": {
              "outlinewidth": 0,
              "ticks": ""
             }
            },
            "type": "scattergeo"
           }
          ],
          "scattergl": [
           {
            "marker": {
             "colorbar": {
              "outlinewidth": 0,
              "ticks": ""
             }
            },
            "type": "scattergl"
           }
          ],
          "scattermapbox": [
           {
            "marker": {
             "colorbar": {
              "outlinewidth": 0,
              "ticks": ""
             }
            },
            "type": "scattermapbox"
           }
          ],
          "scatterpolar": [
           {
            "marker": {
             "colorbar": {
              "outlinewidth": 0,
              "ticks": ""
             }
            },
            "type": "scatterpolar"
           }
          ],
          "scatterpolargl": [
           {
            "marker": {
             "colorbar": {
              "outlinewidth": 0,
              "ticks": ""
             }
            },
            "type": "scatterpolargl"
           }
          ],
          "scatterternary": [
           {
            "marker": {
             "colorbar": {
              "outlinewidth": 0,
              "ticks": ""
             }
            },
            "type": "scatterternary"
           }
          ],
          "surface": [
           {
            "colorbar": {
             "outlinewidth": 0,
             "ticks": ""
            },
            "colorscale": [
             [
              0,
              "#0d0887"
             ],
             [
              0.1111111111111111,
              "#46039f"
             ],
             [
              0.2222222222222222,
              "#7201a8"
             ],
             [
              0.3333333333333333,
              "#9c179e"
             ],
             [
              0.4444444444444444,
              "#bd3786"
             ],
             [
              0.5555555555555556,
              "#d8576b"
             ],
             [
              0.6666666666666666,
              "#ed7953"
             ],
             [
              0.7777777777777778,
              "#fb9f3a"
             ],
             [
              0.8888888888888888,
              "#fdca26"
             ],
             [
              1,
              "#f0f921"
             ]
            ],
            "type": "surface"
           }
          ],
          "table": [
           {
            "cells": {
             "fill": {
              "color": "#EBF0F8"
             },
             "line": {
              "color": "white"
             }
            },
            "header": {
             "fill": {
              "color": "#C8D4E3"
             },
             "line": {
              "color": "white"
             }
            },
            "type": "table"
           }
          ]
         },
         "layout": {
          "annotationdefaults": {
           "arrowcolor": "#2a3f5f",
           "arrowhead": 0,
           "arrowwidth": 1
          },
          "autotypenumbers": "strict",
          "coloraxis": {
           "colorbar": {
            "outlinewidth": 0,
            "ticks": ""
           }
          },
          "colorscale": {
           "diverging": [
            [
             0,
             "#8e0152"
            ],
            [
             0.1,
             "#c51b7d"
            ],
            [
             0.2,
             "#de77ae"
            ],
            [
             0.3,
             "#f1b6da"
            ],
            [
             0.4,
             "#fde0ef"
            ],
            [
             0.5,
             "#f7f7f7"
            ],
            [
             0.6,
             "#e6f5d0"
            ],
            [
             0.7,
             "#b8e186"
            ],
            [
             0.8,
             "#7fbc41"
            ],
            [
             0.9,
             "#4d9221"
            ],
            [
             1,
             "#276419"
            ]
           ],
           "sequential": [
            [
             0,
             "#0d0887"
            ],
            [
             0.1111111111111111,
             "#46039f"
            ],
            [
             0.2222222222222222,
             "#7201a8"
            ],
            [
             0.3333333333333333,
             "#9c179e"
            ],
            [
             0.4444444444444444,
             "#bd3786"
            ],
            [
             0.5555555555555556,
             "#d8576b"
            ],
            [
             0.6666666666666666,
             "#ed7953"
            ],
            [
             0.7777777777777778,
             "#fb9f3a"
            ],
            [
             0.8888888888888888,
             "#fdca26"
            ],
            [
             1,
             "#f0f921"
            ]
           ],
           "sequentialminus": [
            [
             0,
             "#0d0887"
            ],
            [
             0.1111111111111111,
             "#46039f"
            ],
            [
             0.2222222222222222,
             "#7201a8"
            ],
            [
             0.3333333333333333,
             "#9c179e"
            ],
            [
             0.4444444444444444,
             "#bd3786"
            ],
            [
             0.5555555555555556,
             "#d8576b"
            ],
            [
             0.6666666666666666,
             "#ed7953"
            ],
            [
             0.7777777777777778,
             "#fb9f3a"
            ],
            [
             0.8888888888888888,
             "#fdca26"
            ],
            [
             1,
             "#f0f921"
            ]
           ]
          },
          "colorway": [
           "#636efa",
           "#EF553B",
           "#00cc96",
           "#ab63fa",
           "#FFA15A",
           "#19d3f3",
           "#FF6692",
           "#B6E880",
           "#FF97FF",
           "#FECB52"
          ],
          "font": {
           "color": "#2a3f5f"
          },
          "geo": {
           "bgcolor": "white",
           "lakecolor": "white",
           "landcolor": "#E5ECF6",
           "showlakes": true,
           "showland": true,
           "subunitcolor": "white"
          },
          "hoverlabel": {
           "align": "left"
          },
          "hovermode": "closest",
          "mapbox": {
           "style": "light"
          },
          "paper_bgcolor": "white",
          "plot_bgcolor": "#E5ECF6",
          "polar": {
           "angularaxis": {
            "gridcolor": "white",
            "linecolor": "white",
            "ticks": ""
           },
           "bgcolor": "#E5ECF6",
           "radialaxis": {
            "gridcolor": "white",
            "linecolor": "white",
            "ticks": ""
           }
          },
          "scene": {
           "xaxis": {
            "backgroundcolor": "#E5ECF6",
            "gridcolor": "white",
            "gridwidth": 2,
            "linecolor": "white",
            "showbackground": true,
            "ticks": "",
            "zerolinecolor": "white"
           },
           "yaxis": {
            "backgroundcolor": "#E5ECF6",
            "gridcolor": "white",
            "gridwidth": 2,
            "linecolor": "white",
            "showbackground": true,
            "ticks": "",
            "zerolinecolor": "white"
           },
           "zaxis": {
            "backgroundcolor": "#E5ECF6",
            "gridcolor": "white",
            "gridwidth": 2,
            "linecolor": "white",
            "showbackground": true,
            "ticks": "",
            "zerolinecolor": "white"
           }
          },
          "shapedefaults": {
           "line": {
            "color": "#2a3f5f"
           }
          },
          "ternary": {
           "aaxis": {
            "gridcolor": "white",
            "linecolor": "white",
            "ticks": ""
           },
           "baxis": {
            "gridcolor": "white",
            "linecolor": "white",
            "ticks": ""
           },
           "bgcolor": "#E5ECF6",
           "caxis": {
            "gridcolor": "white",
            "linecolor": "white",
            "ticks": ""
           }
          },
          "title": {
           "x": 0.05
          },
          "xaxis": {
           "automargin": true,
           "gridcolor": "white",
           "linecolor": "white",
           "ticks": "",
           "title": {
            "standoff": 15
           },
           "zerolinecolor": "white",
           "zerolinewidth": 2
          },
          "yaxis": {
           "automargin": true,
           "gridcolor": "white",
           "linecolor": "white",
           "ticks": "",
           "title": {
            "standoff": 15
           },
           "zerolinecolor": "white",
           "zerolinewidth": 2
          }
         }
        },
        "xaxis": {
         "anchor": "y",
         "categoryarray": [
          "Afghanistan",
          "Albania",
          "Algeria",
          "Andorra",
          "Angola",
          "Antarctica",
          "Antigua and Barbuda",
          "Argentina",
          "Armenia",
          "Australia",
          "Austria",
          "Azerbaijan",
          "Bahamas",
          "Bahrain",
          "Bangladesh",
          "Barbados",
          "Belarus",
          "Belgium",
          "Belize",
          "Benin",
          "Bhutan",
          "Bolivia",
          "Bosnia and Herzegovina",
          "Botswana",
          "Brazil",
          "Brunei Darussalam",
          "Bulgaria",
          "Burkina Faso",
          "Burundi",
          "Cambodia",
          "Cameroon",
          "Canada",
          "Cape Verde",
          "Central African Republic",
          "Chad",
          "Chile",
          "China",
          "Colombia",
          "Comoros",
          "Congo (Brazzaville)",
          "Congo (Kinshasa)",
          "Costa Rica",
          "Croatia",
          "Cuba",
          "Cyprus",
          "Czech Republic",
          "Côte d'Ivoire",
          "Denmark",
          "Djibouti",
          "Dominica"
         ],
         "categoryorder": "array",
         "domain": [
          0,
          1
         ],
         "title": {
          "text": "Country"
         }
        },
        "yaxis": {
         "anchor": "x",
         "domain": [
          0,
          1
         ],
         "title": {
          "text": "TotalConfirmed"
         }
        }
       }
      },
      "text/html": [
       "<div>                            <div id=\"d17aaab6-e8a1-4799-b18b-7bda43918e7c\" class=\"plotly-graph-div\" style=\"height:525px; width:100%;\"></div>            <script type=\"text/javascript\">                require([\"plotly\"], function(Plotly) {                    window.PLOTLYENV=window.PLOTLYENV || {};                                    if (document.getElementById(\"d17aaab6-e8a1-4799-b18b-7bda43918e7c\")) {                    Plotly.newPlot(                        \"d17aaab6-e8a1-4799-b18b-7bda43918e7c\",                        [{\"alignmentgroup\":\"True\",\"hovertemplate\":\"Country=%{x}<br>TotalConfirmed=%{text}<extra></extra>\",\"legendgroup\":\"Afghanistan\",\"marker\":{\"color\":\"#636efa\",\"pattern\":{\"shape\":\"\"}},\"name\":\"Afghanistan\",\"offsetgroup\":\"Afghanistan\",\"orientation\":\"v\",\"showlegend\":true,\"text\":[180864.0],\"textposition\":\"auto\",\"x\":[\"Afghanistan\"],\"xaxis\":\"x\",\"y\":[180864],\"yaxis\":\"y\",\"type\":\"bar\"},{\"alignmentgroup\":\"True\",\"hovertemplate\":\"Country=%{x}<br>TotalConfirmed=%{text}<extra></extra>\",\"legendgroup\":\"Albania\",\"marker\":{\"color\":\"#EF553B\",\"pattern\":{\"shape\":\"\"}},\"name\":\"Albania\",\"offsetgroup\":\"Albania\",\"orientation\":\"v\",\"showlegend\":true,\"text\":[276731.0],\"textposition\":\"auto\",\"x\":[\"Albania\"],\"xaxis\":\"x\",\"y\":[276731],\"yaxis\":\"y\",\"type\":\"bar\"},{\"alignmentgroup\":\"True\",\"hovertemplate\":\"Country=%{x}<br>TotalConfirmed=%{text}<extra></extra>\",\"legendgroup\":\"Algeria\",\"marker\":{\"color\":\"#00cc96\",\"pattern\":{\"shape\":\"\"}},\"name\":\"Algeria\",\"offsetgroup\":\"Algeria\",\"orientation\":\"v\",\"showlegend\":true,\"text\":[265927.0],\"textposition\":\"auto\",\"x\":[\"Algeria\"],\"xaxis\":\"x\",\"y\":[265927],\"yaxis\":\"y\",\"type\":\"bar\"},{\"alignmentgroup\":\"True\",\"hovertemplate\":\"Country=%{x}<br>TotalConfirmed=%{text}<extra></extra>\",\"legendgroup\":\"Andorra\",\"marker\":{\"color\":\"#ab63fa\",\"pattern\":{\"shape\":\"\"}},\"name\":\"Andorra\",\"offsetgroup\":\"Andorra\",\"orientation\":\"v\",\"showlegend\":true,\"text\":[43224.0],\"textposition\":\"auto\",\"x\":[\"Andorra\"],\"xaxis\":\"x\",\"y\":[43224],\"yaxis\":\"y\",\"type\":\"bar\"},{\"alignmentgroup\":\"True\",\"hovertemplate\":\"Country=%{x}<br>TotalConfirmed=%{text}<extra></extra>\",\"legendgroup\":\"Angola\",\"marker\":{\"color\":\"#FFA15A\",\"pattern\":{\"shape\":\"\"}},\"name\":\"Angola\",\"offsetgroup\":\"Angola\",\"orientation\":\"v\",\"showlegend\":true,\"text\":[99761.0],\"textposition\":\"auto\",\"x\":[\"Angola\"],\"xaxis\":\"x\",\"y\":[99761],\"yaxis\":\"y\",\"type\":\"bar\"},{\"alignmentgroup\":\"True\",\"hovertemplate\":\"Country=%{x}<br>TotalConfirmed=%{text}<extra></extra>\",\"legendgroup\":\"Antarctica\",\"marker\":{\"color\":\"#19d3f3\",\"pattern\":{\"shape\":\"\"}},\"name\":\"Antarctica\",\"offsetgroup\":\"Antarctica\",\"orientation\":\"v\",\"showlegend\":true,\"text\":[11.0],\"textposition\":\"auto\",\"x\":[\"Antarctica\"],\"xaxis\":\"x\",\"y\":[11],\"yaxis\":\"y\",\"type\":\"bar\"},{\"alignmentgroup\":\"True\",\"hovertemplate\":\"Country=%{x}<br>TotalConfirmed=%{text}<extra></extra>\",\"legendgroup\":\"Antigua and Barbuda\",\"marker\":{\"color\":\"#FF6692\",\"pattern\":{\"shape\":\"\"}},\"name\":\"Antigua and Barbuda\",\"offsetgroup\":\"Antigua and Barbuda\",\"orientation\":\"v\",\"showlegend\":true,\"text\":[8492.0],\"textposition\":\"auto\",\"x\":[\"Antigua and Barbuda\"],\"xaxis\":\"x\",\"y\":[8492],\"yaxis\":\"y\",\"type\":\"bar\"},{\"alignmentgroup\":\"True\",\"hovertemplate\":\"Country=%{x}<br>TotalConfirmed=%{text}<extra></extra>\",\"legendgroup\":\"Argentina\",\"marker\":{\"color\":\"#B6E880\",\"pattern\":{\"shape\":\"\"}},\"name\":\"Argentina\",\"offsetgroup\":\"Argentina\",\"orientation\":\"v\",\"showlegend\":true,\"text\":[9276618.0],\"textposition\":\"auto\",\"x\":[\"Argentina\"],\"xaxis\":\"x\",\"y\":[9276618],\"yaxis\":\"y\",\"type\":\"bar\"},{\"alignmentgroup\":\"True\",\"hovertemplate\":\"Country=%{x}<br>TotalConfirmed=%{text}<extra></extra>\",\"legendgroup\":\"Armenia\",\"marker\":{\"color\":\"#FF97FF\",\"pattern\":{\"shape\":\"\"}},\"name\":\"Armenia\",\"offsetgroup\":\"Armenia\",\"orientation\":\"v\",\"showlegend\":true,\"text\":[423006.0],\"textposition\":\"auto\",\"x\":[\"Armenia\"],\"xaxis\":\"x\",\"y\":[423006],\"yaxis\":\"y\",\"type\":\"bar\"},{\"alignmentgroup\":\"True\",\"hovertemplate\":\"Country=%{x}<br>TotalConfirmed=%{text}<extra></extra>\",\"legendgroup\":\"Australia\",\"marker\":{\"color\":\"#FECB52\",\"pattern\":{\"shape\":\"\"}},\"name\":\"Australia\",\"offsetgroup\":\"Australia\",\"orientation\":\"v\",\"showlegend\":true,\"text\":[7614107.0],\"textposition\":\"auto\",\"x\":[\"Australia\"],\"xaxis\":\"x\",\"y\":[7614107],\"yaxis\":\"y\",\"type\":\"bar\"},{\"alignmentgroup\":\"True\",\"hovertemplate\":\"Country=%{x}<br>TotalConfirmed=%{text}<extra></extra>\",\"legendgroup\":\"Austria\",\"marker\":{\"color\":\"#636efa\",\"pattern\":{\"shape\":\"\"}},\"name\":\"Austria\",\"offsetgroup\":\"Austria\",\"orientation\":\"v\",\"showlegend\":true,\"text\":[4316435.0],\"textposition\":\"auto\",\"x\":[\"Austria\"],\"xaxis\":\"x\",\"y\":[4316435],\"yaxis\":\"y\",\"type\":\"bar\"},{\"alignmentgroup\":\"True\",\"hovertemplate\":\"Country=%{x}<br>TotalConfirmed=%{text}<extra></extra>\",\"legendgroup\":\"Azerbaijan\",\"marker\":{\"color\":\"#EF553B\",\"pattern\":{\"shape\":\"\"}},\"name\":\"Azerbaijan\",\"offsetgroup\":\"Azerbaijan\",\"orientation\":\"v\",\"showlegend\":true,\"text\":[792785.0],\"textposition\":\"auto\",\"x\":[\"Azerbaijan\"],\"xaxis\":\"x\",\"y\":[792785],\"yaxis\":\"y\",\"type\":\"bar\"},{\"alignmentgroup\":\"True\",\"hovertemplate\":\"Country=%{x}<br>TotalConfirmed=%{text}<extra></extra>\",\"legendgroup\":\"Bahamas\",\"marker\":{\"color\":\"#00cc96\",\"pattern\":{\"shape\":\"\"}},\"name\":\"Bahamas\",\"offsetgroup\":\"Bahamas\",\"orientation\":\"v\",\"showlegend\":true,\"text\":[35332.0],\"textposition\":\"auto\",\"x\":[\"Bahamas\"],\"xaxis\":\"x\",\"y\":[35332],\"yaxis\":\"y\",\"type\":\"bar\"},{\"alignmentgroup\":\"True\",\"hovertemplate\":\"Country=%{x}<br>TotalConfirmed=%{text}<extra></extra>\",\"legendgroup\":\"Bahrain\",\"marker\":{\"color\":\"#ab63fa\",\"pattern\":{\"shape\":\"\"}},\"name\":\"Bahrain\",\"offsetgroup\":\"Bahrain\",\"orientation\":\"v\",\"showlegend\":true,\"text\":[595787.0],\"textposition\":\"auto\",\"x\":[\"Bahrain\"],\"xaxis\":\"x\",\"y\":[595787],\"yaxis\":\"y\",\"type\":\"bar\"},{\"alignmentgroup\":\"True\",\"hovertemplate\":\"Country=%{x}<br>TotalConfirmed=%{text}<extra></extra>\",\"legendgroup\":\"Bangladesh\",\"marker\":{\"color\":\"#FFA15A\",\"pattern\":{\"shape\":\"\"}},\"name\":\"Bangladesh\",\"offsetgroup\":\"Bangladesh\",\"orientation\":\"v\",\"showlegend\":true,\"text\":[1954115.0],\"textposition\":\"auto\",\"x\":[\"Bangladesh\"],\"xaxis\":\"x\",\"y\":[1954115],\"yaxis\":\"y\",\"type\":\"bar\"},{\"alignmentgroup\":\"True\",\"hovertemplate\":\"Country=%{x}<br>TotalConfirmed=%{text}<extra></extra>\",\"legendgroup\":\"Barbados\",\"marker\":{\"color\":\"#19d3f3\",\"pattern\":{\"shape\":\"\"}},\"name\":\"Barbados\",\"offsetgroup\":\"Barbados\",\"orientation\":\"v\",\"showlegend\":true,\"text\":[82255.0],\"textposition\":\"auto\",\"x\":[\"Barbados\"],\"xaxis\":\"x\",\"y\":[82255],\"yaxis\":\"y\",\"type\":\"bar\"},{\"alignmentgroup\":\"True\",\"hovertemplate\":\"Country=%{x}<br>TotalConfirmed=%{text}<extra></extra>\",\"legendgroup\":\"Belarus\",\"marker\":{\"color\":\"#FF6692\",\"pattern\":{\"shape\":\"\"}},\"name\":\"Belarus\",\"offsetgroup\":\"Belarus\",\"orientation\":\"v\",\"showlegend\":true,\"text\":[982867.0],\"textposition\":\"auto\",\"x\":[\"Belarus\"],\"xaxis\":\"x\",\"y\":[982867],\"yaxis\":\"y\",\"type\":\"bar\"},{\"alignmentgroup\":\"True\",\"hovertemplate\":\"Country=%{x}<br>TotalConfirmed=%{text}<extra></extra>\",\"legendgroup\":\"Belgium\",\"marker\":{\"color\":\"#B6E880\",\"pattern\":{\"shape\":\"\"}},\"name\":\"Belgium\",\"offsetgroup\":\"Belgium\",\"orientation\":\"v\",\"showlegend\":true,\"text\":[4170252.0],\"textposition\":\"auto\",\"x\":[\"Belgium\"],\"xaxis\":\"x\",\"y\":[4170252],\"yaxis\":\"y\",\"type\":\"bar\"},{\"alignmentgroup\":\"True\",\"hovertemplate\":\"Country=%{x}<br>TotalConfirmed=%{text}<extra></extra>\",\"legendgroup\":\"Belize\",\"marker\":{\"color\":\"#FF97FF\",\"pattern\":{\"shape\":\"\"}},\"name\":\"Belize\",\"offsetgroup\":\"Belize\",\"orientation\":\"v\",\"showlegend\":true,\"text\":[60863.0],\"textposition\":\"auto\",\"x\":[\"Belize\"],\"xaxis\":\"x\",\"y\":[60863],\"yaxis\":\"y\",\"type\":\"bar\"},{\"alignmentgroup\":\"True\",\"hovertemplate\":\"Country=%{x}<br>TotalConfirmed=%{text}<extra></extra>\",\"legendgroup\":\"Benin\",\"marker\":{\"color\":\"#FECB52\",\"pattern\":{\"shape\":\"\"}},\"name\":\"Benin\",\"offsetgroup\":\"Benin\",\"orientation\":\"v\",\"showlegend\":true,\"text\":[26952.0],\"textposition\":\"auto\",\"x\":[\"Benin\"],\"xaxis\":\"x\",\"y\":[26952],\"yaxis\":\"y\",\"type\":\"bar\"},{\"alignmentgroup\":\"True\",\"hovertemplate\":\"Country=%{x}<br>TotalConfirmed=%{text}<extra></extra>\",\"legendgroup\":\"Bhutan\",\"marker\":{\"color\":\"#636efa\",\"pattern\":{\"shape\":\"\"}},\"name\":\"Bhutan\",\"offsetgroup\":\"Bhutan\",\"orientation\":\"v\",\"showlegend\":true,\"text\":[59636.0],\"textposition\":\"auto\",\"x\":[\"Bhutan\"],\"xaxis\":\"x\",\"y\":[59636],\"yaxis\":\"y\",\"type\":\"bar\"},{\"alignmentgroup\":\"True\",\"hovertemplate\":\"Country=%{x}<br>TotalConfirmed=%{text}<extra></extra>\",\"legendgroup\":\"Bolivia\",\"marker\":{\"color\":\"#EF553B\",\"pattern\":{\"shape\":\"\"}},\"name\":\"Bolivia\",\"offsetgroup\":\"Bolivia\",\"orientation\":\"v\",\"showlegend\":true,\"text\":[912272.0],\"textposition\":\"auto\",\"x\":[\"Bolivia\"],\"xaxis\":\"x\",\"y\":[912272],\"yaxis\":\"y\",\"type\":\"bar\"},{\"alignmentgroup\":\"True\",\"hovertemplate\":\"Country=%{x}<br>TotalConfirmed=%{text}<extra></extra>\",\"legendgroup\":\"Bosnia and Herzegovina\",\"marker\":{\"color\":\"#00cc96\",\"pattern\":{\"shape\":\"\"}},\"name\":\"Bosnia and Herzegovina\",\"offsetgroup\":\"Bosnia and Herzegovina\",\"orientation\":\"v\",\"showlegend\":true,\"text\":[378083.0],\"textposition\":\"auto\",\"x\":[\"Bosnia and Herzegovina\"],\"xaxis\":\"x\",\"y\":[378083],\"yaxis\":\"y\",\"type\":\"bar\"},{\"alignmentgroup\":\"True\",\"hovertemplate\":\"Country=%{x}<br>TotalConfirmed=%{text}<extra></extra>\",\"legendgroup\":\"Botswana\",\"marker\":{\"color\":\"#ab63fa\",\"pattern\":{\"shape\":\"\"}},\"name\":\"Botswana\",\"offsetgroup\":\"Botswana\",\"orientation\":\"v\",\"showlegend\":true,\"text\":[310431.0],\"textposition\":\"auto\",\"x\":[\"Botswana\"],\"xaxis\":\"x\",\"y\":[310431],\"yaxis\":\"y\",\"type\":\"bar\"},{\"alignmentgroup\":\"True\",\"hovertemplate\":\"Country=%{x}<br>TotalConfirmed=%{text}<extra></extra>\",\"legendgroup\":\"Brazil\",\"marker\":{\"color\":\"#FFA15A\",\"pattern\":{\"shape\":\"\"}},\"name\":\"Brazil\",\"offsetgroup\":\"Brazil\",\"orientation\":\"v\",\"showlegend\":true,\"text\":[31445137.0],\"textposition\":\"auto\",\"x\":[\"Brazil\"],\"xaxis\":\"x\",\"y\":[31445137],\"yaxis\":\"y\",\"type\":\"bar\"},{\"alignmentgroup\":\"True\",\"hovertemplate\":\"Country=%{x}<br>TotalConfirmed=%{text}<extra></extra>\",\"legendgroup\":\"Brunei Darussalam\",\"marker\":{\"color\":\"#19d3f3\",\"pattern\":{\"shape\":\"\"}},\"name\":\"Brunei Darussalam\",\"offsetgroup\":\"Brunei Darussalam\",\"orientation\":\"v\",\"showlegend\":true,\"text\":[153093.0],\"textposition\":\"auto\",\"x\":[\"Brunei Darussalam\"],\"xaxis\":\"x\",\"y\":[153093],\"yaxis\":\"y\",\"type\":\"bar\"},{\"alignmentgroup\":\"True\",\"hovertemplate\":\"Country=%{x}<br>TotalConfirmed=%{text}<extra></extra>\",\"legendgroup\":\"Bulgaria\",\"marker\":{\"color\":\"#FF6692\",\"pattern\":{\"shape\":\"\"}},\"name\":\"Bulgaria\",\"offsetgroup\":\"Bulgaria\",\"orientation\":\"v\",\"showlegend\":true,\"text\":[1166901.0],\"textposition\":\"auto\",\"x\":[\"Bulgaria\"],\"xaxis\":\"x\",\"y\":[1166901],\"yaxis\":\"y\",\"type\":\"bar\"},{\"alignmentgroup\":\"True\",\"hovertemplate\":\"Country=%{x}<br>TotalConfirmed=%{text}<extra></extra>\",\"legendgroup\":\"Burkina Faso\",\"marker\":{\"color\":\"#B6E880\",\"pattern\":{\"shape\":\"\"}},\"name\":\"Burkina Faso\",\"offsetgroup\":\"Burkina Faso\",\"orientation\":\"v\",\"showlegend\":true,\"text\":[20899.0],\"textposition\":\"auto\",\"x\":[\"Burkina Faso\"],\"xaxis\":\"x\",\"y\":[20899],\"yaxis\":\"y\",\"type\":\"bar\"},{\"alignmentgroup\":\"True\",\"hovertemplate\":\"Country=%{x}<br>TotalConfirmed=%{text}<extra></extra>\",\"legendgroup\":\"Burundi\",\"marker\":{\"color\":\"#FF97FF\",\"pattern\":{\"shape\":\"\"}},\"name\":\"Burundi\",\"offsetgroup\":\"Burundi\",\"orientation\":\"v\",\"showlegend\":true,\"text\":[42248.0],\"textposition\":\"auto\",\"x\":[\"Burundi\"],\"xaxis\":\"x\",\"y\":[42248],\"yaxis\":\"y\",\"type\":\"bar\"},{\"alignmentgroup\":\"True\",\"hovertemplate\":\"Country=%{x}<br>TotalConfirmed=%{text}<extra></extra>\",\"legendgroup\":\"Cambodia\",\"marker\":{\"color\":\"#FECB52\",\"pattern\":{\"shape\":\"\"}},\"name\":\"Cambodia\",\"offsetgroup\":\"Cambodia\",\"orientation\":\"v\",\"showlegend\":true,\"text\":[136262.0],\"textposition\":\"auto\",\"x\":[\"Cambodia\"],\"xaxis\":\"x\",\"y\":[136262],\"yaxis\":\"y\",\"type\":\"bar\"},{\"alignmentgroup\":\"True\",\"hovertemplate\":\"Country=%{x}<br>TotalConfirmed=%{text}<extra></extra>\",\"legendgroup\":\"Cameroon\",\"marker\":{\"color\":\"#636efa\",\"pattern\":{\"shape\":\"\"}},\"name\":\"Cameroon\",\"offsetgroup\":\"Cameroon\",\"orientation\":\"v\",\"showlegend\":true,\"text\":[119947.0],\"textposition\":\"auto\",\"x\":[\"Cameroon\"],\"xaxis\":\"x\",\"y\":[119947],\"yaxis\":\"y\",\"type\":\"bar\"},{\"alignmentgroup\":\"True\",\"hovertemplate\":\"Country=%{x}<br>TotalConfirmed=%{text}<extra></extra>\",\"legendgroup\":\"Canada\",\"marker\":{\"color\":\"#EF553B\",\"pattern\":{\"shape\":\"\"}},\"name\":\"Canada\",\"offsetgroup\":\"Canada\",\"orientation\":\"v\",\"showlegend\":true,\"text\":[3328745.0],\"textposition\":\"auto\",\"x\":[\"Canada\"],\"xaxis\":\"x\",\"y\":[3328745],\"yaxis\":\"y\",\"type\":\"bar\"},{\"alignmentgroup\":\"True\",\"hovertemplate\":\"Country=%{x}<br>TotalConfirmed=%{text}<extra></extra>\",\"legendgroup\":\"Cape Verde\",\"marker\":{\"color\":\"#00cc96\",\"pattern\":{\"shape\":\"\"}},\"name\":\"Cape Verde\",\"offsetgroup\":\"Cape Verde\",\"orientation\":\"v\",\"showlegend\":true,\"text\":[57096.0],\"textposition\":\"auto\",\"x\":[\"Cape Verde\"],\"xaxis\":\"x\",\"y\":[57096],\"yaxis\":\"y\",\"type\":\"bar\"},{\"alignmentgroup\":\"True\",\"hovertemplate\":\"Country=%{x}<br>TotalConfirmed=%{text}<extra></extra>\",\"legendgroup\":\"Central African Republic\",\"marker\":{\"color\":\"#ab63fa\",\"pattern\":{\"shape\":\"\"}},\"name\":\"Central African Republic\",\"offsetgroup\":\"Central African Republic\",\"orientation\":\"v\",\"showlegend\":true,\"text\":[14649.0],\"textposition\":\"auto\",\"x\":[\"Central African Republic\"],\"xaxis\":\"x\",\"y\":[14649],\"yaxis\":\"y\",\"type\":\"bar\"},{\"alignmentgroup\":\"True\",\"hovertemplate\":\"Country=%{x}<br>TotalConfirmed=%{text}<extra></extra>\",\"legendgroup\":\"Chad\",\"marker\":{\"color\":\"#FFA15A\",\"pattern\":{\"shape\":\"\"}},\"name\":\"Chad\",\"offsetgroup\":\"Chad\",\"orientation\":\"v\",\"showlegend\":true,\"text\":[7418.0],\"textposition\":\"auto\",\"x\":[\"Chad\"],\"xaxis\":\"x\",\"y\":[7418],\"yaxis\":\"y\",\"type\":\"bar\"},{\"alignmentgroup\":\"True\",\"hovertemplate\":\"Country=%{x}<br>TotalConfirmed=%{text}<extra></extra>\",\"legendgroup\":\"Chile\",\"marker\":{\"color\":\"#19d3f3\",\"pattern\":{\"shape\":\"\"}},\"name\":\"Chile\",\"offsetgroup\":\"Chile\",\"orientation\":\"v\",\"showlegend\":true,\"text\":[3808970.0],\"textposition\":\"auto\",\"x\":[\"Chile\"],\"xaxis\":\"x\",\"y\":[3808970],\"yaxis\":\"y\",\"type\":\"bar\"},{\"alignmentgroup\":\"True\",\"hovertemplate\":\"Country=%{x}<br>TotalConfirmed=%{text}<extra></extra>\",\"legendgroup\":\"China\",\"marker\":{\"color\":\"#FF6692\",\"pattern\":{\"shape\":\"\"}},\"name\":\"China\",\"offsetgroup\":\"China\",\"orientation\":\"v\",\"showlegend\":true,\"text\":[1443237.0],\"textposition\":\"auto\",\"x\":[\"China\"],\"xaxis\":\"x\",\"y\":[1443237],\"yaxis\":\"y\",\"type\":\"bar\"},{\"alignmentgroup\":\"True\",\"hovertemplate\":\"Country=%{x}<br>TotalConfirmed=%{text}<extra></extra>\",\"legendgroup\":\"Colombia\",\"marker\":{\"color\":\"#B6E880\",\"pattern\":{\"shape\":\"\"}},\"name\":\"Colombia\",\"offsetgroup\":\"Colombia\",\"orientation\":\"v\",\"showlegend\":true,\"text\":[6117847.0],\"textposition\":\"auto\",\"x\":[\"Colombia\"],\"xaxis\":\"x\",\"y\":[6117847],\"yaxis\":\"y\",\"type\":\"bar\"},{\"alignmentgroup\":\"True\",\"hovertemplate\":\"Country=%{x}<br>TotalConfirmed=%{text}<extra></extra>\",\"legendgroup\":\"Comoros\",\"marker\":{\"color\":\"#FF97FF\",\"pattern\":{\"shape\":\"\"}},\"name\":\"Comoros\",\"offsetgroup\":\"Comoros\",\"orientation\":\"v\",\"showlegend\":true,\"text\":[8131.0],\"textposition\":\"auto\",\"x\":[\"Comoros\"],\"xaxis\":\"x\",\"y\":[8131],\"yaxis\":\"y\",\"type\":\"bar\"},{\"alignmentgroup\":\"True\",\"hovertemplate\":\"Country=%{x}<br>TotalConfirmed=%{text}<extra></extra>\",\"legendgroup\":\"Congo (Brazzaville)\",\"marker\":{\"color\":\"#FECB52\",\"pattern\":{\"shape\":\"\"}},\"name\":\"Congo (Brazzaville)\",\"offsetgroup\":\"Congo (Brazzaville)\",\"orientation\":\"v\",\"showlegend\":true,\"text\":[24128.0],\"textposition\":\"auto\",\"x\":[\"Congo (Brazzaville)\"],\"xaxis\":\"x\",\"y\":[24128],\"yaxis\":\"y\",\"type\":\"bar\"},{\"alignmentgroup\":\"True\",\"hovertemplate\":\"Country=%{x}<br>TotalConfirmed=%{text}<extra></extra>\",\"legendgroup\":\"Congo (Kinshasa)\",\"marker\":{\"color\":\"#636efa\",\"pattern\":{\"shape\":\"\"}},\"name\":\"Congo (Kinshasa)\",\"offsetgroup\":\"Congo (Kinshasa)\",\"orientation\":\"v\",\"showlegend\":true,\"text\":[89932.0],\"textposition\":\"auto\",\"x\":[\"Congo (Kinshasa)\"],\"xaxis\":\"x\",\"y\":[89932],\"yaxis\":\"y\",\"type\":\"bar\"},{\"alignmentgroup\":\"True\",\"hovertemplate\":\"Country=%{x}<br>TotalConfirmed=%{text}<extra></extra>\",\"legendgroup\":\"Costa Rica\",\"marker\":{\"color\":\"#EF553B\",\"pattern\":{\"shape\":\"\"}},\"name\":\"Costa Rica\",\"offsetgroup\":\"Costa Rica\",\"orientation\":\"v\",\"showlegend\":true,\"text\":[904934.0],\"textposition\":\"auto\",\"x\":[\"Costa Rica\"],\"xaxis\":\"x\",\"y\":[904934],\"yaxis\":\"y\",\"type\":\"bar\"},{\"alignmentgroup\":\"True\",\"hovertemplate\":\"Country=%{x}<br>TotalConfirmed=%{text}<extra></extra>\",\"legendgroup\":\"Croatia\",\"marker\":{\"color\":\"#00cc96\",\"pattern\":{\"shape\":\"\"}},\"name\":\"Croatia\",\"offsetgroup\":\"Croatia\",\"orientation\":\"v\",\"showlegend\":true,\"text\":[1139816.0],\"textposition\":\"auto\",\"x\":[\"Croatia\"],\"xaxis\":\"x\",\"y\":[1139816],\"yaxis\":\"y\",\"type\":\"bar\"},{\"alignmentgroup\":\"True\",\"hovertemplate\":\"Country=%{x}<br>TotalConfirmed=%{text}<extra></extra>\",\"legendgroup\":\"Cuba\",\"marker\":{\"color\":\"#ab63fa\",\"pattern\":{\"shape\":\"\"}},\"name\":\"Cuba\",\"offsetgroup\":\"Cuba\",\"orientation\":\"v\",\"showlegend\":true,\"text\":[1105612.0],\"textposition\":\"auto\",\"x\":[\"Cuba\"],\"xaxis\":\"x\",\"y\":[1105612],\"yaxis\":\"y\",\"type\":\"bar\"},{\"alignmentgroup\":\"True\",\"hovertemplate\":\"Country=%{x}<br>TotalConfirmed=%{text}<extra></extra>\",\"legendgroup\":\"Cyprus\",\"marker\":{\"color\":\"#FFA15A\",\"pattern\":{\"shape\":\"\"}},\"name\":\"Cyprus\",\"offsetgroup\":\"Cyprus\",\"orientation\":\"v\",\"showlegend\":true,\"text\":[493984.0],\"textposition\":\"auto\",\"x\":[\"Cyprus\"],\"xaxis\":\"x\",\"y\":[493984],\"yaxis\":\"y\",\"type\":\"bar\"},{\"alignmentgroup\":\"True\",\"hovertemplate\":\"Country=%{x}<br>TotalConfirmed=%{text}<extra></extra>\",\"legendgroup\":\"Czech Republic\",\"marker\":{\"color\":\"#19d3f3\",\"pattern\":{\"shape\":\"\"}},\"name\":\"Czech Republic\",\"offsetgroup\":\"Czech Republic\",\"orientation\":\"v\",\"showlegend\":true,\"text\":[3922968.0],\"textposition\":\"auto\",\"x\":[\"Czech Republic\"],\"xaxis\":\"x\",\"y\":[3922968],\"yaxis\":\"y\",\"type\":\"bar\"},{\"alignmentgroup\":\"True\",\"hovertemplate\":\"Country=%{x}<br>TotalConfirmed=%{text}<extra></extra>\",\"legendgroup\":\"C\\u00f4te d'Ivoire\",\"marker\":{\"color\":\"#FF6692\",\"pattern\":{\"shape\":\"\"}},\"name\":\"C\\u00f4te d'Ivoire\",\"offsetgroup\":\"C\\u00f4te d'Ivoire\",\"orientation\":\"v\",\"showlegend\":true,\"text\":[82487.0],\"textposition\":\"auto\",\"x\":[\"C\\u00f4te d'Ivoire\"],\"xaxis\":\"x\",\"y\":[82487],\"yaxis\":\"y\",\"type\":\"bar\"},{\"alignmentgroup\":\"True\",\"hovertemplate\":\"Country=%{x}<br>TotalConfirmed=%{text}<extra></extra>\",\"legendgroup\":\"Denmark\",\"marker\":{\"color\":\"#B6E880\",\"pattern\":{\"shape\":\"\"}},\"name\":\"Denmark\",\"offsetgroup\":\"Denmark\",\"orientation\":\"v\",\"showlegend\":true,\"text\":[3190021.0],\"textposition\":\"auto\",\"x\":[\"Denmark\"],\"xaxis\":\"x\",\"y\":[3190021],\"yaxis\":\"y\",\"type\":\"bar\"},{\"alignmentgroup\":\"True\",\"hovertemplate\":\"Country=%{x}<br>TotalConfirmed=%{text}<extra></extra>\",\"legendgroup\":\"Djibouti\",\"marker\":{\"color\":\"#FF97FF\",\"pattern\":{\"shape\":\"\"}},\"name\":\"Djibouti\",\"offsetgroup\":\"Djibouti\",\"orientation\":\"v\",\"showlegend\":true,\"text\":[15686.0],\"textposition\":\"auto\",\"x\":[\"Djibouti\"],\"xaxis\":\"x\",\"y\":[15686],\"yaxis\":\"y\",\"type\":\"bar\"},{\"alignmentgroup\":\"True\",\"hovertemplate\":\"Country=%{x}<br>TotalConfirmed=%{text}<extra></extra>\",\"legendgroup\":\"Dominica\",\"marker\":{\"color\":\"#FECB52\",\"pattern\":{\"shape\":\"\"}},\"name\":\"Dominica\",\"offsetgroup\":\"Dominica\",\"orientation\":\"v\",\"showlegend\":true,\"text\":[14638.0],\"textposition\":\"auto\",\"x\":[\"Dominica\"],\"xaxis\":\"x\",\"y\":[14638],\"yaxis\":\"y\",\"type\":\"bar\"}],                        {\"template\":{\"data\":{\"histogram2dcontour\":[{\"type\":\"histogram2dcontour\",\"colorbar\":{\"outlinewidth\":0,\"ticks\":\"\"},\"colorscale\":[[0.0,\"#0d0887\"],[0.1111111111111111,\"#46039f\"],[0.2222222222222222,\"#7201a8\"],[0.3333333333333333,\"#9c179e\"],[0.4444444444444444,\"#bd3786\"],[0.5555555555555556,\"#d8576b\"],[0.6666666666666666,\"#ed7953\"],[0.7777777777777778,\"#fb9f3a\"],[0.8888888888888888,\"#fdca26\"],[1.0,\"#f0f921\"]]}],\"choropleth\":[{\"type\":\"choropleth\",\"colorbar\":{\"outlinewidth\":0,\"ticks\":\"\"}}],\"histogram2d\":[{\"type\":\"histogram2d\",\"colorbar\":{\"outlinewidth\":0,\"ticks\":\"\"},\"colorscale\":[[0.0,\"#0d0887\"],[0.1111111111111111,\"#46039f\"],[0.2222222222222222,\"#7201a8\"],[0.3333333333333333,\"#9c179e\"],[0.4444444444444444,\"#bd3786\"],[0.5555555555555556,\"#d8576b\"],[0.6666666666666666,\"#ed7953\"],[0.7777777777777778,\"#fb9f3a\"],[0.8888888888888888,\"#fdca26\"],[1.0,\"#f0f921\"]]}],\"heatmap\":[{\"type\":\"heatmap\",\"colorbar\":{\"outlinewidth\":0,\"ticks\":\"\"},\"colorscale\":[[0.0,\"#0d0887\"],[0.1111111111111111,\"#46039f\"],[0.2222222222222222,\"#7201a8\"],[0.3333333333333333,\"#9c179e\"],[0.4444444444444444,\"#bd3786\"],[0.5555555555555556,\"#d8576b\"],[0.6666666666666666,\"#ed7953\"],[0.7777777777777778,\"#fb9f3a\"],[0.8888888888888888,\"#fdca26\"],[1.0,\"#f0f921\"]]}],\"heatmapgl\":[{\"type\":\"heatmapgl\",\"colorbar\":{\"outlinewidth\":0,\"ticks\":\"\"},\"colorscale\":[[0.0,\"#0d0887\"],[0.1111111111111111,\"#46039f\"],[0.2222222222222222,\"#7201a8\"],[0.3333333333333333,\"#9c179e\"],[0.4444444444444444,\"#bd3786\"],[0.5555555555555556,\"#d8576b\"],[0.6666666666666666,\"#ed7953\"],[0.7777777777777778,\"#fb9f3a\"],[0.8888888888888888,\"#fdca26\"],[1.0,\"#f0f921\"]]}],\"contourcarpet\":[{\"type\":\"contourcarpet\",\"colorbar\":{\"outlinewidth\":0,\"ticks\":\"\"}}],\"contour\":[{\"type\":\"contour\",\"colorbar\":{\"outlinewidth\":0,\"ticks\":\"\"},\"colorscale\":[[0.0,\"#0d0887\"],[0.1111111111111111,\"#46039f\"],[0.2222222222222222,\"#7201a8\"],[0.3333333333333333,\"#9c179e\"],[0.4444444444444444,\"#bd3786\"],[0.5555555555555556,\"#d8576b\"],[0.6666666666666666,\"#ed7953\"],[0.7777777777777778,\"#fb9f3a\"],[0.8888888888888888,\"#fdca26\"],[1.0,\"#f0f921\"]]}],\"surface\":[{\"type\":\"surface\",\"colorbar\":{\"outlinewidth\":0,\"ticks\":\"\"},\"colorscale\":[[0.0,\"#0d0887\"],[0.1111111111111111,\"#46039f\"],[0.2222222222222222,\"#7201a8\"],[0.3333333333333333,\"#9c179e\"],[0.4444444444444444,\"#bd3786\"],[0.5555555555555556,\"#d8576b\"],[0.6666666666666666,\"#ed7953\"],[0.7777777777777778,\"#fb9f3a\"],[0.8888888888888888,\"#fdca26\"],[1.0,\"#f0f921\"]]}],\"mesh3d\":[{\"type\":\"mesh3d\",\"colorbar\":{\"outlinewidth\":0,\"ticks\":\"\"}}],\"scatter\":[{\"fillpattern\":{\"fillmode\":\"overlay\",\"size\":10,\"solidity\":0.2},\"type\":\"scatter\"}],\"parcoords\":[{\"type\":\"parcoords\",\"line\":{\"colorbar\":{\"outlinewidth\":0,\"ticks\":\"\"}}}],\"scatterpolargl\":[{\"type\":\"scatterpolargl\",\"marker\":{\"colorbar\":{\"outlinewidth\":0,\"ticks\":\"\"}}}],\"bar\":[{\"error_x\":{\"color\":\"#2a3f5f\"},\"error_y\":{\"color\":\"#2a3f5f\"},\"marker\":{\"line\":{\"color\":\"#E5ECF6\",\"width\":0.5},\"pattern\":{\"fillmode\":\"overlay\",\"size\":10,\"solidity\":0.2}},\"type\":\"bar\"}],\"scattergeo\":[{\"type\":\"scattergeo\",\"marker\":{\"colorbar\":{\"outlinewidth\":0,\"ticks\":\"\"}}}],\"scatterpolar\":[{\"type\":\"scatterpolar\",\"marker\":{\"colorbar\":{\"outlinewidth\":0,\"ticks\":\"\"}}}],\"histogram\":[{\"marker\":{\"pattern\":{\"fillmode\":\"overlay\",\"size\":10,\"solidity\":0.2}},\"type\":\"histogram\"}],\"scattergl\":[{\"type\":\"scattergl\",\"marker\":{\"colorbar\":{\"outlinewidth\":0,\"ticks\":\"\"}}}],\"scatter3d\":[{\"type\":\"scatter3d\",\"line\":{\"colorbar\":{\"outlinewidth\":0,\"ticks\":\"\"}},\"marker\":{\"colorbar\":{\"outlinewidth\":0,\"ticks\":\"\"}}}],\"scattermapbox\":[{\"type\":\"scattermapbox\",\"marker\":{\"colorbar\":{\"outlinewidth\":0,\"ticks\":\"\"}}}],\"scatterternary\":[{\"type\":\"scatterternary\",\"marker\":{\"colorbar\":{\"outlinewidth\":0,\"ticks\":\"\"}}}],\"scattercarpet\":[{\"type\":\"scattercarpet\",\"marker\":{\"colorbar\":{\"outlinewidth\":0,\"ticks\":\"\"}}}],\"carpet\":[{\"aaxis\":{\"endlinecolor\":\"#2a3f5f\",\"gridcolor\":\"white\",\"linecolor\":\"white\",\"minorgridcolor\":\"white\",\"startlinecolor\":\"#2a3f5f\"},\"baxis\":{\"endlinecolor\":\"#2a3f5f\",\"gridcolor\":\"white\",\"linecolor\":\"white\",\"minorgridcolor\":\"white\",\"startlinecolor\":\"#2a3f5f\"},\"type\":\"carpet\"}],\"table\":[{\"cells\":{\"fill\":{\"color\":\"#EBF0F8\"},\"line\":{\"color\":\"white\"}},\"header\":{\"fill\":{\"color\":\"#C8D4E3\"},\"line\":{\"color\":\"white\"}},\"type\":\"table\"}],\"barpolar\":[{\"marker\":{\"line\":{\"color\":\"#E5ECF6\",\"width\":0.5},\"pattern\":{\"fillmode\":\"overlay\",\"size\":10,\"solidity\":0.2}},\"type\":\"barpolar\"}],\"pie\":[{\"automargin\":true,\"type\":\"pie\"}]},\"layout\":{\"autotypenumbers\":\"strict\",\"colorway\":[\"#636efa\",\"#EF553B\",\"#00cc96\",\"#ab63fa\",\"#FFA15A\",\"#19d3f3\",\"#FF6692\",\"#B6E880\",\"#FF97FF\",\"#FECB52\"],\"font\":{\"color\":\"#2a3f5f\"},\"hovermode\":\"closest\",\"hoverlabel\":{\"align\":\"left\"},\"paper_bgcolor\":\"white\",\"plot_bgcolor\":\"#E5ECF6\",\"polar\":{\"bgcolor\":\"#E5ECF6\",\"angularaxis\":{\"gridcolor\":\"white\",\"linecolor\":\"white\",\"ticks\":\"\"},\"radialaxis\":{\"gridcolor\":\"white\",\"linecolor\":\"white\",\"ticks\":\"\"}},\"ternary\":{\"bgcolor\":\"#E5ECF6\",\"aaxis\":{\"gridcolor\":\"white\",\"linecolor\":\"white\",\"ticks\":\"\"},\"baxis\":{\"gridcolor\":\"white\",\"linecolor\":\"white\",\"ticks\":\"\"},\"caxis\":{\"gridcolor\":\"white\",\"linecolor\":\"white\",\"ticks\":\"\"}},\"coloraxis\":{\"colorbar\":{\"outlinewidth\":0,\"ticks\":\"\"}},\"colorscale\":{\"sequential\":[[0.0,\"#0d0887\"],[0.1111111111111111,\"#46039f\"],[0.2222222222222222,\"#7201a8\"],[0.3333333333333333,\"#9c179e\"],[0.4444444444444444,\"#bd3786\"],[0.5555555555555556,\"#d8576b\"],[0.6666666666666666,\"#ed7953\"],[0.7777777777777778,\"#fb9f3a\"],[0.8888888888888888,\"#fdca26\"],[1.0,\"#f0f921\"]],\"sequentialminus\":[[0.0,\"#0d0887\"],[0.1111111111111111,\"#46039f\"],[0.2222222222222222,\"#7201a8\"],[0.3333333333333333,\"#9c179e\"],[0.4444444444444444,\"#bd3786\"],[0.5555555555555556,\"#d8576b\"],[0.6666666666666666,\"#ed7953\"],[0.7777777777777778,\"#fb9f3a\"],[0.8888888888888888,\"#fdca26\"],[1.0,\"#f0f921\"]],\"diverging\":[[0,\"#8e0152\"],[0.1,\"#c51b7d\"],[0.2,\"#de77ae\"],[0.3,\"#f1b6da\"],[0.4,\"#fde0ef\"],[0.5,\"#f7f7f7\"],[0.6,\"#e6f5d0\"],[0.7,\"#b8e186\"],[0.8,\"#7fbc41\"],[0.9,\"#4d9221\"],[1,\"#276419\"]]},\"xaxis\":{\"gridcolor\":\"white\",\"linecolor\":\"white\",\"ticks\":\"\",\"title\":{\"standoff\":15},\"zerolinecolor\":\"white\",\"automargin\":true,\"zerolinewidth\":2},\"yaxis\":{\"gridcolor\":\"white\",\"linecolor\":\"white\",\"ticks\":\"\",\"title\":{\"standoff\":15},\"zerolinecolor\":\"white\",\"automargin\":true,\"zerolinewidth\":2},\"scene\":{\"xaxis\":{\"backgroundcolor\":\"#E5ECF6\",\"gridcolor\":\"white\",\"linecolor\":\"white\",\"showbackground\":true,\"ticks\":\"\",\"zerolinecolor\":\"white\",\"gridwidth\":2},\"yaxis\":{\"backgroundcolor\":\"#E5ECF6\",\"gridcolor\":\"white\",\"linecolor\":\"white\",\"showbackground\":true,\"ticks\":\"\",\"zerolinecolor\":\"white\",\"gridwidth\":2},\"zaxis\":{\"backgroundcolor\":\"#E5ECF6\",\"gridcolor\":\"white\",\"linecolor\":\"white\",\"showbackground\":true,\"ticks\":\"\",\"zerolinecolor\":\"white\",\"gridwidth\":2}},\"shapedefaults\":{\"line\":{\"color\":\"#2a3f5f\"}},\"annotationdefaults\":{\"arrowcolor\":\"#2a3f5f\",\"arrowhead\":0,\"arrowwidth\":1},\"geo\":{\"bgcolor\":\"white\",\"landcolor\":\"#E5ECF6\",\"subunitcolor\":\"white\",\"showland\":true,\"showlakes\":true,\"lakecolor\":\"white\"},\"title\":{\"x\":0.05},\"mapbox\":{\"style\":\"light\"}}},\"xaxis\":{\"anchor\":\"y\",\"domain\":[0.0,1.0],\"title\":{\"text\":\"Country\"},\"categoryorder\":\"array\",\"categoryarray\":[\"Afghanistan\",\"Albania\",\"Algeria\",\"Andorra\",\"Angola\",\"Antarctica\",\"Antigua and Barbuda\",\"Argentina\",\"Armenia\",\"Australia\",\"Austria\",\"Azerbaijan\",\"Bahamas\",\"Bahrain\",\"Bangladesh\",\"Barbados\",\"Belarus\",\"Belgium\",\"Belize\",\"Benin\",\"Bhutan\",\"Bolivia\",\"Bosnia and Herzegovina\",\"Botswana\",\"Brazil\",\"Brunei Darussalam\",\"Bulgaria\",\"Burkina Faso\",\"Burundi\",\"Cambodia\",\"Cameroon\",\"Canada\",\"Cape Verde\",\"Central African Republic\",\"Chad\",\"Chile\",\"China\",\"Colombia\",\"Comoros\",\"Congo (Brazzaville)\",\"Congo (Kinshasa)\",\"Costa Rica\",\"Croatia\",\"Cuba\",\"Cyprus\",\"Czech Republic\",\"C\\u00f4te d'Ivoire\",\"Denmark\",\"Djibouti\",\"Dominica\"]},\"yaxis\":{\"anchor\":\"x\",\"domain\":[0.0,1.0],\"title\":{\"text\":\"TotalConfirmed\"}},\"legend\":{\"title\":{\"text\":\"Country\"},\"tracegroupgap\":0},\"margin\":{\"t\":60},\"barmode\":\"relative\"},                        {\"responsive\": true}                    ).then(function(){\n",
       "                            \n",
       "var gd = document.getElementById('d17aaab6-e8a1-4799-b18b-7bda43918e7c');\n",
       "var x = new MutationObserver(function (mutations, observer) {{\n",
       "        var display = window.getComputedStyle(gd).display;\n",
       "        if (!display || display === 'none') {{\n",
       "            console.log([gd, 'removed!']);\n",
       "            Plotly.purge(gd);\n",
       "            observer.disconnect();\n",
       "        }}\n",
       "}});\n",
       "\n",
       "// Listen for the removal of the full notebook cells\n",
       "var notebookContainer = gd.closest('#notebook-container');\n",
       "if (notebookContainer) {{\n",
       "    x.observe(notebookContainer, {childList: true});\n",
       "}}\n",
       "\n",
       "// Listen for the clearing of the current output cell\n",
       "var outputEl = gd.closest('.output');\n",
       "if (outputEl) {{\n",
       "    x.observe(outputEl, {childList: true});\n",
       "}}\n",
       "\n",
       "                        })                };                });            </script>        </div>"
      ]
     },
     "metadata": {},
     "output_type": "display_data"
    }
   ],
   "source": [
    "fig = px.bar(df_countries.head(50), y='TotalConfirmed', x='Country', text='TotalConfirmed', color='Country')\n",
    "fig"
   ]
  },
  {
   "cell_type": "markdown",
   "id": "d700e38b",
   "metadata": {},
   "source": [
    "-  For more ideas around plotting covid data with plotly refer to https://www.analyticsvidhya.com/blog/2021/05/visualizing-covid-data-with-plotly/"
   ]
  },
  {
   "cell_type": "code",
   "execution_count": 96,
   "id": "0773e005",
   "metadata": {},
   "outputs": [
    {
     "data": {
      "text/html": [
       "<div>\n",
       "<style scoped>\n",
       "    .dataframe tbody tr th:only-of-type {\n",
       "        vertical-align: middle;\n",
       "    }\n",
       "\n",
       "    .dataframe tbody tr th {\n",
       "        vertical-align: top;\n",
       "    }\n",
       "\n",
       "    .dataframe thead th {\n",
       "        text-align: right;\n",
       "    }\n",
       "</style>\n",
       "<table border=\"1\" class=\"dataframe\">\n",
       "  <thead>\n",
       "    <tr style=\"text-align: right;\">\n",
       "      <th></th>\n",
       "      <th>ID</th>\n",
       "      <th>Country</th>\n",
       "      <th>CountryCode</th>\n",
       "      <th>Slug</th>\n",
       "      <th>NewConfirmed</th>\n",
       "      <th>TotalConfirmed</th>\n",
       "      <th>NewDeaths</th>\n",
       "      <th>TotalDeaths</th>\n",
       "      <th>NewRecovered</th>\n",
       "      <th>TotalRecovered</th>\n",
       "      <th>Date</th>\n",
       "      <th>Premium</th>\n",
       "    </tr>\n",
       "  </thead>\n",
       "  <tbody>\n",
       "    <tr>\n",
       "      <th>0</th>\n",
       "      <td>48dfed97-2334-498c-b1bb-02c96e2317fd</td>\n",
       "      <td>Afghanistan</td>\n",
       "      <td>AF</td>\n",
       "      <td>afghanistan</td>\n",
       "      <td>0</td>\n",
       "      <td>180864</td>\n",
       "      <td>0</td>\n",
       "      <td>7709</td>\n",
       "      <td>0</td>\n",
       "      <td>0</td>\n",
       "      <td>2022-06-13T05:28:15.704Z</td>\n",
       "      <td>{}</td>\n",
       "    </tr>\n",
       "    <tr>\n",
       "      <th>1</th>\n",
       "      <td>644964b7-f36c-4790-a89e-e219e8e6436d</td>\n",
       "      <td>Albania</td>\n",
       "      <td>AL</td>\n",
       "      <td>albania</td>\n",
       "      <td>41</td>\n",
       "      <td>276731</td>\n",
       "      <td>0</td>\n",
       "      <td>3497</td>\n",
       "      <td>0</td>\n",
       "      <td>0</td>\n",
       "      <td>2022-06-13T05:28:15.704Z</td>\n",
       "      <td>{}</td>\n",
       "    </tr>\n",
       "    <tr>\n",
       "      <th>2</th>\n",
       "      <td>9a9aab62-9a41-4e2f-a892-742b288720bf</td>\n",
       "      <td>Algeria</td>\n",
       "      <td>DZ</td>\n",
       "      <td>algeria</td>\n",
       "      <td>2</td>\n",
       "      <td>265927</td>\n",
       "      <td>0</td>\n",
       "      <td>6875</td>\n",
       "      <td>0</td>\n",
       "      <td>0</td>\n",
       "      <td>2022-06-13T05:28:15.704Z</td>\n",
       "      <td>{}</td>\n",
       "    </tr>\n",
       "    <tr>\n",
       "      <th>3</th>\n",
       "      <td>bbc359e2-4baf-4d5a-95be-a23ae10905e4</td>\n",
       "      <td>Andorra</td>\n",
       "      <td>AD</td>\n",
       "      <td>andorra</td>\n",
       "      <td>0</td>\n",
       "      <td>43224</td>\n",
       "      <td>0</td>\n",
       "      <td>153</td>\n",
       "      <td>0</td>\n",
       "      <td>0</td>\n",
       "      <td>2022-06-13T05:28:15.704Z</td>\n",
       "      <td>{}</td>\n",
       "    </tr>\n",
       "    <tr>\n",
       "      <th>4</th>\n",
       "      <td>26a5c7a9-ba7b-4a99-ace3-f9d077e26ee6</td>\n",
       "      <td>Angola</td>\n",
       "      <td>AO</td>\n",
       "      <td>angola</td>\n",
       "      <td>0</td>\n",
       "      <td>99761</td>\n",
       "      <td>0</td>\n",
       "      <td>1900</td>\n",
       "      <td>0</td>\n",
       "      <td>0</td>\n",
       "      <td>2022-06-13T05:28:15.704Z</td>\n",
       "      <td>{}</td>\n",
       "    </tr>\n",
       "    <tr>\n",
       "      <th>5</th>\n",
       "      <td>2782ea2e-f027-4ae4-846d-20ae4e4fad31</td>\n",
       "      <td>Antarctica</td>\n",
       "      <td>AQ</td>\n",
       "      <td>antarctica</td>\n",
       "      <td>0</td>\n",
       "      <td>11</td>\n",
       "      <td>0</td>\n",
       "      <td>0</td>\n",
       "      <td>0</td>\n",
       "      <td>0</td>\n",
       "      <td>2022-06-13T05:28:15.704Z</td>\n",
       "      <td>{}</td>\n",
       "    </tr>\n",
       "    <tr>\n",
       "      <th>6</th>\n",
       "      <td>9b61d17d-26bc-453f-90d4-2b8b2e477238</td>\n",
       "      <td>Antigua and Barbuda</td>\n",
       "      <td>AG</td>\n",
       "      <td>antigua-and-barbuda</td>\n",
       "      <td>13</td>\n",
       "      <td>8492</td>\n",
       "      <td>0</td>\n",
       "      <td>140</td>\n",
       "      <td>0</td>\n",
       "      <td>0</td>\n",
       "      <td>2022-06-13T05:28:15.704Z</td>\n",
       "      <td>{}</td>\n",
       "    </tr>\n",
       "    <tr>\n",
       "      <th>7</th>\n",
       "      <td>8a83b8bf-a9d4-4178-8092-8fe49762e693</td>\n",
       "      <td>Argentina</td>\n",
       "      <td>AR</td>\n",
       "      <td>argentina</td>\n",
       "      <td>0</td>\n",
       "      <td>9276618</td>\n",
       "      <td>0</td>\n",
       "      <td>128973</td>\n",
       "      <td>0</td>\n",
       "      <td>0</td>\n",
       "      <td>2022-06-13T05:28:15.704Z</td>\n",
       "      <td>{}</td>\n",
       "    </tr>\n",
       "    <tr>\n",
       "      <th>8</th>\n",
       "      <td>6ea0f7dc-5e9a-41e4-b8bc-18c50e776b03</td>\n",
       "      <td>Armenia</td>\n",
       "      <td>AM</td>\n",
       "      <td>armenia</td>\n",
       "      <td>0</td>\n",
       "      <td>423006</td>\n",
       "      <td>0</td>\n",
       "      <td>8629</td>\n",
       "      <td>0</td>\n",
       "      <td>0</td>\n",
       "      <td>2022-06-13T05:28:15.704Z</td>\n",
       "      <td>{}</td>\n",
       "    </tr>\n",
       "    <tr>\n",
       "      <th>9</th>\n",
       "      <td>488dba25-75d3-4418-a806-0795a16a274e</td>\n",
       "      <td>Australia</td>\n",
       "      <td>AU</td>\n",
       "      <td>australia</td>\n",
       "      <td>16393</td>\n",
       "      <td>7614107</td>\n",
       "      <td>24</td>\n",
       "      <td>9048</td>\n",
       "      <td>0</td>\n",
       "      <td>0</td>\n",
       "      <td>2022-06-13T05:28:15.704Z</td>\n",
       "      <td>{}</td>\n",
       "    </tr>\n",
       "  </tbody>\n",
       "</table>\n",
       "</div>"
      ],
      "text/plain": [
       "                                     ID              Country CountryCode  \\\n",
       "0  48dfed97-2334-498c-b1bb-02c96e2317fd          Afghanistan          AF   \n",
       "1  644964b7-f36c-4790-a89e-e219e8e6436d              Albania          AL   \n",
       "2  9a9aab62-9a41-4e2f-a892-742b288720bf              Algeria          DZ   \n",
       "3  bbc359e2-4baf-4d5a-95be-a23ae10905e4              Andorra          AD   \n",
       "4  26a5c7a9-ba7b-4a99-ace3-f9d077e26ee6               Angola          AO   \n",
       "5  2782ea2e-f027-4ae4-846d-20ae4e4fad31           Antarctica          AQ   \n",
       "6  9b61d17d-26bc-453f-90d4-2b8b2e477238  Antigua and Barbuda          AG   \n",
       "7  8a83b8bf-a9d4-4178-8092-8fe49762e693            Argentina          AR   \n",
       "8  6ea0f7dc-5e9a-41e4-b8bc-18c50e776b03              Armenia          AM   \n",
       "9  488dba25-75d3-4418-a806-0795a16a274e            Australia          AU   \n",
       "\n",
       "                  Slug  NewConfirmed  TotalConfirmed  NewDeaths  TotalDeaths  \\\n",
       "0          afghanistan             0          180864          0         7709   \n",
       "1              albania            41          276731          0         3497   \n",
       "2              algeria             2          265927          0         6875   \n",
       "3              andorra             0           43224          0          153   \n",
       "4               angola             0           99761          0         1900   \n",
       "5           antarctica             0              11          0            0   \n",
       "6  antigua-and-barbuda            13            8492          0          140   \n",
       "7            argentina             0         9276618          0       128973   \n",
       "8              armenia             0          423006          0         8629   \n",
       "9            australia         16393         7614107         24         9048   \n",
       "\n",
       "   NewRecovered  TotalRecovered                      Date Premium  \n",
       "0             0               0  2022-06-13T05:28:15.704Z      {}  \n",
       "1             0               0  2022-06-13T05:28:15.704Z      {}  \n",
       "2             0               0  2022-06-13T05:28:15.704Z      {}  \n",
       "3             0               0  2022-06-13T05:28:15.704Z      {}  \n",
       "4             0               0  2022-06-13T05:28:15.704Z      {}  \n",
       "5             0               0  2022-06-13T05:28:15.704Z      {}  \n",
       "6             0               0  2022-06-13T05:28:15.704Z      {}  \n",
       "7             0               0  2022-06-13T05:28:15.704Z      {}  \n",
       "8             0               0  2022-06-13T05:28:15.704Z      {}  \n",
       "9             0               0  2022-06-13T05:28:15.704Z      {}  "
      ]
     },
     "execution_count": 96,
     "metadata": {},
     "output_type": "execute_result"
    }
   ],
   "source": [
    "df_countries.head(10)"
   ]
  },
  {
   "cell_type": "markdown",
   "id": "b46903bf",
   "metadata": {},
   "source": [
    "### Sorting "
   ]
  },
  {
   "cell_type": "markdown",
   "id": "f976406a",
   "metadata": {},
   "source": [
    "- Sorting the dataframe from highest number of Total Confirmed cases to the lowest.\n",
    "- ```.sort_values``` is a pandas function for sorting a data frame. \n",
    "- More here https://pandas.pydata.org/docs/reference/api/pandas.DataFrame.sort_values.html"
   ]
  },
  {
   "cell_type": "code",
   "execution_count": 104,
   "id": "9915c19b",
   "metadata": {},
   "outputs": [
    {
     "data": {
      "text/html": [
       "<div>\n",
       "<style scoped>\n",
       "    .dataframe tbody tr th:only-of-type {\n",
       "        vertical-align: middle;\n",
       "    }\n",
       "\n",
       "    .dataframe tbody tr th {\n",
       "        vertical-align: top;\n",
       "    }\n",
       "\n",
       "    .dataframe thead th {\n",
       "        text-align: right;\n",
       "    }\n",
       "</style>\n",
       "<table border=\"1\" class=\"dataframe\">\n",
       "  <thead>\n",
       "    <tr style=\"text-align: right;\">\n",
       "      <th></th>\n",
       "      <th>ID</th>\n",
       "      <th>Country</th>\n",
       "      <th>CountryCode</th>\n",
       "      <th>Slug</th>\n",
       "      <th>NewConfirmed</th>\n",
       "      <th>TotalConfirmed</th>\n",
       "      <th>NewDeaths</th>\n",
       "      <th>TotalDeaths</th>\n",
       "      <th>NewRecovered</th>\n",
       "      <th>TotalRecovered</th>\n",
       "      <th>Date</th>\n",
       "      <th>Premium</th>\n",
       "    </tr>\n",
       "  </thead>\n",
       "  <tbody>\n",
       "    <tr>\n",
       "      <th>186</th>\n",
       "      <td>727a5f73-22c8-4974-94c0-43d6e7f89e08</td>\n",
       "      <td>United States of America</td>\n",
       "      <td>US</td>\n",
       "      <td>united-states</td>\n",
       "      <td>32160</td>\n",
       "      <td>85500976</td>\n",
       "      <td>96</td>\n",
       "      <td>1011260</td>\n",
       "      <td>0</td>\n",
       "      <td>0</td>\n",
       "      <td>2022-06-13T05:28:15.704Z</td>\n",
       "      <td>{}</td>\n",
       "    </tr>\n",
       "    <tr>\n",
       "      <th>77</th>\n",
       "      <td>36e67038-d4df-4698-bba3-ab1d00b311ca</td>\n",
       "      <td>India</td>\n",
       "      <td>IN</td>\n",
       "      <td>india</td>\n",
       "      <td>8582</td>\n",
       "      <td>43222017</td>\n",
       "      <td>4</td>\n",
       "      <td>524761</td>\n",
       "      <td>0</td>\n",
       "      <td>0</td>\n",
       "      <td>2022-06-13T05:28:15.704Z</td>\n",
       "      <td>{}</td>\n",
       "    </tr>\n",
       "    <tr>\n",
       "      <th>24</th>\n",
       "      <td>6a119ee9-9b72-41e4-a586-1b753636cb8a</td>\n",
       "      <td>Brazil</td>\n",
       "      <td>BR</td>\n",
       "      <td>brazil</td>\n",
       "      <td>27796</td>\n",
       "      <td>31445137</td>\n",
       "      <td>114</td>\n",
       "      <td>668074</td>\n",
       "      <td>0</td>\n",
       "      <td>0</td>\n",
       "      <td>2022-06-13T05:28:15.704Z</td>\n",
       "      <td>{}</td>\n",
       "    </tr>\n",
       "    <tr>\n",
       "      <th>60</th>\n",
       "      <td>c8b47d0c-3da0-4c08-9273-6be054ea3e4c</td>\n",
       "      <td>France</td>\n",
       "      <td>FR</td>\n",
       "      <td>france</td>\n",
       "      <td>0</td>\n",
       "      <td>29946603</td>\n",
       "      <td>0</td>\n",
       "      <td>149788</td>\n",
       "      <td>0</td>\n",
       "      <td>0</td>\n",
       "      <td>2022-06-13T05:28:15.704Z</td>\n",
       "      <td>{}</td>\n",
       "    </tr>\n",
       "    <tr>\n",
       "      <th>64</th>\n",
       "      <td>80936961-0cff-4363-928b-26f0006f39d0</td>\n",
       "      <td>Germany</td>\n",
       "      <td>DE</td>\n",
       "      <td>germany</td>\n",
       "      <td>0</td>\n",
       "      <td>26803867</td>\n",
       "      <td>0</td>\n",
       "      <td>139806</td>\n",
       "      <td>0</td>\n",
       "      <td>0</td>\n",
       "      <td>2022-06-13T05:28:15.704Z</td>\n",
       "      <td>{}</td>\n",
       "    </tr>\n",
       "    <tr>\n",
       "      <th>185</th>\n",
       "      <td>8083c742-74a0-4f91-90bf-1beccd5994d3</td>\n",
       "      <td>United Kingdom</td>\n",
       "      <td>GB</td>\n",
       "      <td>united-kingdom</td>\n",
       "      <td>0</td>\n",
       "      <td>22571880</td>\n",
       "      <td>0</td>\n",
       "      <td>179884</td>\n",
       "      <td>0</td>\n",
       "      <td>0</td>\n",
       "      <td>2022-06-13T05:28:15.704Z</td>\n",
       "      <td>{}</td>\n",
       "    </tr>\n",
       "    <tr>\n",
       "      <th>91</th>\n",
       "      <td>5eb6c1fd-7fe3-4de4-84a9-066c00c8f242</td>\n",
       "      <td>Korea (South)</td>\n",
       "      <td>KR</td>\n",
       "      <td>korea-south</td>\n",
       "      <td>3828</td>\n",
       "      <td>18229288</td>\n",
       "      <td>17</td>\n",
       "      <td>24388</td>\n",
       "      <td>0</td>\n",
       "      <td>0</td>\n",
       "      <td>2022-06-13T05:28:15.704Z</td>\n",
       "      <td>{}</td>\n",
       "    </tr>\n",
       "    <tr>\n",
       "      <th>144</th>\n",
       "      <td>49651f97-2432-4dfe-a8e3-7a44cdbab67f</td>\n",
       "      <td>Russian Federation</td>\n",
       "      <td>RU</td>\n",
       "      <td>russia</td>\n",
       "      <td>3572</td>\n",
       "      <td>18104944</td>\n",
       "      <td>71</td>\n",
       "      <td>372276</td>\n",
       "      <td>0</td>\n",
       "      <td>0</td>\n",
       "      <td>2022-06-13T05:28:15.704Z</td>\n",
       "      <td>{}</td>\n",
       "    </tr>\n",
       "    <tr>\n",
       "      <th>83</th>\n",
       "      <td>9bad04bc-60e9-4b41-9804-47739dbf065f</td>\n",
       "      <td>Italy</td>\n",
       "      <td>IT</td>\n",
       "      <td>italy</td>\n",
       "      <td>22458</td>\n",
       "      <td>17634065</td>\n",
       "      <td>60</td>\n",
       "      <td>167365</td>\n",
       "      <td>0</td>\n",
       "      <td>0</td>\n",
       "      <td>2022-06-13T05:28:15.704Z</td>\n",
       "      <td>{}</td>\n",
       "    </tr>\n",
       "    <tr>\n",
       "      <th>181</th>\n",
       "      <td>96bf2dd4-d9c3-4a69-a5da-35642d21134d</td>\n",
       "      <td>Turkey</td>\n",
       "      <td>TR</td>\n",
       "      <td>turkey</td>\n",
       "      <td>0</td>\n",
       "      <td>15072747</td>\n",
       "      <td>0</td>\n",
       "      <td>98965</td>\n",
       "      <td>0</td>\n",
       "      <td>0</td>\n",
       "      <td>2022-06-13T05:28:15.704Z</td>\n",
       "      <td>{}</td>\n",
       "    </tr>\n",
       "  </tbody>\n",
       "</table>\n",
       "</div>"
      ],
      "text/plain": [
       "                                       ID                   Country  \\\n",
       "186  727a5f73-22c8-4974-94c0-43d6e7f89e08  United States of America   \n",
       "77   36e67038-d4df-4698-bba3-ab1d00b311ca                     India   \n",
       "24   6a119ee9-9b72-41e4-a586-1b753636cb8a                    Brazil   \n",
       "60   c8b47d0c-3da0-4c08-9273-6be054ea3e4c                    France   \n",
       "64   80936961-0cff-4363-928b-26f0006f39d0                   Germany   \n",
       "185  8083c742-74a0-4f91-90bf-1beccd5994d3            United Kingdom   \n",
       "91   5eb6c1fd-7fe3-4de4-84a9-066c00c8f242             Korea (South)   \n",
       "144  49651f97-2432-4dfe-a8e3-7a44cdbab67f        Russian Federation   \n",
       "83   9bad04bc-60e9-4b41-9804-47739dbf065f                     Italy   \n",
       "181  96bf2dd4-d9c3-4a69-a5da-35642d21134d                    Turkey   \n",
       "\n",
       "    CountryCode            Slug  NewConfirmed  TotalConfirmed  NewDeaths  \\\n",
       "186          US   united-states         32160        85500976         96   \n",
       "77           IN           india          8582        43222017          4   \n",
       "24           BR          brazil         27796        31445137        114   \n",
       "60           FR          france             0        29946603          0   \n",
       "64           DE         germany             0        26803867          0   \n",
       "185          GB  united-kingdom             0        22571880          0   \n",
       "91           KR     korea-south          3828        18229288         17   \n",
       "144          RU          russia          3572        18104944         71   \n",
       "83           IT           italy         22458        17634065         60   \n",
       "181          TR          turkey             0        15072747          0   \n",
       "\n",
       "     TotalDeaths  NewRecovered  TotalRecovered                      Date  \\\n",
       "186      1011260             0               0  2022-06-13T05:28:15.704Z   \n",
       "77        524761             0               0  2022-06-13T05:28:15.704Z   \n",
       "24        668074             0               0  2022-06-13T05:28:15.704Z   \n",
       "60        149788             0               0  2022-06-13T05:28:15.704Z   \n",
       "64        139806             0               0  2022-06-13T05:28:15.704Z   \n",
       "185       179884             0               0  2022-06-13T05:28:15.704Z   \n",
       "91         24388             0               0  2022-06-13T05:28:15.704Z   \n",
       "144       372276             0               0  2022-06-13T05:28:15.704Z   \n",
       "83        167365             0               0  2022-06-13T05:28:15.704Z   \n",
       "181        98965             0               0  2022-06-13T05:28:15.704Z   \n",
       "\n",
       "    Premium  \n",
       "186      {}  \n",
       "77       {}  \n",
       "24       {}  \n",
       "60       {}  \n",
       "64       {}  \n",
       "185      {}  \n",
       "91       {}  \n",
       "144      {}  \n",
       "83       {}  \n",
       "181      {}  "
      ]
     },
     "execution_count": 104,
     "metadata": {},
     "output_type": "execute_result"
    }
   ],
   "source": [
    "sorted_countries = df_countries.sort_values(by=['TotalConfirmed'], ascending=False)\n",
    "sorted_countries.head(10)"
   ]
  },
  {
   "cell_type": "markdown",
   "id": "f7c73512",
   "metadata": {},
   "source": [
    "- Plotting the top 50 countries with the highest number of Total Confirmed cases."
   ]
  },
  {
   "cell_type": "code",
   "execution_count": 105,
   "id": "fd302322",
   "metadata": {},
   "outputs": [
    {
     "data": {
      "application/vnd.plotly.v1+json": {
       "config": {
        "plotlyServerURL": "https://plot.ly"
       },
       "data": [
        {
         "alignmentgroup": "True",
         "hovertemplate": "Country=%{x}<br>TotalConfirmed=%{text}<extra></extra>",
         "legendgroup": "United States of America",
         "marker": {
          "color": "#636efa",
          "pattern": {
           "shape": ""
          }
         },
         "name": "United States of America",
         "offsetgroup": "United States of America",
         "orientation": "v",
         "showlegend": true,
         "text": [
          85500976
         ],
         "textposition": "auto",
         "type": "bar",
         "x": [
          "United States of America"
         ],
         "xaxis": "x",
         "y": [
          85500976
         ],
         "yaxis": "y"
        },
        {
         "alignmentgroup": "True",
         "hovertemplate": "Country=%{x}<br>TotalConfirmed=%{text}<extra></extra>",
         "legendgroup": "India",
         "marker": {
          "color": "#EF553B",
          "pattern": {
           "shape": ""
          }
         },
         "name": "India",
         "offsetgroup": "India",
         "orientation": "v",
         "showlegend": true,
         "text": [
          43222017
         ],
         "textposition": "auto",
         "type": "bar",
         "x": [
          "India"
         ],
         "xaxis": "x",
         "y": [
          43222017
         ],
         "yaxis": "y"
        },
        {
         "alignmentgroup": "True",
         "hovertemplate": "Country=%{x}<br>TotalConfirmed=%{text}<extra></extra>",
         "legendgroup": "Brazil",
         "marker": {
          "color": "#00cc96",
          "pattern": {
           "shape": ""
          }
         },
         "name": "Brazil",
         "offsetgroup": "Brazil",
         "orientation": "v",
         "showlegend": true,
         "text": [
          31445137
         ],
         "textposition": "auto",
         "type": "bar",
         "x": [
          "Brazil"
         ],
         "xaxis": "x",
         "y": [
          31445137
         ],
         "yaxis": "y"
        },
        {
         "alignmentgroup": "True",
         "hovertemplate": "Country=%{x}<br>TotalConfirmed=%{text}<extra></extra>",
         "legendgroup": "France",
         "marker": {
          "color": "#ab63fa",
          "pattern": {
           "shape": ""
          }
         },
         "name": "France",
         "offsetgroup": "France",
         "orientation": "v",
         "showlegend": true,
         "text": [
          29946603
         ],
         "textposition": "auto",
         "type": "bar",
         "x": [
          "France"
         ],
         "xaxis": "x",
         "y": [
          29946603
         ],
         "yaxis": "y"
        },
        {
         "alignmentgroup": "True",
         "hovertemplate": "Country=%{x}<br>TotalConfirmed=%{text}<extra></extra>",
         "legendgroup": "Germany",
         "marker": {
          "color": "#FFA15A",
          "pattern": {
           "shape": ""
          }
         },
         "name": "Germany",
         "offsetgroup": "Germany",
         "orientation": "v",
         "showlegend": true,
         "text": [
          26803867
         ],
         "textposition": "auto",
         "type": "bar",
         "x": [
          "Germany"
         ],
         "xaxis": "x",
         "y": [
          26803867
         ],
         "yaxis": "y"
        },
        {
         "alignmentgroup": "True",
         "hovertemplate": "Country=%{x}<br>TotalConfirmed=%{text}<extra></extra>",
         "legendgroup": "United Kingdom",
         "marker": {
          "color": "#19d3f3",
          "pattern": {
           "shape": ""
          }
         },
         "name": "United Kingdom",
         "offsetgroup": "United Kingdom",
         "orientation": "v",
         "showlegend": true,
         "text": [
          22571880
         ],
         "textposition": "auto",
         "type": "bar",
         "x": [
          "United Kingdom"
         ],
         "xaxis": "x",
         "y": [
          22571880
         ],
         "yaxis": "y"
        },
        {
         "alignmentgroup": "True",
         "hovertemplate": "Country=%{x}<br>TotalConfirmed=%{text}<extra></extra>",
         "legendgroup": "Korea (South)",
         "marker": {
          "color": "#FF6692",
          "pattern": {
           "shape": ""
          }
         },
         "name": "Korea (South)",
         "offsetgroup": "Korea (South)",
         "orientation": "v",
         "showlegend": true,
         "text": [
          18229288
         ],
         "textposition": "auto",
         "type": "bar",
         "x": [
          "Korea (South)"
         ],
         "xaxis": "x",
         "y": [
          18229288
         ],
         "yaxis": "y"
        },
        {
         "alignmentgroup": "True",
         "hovertemplate": "Country=%{x}<br>TotalConfirmed=%{text}<extra></extra>",
         "legendgroup": "Russian Federation",
         "marker": {
          "color": "#B6E880",
          "pattern": {
           "shape": ""
          }
         },
         "name": "Russian Federation",
         "offsetgroup": "Russian Federation",
         "orientation": "v",
         "showlegend": true,
         "text": [
          18104944
         ],
         "textposition": "auto",
         "type": "bar",
         "x": [
          "Russian Federation"
         ],
         "xaxis": "x",
         "y": [
          18104944
         ],
         "yaxis": "y"
        },
        {
         "alignmentgroup": "True",
         "hovertemplate": "Country=%{x}<br>TotalConfirmed=%{text}<extra></extra>",
         "legendgroup": "Italy",
         "marker": {
          "color": "#FF97FF",
          "pattern": {
           "shape": ""
          }
         },
         "name": "Italy",
         "offsetgroup": "Italy",
         "orientation": "v",
         "showlegend": true,
         "text": [
          17634065
         ],
         "textposition": "auto",
         "type": "bar",
         "x": [
          "Italy"
         ],
         "xaxis": "x",
         "y": [
          17634065
         ],
         "yaxis": "y"
        },
        {
         "alignmentgroup": "True",
         "hovertemplate": "Country=%{x}<br>TotalConfirmed=%{text}<extra></extra>",
         "legendgroup": "Turkey",
         "marker": {
          "color": "#FECB52",
          "pattern": {
           "shape": ""
          }
         },
         "name": "Turkey",
         "offsetgroup": "Turkey",
         "orientation": "v",
         "showlegend": true,
         "text": [
          15072747
         ],
         "textposition": "auto",
         "type": "bar",
         "x": [
          "Turkey"
         ],
         "xaxis": "x",
         "y": [
          15072747
         ],
         "yaxis": "y"
        },
        {
         "alignmentgroup": "True",
         "hovertemplate": "Country=%{x}<br>TotalConfirmed=%{text}<extra></extra>",
         "legendgroup": "Spain",
         "marker": {
          "color": "#636efa",
          "pattern": {
           "shape": ""
          }
         },
         "name": "Spain",
         "offsetgroup": "Spain",
         "orientation": "v",
         "showlegend": true,
         "text": [
          12478994
         ],
         "textposition": "auto",
         "type": "bar",
         "x": [
          "Spain"
         ],
         "xaxis": "x",
         "y": [
          12478994
         ],
         "yaxis": "y"
        },
        {
         "alignmentgroup": "True",
         "hovertemplate": "Country=%{x}<br>TotalConfirmed=%{text}<extra></extra>",
         "legendgroup": "Viet Nam",
         "marker": {
          "color": "#EF553B",
          "pattern": {
           "shape": ""
          }
         },
         "name": "Viet Nam",
         "offsetgroup": "Viet Nam",
         "orientation": "v",
         "showlegend": true,
         "text": [
          10731812
         ],
         "textposition": "auto",
         "type": "bar",
         "x": [
          "Viet Nam"
         ],
         "xaxis": "x",
         "y": [
          10731812
         ],
         "yaxis": "y"
        },
        {
         "alignmentgroup": "True",
         "hovertemplate": "Country=%{x}<br>TotalConfirmed=%{text}<extra></extra>",
         "legendgroup": "Argentina",
         "marker": {
          "color": "#00cc96",
          "pattern": {
           "shape": ""
          }
         },
         "name": "Argentina",
         "offsetgroup": "Argentina",
         "orientation": "v",
         "showlegend": true,
         "text": [
          9276618
         ],
         "textposition": "auto",
         "type": "bar",
         "x": [
          "Argentina"
         ],
         "xaxis": "x",
         "y": [
          9276618
         ],
         "yaxis": "y"
        },
        {
         "alignmentgroup": "True",
         "hovertemplate": "Country=%{x}<br>TotalConfirmed=%{text}<extra></extra>",
         "legendgroup": "Japan",
         "marker": {
          "color": "#ab63fa",
          "pattern": {
           "shape": ""
          }
         },
         "name": "Japan",
         "offsetgroup": "Japan",
         "orientation": "v",
         "showlegend": true,
         "text": [
          9026281
         ],
         "textposition": "auto",
         "type": "bar",
         "x": [
          "Japan"
         ],
         "xaxis": "x",
         "y": [
          9026281
         ],
         "yaxis": "y"
        },
        {
         "alignmentgroup": "True",
         "hovertemplate": "Country=%{x}<br>TotalConfirmed=%{text}<extra></extra>",
         "legendgroup": "Netherlands",
         "marker": {
          "color": "#FFA15A",
          "pattern": {
           "shape": ""
          }
         },
         "name": "Netherlands",
         "offsetgroup": "Netherlands",
         "orientation": "v",
         "showlegend": true,
         "text": [
          8101754
         ],
         "textposition": "auto",
         "type": "bar",
         "x": [
          "Netherlands"
         ],
         "xaxis": "x",
         "y": [
          8101754
         ],
         "yaxis": "y"
        },
        {
         "alignmentgroup": "True",
         "hovertemplate": "Country=%{x}<br>TotalConfirmed=%{text}<extra></extra>",
         "legendgroup": "Australia",
         "marker": {
          "color": "#19d3f3",
          "pattern": {
           "shape": ""
          }
         },
         "name": "Australia",
         "offsetgroup": "Australia",
         "orientation": "v",
         "showlegend": true,
         "text": [
          7614107
         ],
         "textposition": "auto",
         "type": "bar",
         "x": [
          "Australia"
         ],
         "xaxis": "x",
         "y": [
          7614107
         ],
         "yaxis": "y"
        },
        {
         "alignmentgroup": "True",
         "hovertemplate": "Country=%{x}<br>TotalConfirmed=%{text}<extra></extra>",
         "legendgroup": "Iran, Islamic Republic of",
         "marker": {
          "color": "#FF6692",
          "pattern": {
           "shape": ""
          }
         },
         "name": "Iran, Islamic Republic of",
         "offsetgroup": "Iran, Islamic Republic of",
         "orientation": "v",
         "showlegend": true,
         "text": [
          7233688
         ],
         "textposition": "auto",
         "type": "bar",
         "x": [
          "Iran, Islamic Republic of"
         ],
         "xaxis": "x",
         "y": [
          7233688
         ],
         "yaxis": "y"
        },
        {
         "alignmentgroup": "True",
         "hovertemplate": "Country=%{x}<br>TotalConfirmed=%{text}<extra></extra>",
         "legendgroup": "Colombia",
         "marker": {
          "color": "#B6E880",
          "pattern": {
           "shape": ""
          }
         },
         "name": "Colombia",
         "offsetgroup": "Colombia",
         "orientation": "v",
         "showlegend": true,
         "text": [
          6117847
         ],
         "textposition": "auto",
         "type": "bar",
         "x": [
          "Colombia"
         ],
         "xaxis": "x",
         "y": [
          6117847
         ],
         "yaxis": "y"
        },
        {
         "alignmentgroup": "True",
         "hovertemplate": "Country=%{x}<br>TotalConfirmed=%{text}<extra></extra>",
         "legendgroup": "Indonesia",
         "marker": {
          "color": "#FF97FF",
          "pattern": {
           "shape": ""
          }
         },
         "name": "Indonesia",
         "offsetgroup": "Indonesia",
         "orientation": "v",
         "showlegend": true,
         "text": [
          6056017
         ],
         "textposition": "auto",
         "type": "bar",
         "x": [
          "Indonesia"
         ],
         "xaxis": "x",
         "y": [
          6056017
         ],
         "yaxis": "y"
        },
        {
         "alignmentgroup": "True",
         "hovertemplate": "Country=%{x}<br>TotalConfirmed=%{text}<extra></extra>",
         "legendgroup": "Poland",
         "marker": {
          "color": "#FECB52",
          "pattern": {
           "shape": ""
          }
         },
         "name": "Poland",
         "offsetgroup": "Poland",
         "orientation": "v",
         "showlegend": true,
         "text": [
          6010045
         ],
         "textposition": "auto",
         "type": "bar",
         "x": [
          "Poland"
         ],
         "xaxis": "x",
         "y": [
          6010045
         ],
         "yaxis": "y"
        },
        {
         "alignmentgroup": "True",
         "hovertemplate": "Country=%{x}<br>TotalConfirmed=%{text}<extra></extra>",
         "legendgroup": "Mexico",
         "marker": {
          "color": "#636efa",
          "pattern": {
           "shape": ""
          }
         },
         "name": "Mexico",
         "offsetgroup": "Mexico",
         "orientation": "v",
         "showlegend": true,
         "text": [
          5821262
         ],
         "textposition": "auto",
         "type": "bar",
         "x": [
          "Mexico"
         ],
         "xaxis": "x",
         "y": [
          5821262
         ],
         "yaxis": "y"
        },
        {
         "alignmentgroup": "True",
         "hovertemplate": "Country=%{x}<br>TotalConfirmed=%{text}<extra></extra>",
         "legendgroup": "Ukraine",
         "marker": {
          "color": "#EF553B",
          "pattern": {
           "shape": ""
          }
         },
         "name": "Ukraine",
         "offsetgroup": "Ukraine",
         "orientation": "v",
         "showlegend": true,
         "text": [
          5040518
         ],
         "textposition": "auto",
         "type": "bar",
         "x": [
          "Ukraine"
         ],
         "xaxis": "x",
         "y": [
          5040518
         ],
         "yaxis": "y"
        },
        {
         "alignmentgroup": "True",
         "hovertemplate": "Country=%{x}<br>TotalConfirmed=%{text}<extra></extra>",
         "legendgroup": "Portugal",
         "marker": {
          "color": "#00cc96",
          "pattern": {
           "shape": ""
          }
         },
         "name": "Portugal",
         "offsetgroup": "Portugal",
         "orientation": "v",
         "showlegend": true,
         "text": [
          4917127
         ],
         "textposition": "auto",
         "type": "bar",
         "x": [
          "Portugal"
         ],
         "xaxis": "x",
         "y": [
          4917127
         ],
         "yaxis": "y"
        },
        {
         "alignmentgroup": "True",
         "hovertemplate": "Country=%{x}<br>TotalConfirmed=%{text}<extra></extra>",
         "legendgroup": "Malaysia",
         "marker": {
          "color": "#ab63fa",
          "pattern": {
           "shape": ""
          }
         },
         "name": "Malaysia",
         "offsetgroup": "Malaysia",
         "orientation": "v",
         "showlegend": true,
         "text": [
          4524727
         ],
         "textposition": "auto",
         "type": "bar",
         "x": [
          "Malaysia"
         ],
         "xaxis": "x",
         "y": [
          4524727
         ],
         "yaxis": "y"
        },
        {
         "alignmentgroup": "True",
         "hovertemplate": "Country=%{x}<br>TotalConfirmed=%{text}<extra></extra>",
         "legendgroup": "Thailand",
         "marker": {
          "color": "#FFA15A",
          "pattern": {
           "shape": ""
          }
         },
         "name": "Thailand",
         "offsetgroup": "Thailand",
         "orientation": "v",
         "showlegend": true,
         "text": [
          4484863
         ],
         "textposition": "auto",
         "type": "bar",
         "x": [
          "Thailand"
         ],
         "xaxis": "x",
         "y": [
          4484863
         ],
         "yaxis": "y"
        },
        {
         "alignmentgroup": "True",
         "hovertemplate": "Country=%{x}<br>TotalConfirmed=%{text}<extra></extra>",
         "legendgroup": "Austria",
         "marker": {
          "color": "#19d3f3",
          "pattern": {
           "shape": ""
          }
         },
         "name": "Austria",
         "offsetgroup": "Austria",
         "orientation": "v",
         "showlegend": true,
         "text": [
          4316435
         ],
         "textposition": "auto",
         "type": "bar",
         "x": [
          "Austria"
         ],
         "xaxis": "x",
         "y": [
          4316435
         ],
         "yaxis": "y"
        },
        {
         "alignmentgroup": "True",
         "hovertemplate": "Country=%{x}<br>TotalConfirmed=%{text}<extra></extra>",
         "legendgroup": "Israel",
         "marker": {
          "color": "#FF6692",
          "pattern": {
           "shape": ""
          }
         },
         "name": "Israel",
         "offsetgroup": "Israel",
         "orientation": "v",
         "showlegend": true,
         "text": [
          4183477
         ],
         "textposition": "auto",
         "type": "bar",
         "x": [
          "Israel"
         ],
         "xaxis": "x",
         "y": [
          4183477
         ],
         "yaxis": "y"
        },
        {
         "alignmentgroup": "True",
         "hovertemplate": "Country=%{x}<br>TotalConfirmed=%{text}<extra></extra>",
         "legendgroup": "Belgium",
         "marker": {
          "color": "#B6E880",
          "pattern": {
           "shape": ""
          }
         },
         "name": "Belgium",
         "offsetgroup": "Belgium",
         "orientation": "v",
         "showlegend": true,
         "text": [
          4170252
         ],
         "textposition": "auto",
         "type": "bar",
         "x": [
          "Belgium"
         ],
         "xaxis": "x",
         "y": [
          4170252
         ],
         "yaxis": "y"
        },
        {
         "alignmentgroup": "True",
         "hovertemplate": "Country=%{x}<br>TotalConfirmed=%{text}<extra></extra>",
         "legendgroup": "South Africa",
         "marker": {
          "color": "#FF97FF",
          "pattern": {
           "shape": ""
          }
         },
         "name": "South Africa",
         "offsetgroup": "South Africa",
         "orientation": "v",
         "showlegend": true,
         "text": [
          3978590
         ],
         "textposition": "auto",
         "type": "bar",
         "x": [
          "South Africa"
         ],
         "xaxis": "x",
         "y": [
          3978590
         ],
         "yaxis": "y"
        },
        {
         "alignmentgroup": "True",
         "hovertemplate": "Country=%{x}<br>TotalConfirmed=%{text}<extra></extra>",
         "legendgroup": "Czech Republic",
         "marker": {
          "color": "#FECB52",
          "pattern": {
           "shape": ""
          }
         },
         "name": "Czech Republic",
         "offsetgroup": "Czech Republic",
         "orientation": "v",
         "showlegend": true,
         "text": [
          3922968
         ],
         "textposition": "auto",
         "type": "bar",
         "x": [
          "Czech Republic"
         ],
         "xaxis": "x",
         "y": [
          3922968
         ],
         "yaxis": "y"
        },
        {
         "alignmentgroup": "True",
         "hovertemplate": "Country=%{x}<br>TotalConfirmed=%{text}<extra></extra>",
         "legendgroup": "Chile",
         "marker": {
          "color": "#636efa",
          "pattern": {
           "shape": ""
          }
         },
         "name": "Chile",
         "offsetgroup": "Chile",
         "orientation": "v",
         "showlegend": true,
         "text": [
          3808970
         ],
         "textposition": "auto",
         "type": "bar",
         "x": [
          "Chile"
         ],
         "xaxis": "x",
         "y": [
          3808970
         ],
         "yaxis": "y"
        },
        {
         "alignmentgroup": "True",
         "hovertemplate": "Country=%{x}<br>TotalConfirmed=%{text}<extra></extra>",
         "legendgroup": "Philippines",
         "marker": {
          "color": "#EF553B",
          "pattern": {
           "shape": ""
          }
         },
         "name": "Philippines",
         "offsetgroup": "Philippines",
         "orientation": "v",
         "showlegend": true,
         "text": [
          3693222
         ],
         "textposition": "auto",
         "type": "bar",
         "x": [
          "Philippines"
         ],
         "xaxis": "x",
         "y": [
          3693222
         ],
         "yaxis": "y"
        },
        {
         "alignmentgroup": "True",
         "hovertemplate": "Country=%{x}<br>TotalConfirmed=%{text}<extra></extra>",
         "legendgroup": "Switzerland",
         "marker": {
          "color": "#00cc96",
          "pattern": {
           "shape": ""
          }
         },
         "name": "Switzerland",
         "offsetgroup": "Switzerland",
         "orientation": "v",
         "showlegend": true,
         "text": [
          3685281
         ],
         "textposition": "auto",
         "type": "bar",
         "x": [
          "Switzerland"
         ],
         "xaxis": "x",
         "y": [
          3685281
         ],
         "yaxis": "y"
        },
        {
         "alignmentgroup": "True",
         "hovertemplate": "Country=%{x}<br>TotalConfirmed=%{text}<extra></extra>",
         "legendgroup": "Peru",
         "marker": {
          "color": "#ab63fa",
          "pattern": {
           "shape": ""
          }
         },
         "name": "Peru",
         "offsetgroup": "Peru",
         "orientation": "v",
         "showlegend": true,
         "text": [
          3589782
         ],
         "textposition": "auto",
         "type": "bar",
         "x": [
          "Peru"
         ],
         "xaxis": "x",
         "y": [
          3589782
         ],
         "yaxis": "y"
        },
        {
         "alignmentgroup": "True",
         "hovertemplate": "Country=%{x}<br>TotalConfirmed=%{text}<extra></extra>",
         "legendgroup": "Greece",
         "marker": {
          "color": "#FFA15A",
          "pattern": {
           "shape": ""
          }
         },
         "name": "Greece",
         "offsetgroup": "Greece",
         "orientation": "v",
         "showlegend": true,
         "text": [
          3500489
         ],
         "textposition": "auto",
         "type": "bar",
         "x": [
          "Greece"
         ],
         "xaxis": "x",
         "y": [
          3500489
         ],
         "yaxis": "y"
        },
        {
         "alignmentgroup": "True",
         "hovertemplate": "Country=%{x}<br>TotalConfirmed=%{text}<extra></extra>",
         "legendgroup": "Canada",
         "marker": {
          "color": "#19d3f3",
          "pattern": {
           "shape": ""
          }
         },
         "name": "Canada",
         "offsetgroup": "Canada",
         "orientation": "v",
         "showlegend": true,
         "text": [
          3328745
         ],
         "textposition": "auto",
         "type": "bar",
         "x": [
          "Canada"
         ],
         "xaxis": "x",
         "y": [
          3328745
         ],
         "yaxis": "y"
        },
        {
         "alignmentgroup": "True",
         "hovertemplate": "Country=%{x}<br>TotalConfirmed=%{text}<extra></extra>",
         "legendgroup": "Denmark",
         "marker": {
          "color": "#FF6692",
          "pattern": {
           "shape": ""
          }
         },
         "name": "Denmark",
         "offsetgroup": "Denmark",
         "orientation": "v",
         "showlegend": true,
         "text": [
          3190021
         ],
         "textposition": "auto",
         "type": "bar",
         "x": [
          "Denmark"
         ],
         "xaxis": "x",
         "y": [
          3190021
         ],
         "yaxis": "y"
        },
        {
         "alignmentgroup": "True",
         "hovertemplate": "Country=%{x}<br>TotalConfirmed=%{text}<extra></extra>",
         "legendgroup": "Romania",
         "marker": {
          "color": "#B6E880",
          "pattern": {
           "shape": ""
          }
         },
         "name": "Romania",
         "offsetgroup": "Romania",
         "orientation": "v",
         "showlegend": true,
         "text": [
          2912705
         ],
         "textposition": "auto",
         "type": "bar",
         "x": [
          "Romania"
         ],
         "xaxis": "x",
         "y": [
          2912705
         ],
         "yaxis": "y"
        },
        {
         "alignmentgroup": "True",
         "hovertemplate": "Country=%{x}<br>TotalConfirmed=%{text}<extra></extra>",
         "legendgroup": "Taiwan, Republic of China",
         "marker": {
          "color": "#FF97FF",
          "pattern": {
           "shape": ""
          }
         },
         "name": "Taiwan, Republic of China",
         "offsetgroup": "Taiwan, Republic of China",
         "orientation": "v",
         "showlegend": true,
         "text": [
          2892263
         ],
         "textposition": "auto",
         "type": "bar",
         "x": [
          "Taiwan, Republic of China"
         ],
         "xaxis": "x",
         "y": [
          2892263
         ],
         "yaxis": "y"
        },
        {
         "alignmentgroup": "True",
         "hovertemplate": "Country=%{x}<br>TotalConfirmed=%{text}<extra></extra>",
         "legendgroup": "Slovakia",
         "marker": {
          "color": "#FECB52",
          "pattern": {
           "shape": ""
          }
         },
         "name": "Slovakia",
         "offsetgroup": "Slovakia",
         "orientation": "v",
         "showlegend": true,
         "text": [
          2544678
         ],
         "textposition": "auto",
         "type": "bar",
         "x": [
          "Slovakia"
         ],
         "xaxis": "x",
         "y": [
          2544678
         ],
         "yaxis": "y"
        },
        {
         "alignmentgroup": "True",
         "hovertemplate": "Country=%{x}<br>TotalConfirmed=%{text}<extra></extra>",
         "legendgroup": "Sweden",
         "marker": {
          "color": "#636efa",
          "pattern": {
           "shape": ""
          }
         },
         "name": "Sweden",
         "offsetgroup": "Sweden",
         "orientation": "v",
         "showlegend": true,
         "text": [
          2510930
         ],
         "textposition": "auto",
         "type": "bar",
         "x": [
          "Sweden"
         ],
         "xaxis": "x",
         "y": [
          2510930
         ],
         "yaxis": "y"
        },
        {
         "alignmentgroup": "True",
         "hovertemplate": "Country=%{x}<br>TotalConfirmed=%{text}<extra></extra>",
         "legendgroup": "Iraq",
         "marker": {
          "color": "#EF553B",
          "pattern": {
           "shape": ""
          }
         },
         "name": "Iraq",
         "offsetgroup": "Iraq",
         "orientation": "v",
         "showlegend": true,
         "text": [
          2329813
         ],
         "textposition": "auto",
         "type": "bar",
         "x": [
          "Iraq"
         ],
         "xaxis": "x",
         "y": [
          2329813
         ],
         "yaxis": "y"
        },
        {
         "alignmentgroup": "True",
         "hovertemplate": "Country=%{x}<br>TotalConfirmed=%{text}<extra></extra>",
         "legendgroup": "Serbia",
         "marker": {
          "color": "#00cc96",
          "pattern": {
           "shape": ""
          }
         },
         "name": "Serbia",
         "offsetgroup": "Serbia",
         "orientation": "v",
         "showlegend": true,
         "text": [
          2020338
         ],
         "textposition": "auto",
         "type": "bar",
         "x": [
          "Serbia"
         ],
         "xaxis": "x",
         "y": [
          2020338
         ],
         "yaxis": "y"
        },
        {
         "alignmentgroup": "True",
         "hovertemplate": "Country=%{x}<br>TotalConfirmed=%{text}<extra></extra>",
         "legendgroup": "Bangladesh",
         "marker": {
          "color": "#ab63fa",
          "pattern": {
           "shape": ""
          }
         },
         "name": "Bangladesh",
         "offsetgroup": "Bangladesh",
         "orientation": "v",
         "showlegend": true,
         "text": [
          1954115
         ],
         "textposition": "auto",
         "type": "bar",
         "x": [
          "Bangladesh"
         ],
         "xaxis": "x",
         "y": [
          1954115
         ],
         "yaxis": "y"
        },
        {
         "alignmentgroup": "True",
         "hovertemplate": "Country=%{x}<br>TotalConfirmed=%{text}<extra></extra>",
         "legendgroup": "Hungary",
         "marker": {
          "color": "#FFA15A",
          "pattern": {
           "shape": ""
          }
         },
         "name": "Hungary",
         "offsetgroup": "Hungary",
         "orientation": "v",
         "showlegend": true,
         "text": [
          1921486
         ],
         "textposition": "auto",
         "type": "bar",
         "x": [
          "Hungary"
         ],
         "xaxis": "x",
         "y": [
          1921486
         ],
         "yaxis": "y"
        },
        {
         "alignmentgroup": "True",
         "hovertemplate": "Country=%{x}<br>TotalConfirmed=%{text}<extra></extra>",
         "legendgroup": "Jordan",
         "marker": {
          "color": "#19d3f3",
          "pattern": {
           "shape": ""
          }
         },
         "name": "Jordan",
         "offsetgroup": "Jordan",
         "orientation": "v",
         "showlegend": true,
         "text": [
          1697271
         ],
         "textposition": "auto",
         "type": "bar",
         "x": [
          "Jordan"
         ],
         "xaxis": "x",
         "y": [
          1697271
         ],
         "yaxis": "y"
        },
        {
         "alignmentgroup": "True",
         "hovertemplate": "Country=%{x}<br>TotalConfirmed=%{text}<extra></extra>",
         "legendgroup": "Georgia",
         "marker": {
          "color": "#FF6692",
          "pattern": {
           "shape": ""
          }
         },
         "name": "Georgia",
         "offsetgroup": "Georgia",
         "orientation": "v",
         "showlegend": true,
         "text": [
          1655221
         ],
         "textposition": "auto",
         "type": "bar",
         "x": [
          "Georgia"
         ],
         "xaxis": "x",
         "y": [
          1655221
         ],
         "yaxis": "y"
        },
        {
         "alignmentgroup": "True",
         "hovertemplate": "Country=%{x}<br>TotalConfirmed=%{text}<extra></extra>",
         "legendgroup": "Ireland",
         "marker": {
          "color": "#B6E880",
          "pattern": {
           "shape": ""
          }
         },
         "name": "Ireland",
         "offsetgroup": "Ireland",
         "orientation": "v",
         "showlegend": true,
         "text": [
          1570519
         ],
         "textposition": "auto",
         "type": "bar",
         "x": [
          "Ireland"
         ],
         "xaxis": "x",
         "y": [
          1570519
         ],
         "yaxis": "y"
        },
        {
         "alignmentgroup": "True",
         "hovertemplate": "Country=%{x}<br>TotalConfirmed=%{text}<extra></extra>",
         "legendgroup": "Pakistan",
         "marker": {
          "color": "#FF97FF",
          "pattern": {
           "shape": ""
          }
         },
         "name": "Pakistan",
         "offsetgroup": "Pakistan",
         "orientation": "v",
         "showlegend": true,
         "text": [
          1531179
         ],
         "textposition": "auto",
         "type": "bar",
         "x": [
          "Pakistan"
         ],
         "xaxis": "x",
         "y": [
          1531179
         ],
         "yaxis": "y"
        },
        {
         "alignmentgroup": "True",
         "hovertemplate": "Country=%{x}<br>TotalConfirmed=%{text}<extra></extra>",
         "legendgroup": "China",
         "marker": {
          "color": "#FECB52",
          "pattern": {
           "shape": ""
          }
         },
         "name": "China",
         "offsetgroup": "China",
         "orientation": "v",
         "showlegend": true,
         "text": [
          1443237
         ],
         "textposition": "auto",
         "type": "bar",
         "x": [
          "China"
         ],
         "xaxis": "x",
         "y": [
          1443237
         ],
         "yaxis": "y"
        }
       ],
       "layout": {
        "barmode": "relative",
        "legend": {
         "title": {
          "text": "Country"
         },
         "tracegroupgap": 0
        },
        "margin": {
         "t": 60
        },
        "template": {
         "data": {
          "bar": [
           {
            "error_x": {
             "color": "#2a3f5f"
            },
            "error_y": {
             "color": "#2a3f5f"
            },
            "marker": {
             "line": {
              "color": "#E5ECF6",
              "width": 0.5
             },
             "pattern": {
              "fillmode": "overlay",
              "size": 10,
              "solidity": 0.2
             }
            },
            "type": "bar"
           }
          ],
          "barpolar": [
           {
            "marker": {
             "line": {
              "color": "#E5ECF6",
              "width": 0.5
             },
             "pattern": {
              "fillmode": "overlay",
              "size": 10,
              "solidity": 0.2
             }
            },
            "type": "barpolar"
           }
          ],
          "carpet": [
           {
            "aaxis": {
             "endlinecolor": "#2a3f5f",
             "gridcolor": "white",
             "linecolor": "white",
             "minorgridcolor": "white",
             "startlinecolor": "#2a3f5f"
            },
            "baxis": {
             "endlinecolor": "#2a3f5f",
             "gridcolor": "white",
             "linecolor": "white",
             "minorgridcolor": "white",
             "startlinecolor": "#2a3f5f"
            },
            "type": "carpet"
           }
          ],
          "choropleth": [
           {
            "colorbar": {
             "outlinewidth": 0,
             "ticks": ""
            },
            "type": "choropleth"
           }
          ],
          "contour": [
           {
            "colorbar": {
             "outlinewidth": 0,
             "ticks": ""
            },
            "colorscale": [
             [
              0,
              "#0d0887"
             ],
             [
              0.1111111111111111,
              "#46039f"
             ],
             [
              0.2222222222222222,
              "#7201a8"
             ],
             [
              0.3333333333333333,
              "#9c179e"
             ],
             [
              0.4444444444444444,
              "#bd3786"
             ],
             [
              0.5555555555555556,
              "#d8576b"
             ],
             [
              0.6666666666666666,
              "#ed7953"
             ],
             [
              0.7777777777777778,
              "#fb9f3a"
             ],
             [
              0.8888888888888888,
              "#fdca26"
             ],
             [
              1,
              "#f0f921"
             ]
            ],
            "type": "contour"
           }
          ],
          "contourcarpet": [
           {
            "colorbar": {
             "outlinewidth": 0,
             "ticks": ""
            },
            "type": "contourcarpet"
           }
          ],
          "heatmap": [
           {
            "colorbar": {
             "outlinewidth": 0,
             "ticks": ""
            },
            "colorscale": [
             [
              0,
              "#0d0887"
             ],
             [
              0.1111111111111111,
              "#46039f"
             ],
             [
              0.2222222222222222,
              "#7201a8"
             ],
             [
              0.3333333333333333,
              "#9c179e"
             ],
             [
              0.4444444444444444,
              "#bd3786"
             ],
             [
              0.5555555555555556,
              "#d8576b"
             ],
             [
              0.6666666666666666,
              "#ed7953"
             ],
             [
              0.7777777777777778,
              "#fb9f3a"
             ],
             [
              0.8888888888888888,
              "#fdca26"
             ],
             [
              1,
              "#f0f921"
             ]
            ],
            "type": "heatmap"
           }
          ],
          "heatmapgl": [
           {
            "colorbar": {
             "outlinewidth": 0,
             "ticks": ""
            },
            "colorscale": [
             [
              0,
              "#0d0887"
             ],
             [
              0.1111111111111111,
              "#46039f"
             ],
             [
              0.2222222222222222,
              "#7201a8"
             ],
             [
              0.3333333333333333,
              "#9c179e"
             ],
             [
              0.4444444444444444,
              "#bd3786"
             ],
             [
              0.5555555555555556,
              "#d8576b"
             ],
             [
              0.6666666666666666,
              "#ed7953"
             ],
             [
              0.7777777777777778,
              "#fb9f3a"
             ],
             [
              0.8888888888888888,
              "#fdca26"
             ],
             [
              1,
              "#f0f921"
             ]
            ],
            "type": "heatmapgl"
           }
          ],
          "histogram": [
           {
            "marker": {
             "pattern": {
              "fillmode": "overlay",
              "size": 10,
              "solidity": 0.2
             }
            },
            "type": "histogram"
           }
          ],
          "histogram2d": [
           {
            "colorbar": {
             "outlinewidth": 0,
             "ticks": ""
            },
            "colorscale": [
             [
              0,
              "#0d0887"
             ],
             [
              0.1111111111111111,
              "#46039f"
             ],
             [
              0.2222222222222222,
              "#7201a8"
             ],
             [
              0.3333333333333333,
              "#9c179e"
             ],
             [
              0.4444444444444444,
              "#bd3786"
             ],
             [
              0.5555555555555556,
              "#d8576b"
             ],
             [
              0.6666666666666666,
              "#ed7953"
             ],
             [
              0.7777777777777778,
              "#fb9f3a"
             ],
             [
              0.8888888888888888,
              "#fdca26"
             ],
             [
              1,
              "#f0f921"
             ]
            ],
            "type": "histogram2d"
           }
          ],
          "histogram2dcontour": [
           {
            "colorbar": {
             "outlinewidth": 0,
             "ticks": ""
            },
            "colorscale": [
             [
              0,
              "#0d0887"
             ],
             [
              0.1111111111111111,
              "#46039f"
             ],
             [
              0.2222222222222222,
              "#7201a8"
             ],
             [
              0.3333333333333333,
              "#9c179e"
             ],
             [
              0.4444444444444444,
              "#bd3786"
             ],
             [
              0.5555555555555556,
              "#d8576b"
             ],
             [
              0.6666666666666666,
              "#ed7953"
             ],
             [
              0.7777777777777778,
              "#fb9f3a"
             ],
             [
              0.8888888888888888,
              "#fdca26"
             ],
             [
              1,
              "#f0f921"
             ]
            ],
            "type": "histogram2dcontour"
           }
          ],
          "mesh3d": [
           {
            "colorbar": {
             "outlinewidth": 0,
             "ticks": ""
            },
            "type": "mesh3d"
           }
          ],
          "parcoords": [
           {
            "line": {
             "colorbar": {
              "outlinewidth": 0,
              "ticks": ""
             }
            },
            "type": "parcoords"
           }
          ],
          "pie": [
           {
            "automargin": true,
            "type": "pie"
           }
          ],
          "scatter": [
           {
            "fillpattern": {
             "fillmode": "overlay",
             "size": 10,
             "solidity": 0.2
            },
            "type": "scatter"
           }
          ],
          "scatter3d": [
           {
            "line": {
             "colorbar": {
              "outlinewidth": 0,
              "ticks": ""
             }
            },
            "marker": {
             "colorbar": {
              "outlinewidth": 0,
              "ticks": ""
             }
            },
            "type": "scatter3d"
           }
          ],
          "scattercarpet": [
           {
            "marker": {
             "colorbar": {
              "outlinewidth": 0,
              "ticks": ""
             }
            },
            "type": "scattercarpet"
           }
          ],
          "scattergeo": [
           {
            "marker": {
             "colorbar": {
              "outlinewidth": 0,
              "ticks": ""
             }
            },
            "type": "scattergeo"
           }
          ],
          "scattergl": [
           {
            "marker": {
             "colorbar": {
              "outlinewidth": 0,
              "ticks": ""
             }
            },
            "type": "scattergl"
           }
          ],
          "scattermapbox": [
           {
            "marker": {
             "colorbar": {
              "outlinewidth": 0,
              "ticks": ""
             }
            },
            "type": "scattermapbox"
           }
          ],
          "scatterpolar": [
           {
            "marker": {
             "colorbar": {
              "outlinewidth": 0,
              "ticks": ""
             }
            },
            "type": "scatterpolar"
           }
          ],
          "scatterpolargl": [
           {
            "marker": {
             "colorbar": {
              "outlinewidth": 0,
              "ticks": ""
             }
            },
            "type": "scatterpolargl"
           }
          ],
          "scatterternary": [
           {
            "marker": {
             "colorbar": {
              "outlinewidth": 0,
              "ticks": ""
             }
            },
            "type": "scatterternary"
           }
          ],
          "surface": [
           {
            "colorbar": {
             "outlinewidth": 0,
             "ticks": ""
            },
            "colorscale": [
             [
              0,
              "#0d0887"
             ],
             [
              0.1111111111111111,
              "#46039f"
             ],
             [
              0.2222222222222222,
              "#7201a8"
             ],
             [
              0.3333333333333333,
              "#9c179e"
             ],
             [
              0.4444444444444444,
              "#bd3786"
             ],
             [
              0.5555555555555556,
              "#d8576b"
             ],
             [
              0.6666666666666666,
              "#ed7953"
             ],
             [
              0.7777777777777778,
              "#fb9f3a"
             ],
             [
              0.8888888888888888,
              "#fdca26"
             ],
             [
              1,
              "#f0f921"
             ]
            ],
            "type": "surface"
           }
          ],
          "table": [
           {
            "cells": {
             "fill": {
              "color": "#EBF0F8"
             },
             "line": {
              "color": "white"
             }
            },
            "header": {
             "fill": {
              "color": "#C8D4E3"
             },
             "line": {
              "color": "white"
             }
            },
            "type": "table"
           }
          ]
         },
         "layout": {
          "annotationdefaults": {
           "arrowcolor": "#2a3f5f",
           "arrowhead": 0,
           "arrowwidth": 1
          },
          "autotypenumbers": "strict",
          "coloraxis": {
           "colorbar": {
            "outlinewidth": 0,
            "ticks": ""
           }
          },
          "colorscale": {
           "diverging": [
            [
             0,
             "#8e0152"
            ],
            [
             0.1,
             "#c51b7d"
            ],
            [
             0.2,
             "#de77ae"
            ],
            [
             0.3,
             "#f1b6da"
            ],
            [
             0.4,
             "#fde0ef"
            ],
            [
             0.5,
             "#f7f7f7"
            ],
            [
             0.6,
             "#e6f5d0"
            ],
            [
             0.7,
             "#b8e186"
            ],
            [
             0.8,
             "#7fbc41"
            ],
            [
             0.9,
             "#4d9221"
            ],
            [
             1,
             "#276419"
            ]
           ],
           "sequential": [
            [
             0,
             "#0d0887"
            ],
            [
             0.1111111111111111,
             "#46039f"
            ],
            [
             0.2222222222222222,
             "#7201a8"
            ],
            [
             0.3333333333333333,
             "#9c179e"
            ],
            [
             0.4444444444444444,
             "#bd3786"
            ],
            [
             0.5555555555555556,
             "#d8576b"
            ],
            [
             0.6666666666666666,
             "#ed7953"
            ],
            [
             0.7777777777777778,
             "#fb9f3a"
            ],
            [
             0.8888888888888888,
             "#fdca26"
            ],
            [
             1,
             "#f0f921"
            ]
           ],
           "sequentialminus": [
            [
             0,
             "#0d0887"
            ],
            [
             0.1111111111111111,
             "#46039f"
            ],
            [
             0.2222222222222222,
             "#7201a8"
            ],
            [
             0.3333333333333333,
             "#9c179e"
            ],
            [
             0.4444444444444444,
             "#bd3786"
            ],
            [
             0.5555555555555556,
             "#d8576b"
            ],
            [
             0.6666666666666666,
             "#ed7953"
            ],
            [
             0.7777777777777778,
             "#fb9f3a"
            ],
            [
             0.8888888888888888,
             "#fdca26"
            ],
            [
             1,
             "#f0f921"
            ]
           ]
          },
          "colorway": [
           "#636efa",
           "#EF553B",
           "#00cc96",
           "#ab63fa",
           "#FFA15A",
           "#19d3f3",
           "#FF6692",
           "#B6E880",
           "#FF97FF",
           "#FECB52"
          ],
          "font": {
           "color": "#2a3f5f"
          },
          "geo": {
           "bgcolor": "white",
           "lakecolor": "white",
           "landcolor": "#E5ECF6",
           "showlakes": true,
           "showland": true,
           "subunitcolor": "white"
          },
          "hoverlabel": {
           "align": "left"
          },
          "hovermode": "closest",
          "mapbox": {
           "style": "light"
          },
          "paper_bgcolor": "white",
          "plot_bgcolor": "#E5ECF6",
          "polar": {
           "angularaxis": {
            "gridcolor": "white",
            "linecolor": "white",
            "ticks": ""
           },
           "bgcolor": "#E5ECF6",
           "radialaxis": {
            "gridcolor": "white",
            "linecolor": "white",
            "ticks": ""
           }
          },
          "scene": {
           "xaxis": {
            "backgroundcolor": "#E5ECF6",
            "gridcolor": "white",
            "gridwidth": 2,
            "linecolor": "white",
            "showbackground": true,
            "ticks": "",
            "zerolinecolor": "white"
           },
           "yaxis": {
            "backgroundcolor": "#E5ECF6",
            "gridcolor": "white",
            "gridwidth": 2,
            "linecolor": "white",
            "showbackground": true,
            "ticks": "",
            "zerolinecolor": "white"
           },
           "zaxis": {
            "backgroundcolor": "#E5ECF6",
            "gridcolor": "white",
            "gridwidth": 2,
            "linecolor": "white",
            "showbackground": true,
            "ticks": "",
            "zerolinecolor": "white"
           }
          },
          "shapedefaults": {
           "line": {
            "color": "#2a3f5f"
           }
          },
          "ternary": {
           "aaxis": {
            "gridcolor": "white",
            "linecolor": "white",
            "ticks": ""
           },
           "baxis": {
            "gridcolor": "white",
            "linecolor": "white",
            "ticks": ""
           },
           "bgcolor": "#E5ECF6",
           "caxis": {
            "gridcolor": "white",
            "linecolor": "white",
            "ticks": ""
           }
          },
          "title": {
           "x": 0.05
          },
          "xaxis": {
           "automargin": true,
           "gridcolor": "white",
           "linecolor": "white",
           "ticks": "",
           "title": {
            "standoff": 15
           },
           "zerolinecolor": "white",
           "zerolinewidth": 2
          },
          "yaxis": {
           "automargin": true,
           "gridcolor": "white",
           "linecolor": "white",
           "ticks": "",
           "title": {
            "standoff": 15
           },
           "zerolinecolor": "white",
           "zerolinewidth": 2
          }
         }
        },
        "xaxis": {
         "anchor": "y",
         "categoryarray": [
          "United States of America",
          "India",
          "Brazil",
          "France",
          "Germany",
          "United Kingdom",
          "Korea (South)",
          "Russian Federation",
          "Italy",
          "Turkey",
          "Spain",
          "Viet Nam",
          "Argentina",
          "Japan",
          "Netherlands",
          "Australia",
          "Iran, Islamic Republic of",
          "Colombia",
          "Indonesia",
          "Poland",
          "Mexico",
          "Ukraine",
          "Portugal",
          "Malaysia",
          "Thailand",
          "Austria",
          "Israel",
          "Belgium",
          "South Africa",
          "Czech Republic",
          "Chile",
          "Philippines",
          "Switzerland",
          "Peru",
          "Greece",
          "Canada",
          "Denmark",
          "Romania",
          "Taiwan, Republic of China",
          "Slovakia",
          "Sweden",
          "Iraq",
          "Serbia",
          "Bangladesh",
          "Hungary",
          "Jordan",
          "Georgia",
          "Ireland",
          "Pakistan",
          "China"
         ],
         "categoryorder": "array",
         "domain": [
          0,
          1
         ],
         "title": {
          "text": "Country"
         }
        },
        "yaxis": {
         "anchor": "x",
         "domain": [
          0,
          1
         ],
         "title": {
          "text": "TotalConfirmed"
         }
        }
       }
      },
      "text/html": [
       "<div>                            <div id=\"0050c537-fee3-4c82-9679-23015c20176d\" class=\"plotly-graph-div\" style=\"height:525px; width:100%;\"></div>            <script type=\"text/javascript\">                require([\"plotly\"], function(Plotly) {                    window.PLOTLYENV=window.PLOTLYENV || {};                                    if (document.getElementById(\"0050c537-fee3-4c82-9679-23015c20176d\")) {                    Plotly.newPlot(                        \"0050c537-fee3-4c82-9679-23015c20176d\",                        [{\"alignmentgroup\":\"True\",\"hovertemplate\":\"Country=%{x}<br>TotalConfirmed=%{text}<extra></extra>\",\"legendgroup\":\"United States of America\",\"marker\":{\"color\":\"#636efa\",\"pattern\":{\"shape\":\"\"}},\"name\":\"United States of America\",\"offsetgroup\":\"United States of America\",\"orientation\":\"v\",\"showlegend\":true,\"text\":[85500976.0],\"textposition\":\"auto\",\"x\":[\"United States of America\"],\"xaxis\":\"x\",\"y\":[85500976],\"yaxis\":\"y\",\"type\":\"bar\"},{\"alignmentgroup\":\"True\",\"hovertemplate\":\"Country=%{x}<br>TotalConfirmed=%{text}<extra></extra>\",\"legendgroup\":\"India\",\"marker\":{\"color\":\"#EF553B\",\"pattern\":{\"shape\":\"\"}},\"name\":\"India\",\"offsetgroup\":\"India\",\"orientation\":\"v\",\"showlegend\":true,\"text\":[43222017.0],\"textposition\":\"auto\",\"x\":[\"India\"],\"xaxis\":\"x\",\"y\":[43222017],\"yaxis\":\"y\",\"type\":\"bar\"},{\"alignmentgroup\":\"True\",\"hovertemplate\":\"Country=%{x}<br>TotalConfirmed=%{text}<extra></extra>\",\"legendgroup\":\"Brazil\",\"marker\":{\"color\":\"#00cc96\",\"pattern\":{\"shape\":\"\"}},\"name\":\"Brazil\",\"offsetgroup\":\"Brazil\",\"orientation\":\"v\",\"showlegend\":true,\"text\":[31445137.0],\"textposition\":\"auto\",\"x\":[\"Brazil\"],\"xaxis\":\"x\",\"y\":[31445137],\"yaxis\":\"y\",\"type\":\"bar\"},{\"alignmentgroup\":\"True\",\"hovertemplate\":\"Country=%{x}<br>TotalConfirmed=%{text}<extra></extra>\",\"legendgroup\":\"France\",\"marker\":{\"color\":\"#ab63fa\",\"pattern\":{\"shape\":\"\"}},\"name\":\"France\",\"offsetgroup\":\"France\",\"orientation\":\"v\",\"showlegend\":true,\"text\":[29946603.0],\"textposition\":\"auto\",\"x\":[\"France\"],\"xaxis\":\"x\",\"y\":[29946603],\"yaxis\":\"y\",\"type\":\"bar\"},{\"alignmentgroup\":\"True\",\"hovertemplate\":\"Country=%{x}<br>TotalConfirmed=%{text}<extra></extra>\",\"legendgroup\":\"Germany\",\"marker\":{\"color\":\"#FFA15A\",\"pattern\":{\"shape\":\"\"}},\"name\":\"Germany\",\"offsetgroup\":\"Germany\",\"orientation\":\"v\",\"showlegend\":true,\"text\":[26803867.0],\"textposition\":\"auto\",\"x\":[\"Germany\"],\"xaxis\":\"x\",\"y\":[26803867],\"yaxis\":\"y\",\"type\":\"bar\"},{\"alignmentgroup\":\"True\",\"hovertemplate\":\"Country=%{x}<br>TotalConfirmed=%{text}<extra></extra>\",\"legendgroup\":\"United Kingdom\",\"marker\":{\"color\":\"#19d3f3\",\"pattern\":{\"shape\":\"\"}},\"name\":\"United Kingdom\",\"offsetgroup\":\"United Kingdom\",\"orientation\":\"v\",\"showlegend\":true,\"text\":[22571880.0],\"textposition\":\"auto\",\"x\":[\"United Kingdom\"],\"xaxis\":\"x\",\"y\":[22571880],\"yaxis\":\"y\",\"type\":\"bar\"},{\"alignmentgroup\":\"True\",\"hovertemplate\":\"Country=%{x}<br>TotalConfirmed=%{text}<extra></extra>\",\"legendgroup\":\"Korea (South)\",\"marker\":{\"color\":\"#FF6692\",\"pattern\":{\"shape\":\"\"}},\"name\":\"Korea (South)\",\"offsetgroup\":\"Korea (South)\",\"orientation\":\"v\",\"showlegend\":true,\"text\":[18229288.0],\"textposition\":\"auto\",\"x\":[\"Korea (South)\"],\"xaxis\":\"x\",\"y\":[18229288],\"yaxis\":\"y\",\"type\":\"bar\"},{\"alignmentgroup\":\"True\",\"hovertemplate\":\"Country=%{x}<br>TotalConfirmed=%{text}<extra></extra>\",\"legendgroup\":\"Russian Federation\",\"marker\":{\"color\":\"#B6E880\",\"pattern\":{\"shape\":\"\"}},\"name\":\"Russian Federation\",\"offsetgroup\":\"Russian Federation\",\"orientation\":\"v\",\"showlegend\":true,\"text\":[18104944.0],\"textposition\":\"auto\",\"x\":[\"Russian Federation\"],\"xaxis\":\"x\",\"y\":[18104944],\"yaxis\":\"y\",\"type\":\"bar\"},{\"alignmentgroup\":\"True\",\"hovertemplate\":\"Country=%{x}<br>TotalConfirmed=%{text}<extra></extra>\",\"legendgroup\":\"Italy\",\"marker\":{\"color\":\"#FF97FF\",\"pattern\":{\"shape\":\"\"}},\"name\":\"Italy\",\"offsetgroup\":\"Italy\",\"orientation\":\"v\",\"showlegend\":true,\"text\":[17634065.0],\"textposition\":\"auto\",\"x\":[\"Italy\"],\"xaxis\":\"x\",\"y\":[17634065],\"yaxis\":\"y\",\"type\":\"bar\"},{\"alignmentgroup\":\"True\",\"hovertemplate\":\"Country=%{x}<br>TotalConfirmed=%{text}<extra></extra>\",\"legendgroup\":\"Turkey\",\"marker\":{\"color\":\"#FECB52\",\"pattern\":{\"shape\":\"\"}},\"name\":\"Turkey\",\"offsetgroup\":\"Turkey\",\"orientation\":\"v\",\"showlegend\":true,\"text\":[15072747.0],\"textposition\":\"auto\",\"x\":[\"Turkey\"],\"xaxis\":\"x\",\"y\":[15072747],\"yaxis\":\"y\",\"type\":\"bar\"},{\"alignmentgroup\":\"True\",\"hovertemplate\":\"Country=%{x}<br>TotalConfirmed=%{text}<extra></extra>\",\"legendgroup\":\"Spain\",\"marker\":{\"color\":\"#636efa\",\"pattern\":{\"shape\":\"\"}},\"name\":\"Spain\",\"offsetgroup\":\"Spain\",\"orientation\":\"v\",\"showlegend\":true,\"text\":[12478994.0],\"textposition\":\"auto\",\"x\":[\"Spain\"],\"xaxis\":\"x\",\"y\":[12478994],\"yaxis\":\"y\",\"type\":\"bar\"},{\"alignmentgroup\":\"True\",\"hovertemplate\":\"Country=%{x}<br>TotalConfirmed=%{text}<extra></extra>\",\"legendgroup\":\"Viet Nam\",\"marker\":{\"color\":\"#EF553B\",\"pattern\":{\"shape\":\"\"}},\"name\":\"Viet Nam\",\"offsetgroup\":\"Viet Nam\",\"orientation\":\"v\",\"showlegend\":true,\"text\":[10731812.0],\"textposition\":\"auto\",\"x\":[\"Viet Nam\"],\"xaxis\":\"x\",\"y\":[10731812],\"yaxis\":\"y\",\"type\":\"bar\"},{\"alignmentgroup\":\"True\",\"hovertemplate\":\"Country=%{x}<br>TotalConfirmed=%{text}<extra></extra>\",\"legendgroup\":\"Argentina\",\"marker\":{\"color\":\"#00cc96\",\"pattern\":{\"shape\":\"\"}},\"name\":\"Argentina\",\"offsetgroup\":\"Argentina\",\"orientation\":\"v\",\"showlegend\":true,\"text\":[9276618.0],\"textposition\":\"auto\",\"x\":[\"Argentina\"],\"xaxis\":\"x\",\"y\":[9276618],\"yaxis\":\"y\",\"type\":\"bar\"},{\"alignmentgroup\":\"True\",\"hovertemplate\":\"Country=%{x}<br>TotalConfirmed=%{text}<extra></extra>\",\"legendgroup\":\"Japan\",\"marker\":{\"color\":\"#ab63fa\",\"pattern\":{\"shape\":\"\"}},\"name\":\"Japan\",\"offsetgroup\":\"Japan\",\"orientation\":\"v\",\"showlegend\":true,\"text\":[9026281.0],\"textposition\":\"auto\",\"x\":[\"Japan\"],\"xaxis\":\"x\",\"y\":[9026281],\"yaxis\":\"y\",\"type\":\"bar\"},{\"alignmentgroup\":\"True\",\"hovertemplate\":\"Country=%{x}<br>TotalConfirmed=%{text}<extra></extra>\",\"legendgroup\":\"Netherlands\",\"marker\":{\"color\":\"#FFA15A\",\"pattern\":{\"shape\":\"\"}},\"name\":\"Netherlands\",\"offsetgroup\":\"Netherlands\",\"orientation\":\"v\",\"showlegend\":true,\"text\":[8101754.0],\"textposition\":\"auto\",\"x\":[\"Netherlands\"],\"xaxis\":\"x\",\"y\":[8101754],\"yaxis\":\"y\",\"type\":\"bar\"},{\"alignmentgroup\":\"True\",\"hovertemplate\":\"Country=%{x}<br>TotalConfirmed=%{text}<extra></extra>\",\"legendgroup\":\"Australia\",\"marker\":{\"color\":\"#19d3f3\",\"pattern\":{\"shape\":\"\"}},\"name\":\"Australia\",\"offsetgroup\":\"Australia\",\"orientation\":\"v\",\"showlegend\":true,\"text\":[7614107.0],\"textposition\":\"auto\",\"x\":[\"Australia\"],\"xaxis\":\"x\",\"y\":[7614107],\"yaxis\":\"y\",\"type\":\"bar\"},{\"alignmentgroup\":\"True\",\"hovertemplate\":\"Country=%{x}<br>TotalConfirmed=%{text}<extra></extra>\",\"legendgroup\":\"Iran, Islamic Republic of\",\"marker\":{\"color\":\"#FF6692\",\"pattern\":{\"shape\":\"\"}},\"name\":\"Iran, Islamic Republic of\",\"offsetgroup\":\"Iran, Islamic Republic of\",\"orientation\":\"v\",\"showlegend\":true,\"text\":[7233688.0],\"textposition\":\"auto\",\"x\":[\"Iran, Islamic Republic of\"],\"xaxis\":\"x\",\"y\":[7233688],\"yaxis\":\"y\",\"type\":\"bar\"},{\"alignmentgroup\":\"True\",\"hovertemplate\":\"Country=%{x}<br>TotalConfirmed=%{text}<extra></extra>\",\"legendgroup\":\"Colombia\",\"marker\":{\"color\":\"#B6E880\",\"pattern\":{\"shape\":\"\"}},\"name\":\"Colombia\",\"offsetgroup\":\"Colombia\",\"orientation\":\"v\",\"showlegend\":true,\"text\":[6117847.0],\"textposition\":\"auto\",\"x\":[\"Colombia\"],\"xaxis\":\"x\",\"y\":[6117847],\"yaxis\":\"y\",\"type\":\"bar\"},{\"alignmentgroup\":\"True\",\"hovertemplate\":\"Country=%{x}<br>TotalConfirmed=%{text}<extra></extra>\",\"legendgroup\":\"Indonesia\",\"marker\":{\"color\":\"#FF97FF\",\"pattern\":{\"shape\":\"\"}},\"name\":\"Indonesia\",\"offsetgroup\":\"Indonesia\",\"orientation\":\"v\",\"showlegend\":true,\"text\":[6056017.0],\"textposition\":\"auto\",\"x\":[\"Indonesia\"],\"xaxis\":\"x\",\"y\":[6056017],\"yaxis\":\"y\",\"type\":\"bar\"},{\"alignmentgroup\":\"True\",\"hovertemplate\":\"Country=%{x}<br>TotalConfirmed=%{text}<extra></extra>\",\"legendgroup\":\"Poland\",\"marker\":{\"color\":\"#FECB52\",\"pattern\":{\"shape\":\"\"}},\"name\":\"Poland\",\"offsetgroup\":\"Poland\",\"orientation\":\"v\",\"showlegend\":true,\"text\":[6010045.0],\"textposition\":\"auto\",\"x\":[\"Poland\"],\"xaxis\":\"x\",\"y\":[6010045],\"yaxis\":\"y\",\"type\":\"bar\"},{\"alignmentgroup\":\"True\",\"hovertemplate\":\"Country=%{x}<br>TotalConfirmed=%{text}<extra></extra>\",\"legendgroup\":\"Mexico\",\"marker\":{\"color\":\"#636efa\",\"pattern\":{\"shape\":\"\"}},\"name\":\"Mexico\",\"offsetgroup\":\"Mexico\",\"orientation\":\"v\",\"showlegend\":true,\"text\":[5821262.0],\"textposition\":\"auto\",\"x\":[\"Mexico\"],\"xaxis\":\"x\",\"y\":[5821262],\"yaxis\":\"y\",\"type\":\"bar\"},{\"alignmentgroup\":\"True\",\"hovertemplate\":\"Country=%{x}<br>TotalConfirmed=%{text}<extra></extra>\",\"legendgroup\":\"Ukraine\",\"marker\":{\"color\":\"#EF553B\",\"pattern\":{\"shape\":\"\"}},\"name\":\"Ukraine\",\"offsetgroup\":\"Ukraine\",\"orientation\":\"v\",\"showlegend\":true,\"text\":[5040518.0],\"textposition\":\"auto\",\"x\":[\"Ukraine\"],\"xaxis\":\"x\",\"y\":[5040518],\"yaxis\":\"y\",\"type\":\"bar\"},{\"alignmentgroup\":\"True\",\"hovertemplate\":\"Country=%{x}<br>TotalConfirmed=%{text}<extra></extra>\",\"legendgroup\":\"Portugal\",\"marker\":{\"color\":\"#00cc96\",\"pattern\":{\"shape\":\"\"}},\"name\":\"Portugal\",\"offsetgroup\":\"Portugal\",\"orientation\":\"v\",\"showlegend\":true,\"text\":[4917127.0],\"textposition\":\"auto\",\"x\":[\"Portugal\"],\"xaxis\":\"x\",\"y\":[4917127],\"yaxis\":\"y\",\"type\":\"bar\"},{\"alignmentgroup\":\"True\",\"hovertemplate\":\"Country=%{x}<br>TotalConfirmed=%{text}<extra></extra>\",\"legendgroup\":\"Malaysia\",\"marker\":{\"color\":\"#ab63fa\",\"pattern\":{\"shape\":\"\"}},\"name\":\"Malaysia\",\"offsetgroup\":\"Malaysia\",\"orientation\":\"v\",\"showlegend\":true,\"text\":[4524727.0],\"textposition\":\"auto\",\"x\":[\"Malaysia\"],\"xaxis\":\"x\",\"y\":[4524727],\"yaxis\":\"y\",\"type\":\"bar\"},{\"alignmentgroup\":\"True\",\"hovertemplate\":\"Country=%{x}<br>TotalConfirmed=%{text}<extra></extra>\",\"legendgroup\":\"Thailand\",\"marker\":{\"color\":\"#FFA15A\",\"pattern\":{\"shape\":\"\"}},\"name\":\"Thailand\",\"offsetgroup\":\"Thailand\",\"orientation\":\"v\",\"showlegend\":true,\"text\":[4484863.0],\"textposition\":\"auto\",\"x\":[\"Thailand\"],\"xaxis\":\"x\",\"y\":[4484863],\"yaxis\":\"y\",\"type\":\"bar\"},{\"alignmentgroup\":\"True\",\"hovertemplate\":\"Country=%{x}<br>TotalConfirmed=%{text}<extra></extra>\",\"legendgroup\":\"Austria\",\"marker\":{\"color\":\"#19d3f3\",\"pattern\":{\"shape\":\"\"}},\"name\":\"Austria\",\"offsetgroup\":\"Austria\",\"orientation\":\"v\",\"showlegend\":true,\"text\":[4316435.0],\"textposition\":\"auto\",\"x\":[\"Austria\"],\"xaxis\":\"x\",\"y\":[4316435],\"yaxis\":\"y\",\"type\":\"bar\"},{\"alignmentgroup\":\"True\",\"hovertemplate\":\"Country=%{x}<br>TotalConfirmed=%{text}<extra></extra>\",\"legendgroup\":\"Israel\",\"marker\":{\"color\":\"#FF6692\",\"pattern\":{\"shape\":\"\"}},\"name\":\"Israel\",\"offsetgroup\":\"Israel\",\"orientation\":\"v\",\"showlegend\":true,\"text\":[4183477.0],\"textposition\":\"auto\",\"x\":[\"Israel\"],\"xaxis\":\"x\",\"y\":[4183477],\"yaxis\":\"y\",\"type\":\"bar\"},{\"alignmentgroup\":\"True\",\"hovertemplate\":\"Country=%{x}<br>TotalConfirmed=%{text}<extra></extra>\",\"legendgroup\":\"Belgium\",\"marker\":{\"color\":\"#B6E880\",\"pattern\":{\"shape\":\"\"}},\"name\":\"Belgium\",\"offsetgroup\":\"Belgium\",\"orientation\":\"v\",\"showlegend\":true,\"text\":[4170252.0],\"textposition\":\"auto\",\"x\":[\"Belgium\"],\"xaxis\":\"x\",\"y\":[4170252],\"yaxis\":\"y\",\"type\":\"bar\"},{\"alignmentgroup\":\"True\",\"hovertemplate\":\"Country=%{x}<br>TotalConfirmed=%{text}<extra></extra>\",\"legendgroup\":\"South Africa\",\"marker\":{\"color\":\"#FF97FF\",\"pattern\":{\"shape\":\"\"}},\"name\":\"South Africa\",\"offsetgroup\":\"South Africa\",\"orientation\":\"v\",\"showlegend\":true,\"text\":[3978590.0],\"textposition\":\"auto\",\"x\":[\"South Africa\"],\"xaxis\":\"x\",\"y\":[3978590],\"yaxis\":\"y\",\"type\":\"bar\"},{\"alignmentgroup\":\"True\",\"hovertemplate\":\"Country=%{x}<br>TotalConfirmed=%{text}<extra></extra>\",\"legendgroup\":\"Czech Republic\",\"marker\":{\"color\":\"#FECB52\",\"pattern\":{\"shape\":\"\"}},\"name\":\"Czech Republic\",\"offsetgroup\":\"Czech Republic\",\"orientation\":\"v\",\"showlegend\":true,\"text\":[3922968.0],\"textposition\":\"auto\",\"x\":[\"Czech Republic\"],\"xaxis\":\"x\",\"y\":[3922968],\"yaxis\":\"y\",\"type\":\"bar\"},{\"alignmentgroup\":\"True\",\"hovertemplate\":\"Country=%{x}<br>TotalConfirmed=%{text}<extra></extra>\",\"legendgroup\":\"Chile\",\"marker\":{\"color\":\"#636efa\",\"pattern\":{\"shape\":\"\"}},\"name\":\"Chile\",\"offsetgroup\":\"Chile\",\"orientation\":\"v\",\"showlegend\":true,\"text\":[3808970.0],\"textposition\":\"auto\",\"x\":[\"Chile\"],\"xaxis\":\"x\",\"y\":[3808970],\"yaxis\":\"y\",\"type\":\"bar\"},{\"alignmentgroup\":\"True\",\"hovertemplate\":\"Country=%{x}<br>TotalConfirmed=%{text}<extra></extra>\",\"legendgroup\":\"Philippines\",\"marker\":{\"color\":\"#EF553B\",\"pattern\":{\"shape\":\"\"}},\"name\":\"Philippines\",\"offsetgroup\":\"Philippines\",\"orientation\":\"v\",\"showlegend\":true,\"text\":[3693222.0],\"textposition\":\"auto\",\"x\":[\"Philippines\"],\"xaxis\":\"x\",\"y\":[3693222],\"yaxis\":\"y\",\"type\":\"bar\"},{\"alignmentgroup\":\"True\",\"hovertemplate\":\"Country=%{x}<br>TotalConfirmed=%{text}<extra></extra>\",\"legendgroup\":\"Switzerland\",\"marker\":{\"color\":\"#00cc96\",\"pattern\":{\"shape\":\"\"}},\"name\":\"Switzerland\",\"offsetgroup\":\"Switzerland\",\"orientation\":\"v\",\"showlegend\":true,\"text\":[3685281.0],\"textposition\":\"auto\",\"x\":[\"Switzerland\"],\"xaxis\":\"x\",\"y\":[3685281],\"yaxis\":\"y\",\"type\":\"bar\"},{\"alignmentgroup\":\"True\",\"hovertemplate\":\"Country=%{x}<br>TotalConfirmed=%{text}<extra></extra>\",\"legendgroup\":\"Peru\",\"marker\":{\"color\":\"#ab63fa\",\"pattern\":{\"shape\":\"\"}},\"name\":\"Peru\",\"offsetgroup\":\"Peru\",\"orientation\":\"v\",\"showlegend\":true,\"text\":[3589782.0],\"textposition\":\"auto\",\"x\":[\"Peru\"],\"xaxis\":\"x\",\"y\":[3589782],\"yaxis\":\"y\",\"type\":\"bar\"},{\"alignmentgroup\":\"True\",\"hovertemplate\":\"Country=%{x}<br>TotalConfirmed=%{text}<extra></extra>\",\"legendgroup\":\"Greece\",\"marker\":{\"color\":\"#FFA15A\",\"pattern\":{\"shape\":\"\"}},\"name\":\"Greece\",\"offsetgroup\":\"Greece\",\"orientation\":\"v\",\"showlegend\":true,\"text\":[3500489.0],\"textposition\":\"auto\",\"x\":[\"Greece\"],\"xaxis\":\"x\",\"y\":[3500489],\"yaxis\":\"y\",\"type\":\"bar\"},{\"alignmentgroup\":\"True\",\"hovertemplate\":\"Country=%{x}<br>TotalConfirmed=%{text}<extra></extra>\",\"legendgroup\":\"Canada\",\"marker\":{\"color\":\"#19d3f3\",\"pattern\":{\"shape\":\"\"}},\"name\":\"Canada\",\"offsetgroup\":\"Canada\",\"orientation\":\"v\",\"showlegend\":true,\"text\":[3328745.0],\"textposition\":\"auto\",\"x\":[\"Canada\"],\"xaxis\":\"x\",\"y\":[3328745],\"yaxis\":\"y\",\"type\":\"bar\"},{\"alignmentgroup\":\"True\",\"hovertemplate\":\"Country=%{x}<br>TotalConfirmed=%{text}<extra></extra>\",\"legendgroup\":\"Denmark\",\"marker\":{\"color\":\"#FF6692\",\"pattern\":{\"shape\":\"\"}},\"name\":\"Denmark\",\"offsetgroup\":\"Denmark\",\"orientation\":\"v\",\"showlegend\":true,\"text\":[3190021.0],\"textposition\":\"auto\",\"x\":[\"Denmark\"],\"xaxis\":\"x\",\"y\":[3190021],\"yaxis\":\"y\",\"type\":\"bar\"},{\"alignmentgroup\":\"True\",\"hovertemplate\":\"Country=%{x}<br>TotalConfirmed=%{text}<extra></extra>\",\"legendgroup\":\"Romania\",\"marker\":{\"color\":\"#B6E880\",\"pattern\":{\"shape\":\"\"}},\"name\":\"Romania\",\"offsetgroup\":\"Romania\",\"orientation\":\"v\",\"showlegend\":true,\"text\":[2912705.0],\"textposition\":\"auto\",\"x\":[\"Romania\"],\"xaxis\":\"x\",\"y\":[2912705],\"yaxis\":\"y\",\"type\":\"bar\"},{\"alignmentgroup\":\"True\",\"hovertemplate\":\"Country=%{x}<br>TotalConfirmed=%{text}<extra></extra>\",\"legendgroup\":\"Taiwan, Republic of China\",\"marker\":{\"color\":\"#FF97FF\",\"pattern\":{\"shape\":\"\"}},\"name\":\"Taiwan, Republic of China\",\"offsetgroup\":\"Taiwan, Republic of China\",\"orientation\":\"v\",\"showlegend\":true,\"text\":[2892263.0],\"textposition\":\"auto\",\"x\":[\"Taiwan, Republic of China\"],\"xaxis\":\"x\",\"y\":[2892263],\"yaxis\":\"y\",\"type\":\"bar\"},{\"alignmentgroup\":\"True\",\"hovertemplate\":\"Country=%{x}<br>TotalConfirmed=%{text}<extra></extra>\",\"legendgroup\":\"Slovakia\",\"marker\":{\"color\":\"#FECB52\",\"pattern\":{\"shape\":\"\"}},\"name\":\"Slovakia\",\"offsetgroup\":\"Slovakia\",\"orientation\":\"v\",\"showlegend\":true,\"text\":[2544678.0],\"textposition\":\"auto\",\"x\":[\"Slovakia\"],\"xaxis\":\"x\",\"y\":[2544678],\"yaxis\":\"y\",\"type\":\"bar\"},{\"alignmentgroup\":\"True\",\"hovertemplate\":\"Country=%{x}<br>TotalConfirmed=%{text}<extra></extra>\",\"legendgroup\":\"Sweden\",\"marker\":{\"color\":\"#636efa\",\"pattern\":{\"shape\":\"\"}},\"name\":\"Sweden\",\"offsetgroup\":\"Sweden\",\"orientation\":\"v\",\"showlegend\":true,\"text\":[2510930.0],\"textposition\":\"auto\",\"x\":[\"Sweden\"],\"xaxis\":\"x\",\"y\":[2510930],\"yaxis\":\"y\",\"type\":\"bar\"},{\"alignmentgroup\":\"True\",\"hovertemplate\":\"Country=%{x}<br>TotalConfirmed=%{text}<extra></extra>\",\"legendgroup\":\"Iraq\",\"marker\":{\"color\":\"#EF553B\",\"pattern\":{\"shape\":\"\"}},\"name\":\"Iraq\",\"offsetgroup\":\"Iraq\",\"orientation\":\"v\",\"showlegend\":true,\"text\":[2329813.0],\"textposition\":\"auto\",\"x\":[\"Iraq\"],\"xaxis\":\"x\",\"y\":[2329813],\"yaxis\":\"y\",\"type\":\"bar\"},{\"alignmentgroup\":\"True\",\"hovertemplate\":\"Country=%{x}<br>TotalConfirmed=%{text}<extra></extra>\",\"legendgroup\":\"Serbia\",\"marker\":{\"color\":\"#00cc96\",\"pattern\":{\"shape\":\"\"}},\"name\":\"Serbia\",\"offsetgroup\":\"Serbia\",\"orientation\":\"v\",\"showlegend\":true,\"text\":[2020338.0],\"textposition\":\"auto\",\"x\":[\"Serbia\"],\"xaxis\":\"x\",\"y\":[2020338],\"yaxis\":\"y\",\"type\":\"bar\"},{\"alignmentgroup\":\"True\",\"hovertemplate\":\"Country=%{x}<br>TotalConfirmed=%{text}<extra></extra>\",\"legendgroup\":\"Bangladesh\",\"marker\":{\"color\":\"#ab63fa\",\"pattern\":{\"shape\":\"\"}},\"name\":\"Bangladesh\",\"offsetgroup\":\"Bangladesh\",\"orientation\":\"v\",\"showlegend\":true,\"text\":[1954115.0],\"textposition\":\"auto\",\"x\":[\"Bangladesh\"],\"xaxis\":\"x\",\"y\":[1954115],\"yaxis\":\"y\",\"type\":\"bar\"},{\"alignmentgroup\":\"True\",\"hovertemplate\":\"Country=%{x}<br>TotalConfirmed=%{text}<extra></extra>\",\"legendgroup\":\"Hungary\",\"marker\":{\"color\":\"#FFA15A\",\"pattern\":{\"shape\":\"\"}},\"name\":\"Hungary\",\"offsetgroup\":\"Hungary\",\"orientation\":\"v\",\"showlegend\":true,\"text\":[1921486.0],\"textposition\":\"auto\",\"x\":[\"Hungary\"],\"xaxis\":\"x\",\"y\":[1921486],\"yaxis\":\"y\",\"type\":\"bar\"},{\"alignmentgroup\":\"True\",\"hovertemplate\":\"Country=%{x}<br>TotalConfirmed=%{text}<extra></extra>\",\"legendgroup\":\"Jordan\",\"marker\":{\"color\":\"#19d3f3\",\"pattern\":{\"shape\":\"\"}},\"name\":\"Jordan\",\"offsetgroup\":\"Jordan\",\"orientation\":\"v\",\"showlegend\":true,\"text\":[1697271.0],\"textposition\":\"auto\",\"x\":[\"Jordan\"],\"xaxis\":\"x\",\"y\":[1697271],\"yaxis\":\"y\",\"type\":\"bar\"},{\"alignmentgroup\":\"True\",\"hovertemplate\":\"Country=%{x}<br>TotalConfirmed=%{text}<extra></extra>\",\"legendgroup\":\"Georgia\",\"marker\":{\"color\":\"#FF6692\",\"pattern\":{\"shape\":\"\"}},\"name\":\"Georgia\",\"offsetgroup\":\"Georgia\",\"orientation\":\"v\",\"showlegend\":true,\"text\":[1655221.0],\"textposition\":\"auto\",\"x\":[\"Georgia\"],\"xaxis\":\"x\",\"y\":[1655221],\"yaxis\":\"y\",\"type\":\"bar\"},{\"alignmentgroup\":\"True\",\"hovertemplate\":\"Country=%{x}<br>TotalConfirmed=%{text}<extra></extra>\",\"legendgroup\":\"Ireland\",\"marker\":{\"color\":\"#B6E880\",\"pattern\":{\"shape\":\"\"}},\"name\":\"Ireland\",\"offsetgroup\":\"Ireland\",\"orientation\":\"v\",\"showlegend\":true,\"text\":[1570519.0],\"textposition\":\"auto\",\"x\":[\"Ireland\"],\"xaxis\":\"x\",\"y\":[1570519],\"yaxis\":\"y\",\"type\":\"bar\"},{\"alignmentgroup\":\"True\",\"hovertemplate\":\"Country=%{x}<br>TotalConfirmed=%{text}<extra></extra>\",\"legendgroup\":\"Pakistan\",\"marker\":{\"color\":\"#FF97FF\",\"pattern\":{\"shape\":\"\"}},\"name\":\"Pakistan\",\"offsetgroup\":\"Pakistan\",\"orientation\":\"v\",\"showlegend\":true,\"text\":[1531179.0],\"textposition\":\"auto\",\"x\":[\"Pakistan\"],\"xaxis\":\"x\",\"y\":[1531179],\"yaxis\":\"y\",\"type\":\"bar\"},{\"alignmentgroup\":\"True\",\"hovertemplate\":\"Country=%{x}<br>TotalConfirmed=%{text}<extra></extra>\",\"legendgroup\":\"China\",\"marker\":{\"color\":\"#FECB52\",\"pattern\":{\"shape\":\"\"}},\"name\":\"China\",\"offsetgroup\":\"China\",\"orientation\":\"v\",\"showlegend\":true,\"text\":[1443237.0],\"textposition\":\"auto\",\"x\":[\"China\"],\"xaxis\":\"x\",\"y\":[1443237],\"yaxis\":\"y\",\"type\":\"bar\"}],                        {\"template\":{\"data\":{\"histogram2dcontour\":[{\"type\":\"histogram2dcontour\",\"colorbar\":{\"outlinewidth\":0,\"ticks\":\"\"},\"colorscale\":[[0.0,\"#0d0887\"],[0.1111111111111111,\"#46039f\"],[0.2222222222222222,\"#7201a8\"],[0.3333333333333333,\"#9c179e\"],[0.4444444444444444,\"#bd3786\"],[0.5555555555555556,\"#d8576b\"],[0.6666666666666666,\"#ed7953\"],[0.7777777777777778,\"#fb9f3a\"],[0.8888888888888888,\"#fdca26\"],[1.0,\"#f0f921\"]]}],\"choropleth\":[{\"type\":\"choropleth\",\"colorbar\":{\"outlinewidth\":0,\"ticks\":\"\"}}],\"histogram2d\":[{\"type\":\"histogram2d\",\"colorbar\":{\"outlinewidth\":0,\"ticks\":\"\"},\"colorscale\":[[0.0,\"#0d0887\"],[0.1111111111111111,\"#46039f\"],[0.2222222222222222,\"#7201a8\"],[0.3333333333333333,\"#9c179e\"],[0.4444444444444444,\"#bd3786\"],[0.5555555555555556,\"#d8576b\"],[0.6666666666666666,\"#ed7953\"],[0.7777777777777778,\"#fb9f3a\"],[0.8888888888888888,\"#fdca26\"],[1.0,\"#f0f921\"]]}],\"heatmap\":[{\"type\":\"heatmap\",\"colorbar\":{\"outlinewidth\":0,\"ticks\":\"\"},\"colorscale\":[[0.0,\"#0d0887\"],[0.1111111111111111,\"#46039f\"],[0.2222222222222222,\"#7201a8\"],[0.3333333333333333,\"#9c179e\"],[0.4444444444444444,\"#bd3786\"],[0.5555555555555556,\"#d8576b\"],[0.6666666666666666,\"#ed7953\"],[0.7777777777777778,\"#fb9f3a\"],[0.8888888888888888,\"#fdca26\"],[1.0,\"#f0f921\"]]}],\"heatmapgl\":[{\"type\":\"heatmapgl\",\"colorbar\":{\"outlinewidth\":0,\"ticks\":\"\"},\"colorscale\":[[0.0,\"#0d0887\"],[0.1111111111111111,\"#46039f\"],[0.2222222222222222,\"#7201a8\"],[0.3333333333333333,\"#9c179e\"],[0.4444444444444444,\"#bd3786\"],[0.5555555555555556,\"#d8576b\"],[0.6666666666666666,\"#ed7953\"],[0.7777777777777778,\"#fb9f3a\"],[0.8888888888888888,\"#fdca26\"],[1.0,\"#f0f921\"]]}],\"contourcarpet\":[{\"type\":\"contourcarpet\",\"colorbar\":{\"outlinewidth\":0,\"ticks\":\"\"}}],\"contour\":[{\"type\":\"contour\",\"colorbar\":{\"outlinewidth\":0,\"ticks\":\"\"},\"colorscale\":[[0.0,\"#0d0887\"],[0.1111111111111111,\"#46039f\"],[0.2222222222222222,\"#7201a8\"],[0.3333333333333333,\"#9c179e\"],[0.4444444444444444,\"#bd3786\"],[0.5555555555555556,\"#d8576b\"],[0.6666666666666666,\"#ed7953\"],[0.7777777777777778,\"#fb9f3a\"],[0.8888888888888888,\"#fdca26\"],[1.0,\"#f0f921\"]]}],\"surface\":[{\"type\":\"surface\",\"colorbar\":{\"outlinewidth\":0,\"ticks\":\"\"},\"colorscale\":[[0.0,\"#0d0887\"],[0.1111111111111111,\"#46039f\"],[0.2222222222222222,\"#7201a8\"],[0.3333333333333333,\"#9c179e\"],[0.4444444444444444,\"#bd3786\"],[0.5555555555555556,\"#d8576b\"],[0.6666666666666666,\"#ed7953\"],[0.7777777777777778,\"#fb9f3a\"],[0.8888888888888888,\"#fdca26\"],[1.0,\"#f0f921\"]]}],\"mesh3d\":[{\"type\":\"mesh3d\",\"colorbar\":{\"outlinewidth\":0,\"ticks\":\"\"}}],\"scatter\":[{\"fillpattern\":{\"fillmode\":\"overlay\",\"size\":10,\"solidity\":0.2},\"type\":\"scatter\"}],\"parcoords\":[{\"type\":\"parcoords\",\"line\":{\"colorbar\":{\"outlinewidth\":0,\"ticks\":\"\"}}}],\"scatterpolargl\":[{\"type\":\"scatterpolargl\",\"marker\":{\"colorbar\":{\"outlinewidth\":0,\"ticks\":\"\"}}}],\"bar\":[{\"error_x\":{\"color\":\"#2a3f5f\"},\"error_y\":{\"color\":\"#2a3f5f\"},\"marker\":{\"line\":{\"color\":\"#E5ECF6\",\"width\":0.5},\"pattern\":{\"fillmode\":\"overlay\",\"size\":10,\"solidity\":0.2}},\"type\":\"bar\"}],\"scattergeo\":[{\"type\":\"scattergeo\",\"marker\":{\"colorbar\":{\"outlinewidth\":0,\"ticks\":\"\"}}}],\"scatterpolar\":[{\"type\":\"scatterpolar\",\"marker\":{\"colorbar\":{\"outlinewidth\":0,\"ticks\":\"\"}}}],\"histogram\":[{\"marker\":{\"pattern\":{\"fillmode\":\"overlay\",\"size\":10,\"solidity\":0.2}},\"type\":\"histogram\"}],\"scattergl\":[{\"type\":\"scattergl\",\"marker\":{\"colorbar\":{\"outlinewidth\":0,\"ticks\":\"\"}}}],\"scatter3d\":[{\"type\":\"scatter3d\",\"line\":{\"colorbar\":{\"outlinewidth\":0,\"ticks\":\"\"}},\"marker\":{\"colorbar\":{\"outlinewidth\":0,\"ticks\":\"\"}}}],\"scattermapbox\":[{\"type\":\"scattermapbox\",\"marker\":{\"colorbar\":{\"outlinewidth\":0,\"ticks\":\"\"}}}],\"scatterternary\":[{\"type\":\"scatterternary\",\"marker\":{\"colorbar\":{\"outlinewidth\":0,\"ticks\":\"\"}}}],\"scattercarpet\":[{\"type\":\"scattercarpet\",\"marker\":{\"colorbar\":{\"outlinewidth\":0,\"ticks\":\"\"}}}],\"carpet\":[{\"aaxis\":{\"endlinecolor\":\"#2a3f5f\",\"gridcolor\":\"white\",\"linecolor\":\"white\",\"minorgridcolor\":\"white\",\"startlinecolor\":\"#2a3f5f\"},\"baxis\":{\"endlinecolor\":\"#2a3f5f\",\"gridcolor\":\"white\",\"linecolor\":\"white\",\"minorgridcolor\":\"white\",\"startlinecolor\":\"#2a3f5f\"},\"type\":\"carpet\"}],\"table\":[{\"cells\":{\"fill\":{\"color\":\"#EBF0F8\"},\"line\":{\"color\":\"white\"}},\"header\":{\"fill\":{\"color\":\"#C8D4E3\"},\"line\":{\"color\":\"white\"}},\"type\":\"table\"}],\"barpolar\":[{\"marker\":{\"line\":{\"color\":\"#E5ECF6\",\"width\":0.5},\"pattern\":{\"fillmode\":\"overlay\",\"size\":10,\"solidity\":0.2}},\"type\":\"barpolar\"}],\"pie\":[{\"automargin\":true,\"type\":\"pie\"}]},\"layout\":{\"autotypenumbers\":\"strict\",\"colorway\":[\"#636efa\",\"#EF553B\",\"#00cc96\",\"#ab63fa\",\"#FFA15A\",\"#19d3f3\",\"#FF6692\",\"#B6E880\",\"#FF97FF\",\"#FECB52\"],\"font\":{\"color\":\"#2a3f5f\"},\"hovermode\":\"closest\",\"hoverlabel\":{\"align\":\"left\"},\"paper_bgcolor\":\"white\",\"plot_bgcolor\":\"#E5ECF6\",\"polar\":{\"bgcolor\":\"#E5ECF6\",\"angularaxis\":{\"gridcolor\":\"white\",\"linecolor\":\"white\",\"ticks\":\"\"},\"radialaxis\":{\"gridcolor\":\"white\",\"linecolor\":\"white\",\"ticks\":\"\"}},\"ternary\":{\"bgcolor\":\"#E5ECF6\",\"aaxis\":{\"gridcolor\":\"white\",\"linecolor\":\"white\",\"ticks\":\"\"},\"baxis\":{\"gridcolor\":\"white\",\"linecolor\":\"white\",\"ticks\":\"\"},\"caxis\":{\"gridcolor\":\"white\",\"linecolor\":\"white\",\"ticks\":\"\"}},\"coloraxis\":{\"colorbar\":{\"outlinewidth\":0,\"ticks\":\"\"}},\"colorscale\":{\"sequential\":[[0.0,\"#0d0887\"],[0.1111111111111111,\"#46039f\"],[0.2222222222222222,\"#7201a8\"],[0.3333333333333333,\"#9c179e\"],[0.4444444444444444,\"#bd3786\"],[0.5555555555555556,\"#d8576b\"],[0.6666666666666666,\"#ed7953\"],[0.7777777777777778,\"#fb9f3a\"],[0.8888888888888888,\"#fdca26\"],[1.0,\"#f0f921\"]],\"sequentialminus\":[[0.0,\"#0d0887\"],[0.1111111111111111,\"#46039f\"],[0.2222222222222222,\"#7201a8\"],[0.3333333333333333,\"#9c179e\"],[0.4444444444444444,\"#bd3786\"],[0.5555555555555556,\"#d8576b\"],[0.6666666666666666,\"#ed7953\"],[0.7777777777777778,\"#fb9f3a\"],[0.8888888888888888,\"#fdca26\"],[1.0,\"#f0f921\"]],\"diverging\":[[0,\"#8e0152\"],[0.1,\"#c51b7d\"],[0.2,\"#de77ae\"],[0.3,\"#f1b6da\"],[0.4,\"#fde0ef\"],[0.5,\"#f7f7f7\"],[0.6,\"#e6f5d0\"],[0.7,\"#b8e186\"],[0.8,\"#7fbc41\"],[0.9,\"#4d9221\"],[1,\"#276419\"]]},\"xaxis\":{\"gridcolor\":\"white\",\"linecolor\":\"white\",\"ticks\":\"\",\"title\":{\"standoff\":15},\"zerolinecolor\":\"white\",\"automargin\":true,\"zerolinewidth\":2},\"yaxis\":{\"gridcolor\":\"white\",\"linecolor\":\"white\",\"ticks\":\"\",\"title\":{\"standoff\":15},\"zerolinecolor\":\"white\",\"automargin\":true,\"zerolinewidth\":2},\"scene\":{\"xaxis\":{\"backgroundcolor\":\"#E5ECF6\",\"gridcolor\":\"white\",\"linecolor\":\"white\",\"showbackground\":true,\"ticks\":\"\",\"zerolinecolor\":\"white\",\"gridwidth\":2},\"yaxis\":{\"backgroundcolor\":\"#E5ECF6\",\"gridcolor\":\"white\",\"linecolor\":\"white\",\"showbackground\":true,\"ticks\":\"\",\"zerolinecolor\":\"white\",\"gridwidth\":2},\"zaxis\":{\"backgroundcolor\":\"#E5ECF6\",\"gridcolor\":\"white\",\"linecolor\":\"white\",\"showbackground\":true,\"ticks\":\"\",\"zerolinecolor\":\"white\",\"gridwidth\":2}},\"shapedefaults\":{\"line\":{\"color\":\"#2a3f5f\"}},\"annotationdefaults\":{\"arrowcolor\":\"#2a3f5f\",\"arrowhead\":0,\"arrowwidth\":1},\"geo\":{\"bgcolor\":\"white\",\"landcolor\":\"#E5ECF6\",\"subunitcolor\":\"white\",\"showland\":true,\"showlakes\":true,\"lakecolor\":\"white\"},\"title\":{\"x\":0.05},\"mapbox\":{\"style\":\"light\"}}},\"xaxis\":{\"anchor\":\"y\",\"domain\":[0.0,1.0],\"title\":{\"text\":\"Country\"},\"categoryorder\":\"array\",\"categoryarray\":[\"United States of America\",\"India\",\"Brazil\",\"France\",\"Germany\",\"United Kingdom\",\"Korea (South)\",\"Russian Federation\",\"Italy\",\"Turkey\",\"Spain\",\"Viet Nam\",\"Argentina\",\"Japan\",\"Netherlands\",\"Australia\",\"Iran, Islamic Republic of\",\"Colombia\",\"Indonesia\",\"Poland\",\"Mexico\",\"Ukraine\",\"Portugal\",\"Malaysia\",\"Thailand\",\"Austria\",\"Israel\",\"Belgium\",\"South Africa\",\"Czech Republic\",\"Chile\",\"Philippines\",\"Switzerland\",\"Peru\",\"Greece\",\"Canada\",\"Denmark\",\"Romania\",\"Taiwan, Republic of China\",\"Slovakia\",\"Sweden\",\"Iraq\",\"Serbia\",\"Bangladesh\",\"Hungary\",\"Jordan\",\"Georgia\",\"Ireland\",\"Pakistan\",\"China\"]},\"yaxis\":{\"anchor\":\"x\",\"domain\":[0.0,1.0],\"title\":{\"text\":\"TotalConfirmed\"}},\"legend\":{\"title\":{\"text\":\"Country\"},\"tracegroupgap\":0},\"margin\":{\"t\":60},\"barmode\":\"relative\"},                        {\"responsive\": true}                    ).then(function(){\n",
       "                            \n",
       "var gd = document.getElementById('0050c537-fee3-4c82-9679-23015c20176d');\n",
       "var x = new MutationObserver(function (mutations, observer) {{\n",
       "        var display = window.getComputedStyle(gd).display;\n",
       "        if (!display || display === 'none') {{\n",
       "            console.log([gd, 'removed!']);\n",
       "            Plotly.purge(gd);\n",
       "            observer.disconnect();\n",
       "        }}\n",
       "}});\n",
       "\n",
       "// Listen for the removal of the full notebook cells\n",
       "var notebookContainer = gd.closest('#notebook-container');\n",
       "if (notebookContainer) {{\n",
       "    x.observe(notebookContainer, {childList: true});\n",
       "}}\n",
       "\n",
       "// Listen for the clearing of the current output cell\n",
       "var outputEl = gd.closest('.output');\n",
       "if (outputEl) {{\n",
       "    x.observe(outputEl, {childList: true});\n",
       "}}\n",
       "\n",
       "                        })                };                });            </script>        </div>"
      ]
     },
     "metadata": {},
     "output_type": "display_data"
    }
   ],
   "source": [
    "fig = px.bar(sorted_countries.head(50), y='TotalConfirmed', x='Country', text='TotalConfirmed', color='Country')\n",
    "fig"
   ]
  },
  {
   "cell_type": "code",
   "execution_count": null,
   "id": "b8b75e3e",
   "metadata": {},
   "outputs": [],
   "source": []
  }
 ],
 "metadata": {
  "kernelspec": {
   "display_name": "Python 3 (ipykernel)",
   "language": "python",
   "name": "python3"
  },
  "language_info": {
   "codemirror_mode": {
    "name": "ipython",
    "version": 3
   },
   "file_extension": ".py",
   "mimetype": "text/x-python",
   "name": "python",
   "nbconvert_exporter": "python",
   "pygments_lexer": "ipython3",
   "version": "3.8.12"
  }
 },
 "nbformat": 4,
 "nbformat_minor": 5
}
